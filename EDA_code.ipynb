{
 "cells": [
  {
   "cell_type": "code",
   "execution_count": 289,
   "metadata": {},
   "outputs": [],
   "source": [
    "import pandas as pd\n",
    "import gzip\n",
    "import simplejson as json\n",
    "\n",
    "\n",
    "def parse(path):\n",
    "  g = gzip.open(path, 'rb')\n",
    "  for l in g:\n",
    "    yield json.loads(l)\n",
    "\n",
    "def getDF(path):\n",
    "  i = 0\n",
    "  df = {}\n",
    "  for d in parse(path):\n",
    "    df[i] = d\n",
    "    i += 1\n",
    "  return pd.DataFrame.from_dict(df, orient='index')"
   ]
  },
  {
   "cell_type": "code",
   "execution_count": 437,
   "metadata": {},
   "outputs": [
    {
     "name": "stderr",
     "output_type": "stream",
     "text": [
      "C:\\Users\\brian\\.conda\\envs\\metis\\lib\\site-packages\\ipykernel\\ipkernel.py:283: DeprecationWarning: `should_run_async` will not call `transform_cell` automatically in the future. Please pass the result to `transformed_cell` argument and any exception that happen during thetransform in `preprocessing_exc_tuple` in IPython 7.17 and above.\n",
      "  and should_run_async(code)\n"
     ]
    }
   ],
   "source": [
    "import warnings\n",
    "warnings.filterwarnings(\"ignore\", category=DeprecationWarning)"
   ]
  },
  {
   "cell_type": "code",
   "execution_count": null,
   "metadata": {},
   "outputs": [],
   "source": [
    "df = getDF(r'C:\\Users\\brian\\NLP\\data\\Electronics_5.json.gz')"
   ]
  },
  {
   "cell_type": "code",
   "execution_count": 113,
   "metadata": {},
   "outputs": [],
   "source": [
    "import numpy as np"
   ]
  },
  {
   "cell_type": "markdown",
   "metadata": {},
   "source": [
    "## Data Prep"
   ]
  },
  {
   "cell_type": "code",
   "execution_count": 17,
   "metadata": {},
   "outputs": [
    {
     "name": "stdout",
     "output_type": "stream",
     "text": [
      "<class 'pandas.core.frame.DataFrame'>\n",
      "Int64Index: 6739590 entries, 0 to 6739589\n",
      "Data columns (total 12 columns):\n",
      " #   Column          Dtype  \n",
      "---  ------          -----  \n",
      " 0   overall         float64\n",
      " 1   vote            object \n",
      " 2   verified        bool   \n",
      " 3   reviewTime      object \n",
      " 4   reviewerID      object \n",
      " 5   asin            object \n",
      " 6   style           object \n",
      " 7   reviewerName    object \n",
      " 8   reviewText      object \n",
      " 9   summary         object \n",
      " 10  unixReviewTime  int64  \n",
      " 11  image           object \n",
      "dtypes: bool(1), float64(1), int64(1), object(9)\n",
      "memory usage: 623.5+ MB\n"
     ]
    }
   ],
   "source": [
    "df.info()"
   ]
  },
  {
   "cell_type": "code",
   "execution_count": 3,
   "metadata": {},
   "outputs": [],
   "source": [
    "cell_df = getDF(r'C:\\Users\\brian\\NLP\\data\\Cell_Phones_and_Accessories_5.json.gz')"
   ]
  },
  {
   "cell_type": "code",
   "execution_count": 35,
   "metadata": {},
   "outputs": [],
   "source": [
    "meta_cell = getDF(r'C:\\Users\\brian\\NLP\\data\\meta_Cell_Phones_and_Accessories.json.gz')"
   ]
  },
  {
   "cell_type": "code",
   "execution_count": 4,
   "metadata": {},
   "outputs": [],
   "source": [
    "meta_elec = getDF(r'C:\\Users\\brian\\NLP\\data\\meta_Electronics.json.gz')"
   ]
  },
  {
   "cell_type": "code",
   "execution_count": 5,
   "metadata": {},
   "outputs": [
    {
     "name": "stdout",
     "output_type": "stream",
     "text": [
      "<class 'pandas.core.frame.DataFrame'>\n",
      "Int64Index: 786445 entries, 0 to 786444\n",
      "Data columns (total 19 columns):\n",
      " #   Column           Non-Null Count   Dtype \n",
      "---  ------           --------------   ----- \n",
      " 0   category         786445 non-null  object\n",
      " 1   tech1            786445 non-null  object\n",
      " 2   description      786445 non-null  object\n",
      " 3   fit              786445 non-null  object\n",
      " 4   title            786445 non-null  object\n",
      " 5   also_buy         786445 non-null  object\n",
      " 6   tech2            786445 non-null  object\n",
      " 7   brand            786445 non-null  object\n",
      " 8   feature          786445 non-null  object\n",
      " 9   rank             786445 non-null  object\n",
      " 10  also_view        786445 non-null  object\n",
      " 11  main_cat         786445 non-null  object\n",
      " 12  similar_item     786445 non-null  object\n",
      " 13  date             786445 non-null  object\n",
      " 14  price            786445 non-null  object\n",
      " 15  asin             786445 non-null  object\n",
      " 16  imageURL         786445 non-null  object\n",
      " 17  imageURLHighRes  786445 non-null  object\n",
      " 18  details          785607 non-null  object\n",
      "dtypes: object(19)\n",
      "memory usage: 120.0+ MB\n"
     ]
    }
   ],
   "source": [
    "meta_elec.info()"
   ]
  },
  {
   "cell_type": "code",
   "execution_count": 28,
   "metadata": {},
   "outputs": [
    {
     "data": {
      "text/plain": [
       "category           [Electronics, Camera & Photo, Bags & Cases, Ca...\n",
       "tech1                                                               \n",
       "description        [Case Logic DCB-36 Compact Camcorder Case (BRO...\n",
       "fit                                                                 \n",
       "title                          DCB-36 Compact Camcorder Case (BROWN)\n",
       "also_buy                                                          []\n",
       "tech2                                                               \n",
       "brand                                                     Case Logic\n",
       "feature            [Fits most digital camcorders, Never miss a sh...\n",
       "rank               [>#1,301 in Camera & Photo > Camera & Photo Ac...\n",
       "also_view                                                         []\n",
       "main_cat                                              Camera & Photo\n",
       "similar_item                                                        \n",
       "date                                                     May 5, 2007\n",
       "price                                                               \n",
       "asin                                                      B000QA76ZQ\n",
       "imageURL                                                          []\n",
       "imageURLHighRes                                                   []\n",
       "details                                                           {}\n",
       "Name: 105000, dtype: object"
      ]
     },
     "execution_count": 28,
     "metadata": {},
     "output_type": "execute_result"
    }
   ],
   "source": [
    "meta_elec.iloc[105000]"
   ]
  },
  {
   "cell_type": "code",
   "execution_count": 7,
   "metadata": {},
   "outputs": [],
   "source": [
    "# perform a left join onto the review dataframe so that we can know what product each datapoint represents\n",
    "full_elec = pd.merge(df, meta_elec, how='left', on=['asin', 'asin'])"
   ]
  },
  {
   "cell_type": "code",
   "execution_count": 36,
   "metadata": {},
   "outputs": [],
   "source": [
    "full_cell = pd.merge(cell_df, meta_cell, how='left', on=['asin', 'asin'])"
   ]
  },
  {
   "cell_type": "code",
   "execution_count": 63,
   "metadata": {},
   "outputs": [],
   "source": [
    "# need to find all televisions\n",
    "# extract all data points with television in 'title' column\n",
    "tv_df = full_elec[full_elec['title'].astype(str).str.contains(\"TV\", na='False')]"
   ]
  },
  {
   "cell_type": "code",
   "execution_count": 68,
   "metadata": {},
   "outputs": [
    {
     "data": {
      "text/plain": [
       "overall                                                          5.0\n",
       "vote                                                             NaN\n",
       "verified                                                        True\n",
       "reviewTime                                                04 7, 2015\n",
       "reviewerID                                            A30FR2NT1PD45Q\n",
       "asin                                                      B00068YUN4\n",
       "style                                                            NaN\n",
       "reviewerName                                                  Glynis\n",
       "reviewText         Nice quality product and would recommend this ...\n",
       "summary                                                   Five Stars\n",
       "unixReviewTime                                            1428364800\n",
       "image                                                            NaN\n",
       "category           [Electronics, Accessories & Supplies, Audio & ...\n",
       "tech1                                                               \n",
       "description        [The DS-2000 universal pipe/tower mount is a q...\n",
       "fit                                                                 \n",
       "title              Winegard DS-2000 Universal 22-inch Tower Mount...\n",
       "also_buy           [B001DFS49U, B01N5TEHLI, B001HKM1HM, B001DFTGR...\n",
       "tech2                                                               \n",
       "brand                                                       Winegard\n",
       "feature                                                           []\n",
       "rank                                                              []\n",
       "also_view          [B076VN3HN1, B0744DCJVW, B001DFS49U, B076VBNWJ...\n",
       "main_cat                                        Home Audio & Theater\n",
       "similar_item        class=\"a-bordered a-horizontal-stripes  a-spa...\n",
       "date                                                                \n",
       "price                                                               \n",
       "imageURL                                                          []\n",
       "imageURLHighRes                                                   []\n",
       "details                                                           {}\n",
       "Name: 599190, dtype: object"
      ]
     },
     "execution_count": 68,
     "metadata": {},
     "output_type": "execute_result"
    }
   ],
   "source": [
    "tv_df.iloc[5000]"
   ]
  },
  {
   "cell_type": "code",
   "execution_count": 67,
   "metadata": {},
   "outputs": [
    {
     "name": "stdout",
     "output_type": "stream",
     "text": [
      "<class 'pandas.core.frame.DataFrame'>\n",
      "Int64Index: 376892 entries, 173 to 7063268\n",
      "Data columns (total 30 columns):\n",
      " #   Column           Non-Null Count   Dtype  \n",
      "---  ------           --------------   -----  \n",
      " 0   overall          376892 non-null  float64\n",
      " 1   vote             62981 non-null   object \n",
      " 2   verified         376892 non-null  bool   \n",
      " 3   reviewTime       376892 non-null  object \n",
      " 4   reviewerID       376892 non-null  object \n",
      " 5   asin             376892 non-null  object \n",
      " 6   style            183606 non-null  object \n",
      " 7   reviewerName     376848 non-null  object \n",
      " 8   reviewText       376816 non-null  object \n",
      " 9   summary          376854 non-null  object \n",
      " 10  unixReviewTime   376892 non-null  int64  \n",
      " 11  image            6990 non-null    object \n",
      " 12  category         376892 non-null  object \n",
      " 13  tech1            376892 non-null  object \n",
      " 14  description      376892 non-null  object \n",
      " 15  fit              376892 non-null  object \n",
      " 16  title            376892 non-null  object \n",
      " 17  also_buy         376892 non-null  object \n",
      " 18  tech2            376892 non-null  object \n",
      " 19  brand            376892 non-null  object \n",
      " 20  feature          376892 non-null  object \n",
      " 21  rank             376892 non-null  object \n",
      " 22  also_view        376892 non-null  object \n",
      " 23  main_cat         376892 non-null  object \n",
      " 24  similar_item     376892 non-null  object \n",
      " 25  date             376892 non-null  object \n",
      " 26  price            376892 non-null  object \n",
      " 27  imageURL         376892 non-null  object \n",
      " 28  imageURLHighRes  376892 non-null  object \n",
      " 29  details          376139 non-null  object \n",
      "dtypes: bool(1), float64(1), int64(1), object(27)\n",
      "memory usage: 86.6+ MB\n"
     ]
    }
   ],
   "source": [
    "tv_df.info()"
   ]
  },
  {
   "cell_type": "code",
   "execution_count": 187,
   "metadata": {},
   "outputs": [],
   "source": [
    "### Tv Brands = Samsung, Vizio, LG, Sony, Panasonic, TCL, RCA, Toshiba, Sharp, Hisense(need to weed out non tv products)\n",
    "only_tv_df = tv_df[(tv_df['brand']== 'Samsung') |\n",
    "                    (tv_df['brand']== 'VIZIO') |\n",
    "                  (tv_df['brand']== 'LG') |\n",
    "                  (tv_df['brand']== 'Sony') |\n",
    "                  (tv_df['brand']== 'Panasonic') |\n",
    "                  (tv_df['brand']== 'TCL') |\n",
    "                  (tv_df['brand']== 'RCA') |\n",
    "                  (tv_df['brand']== 'Toshiba') |\n",
    "                  (tv_df['brand']== 'Sharp') |\n",
    "                  (tv_df['brand']=='Hisense')]"
   ]
  },
  {
   "cell_type": "code",
   "execution_count": 188,
   "metadata": {},
   "outputs": [],
   "source": [
    "### drop unnessary columns : (style, unixReviewTime, image, tech1, fit, also_buy, category, description, feature, rank,\n",
    "###                          tech2, also_view, similar_item, imageURL, imageURLHighRes, details)\n",
    "only_tv_df = only_tv_df.drop(columns=['style', 'unixReviewTime', 'image', 'tech1', 'fit', 'also_buy', \n",
    "                         'tech2', 'also_view', 'similar_item', 'imageURL', 'imageURLHighRes', 'details',\n",
    "                                     'category','description','feature', 'rank'])"
   ]
  },
  {
   "cell_type": "code",
   "execution_count": 189,
   "metadata": {},
   "outputs": [],
   "source": [
    "### vote column has a lot of NA(Reviews that did not receive a helpful vote has no votes)\n",
    "### Fill NA with 0\n",
    "only_tv_df['vote'].fillna(value=0, inplace = True)"
   ]
  },
  {
   "cell_type": "code",
   "execution_count": 190,
   "metadata": {},
   "outputs": [],
   "source": [
    "### drop NA values in reviewerName, reviewText, summary\n",
    "only_tv_df.dropna(inplace=True)"
   ]
  },
  {
   "cell_type": "code",
   "execution_count": 194,
   "metadata": {},
   "outputs": [],
   "source": [
    "### drop duplicates\n",
    "only_tv_df.drop_duplicates(inplace=True)"
   ]
  },
  {
   "cell_type": "code",
   "execution_count": 191,
   "metadata": {},
   "outputs": [],
   "source": [
    "### Rating : Good(overall rating >= 4) - labeled as 1, Bad(overall rating < 4) - Labeled as 0\n",
    "only_tv_df['rating'] = np.where(only_tv_df['overall'] >= 4, 1, 0)"
   ]
  },
  {
   "cell_type": "code",
   "execution_count": 196,
   "metadata": {},
   "outputs": [
    {
     "data": {
      "text/plain": [
       "1    53324\n",
       "0    12778\n",
       "Name: rating, dtype: int64"
      ]
     },
     "execution_count": 196,
     "metadata": {},
     "output_type": "execute_result"
    }
   ],
   "source": [
    "only_tv_df['rating'].value_counts()"
   ]
  },
  {
   "cell_type": "code",
   "execution_count": 197,
   "metadata": {},
   "outputs": [
    {
     "data": {
      "text/plain": [
       "5.0    40866\n",
       "4.0    12458\n",
       "1.0     4953\n",
       "3.0     4749\n",
       "2.0     3076\n",
       "Name: overall, dtype: int64"
      ]
     },
     "execution_count": 197,
     "metadata": {},
     "output_type": "execute_result"
    }
   ],
   "source": [
    "only_tv_df['overall'].value_counts()"
   ]
  },
  {
   "cell_type": "code",
   "execution_count": 198,
   "metadata": {},
   "outputs": [],
   "source": [
    "only_tv_df.to_csv(r'C:\\Users\\brian\\NLP\\data\\cell_phone_prep_data.csv')"
   ]
  },
  {
   "cell_type": "markdown",
   "metadata": {},
   "source": [
    "## Basic Info Prior to NLP\n",
    "Reviews : 66,102  \n",
    "unique products : 1463  \n",
    "unique reviewers : 56,356  \n",
    "average rating : 4.2285  \n",
    "good review : 53,324  \n",
    "bad review : 12,778  \n",
    "5 star : 40,866  \n",
    "4 star : 12,458  \n",
    "3 star : 4,749  \n",
    "2 star : 3,076  \n",
    "1 star : 4,953  \n",
    "review with helpful votes : 21,801  \n",
    "verified reviews : 51,483  \n",
    "verified reviews with helpful votes : 13,549  \n",
    "not verified reviews with helpful votes : 8,252"
   ]
  },
  {
   "cell_type": "code",
   "execution_count": 155,
   "metadata": {},
   "outputs": [],
   "source": [
    "### import spacy to start nlp process\n",
    "import spacy\n",
    "nlp = spacy.load('en_core_web_sm')"
   ]
  },
  {
   "cell_type": "code",
   "execution_count": 159,
   "metadata": {},
   "outputs": [],
   "source": [
    "### tokening Reviews with Spacy\n",
    "import string\n",
    "from spacy.lang.en.stop_words import STOP_WORDS\n",
    "from spacy.lang.en import English"
   ]
  },
  {
   "cell_type": "code",
   "execution_count": 370,
   "metadata": {},
   "outputs": [],
   "source": [
    "# list of punctuation\n",
    "punctuations = string.punctuation\n",
    "\n",
    "# list of stop words / add additional stop words\n",
    "nlp = spacy.load('en_core_web_sm')\n",
    "nlp.Defaults.stop_words |= {\"...\", \"....\", \"tv\"}\n",
    "stop_words = nlp.Defaults.stop_words\n",
    "\n",
    "# load English tokenizer\n",
    "parser = English()"
   ]
  },
  {
   "cell_type": "code",
   "execution_count": 227,
   "metadata": {},
   "outputs": [],
   "source": [
    "# create a tokenizer function\n",
    "def spacy_tokenizer(sentence):\n",
    "    # create token object\n",
    "    # mytokens = parser(sentence)\n",
    "    mytokens = nlp(sentence)\n",
    "    # lemmatizing each token and convert to lowercase\n",
    "    mytokens = [word.lemma_.lower().strip() if word.lemma_ != \"-PRON-\" else word.lower_ for word in mytokens]\n",
    "    # removing stop words and punctuation\n",
    "    mytokens = [word for word in mytokens if word not in stop_words and word not in punctuations]\n",
    "    \n",
    "    return mytokens"
   ]
  },
  {
   "cell_type": "code",
   "execution_count": 163,
   "metadata": {},
   "outputs": [],
   "source": [
    "from sklearn.feature_extraction.text import CountVectorizer,TfidfVectorizer\n",
    "from sklearn.base import TransformerMixin\n",
    "from sklearn.pipeline import Pipeline\n",
    "\n",
    "# Custom transformer using spaCy\n",
    "class predictors(TransformerMixin):\n",
    "    def transform(self, X, **transform_params):\n",
    "        # Cleaning Text\n",
    "        return [clean_text(text) for text in X]\n",
    "\n",
    "    def fit(self, X, y=None, **fit_params):\n",
    "        return self\n",
    "\n",
    "    def get_params(self, deep=True):\n",
    "        return {}\n",
    "\n",
    "# Basic function to clean the text\n",
    "def clean_text(text):\n",
    "    # Removing spaces and converting text into lowercase\n",
    "    return text.strip().lower()"
   ]
  },
  {
   "cell_type": "code",
   "execution_count": 230,
   "metadata": {},
   "outputs": [],
   "source": [
    "### apply spacy tokenizer to each review\n",
    "only_tv_df['token'] = only_tv_df['reviewText'].apply(spacy_tokenizer)"
   ]
  },
  {
   "cell_type": "code",
   "execution_count": 510,
   "metadata": {},
   "outputs": [],
   "source": [
    "### Parts of speech by sentiment\n",
    "only_tv_df['spacy_doc'] = list(nlp.pipe(only_tv_df['reviewText']))\n",
    "positive_reviews = only_tv_df[only_tv_df['rating']==1]\n",
    "negative_reviews = only_tv_df[only_tv_df['rating']==0]\n",
    "\n",
    "pos_adj = [token.text.lower() for doc in positive_reviews.spacy_doc for token in doc if token.pos_=='ADJ']\n",
    "neg_adj = [token.text.lower() for doc in negative_reviews.spacy_doc for token in doc if token.pos_=='ADJ']\n",
    "adj = [token.text.lower() for doc in only_tv_df.spacy_doc for token in doc if token.pos_=='ADJ']\n",
    "\n",
    "pos_noun = [token.text.lower() for doc in positive_reviews.spacy_doc for token in doc if token.pos_=='NOUN']\n",
    "neg_noun = [token.text.lower() for doc in negative_reviews.spacy_doc for token in doc if token.pos_=='NOUN']\n",
    "noun = [token.text.lower() for doc in only_tv_df.spacy_doc for token in doc if token.pos_=='NOUN']"
   ]
  },
  {
   "cell_type": "code",
   "execution_count": 241,
   "metadata": {},
   "outputs": [],
   "source": [
    "from collections import Counter"
   ]
  },
  {
   "cell_type": "code",
   "execution_count": 511,
   "metadata": {},
   "outputs": [
    {
     "data": {
      "text/plain": [
       "[('great', 38175),\n",
       " ('good', 30537),\n",
       " ('other', 18361),\n",
       " ('better', 13141),\n",
       " ('more', 11858),\n",
       " ('easy', 10639),\n",
       " ('best', 10081),\n",
       " ('nice', 9757),\n",
       " ('new', 9694),\n",
       " ('little', 8579),\n",
       " ('same', 8333),\n",
       " ('old', 8233),\n",
       " ('few', 7993),\n",
       " ('excellent', 7266),\n",
       " ('many', 7114)]"
      ]
     },
     "execution_count": 511,
     "metadata": {},
     "output_type": "execute_result"
    }
   ],
   "source": [
    "Counter(adj).most_common(15)"
   ]
  },
  {
   "cell_type": "code",
   "execution_count": 512,
   "metadata": {},
   "outputs": [
    {
     "data": {
      "text/plain": [
       "[('tv', 145610),\n",
       " ('picture', 49229),\n",
       " ('quality', 24606),\n",
       " ('screen', 20495),\n",
       " ('sound', 19656),\n",
       " ('price', 18990),\n",
       " ('set', 16966),\n",
       " ('time', 14662),\n",
       " ('cable', 12944),\n",
       " ('remote', 12748),\n",
       " ('box', 11597),\n",
       " ('room', 10544),\n",
       " ('settings', 9919),\n",
       " ('problem', 9356),\n",
       " ('video', 8389)]"
      ]
     },
     "execution_count": 512,
     "metadata": {},
     "output_type": "execute_result"
    }
   ],
   "source": [
    "Counter(noun).most_common(15)"
   ]
  },
  {
   "cell_type": "code",
   "execution_count": 242,
   "metadata": {},
   "outputs": [
    {
     "data": {
      "text/plain": [
       "[('great', 34129),\n",
       " ('good', 24947),\n",
       " ('other', 14163),\n",
       " ('better', 10706),\n",
       " ('easy', 9706),\n",
       " ('more', 9351),\n",
       " ('best', 8981),\n",
       " ('nice', 8250),\n",
       " ('little', 7181),\n",
       " ('new', 7173)]"
      ]
     },
     "execution_count": 242,
     "metadata": {},
     "output_type": "execute_result"
    }
   ],
   "source": [
    "Counter(pos_adj).most_common(10)"
   ]
  },
  {
   "cell_type": "code",
   "execution_count": 243,
   "metadata": {},
   "outputs": [
    {
     "data": {
      "text/plain": [
       "[('good', 5590),\n",
       " ('other', 4198),\n",
       " ('great', 4046),\n",
       " ('same', 2698),\n",
       " ('new', 2521),\n",
       " ('more', 2507),\n",
       " ('better', 2435),\n",
       " ('bad', 1972),\n",
       " ('few', 1911),\n",
       " ('old', 1858)]"
      ]
     },
     "execution_count": 243,
     "metadata": {},
     "output_type": "execute_result"
    }
   ],
   "source": [
    "Counter(neg_adj).most_common(10)"
   ]
  },
  {
   "cell_type": "code",
   "execution_count": 244,
   "metadata": {},
   "outputs": [
    {
     "data": {
      "text/plain": [
       "[('tv', 113482),\n",
       " ('picture', 41156),\n",
       " ('quality', 20497),\n",
       " ('price', 16702),\n",
       " ('sound', 16276),\n",
       " ('screen', 15294),\n",
       " ('set', 13811),\n",
       " ('cable', 10805),\n",
       " ('time', 10693),\n",
       " ('remote', 10079)]"
      ]
     },
     "execution_count": 244,
     "metadata": {},
     "output_type": "execute_result"
    }
   ],
   "source": [
    "Counter(pos_noun).most_common(10)"
   ]
  },
  {
   "cell_type": "code",
   "execution_count": 245,
   "metadata": {},
   "outputs": [
    {
     "data": {
      "text/plain": [
       "[('tv', 32128),\n",
       " ('picture', 8073),\n",
       " ('screen', 5201),\n",
       " ('quality', 4109),\n",
       " ('time', 3969),\n",
       " ('problem', 3684),\n",
       " ('sound', 3380),\n",
       " ('set', 3155),\n",
       " ('remote', 2669),\n",
       " ('issue', 2465)]"
      ]
     },
     "execution_count": 245,
     "metadata": {},
     "output_type": "execute_result"
    }
   ],
   "source": [
    "Counter(neg_noun).most_common(10)"
   ]
  },
  {
   "cell_type": "code",
   "execution_count": 335,
   "metadata": {},
   "outputs": [],
   "source": [
    "bow_vector = CountVectorizer(tokenizer = spacy_tokenizer, ngram_range=(1,2), stop_words=stop_words, token_pattern=\"\\\\b[a-z][a-z]+\\\\b\")\n",
    "tfidf_vector = TfidfVectorizer(tokenizer = spacy_tokenizer, stop_words=stop_words)"
   ]
  },
  {
   "cell_type": "markdown",
   "metadata": {},
   "source": [
    "### NMF"
   ]
  },
  {
   "cell_type": "code",
   "execution_count": 307,
   "metadata": {},
   "outputs": [
    {
     "name": "stderr",
     "output_type": "stream",
     "text": [
      "C:\\Users\\brian\\.conda\\envs\\metis\\lib\\site-packages\\sklearn\\feature_extraction\\text.py:388: UserWarning: Your stop_words may be inconsistent with your preprocessing. Tokenizing the stop words generated tokens ['d', 'far', 'll', 'm', 'regard', 'use', 've', '’'] not in stop_words.\n",
      "  warnings.warn('Your stop_words may be inconsistent with '\n"
     ]
    }
   ],
   "source": [
    "##Hisense TV only\n",
    "Hisense_df = only_tv_df[only_tv_df['brand'] == 'Hisense']\n",
    "Hisense_df = Hisense_df.reset_index()\n",
    "corpus = Hisense_df['reviewText']\n",
    "Hisense_review_word_matrix = tfidf_vector.fit_transform(corpus)\n",
    "vocab = tfidf_vector.get_feature_names()"
   ]
  },
  {
   "cell_type": "code",
   "execution_count": 308,
   "metadata": {},
   "outputs": [
    {
     "name": "stderr",
     "output_type": "stream",
     "text": [
      "C:\\Users\\brian\\.conda\\envs\\metis\\lib\\site-packages\\sklearn\\decomposition\\_nmf.py:312: FutureWarning: The 'init' value, when 'init=None' and n_components is less than n_samples and n_features, will be changed from 'nndsvd' to 'nndsvda' in 1.1 (renaming of 0.26).\n",
      "  warnings.warn((\"The 'init' value, when 'init=None' and \"\n"
     ]
    },
    {
     "data": {
      "text/plain": [
       "NMF(n_components=5)"
      ]
     },
     "execution_count": 308,
     "metadata": {},
     "output_type": "execute_result"
    }
   ],
   "source": [
    "from sklearn.decomposition import NMF, TruncatedSVD, LatentDirichletAllocation\n",
    "nmf = NMF(n_components = 5)\n",
    "nmf.fit(Hisense_review_word_matrix)"
   ]
  },
  {
   "cell_type": "code",
   "execution_count": 309,
   "metadata": {},
   "outputs": [
    {
     "data": {
      "text/html": [
       "<div>\n",
       "<style scoped>\n",
       "    .dataframe tbody tr th:only-of-type {\n",
       "        vertical-align: middle;\n",
       "    }\n",
       "\n",
       "    .dataframe tbody tr th {\n",
       "        vertical-align: top;\n",
       "    }\n",
       "\n",
       "    .dataframe thead th {\n",
       "        text-align: right;\n",
       "    }\n",
       "</style>\n",
       "<table border=\"1\" class=\"dataframe\">\n",
       "  <thead>\n",
       "    <tr style=\"text-align: right;\">\n",
       "      <th></th>\n",
       "      <th>topic_0</th>\n",
       "      <th>topic_1</th>\n",
       "      <th>topic_2</th>\n",
       "      <th>topic_3</th>\n",
       "      <th>topic_4</th>\n",
       "      <th>reviews</th>\n",
       "      <th>token</th>\n",
       "    </tr>\n",
       "  </thead>\n",
       "  <tbody>\n",
       "    <tr>\n",
       "      <th>0</th>\n",
       "      <td>0.039715</td>\n",
       "      <td>0.000000</td>\n",
       "      <td>0.000000</td>\n",
       "      <td>0.000596</td>\n",
       "      <td>0.002245</td>\n",
       "      <td>Seldom use 3D BUT ALL ELSE FANTASTIC just worr...</td>\n",
       "      <td>[seldom, use, 3d, fantastic, worry, buy, long,...</td>\n",
       "    </tr>\n",
       "    <tr>\n",
       "      <th>1</th>\n",
       "      <td>0.095577</td>\n",
       "      <td>0.000000</td>\n",
       "      <td>0.000000</td>\n",
       "      <td>0.016886</td>\n",
       "      <td>0.000000</td>\n",
       "      <td>Very nice TV. Can't say the same thing for the...</td>\n",
       "      <td>[nice, tv, thing, app, useful, app, netflix, v...</td>\n",
       "    </tr>\n",
       "    <tr>\n",
       "      <th>2</th>\n",
       "      <td>0.142040</td>\n",
       "      <td>0.021794</td>\n",
       "      <td>0.045465</td>\n",
       "      <td>0.047404</td>\n",
       "      <td>0.000638</td>\n",
       "      <td>Wow! This TV is awesome. The picture is so cri...</td>\n",
       "      <td>[wow, tv, awesome, picture, crisp, clear, beat...</td>\n",
       "    </tr>\n",
       "    <tr>\n",
       "      <th>3</th>\n",
       "      <td>0.000000</td>\n",
       "      <td>0.198972</td>\n",
       "      <td>0.171647</td>\n",
       "      <td>0.000000</td>\n",
       "      <td>0.000101</td>\n",
       "      <td>this was a great deal on a great product i rea...</td>\n",
       "      <td>[great, deal, great, product, love, tv, highly...</td>\n",
       "    </tr>\n",
       "    <tr>\n",
       "      <th>4</th>\n",
       "      <td>0.082239</td>\n",
       "      <td>0.000000</td>\n",
       "      <td>0.000000</td>\n",
       "      <td>0.000000</td>\n",
       "      <td>0.000000</td>\n",
       "      <td>Bought a 50\" Hisense TV in April, by December ...</td>\n",
       "      <td>[buy, 50, hisense, tv, april, december, pictur...</td>\n",
       "    </tr>\n",
       "  </tbody>\n",
       "</table>\n",
       "</div>"
      ],
      "text/plain": [
       "    topic_0   topic_1   topic_2   topic_3   topic_4  \\\n",
       "0  0.039715  0.000000  0.000000  0.000596  0.002245   \n",
       "1  0.095577  0.000000  0.000000  0.016886  0.000000   \n",
       "2  0.142040  0.021794  0.045465  0.047404  0.000638   \n",
       "3  0.000000  0.198972  0.171647  0.000000  0.000101   \n",
       "4  0.082239  0.000000  0.000000  0.000000  0.000000   \n",
       "\n",
       "                                             reviews  \\\n",
       "0  Seldom use 3D BUT ALL ELSE FANTASTIC just worr...   \n",
       "1  Very nice TV. Can't say the same thing for the...   \n",
       "2  Wow! This TV is awesome. The picture is so cri...   \n",
       "3  this was a great deal on a great product i rea...   \n",
       "4  Bought a 50\" Hisense TV in April, by December ...   \n",
       "\n",
       "                                               token  \n",
       "0  [seldom, use, 3d, fantastic, worry, buy, long,...  \n",
       "1  [nice, tv, thing, app, useful, app, netflix, v...  \n",
       "2  [wow, tv, awesome, picture, crisp, clear, beat...  \n",
       "3  [great, deal, great, product, love, tv, highly...  \n",
       "4  [buy, 50, hisense, tv, april, december, pictur...  "
      ]
     },
     "execution_count": 309,
     "metadata": {},
     "output_type": "execute_result"
    }
   ],
   "source": [
    "review_topic_matrix = nmf.transform(Hisense_review_word_matrix)\n",
    "\n",
    "review_topic_matrix_df = pd.DataFrame(review_topic_matrix).add_prefix('topic_')\n",
    "\n",
    "review_topic_matrix_df[['reviews', 'token']] = Hisense_df[['reviewText', 'token']]\n",
    "review_topic_matrix_df.head()"
   ]
  },
  {
   "cell_type": "code",
   "execution_count": 293,
   "metadata": {},
   "outputs": [
    {
     "data": {
      "text/html": [
       "<div>\n",
       "<style scoped>\n",
       "    .dataframe tbody tr th:only-of-type {\n",
       "        vertical-align: middle;\n",
       "    }\n",
       "\n",
       "    .dataframe tbody tr th {\n",
       "        vertical-align: top;\n",
       "    }\n",
       "\n",
       "    .dataframe thead th {\n",
       "        text-align: right;\n",
       "    }\n",
       "</style>\n",
       "<table border=\"1\" class=\"dataframe\">\n",
       "  <thead>\n",
       "    <tr style=\"text-align: right;\">\n",
       "      <th></th>\n",
       "      <th>topic_0</th>\n",
       "      <th>topic_1</th>\n",
       "      <th>topic_2</th>\n",
       "      <th>topic_3</th>\n",
       "      <th>topic_4</th>\n",
       "    </tr>\n",
       "  </thead>\n",
       "  <tbody>\n",
       "    <tr>\n",
       "      <th>''</th>\n",
       "      <td>0.008325</td>\n",
       "      <td>0.0</td>\n",
       "      <td>0.000000</td>\n",
       "      <td>0.000000</td>\n",
       "      <td>0.0</td>\n",
       "    </tr>\n",
       "    <tr>\n",
       "      <th>):</th>\n",
       "      <td>0.010816</td>\n",
       "      <td>0.0</td>\n",
       "      <td>0.000669</td>\n",
       "      <td>0.000000</td>\n",
       "      <td>0.0</td>\n",
       "    </tr>\n",
       "    <tr>\n",
       "      <th>-(][edit</th>\n",
       "      <td>0.004618</td>\n",
       "      <td>0.0</td>\n",
       "      <td>0.000000</td>\n",
       "      <td>0.000000</td>\n",
       "      <td>0.0</td>\n",
       "    </tr>\n",
       "    <tr>\n",
       "      <th>--</th>\n",
       "      <td>0.027476</td>\n",
       "      <td>0.0</td>\n",
       "      <td>0.000000</td>\n",
       "      <td>0.001030</td>\n",
       "      <td>0.0</td>\n",
       "    </tr>\n",
       "    <tr>\n",
       "      <th>------------------------------</th>\n",
       "      <td>0.008477</td>\n",
       "      <td>0.0</td>\n",
       "      <td>0.000000</td>\n",
       "      <td>0.000611</td>\n",
       "      <td>0.0</td>\n",
       "    </tr>\n",
       "  </tbody>\n",
       "</table>\n",
       "</div>"
      ],
      "text/plain": [
       "                                 topic_0  topic_1   topic_2   topic_3  topic_4\n",
       "''                              0.008325      0.0  0.000000  0.000000      0.0\n",
       "):                              0.010816      0.0  0.000669  0.000000      0.0\n",
       "-(][edit                        0.004618      0.0  0.000000  0.000000      0.0\n",
       "--                              0.027476      0.0  0.000000  0.001030      0.0\n",
       "------------------------------  0.008477      0.0  0.000000  0.000611      0.0"
      ]
     },
     "execution_count": 293,
     "metadata": {},
     "output_type": "execute_result"
    }
   ],
   "source": [
    "word_topic_matrix_df = pd.DataFrame(nmf.components_, columns=vocab).T.add_prefix('topic_')\n",
    "word_topic_matrix_df.head()"
   ]
  },
  {
   "cell_type": "code",
   "execution_count": 286,
   "metadata": {},
   "outputs": [],
   "source": [
    "def display_topics(model, feature_names, no_top_words, topic_names=None):\n",
    "    for ix, topic in enumerate(model.components_):\n",
    "        if not topic_names or not topic_names[ix]:\n",
    "            print(\"\\nTopic \", ix)\n",
    "        else:\n",
    "            print(\"\\nTopic: '\",topic_names[ix],\"'\")\n",
    "        print(\", \".join([feature_names[i]\n",
    "                        for i in topic.argsort()[:-no_top_words - 1:-1]]))"
   ]
  },
  {
   "cell_type": "code",
   "execution_count": 310,
   "metadata": {},
   "outputs": [
    {
     "name": "stdout",
     "output_type": "stream",
     "text": [
      "\n",
      "Topic  0\n",
      "tv, 4k, use, hisense, like, set, sound, remote, app, picture\n",
      "\n",
      "Topic  1\n",
      "great, tv, price, picture, deal, sound, excellent, buy, bedroom, room\n",
      "\n",
      "Topic  2\n",
      "love, daughter, tv, deal, wife, ju, feature, 5, college, clear\n",
      "\n",
      "Topic  3\n",
      "good, price, picture, quality, far, sound, value, clear, purchase, nice\n",
      "\n",
      "Topic  4\n",
      "work, perfect, perfectly, great, remote, use, issue, month, expect, need\n"
     ]
    }
   ],
   "source": [
    "display_topics(nmf, tfidf_vector.get_feature_names(), 10)"
   ]
  },
  {
   "cell_type": "code",
   "execution_count": 268,
   "metadata": {},
   "outputs": [],
   "source": [
    "def top_reviews(tweet_topic_matrix_df, topic, n_tweets):\n",
    "    return (tweet_topic_matrix_df\n",
    "            .sort_values(by=topic, ascending=False)\n",
    "            .head(n_tweets)['reviews']\n",
    "            .values)\n",
    "\n",
    "def top_words(word_topic_matrix_df, topic, n_words):\n",
    "    return (word_topic_matrix_df\n",
    "            .sort_values(by=topic, ascending=False)\n",
    "            .head(n_words))[topic]"
   ]
  },
  {
   "cell_type": "code",
   "execution_count": 294,
   "metadata": {},
   "outputs": [
    {
     "name": "stdout",
     "output_type": "stream",
     "text": [
      "Note: Updates at the end. Original review:\n",
      "\n",
      "I was surprised at how good this HiSense 4K HD TV turned out. At a modest price for 4K resolution I didn't expect to be impressed by quality, design or features. I was wrong. I think this is a excellent TV value at this price and has given me a very good picture. I've lived with this TV for about 6 weeks.\n",
      "\n",
      "Important features for me are high quality upscaling, a good ATSC tuner, Apps, media access (played from Plex and windows media on my network), USB ports (to power my antenna amplifier and for media), and a responsive interface. The most important apps of the many included are Amazon Instant Streaming, Netflix, and Youtube.  All features and apps are at least as good as I expected for an econcomy TV and often exceeded my expectations.\n",
      "\n",
      "NOTE: This TV does NOT include 3D support. Using 3D always gives me a headache, so this is not a negative for me at all.\n",
      "\n",
      "Picture quality has been better than I expected. In my experience watching NFL Football I've had no issues with ghosting in fast action watching via cable or off-air antenna; a sports mode setting is provided with faster refresh though I didn't need it. As is common among sub-$1K 4K TV's black levels are slightly less dark than a similarly priced 1080 HD TV\n",
      "\n",
      "This HiSense is replacing a 4 year old Samsung Smart 40in LED HD TV that I was very pleased with. It is connected through a home theater system centered around the&nbsp;<a data-hook=\"product-link-linked\" class=\"a-link-normal\" href=\"/Sony-STRDN860/dp/B00VNH98IY/ref=cm_cr_arp_d_rvw_txt?ie=UTF8\">Sony STRDN860</a>&nbsp;receiver that supports 4K HDMI. I also have a Amazon Fire TV (original),&nbsp;<a data-hook=\"product-link-linked\" class=\"a-link-normal\" href=\"/Panasonic-DMP-BDT270-4K-Upscaling-Smart-Blu-Ray-player/dp/B00SKXTFWS/ref=cm_cr_arp_d_rvw_txt?ie=UTF8\">Panasonic DMP-BDT270 4K Upscaling Smart Blu-Ray player</a>&nbsp;and a venerable Series 3 HD Tivo (1080i output). I hope knowing my starting point and environment may help in understanding my perceptions.\n",
      "\n",
      "Netflix and the upscaling Blu-Ray are my only 4K sources. Netflix the only native 4K source. Everytthing else is upscaled either by the TV or the Panasonic Blu-Ray. Upscaling is inherently difficult and quality upscaling is critical. The HiSense didn't disappoint here with quality upscaling.\n",
      "\n",
      "IN THE BOX/ASSEMBLY:\n",
      "The HiSense comes well protected in the shipping box. After unpacking I had:\n",
      "+ The TV (of course)\n",
      "+ 2 Feet and mounting hardware\n",
      "+ remote (with batteries)\n",
      "+ Literature (quick start, warranty, manual, warnings, etc.)\n",
      "+ Mounting hardware for the feet\n",
      "+ Power cable\n",
      "\n",
      "The Energy guide sticker estimates cost of power at $19/year based on $0.12/KWh and 5h/day of use. I easily double this as I work from a home office.\n",
      "\n",
      "I used a phillips screwdriver to set the one screw to needed to attach each foot. The feet are 41in apart at their widest point and about 9in deep. They are at an angle making them further apart in the front.  The table where I kept my TV was not wide enough so I place a broad board to support the HiSense. Plan accordingly for placement.\n",
      "\n",
      "Except for removing protective plastic/labels, attaching HDMI, Wired LAN (Wireless built-in as well), Antenna (yes I get off-the-air TV too), power and placing batteries in the remote that's about it for physical setup.\n",
      "\n",
      "SETUP:\n",
      "On startup the HiSense walked me through an initial setup where I setup networking, off-air video, default input, etc. It was simple and intuitive and unremarkable. Since I use wired networking I didn't setup wireless.\n",
      "\n",
      "I am using a&nbsp;<a data-hook=\"product-link-linked\" class=\"a-link-normal\" href=\"/Onh-hdtv-indoor-50-mile-hdtv-antenna/dp/B011KLL5G0/ref=cm_cr_arp_d_rvw_txt?ie=UTF8\">Onh hdtv indoor 50 mile hdtv antenna</a>&nbsp;which brings in about 32 channels clearly 30 miles west of Boston. It works very well.\n",
      "\n",
      "I selected my Tivo as my default live video source. Tivo does not document any codes that work with the HiSense 4K TV, but do not despair! Search for \" Perform Code Search Tivo remote\" to find out how to search for codes that work. I found working codes in about 4 tries (5 to 10 minutes).\n",
      "\n",
      "I checked for new firmware. None yet. The firmware update is on the \"About\" settings item instead of the more common placement on the \"System\" item. I scanned for HDTV Channels.\n",
      "\n",
      "In the apps I logged in my Amazon and Netflix apps: easy peasy. The HiSense makes note of being Netflix approved and this is the only native 4K source I have. 22 apps came installed on the TV. It uses Opera as the app platform and more apps are available for installation. I didn't feel the need to add any. Opera provides TV based web browser which is good as any I've tried, though none are something I would use over the many other options available.\n",
      "\n",
      "Gamers will want to go into settings and choose the game mode which reduces screen latency significantly (the lag from the time input is fed into the TV to the time it is displayed). Without game mode this appears to between a quarter to half second. In game mode it seems unnoticeable to me. FYI: I'm only a casual gamer at most.\n",
      "\n",
      "Sports lovers will appreciate the sports mode which provides for clearer action scenes with less motion blur.\n",
      "\n",
      "REMOTE:\n",
      "The included HiSense remote comes with batteries and is very logically laid out with 4 dedicated app buttons (Amazon, Netflic, Youtube and VUDU). There are the usual assortment of numbers, volume, channels, a navigation ring and app, settings buttons.\n",
      "\n",
      "The surprise for me was the liveTV button which I use all the time to go from media devices or apps back to my Tivo's HDMI input. Much faster than cycling through all the inputs.\n",
      "\n",
      "The shape, surface, and texture of the remote and buttons was comfortable in my hand. Overall a nice design.\n",
      "\n",
      "HiSense also has a soft remote app I installed on my iPhone, It immediately found the TV and provided a good user experience with the advantage of a keyboard (much better than on-screen TV keyboards!).\n",
      "\n",
      "The HiSense has a \"home\" screen that provides access to the main groups of smart features. Live TV, Video on Demand, network Media, and apps. I found this layout a very sensible way to navigate and grouped things in a logical way. Just good design.\n",
      "\n",
      "The HiSense TV's media sharing options immediately found my 2 Plex servers and Windows media sharing  on my network. I played some music using the TV plus some video and still images. The interface seemed intuitive and more responsive than I expected. Quality was very good on my home network. This is a plus for the HiSense and on a par with my Panasonic Blu-Ray.\n",
      "\n",
      "I didn't try the Anynet screen sharing feature. I looked but could not find an app for my iPhone. It sound like a cool feature I wouldn't be using very often.\n",
      "\n",
      "THE PICTURE/SOUND:\n",
      "The picture is very good. I was skeptical how perceptibly better it would be for me. Again I was surprised. 1080p/i inputs were very good and native apps were excellent as well. Buffering Amazon was seconds longer than with my Fire TV, but once streaming quality was virtually the same. Same with Netflix.\n",
      "\n",
      "The only downside I found in quality is blacks were not as black as my older Samsung. For me this is a minor difference and not noticeable unless the screens are side-by-side. I went to a local \"big box\" score and compared 4K TV's on display. My impression is none of the sub $1K models had black levels as good as 1080 HD models, even ones at lower prices. I think the HiSense is as at least as good as other 4K TVs in the price range. If you want deep blacks expect to spend a lot more for 4K or stick with 1080 HD.\n",
      "\n",
      "For me color, brightness and general picture quality are very good out of the box. The default mode is power saving with which I am very happy. In my experience watching NFL Football I've had no issues with ghosting in fast action watching via cable or off-air antenna in my default mode (energy saving) which was a pleasant surprise. For sports fans there is a \"sports\" mode which increases the refresh rate.\n",
      "\n",
      "Sound went back to my receiver via the ARC (audio return channel) so I didn't really use the TV's built-in audio other than just a quick try. My quick impression is that it was good for a TV, but I didn't pay that much attention since I don't intend to use it. For me, a good home theater audio system ads a lot to my video experience.\n",
      "\n",
      "CONCLUSIONS:\n",
      "This HiSense 4K TV thoroughly exceeded my expectations which were low for my first experience with this brand. I had been curious about 4K for a while but my perception I'd need to spend in excess of $1K held me back. At this low price the HiSense blew through my also fairly low expectations. That's a 5 star performance for me.\n",
      "\n",
      "UPDATE: Nov 24, 2015\n",
      "My Hisense TV recently installed a firmware update. It seems to have improved display latency some and added some more apps (I didn't keep an accurate inventory).  I would not call these dramatic improvements. I do like that firmware updates are fixing problems and improving the TV after I've purchased it. If you have auto-update turned off it may be good to manually install this updated firmware.\n",
      "\n",
      "UPDATE Dec 30, 2015\n",
      "Another firmware update was released Dec 27 taking me from V00.01.00a. F0815 to V00.01.00a. F1201, The description s says they have optimized TV quality, improved features on some apps and fixed some known issues. After living with the new firmware for a few days I can't put my finger on a specific improvement, but I think the picture seems smoother on sporting events (even when not in sport mode). I also think screen latency is reduced as my gaming experience seems a bit better if I forget to put the TV into \"game mode\".\n",
      "\n",
      "I really like that Hisense has been releasing updated firmware and fixing issues. Modern smart TV's like any computer operating system is going to need updates and I'm glad Hisense is stepping up to that bar while still being a low-cost provider.\n",
      "\n",
      "UPDATE Oct 20, 2016\n",
      "It's a little over a year since I setup and started using  this Hisense 4K TV. Since Dec 2015 there have been more firmware updates showing Hisense has a commitment to their products. One of these updates made the interaction with my newish Denon AV receiver work more quickly (turning on the receiver when I turned on the TV) than before the update.\n",
      "\n",
      "Picture quality remains excellent. It is my main TV and it is on for hours every day when I'm working out of my home office or relaxing in the evening.  Bottom line: at 1+ year out my Hisense 4K TV performed very well for me and I remain very satisfied.\n",
      "\n",
      "UPDATE Dec 12, 2016\n",
      "My Hisense TV notified me about a new firmware update from V00.01.00a. G304 to V00.01.00a. G0.913. (the new version is from the TV info screen after the update) The part before G0.913 appeared differently on the update screen, FYI.\n",
      "\n",
      "The description is not specific about the details: \"Optimized Picture Quality, Improved some features of popular apps and fixed some known issues.\"  After applying the update I have a sense the picture is looking a little better but I can't put my finger on specifically what changed. It is subtle.\n",
      "\n",
      "I am very pleased that well more than a year after buying this TV Hisense is still improving the firmware and actively supporting it.\n",
      "\n",
      "Hope this helps someone!\n",
      "This Roku TV from Hisense is an amazing bargain at the list price of $300. It's a 40\", full HD (1080p), flat screen TV that has Roku built in. Heck, a Roku by itself is $50- $100+ depending upon the model! For people like me, who have cut the cable cord and rely exclusively on streaming video, this is practically perfect.\n",
      "\n",
      "For those who are new to streaming TV, here's a brief streaming 101. Streaming content (video and audio) comes through your home internet network. This means you must have internet access to stream content to your TV. Roku is a well known for their video streaming devices (boxes and sticks) and offers an astounding variety of streaming content - much of which is 100% free. Roku also gives you access to paid subscription content like Amazon Instant Video, Netflix, Hulu Plus, etc. This television has Roku built right in so no extra box on your TV stand, no extra power connector and no extra remote. It's all in one package!\n",
      "\n",
      "NOTE: This TV connects to your internet through a wireless network so you must have a wireless router to use the streaming features of this TV. There is no option to connect through an ethernet cable.\n",
      "\n",
      "Of course, you can also hook this TV up to your cable TV box or to an external antenna for over the air programming. It's functions fully as a regular TV if you don't have internet access in your home.\n",
      "\n",
      "One of the first things I noticed was how light weight the TV is. It weighs only a little over 25 lbs with the stand attached. If you choose to mount it on the wall (with a purchased VESA 200 x 200mm mount) it weighs only 22 lbs. It arrives very well packed and assembly requires securing the stand to the TV with the 8 included screws and a Philips head screw driver and installing the included batteries in the remote. That's it.\n",
      "\n",
      "It's not one of those ultra thin profile TVs. It's fairly thick because the Roku is built into the body of the TV.\n",
      "\n",
      "The screen features a thin bezel so it looks clean and modern. The base is a very substantial glass and metal and has rubber feet to protect your TV stand. The power cable port and the on TV control buttons are on the right hand side of the TV. On the left hand side of the TV are AV ports, a digital audio out port, and audio out port, a coax cable port and 1 HDMI port. On the bottom left are two additional HDMI ports and a USB port. I'm really pleased to see Hisense included 3 HDMI ports on a value priced TV so you can hook up game consoles, etc.\n",
      "\n",
      "If you've ever used a Roku, you will recognize the exceptional remote. Roku is known for its simple, easy to use remotes. They are so simple and uncomplicated that they are excellent for elders and less tech savvy folks. I remember buying my mom a Roku a few years ago and before I was finished explaining how to use it, she was streaming a movie! Even for people who aren't intimidated by huge remotes with a zillion buttons, this remote is a pleasure to use. And additionally, there is a Roku Remote app for your smart phone or tablet that works really well. I appreciate this since physical remotes can be lost or misplaced.\n",
      "\n",
      "Setting up the TV is a breeze. As soon as you turn it on, Roku walks you through the set up. You will need to know the name of your wifi network (SSID) and the password if you're going to use the streaming features. You will also need your computer turned on because you'll be setting up a Roku account, which is completely free, and registering your TV. Also, make note of which HDMI port you connected your cable box/game console/etc. to. It will add that to the main menu you see when you turn on the TV. You'll no longer have to try and remember which HDMI ports your devices are on. You can just click on whatever device you want to use from the home screen.\n",
      "\n",
      "So while the Roku and the Roku interface is fantastic, the TV itself is is solidly good but not exceptional. The picture is clear and bright. It puts out good volume and sound from the stereo speakers. There is no lag when changing channels. However, at this amazing price point, you won't get the vivid colors or color adjustment capabilities of more expensive TVs. Also, it has a 60Hz refresh rate, which means when viewing sports and other content where there is a lot of high speed motion, you'll get some blurring that you won't have on TVs with refresh rates of 120Hz or 240Hz. It also has a lower fps (frames per second) which you will be able to detect if using a Blu-Ray player. Some people, like me, aren't bothered by this but others will not be happy with a 60Hz refresh rate.\n",
      "\n",
      "The 40\" size is great for apartments or modest size living rooms or even a bedroom. It's still a big screen (IMO) while not requiring as much space (or costing as much) as 50+\" TVs. And at this price with the Roku built in, I think it's a spectacular buy.\n",
      "Ok, so I really love this TV.  But I may use it a little differently than others on here.  First off, I don't see any \"motion blur\" and what I think others are talking about is when the smooth motion feature incorrectly compensates for motion and sometimes there is what looks almost like tearing artifacts of the moving subject.  I experienced this on my Vizio TV from a few years ago, I just thought it was a limitation of that technology and never really was upset about it.  I can always turn that off and the issue is gone.  No problem.\n",
      " Now as far as lag goes, I do NOT use this as a monitor but I HAVE used it to game with on my PS3 and in Game mode, I can't notice if there is any lag at all.  Games play fine for me, and I play some FPS so I need to be quick.  If there is any lag in this mode, I don't notice it at all.\n",
      "The built in apps are great!  Especially that the remote has the 3 ones I use the most right on it as dedicated buttons!  YOUTUBE, NETFLIX, and AMAZON PRIME INSTANT VIDEO.  Now from what I understand, you can get 4K on the Netflix app if you subscribe to their 4K service.  I don't, so I cannot say anything about that.  However the 1080P video looks great.  No complaints at all.  The Youtube app however does NOT seem to be able to play 4K content whatsoever.  There is a settings option in the app to enable video stats and it will show you the data rate, frame rate, and resolution of the video being played.  I have not been able to get any 4K videos to play at anything higher than 1080p.  I think it's a limitation of the app.\n",
      "Amazon Instant video works great.  I don't know if it supports 4K content or not but I hardly use it and when I do it looks great from the 8-10 feet away that I'm watching it.\n",
      "The built in apps seem pretty good aside from the ones I already mentioned.  One of the things I like is that you can go to other websites and stream music or videos from the built in Opera TV browser.  Not all sites work but a surprising amount do, however HD playback via the browser may not be supported.  I couldn't get netflix to play back at anything above 480p with it.\n",
      "Another nice thing about the built in browser is that instead of going to my computer a few rooms away to read some of the forums I frequent, I can just pull it up on the browser and book mark it.  Works great.  The browser app only runs in 1080p, which is the exact resolution I run my person PCs at so no difference there when I'm viewing the sites.\n",
      "Now on to my best and worst things about this TV.  First off, I got this TV for a STEAL at Walmart for $398!!!!!!!!!!!  Yeah, crazy!  Even lower than the BF price!  If it wasn't for that, I probably wouldn't have even heard about this TV although I probably would have still bought it for the $448 price.\n",
      "My favorite thing about this TV is viewing 4K content!!!!  I have an LG G4 and via root I increased the bitrate of the 4K recording capabilities of it and I just LOVE watching them on this TV.  At first what I did was I would copy them to a USB drive, then plug it into the TV, but then I discovered that this TV has a built in DLNA receiver!!!!!!!!!!!  So I just copy the 4K home videos to my PC, enable MEDIA STREAMING on windows and the TV finds the video files and plays them PERFECTLY FINE over my WiFi network from the other side of the house!!!!!!!!!!!!  They look amazing and the only \"problem\" with 4K is that you have to really be up close to the unit to take in all the details!  There is a graph floating around online somewhere showing the ratio of TV size to resolution, to distance you need to be to it in order to really see all of the details.  I will see if I can't add it to this review.  But basically if you're sitting 10 feet away there is no way you can see all the 4K detail.  I literally have to be about 2 feet or less in front of it for me to take in all the detail when playing a 4K video that I recorded using my phone!!!!  It looks ASTOUNDING!!!!!!!!!!!  Furthermore there are some Youtube downloading apps that allow you to download actual 4K videos from Youtube to your PC, and I've done this and placed them on my PC and watched them the same way on the TV and they look wonderful also!!!\n",
      "The sound on this thing is really really nice.  Surprisingly because most TVs have pretty much flat sound and the mentality is that if you're going to get a TV like this then it's a given that you're also going to get a surround sound set up.  But this isn't the case with this unit.  Changing the sound profiles actually makes quite a bit of difference, I was shocked.  At night I change to the LATE NIGHT profile and it makes it appropriate for watching TV late at night while I have kids sleeping in the other rooms.  Changing the profile to MUSIC or THEATER also makes a good difference and enabling the surround sound options for movies.\n",
      "PANDORA!!!!!!! I LOVE the fact that this has Pandora Internet Radio built into it!!!!  Also one of the features I use a lot is the AUDIO ONLY feature where you can, by selecting AUDIO ONLY, the screen turns off and you only hear the audio.  I often use this at night, I put on some nice music on Pandora, set the sleep timer, and then enable AUDIO ONLY, and the screen turns off while nice music plays and I drift off to dream land.  Very nice.  I also use it during the day sometimes.\n",
      "OK, now on to what I DISLIKE about this TV, or maybe, just LCD's in general.  What I don't like about LCD TV's, regardless of CCFL or LED, is DSE (Dirty Screen Effect).  You can notice this when panning on a light colored background like a sky for example.  This effect is generally not very noticeable except for those scenes and it seems all LCD TVs have this issue, they just differ from one TV to the next, even within the same models of TVs.  Do a little Google'ing and you will see what I mean.  The best way to tell (or ruin your viewing experience) how much of a DSE your unit has, just create a 16:9 AR, or 1920x1080 image, can be JPEG or PNG and make it neutral gray or \"middle gray\".  I created one using the Gimp, RGB values were 128/128/128.  It was a PNG.  I loaded it on a USB stick, opened it on the TV and took a picture of it.  Then I modified the image to increase the contrast and really show it in a way that you wouldn't actually see it in real life, just for clarification.  Now some people will say \"No I don't have this problem\" until they do what I did.  It's an inherent issue with LCD panels.  Some people return TV after TV switch brands and models and in some cases they end up with a TV with WORSE DSE than their original.  When showing the TV off to family and friends I have NEVER had ANYONE notice it or say anything about it.  When I later mentioned it to a family member after showing him the TV for quite some time, he told me I was crazy.  Just goes to show you can't really notice it and probably will NOT notice it if you're not looking.  That's one of the things I really liked about the old DLP tech, they had no DSE, although screen lighting uniformity was dependent on sitting angles so you had your trade offs.\n",
      "All in all I love this TV and am not only impressed with the quality of the picture, but love it even more for the price I paid!  By far my favorite thing to do with this is watch my home 4K videos with it!!!\n",
      "I had never heard of Hisense, but the chance to get a 4K TV of my very own was something I couldn't pass up.  Yes, you'll see I received this for free in exchange for an HONEST review, but the price on this was low enough to make it very tempting regardless.\n",
      "\n",
      "This TV is our secondary TV, installed in our office/guest room.  My main TV is a Samsung Curved UltraHD.  It is NOT a 4K, but it's a 65\" TV that I love.  I would say for watching TV or blu-ray, the Hisense hits about the same level of picture quality.  The curved TV is an exceptional product that to my eyes seemed nearly as good as a more expensive 4K.  So the Hisense seemed comparable.  It was certainly a step up from the 50\" 5 year old Samsung I had in there, but it does NOT exceed my curved TV.  For streaming, such as Netflix or Amazon, it is NOT currently any better either.  There's a brief demo video you can play when you turn on the TV that shows the CAPABILITY of the TV, but I don't really have any true 4K content.  But for this price, it's a great HD TV and a potentially REALLY great 4K experience.\n",
      "\n",
      "It was super easy to set up.  It's pretty much ready to go out of the box.  Lots of HDMI inputs.  Lots of pre-installed apps, including my favorites:  Amazon Video, Netflix and Vudu (where I store all my Ultraviolet movies).  The remote is very user friendly, by the way.  Nice big buttons for things like Netflix and Amazon make it even easier.\n",
      "\n",
      "I have a surround sound system and a central hub for all my audio/video, so I cannot comment on the sound quality of the TV itself...the sound comes through my system.\n",
      "\n",
      "I was also super pleased at how light the TV is.  When we took our older TV (same screen size) off the wall mount, the two of us had to work carefully together to make it happen.  Were it not for the sheer size, I could have easily lifted the Hisense into place by myself.  I know this is not unique to the Hisense AT ALL, but it's still so amazing to me how light TVs are (I'm old enough, of course, to remember half-ton console TVs with tiny black & white screens.  Or my first 25\" color TV in my dorm room that one could barely haul up a staircase!)\n",
      "\n",
      "For the price, if you're ready to make the leap to 4K, I think the Hisense makes a lot of sense.\n",
      "Summary:  overall I like this TV very much and think it was a great price. The only reason I didn't give it 5 stars is a few minor things I don't like about the interface (lack of input selection buttons on the remote, and what I consider a flaw in the power on options).\n",
      "\n",
      "This is my first HDTV, and so far, I really like it! I did a lot of research before buying this TV, and this one met all my criteria:\n",
      "- it fits on my existing TV stand (TV's center base is 18.25\" wide x 6.75\" deep);\n",
      "- it's true HD (1080 p);\n",
      "- it has 3 HDMI inputs plus the integrated Roku (one less separate remote to deal with and one less item to make space for on the TV stand); and\n",
      "- it was a great price (I paid $232 for \"Used - Like New\", which was actually a brand new, unused TV with very slightly damaged packaging).\n",
      "\n",
      "The picture is beautiful, and to my non-audiophile ears, the sound is very good.\n",
      "\n",
      "The set-up was very easy, with clear instructions.\n",
      "\n",
      "There are control buttons (on/off, channel up and down, volume up and down, mute, and input) on the side of the TV, which I consider a plus, even though I don't imagine I'll be using them unless I lose the remote control.\n",
      "\n",
      "The remote control is a Roku remote and is very similar to the remote I had for the Roku 2 I used with my old TV. This Hisense/Roku remote adds a Power On/Off button, and volume up/down and mute buttons. There are no number buttons to go directly to a channel, but as long as I keep cable, I'll have my cable remote for that. However, if I decide to cancel cable and start using an antenna and a streaming service like Sling, I'm a little concerned that I may find it cumbersome to have to go through some interface to change channels. There are 4 pre-programmed buttons on the Hisense/Roku remote:  Netflix and Amazon (both of which I'll use a lot), and Rdio and Vudu (neither of which I currently have any use for). It would be nice if there were either an option to program these buttons yourself, or pre-programmed input buttons to go directly to a specific HDMI input (in my case Cable Box and DVD Player), instead of having to go through the Home screen first.\n",
      "\n",
      "If you don't want the TV to always power on to the Home screen, you can go to Settings/System/Power/Power on and choose where you would like it to turn on to: \"Home screen\", \"Last used TV input\", or your specific HDMI inputs (in my case, \"Cable box\" or \"DVD player\"). I have mine set to \"Last used TV input\", but unfortunately, this doesn't work like I would like it to. It apparently only considers things plugged into an HDMI as true \"inputs\". If the last thing you were watching was on Netflix or Amazon or something else directly through the Roku TV, that doesn't count as the last used input; the TV will instead power on to whatever HDMI-run device you were using before you started streaming something through the Roku. I would say I watch cable about 45%, stream from the Roku about 50%, and watch DVDs about 5% of the time, so for me the TV powers on to the cable box about 95% of the time (whether I was last watching cable or streaming through the Roku). From an engineering standpoint, I guess I understand why \"Last used TV input\" works this way, but it's just not how I want it to work, so I'll have to decide if I prefer that or would just rather have to go through the Home screen every time I turn on the TV.\n",
      "\n",
      "Aside from these minor input issues (on the remote and in the power on options), I think this is a very good TV at an excellent price.\n",
      "Got it on sale for $278. For a 48\" 1080p screen, that really can't be beat.\n",
      "\n",
      "This is a secondary TV for the bedroom, replacing an old 32\" Vizio. It arrived in one day, despite two day shipping...which almost never happens, so kudos. Double boxed, with very thick-solid cardboard and big staples/tape. Very secure. I had actually purchased another TV (different brand and retailer) during black friday, and had to return it, as it was shipped in much flimsier box and arrived completely shattered. This one arrived in perfect condition, without so much as a tiny rip or tear in the box.\n",
      "\n",
      "Comes with a remote, batteries, two feet, the display, and the power cord. You'll need a phillips screwdriver to attach the feet, and if you're going to wall mount, you'll need M6 screws. My Vizio used M4, and it hadn't occurred to me that I'd need a different size for the HiSense, but a quick drive out to the hardware store solved that.\n",
      "\n",
      "Some things to note:\n",
      "\n",
      "1) You can toggle whether the TV starts up to the Roku Home Screen, or starts up directly to one of your input ports. This is great, since I had no intention of actually using Roku.\n",
      "\n",
      "2) That said, I did try out a few Roku apps, just because I wanted to see if there was any benefit of using the built in Roku service over using the Xbox that I had connected to the old Vizio. Generally, the apps were a little on the slow side compared to their counterparts when I used them through the Xbox. They also spent a very brief time buffering at the start of content (ie: in Netflix), whereas there was none of that via my Xbox (I have 300 Mbps internet, as a reference). One thing I didn't test was to see if apps like Netflix auto skip credits/opening montages like they do on Xbox/Video game consoles (which was the primary reason I fell into the habit of using video game consoles as media centers, vs just using a few Chromecasts).\n",
      "\n",
      "3) My bedroom setup is an Xbox hooked up to this TV, the Xbox Smartglass app on my tablet next to my bed, and an IR blaster from my Xbox to my tv in the form of a Kinect, with the Xbox set up to be able to control the TV power on/off/volume/etc. The Xbox automatically set itself up with the right remote code without requiring a manual entry. Plus, this lets me use my voice for control as well.\n",
      "\n",
      "4) I don't know what constitutes a long or fast startup for TVs, but it doesn't seem especially long or fast. It does seem slightly faster booting directly to an input (ie: my Xbox), rather than the Roku Home Screen, and it's at least as fast-if not faster-than my old 32 inch Vizio.\n",
      "\n",
      "5) The image is fine. And, compared to the old 32 inch Vizio, it's bloody fantastic.\n",
      "\n",
      "6) You do have to modify image/sound/etc settings for each individual input. It's not a global setting. And, while you can see many settings while on an input, to see all settings, you need to go back to the Roku Home Screen. That said, this isn't really an inconvenience, as virtually everything they don't include in the input specific settings is the type of thing you'll setup once and never touch again. I thought it quite smart to separate the settings this way.\n",
      "\n",
      "7) I started with the calibrated settings that were used in the only 2016 \"professional\" review found on Google, and was fairly happy with them:\n",
      "\n",
      "Picture Mode: Movie\n",
      "ColorTemp: Warm\n",
      "BackLight: 83\n",
      "Brightness: 48\n",
      "Color: 49\n",
      "Contrast 45\n",
      "\n",
      "All other values unchanged. There is a second \"Brightness\" option outside of the picture settings, and I change that based on whether I have lights on or off or dimmed in the room.\n",
      "\n",
      "8) The built in speakers are like pretty much every built-in speaker for any TV I've ever owned. I use a soundbar, so that's that.\n",
      "\n",
      "9) The black level is pretty good, especially considering the price. As well as the contrast.\n",
      "\n",
      "10) It has an optional screensaver (though no way to set a photo library as the screensaver that I can see; you can manually show photos, however). It has a UI theme for the Roku Home Screen and a theme store (which I largely ignore). And, it has various power saving features that are fairly standard, such as wait time 'till power off, etc.\n",
      "\n",
      "11) While I use my Xbox Smartglass app as my remote, my living room's cable box remote, and my living room's Vizio's remote, and my old Vizio's remote all worked on this tv. So, nothing weird about the remote codes the tv is using.\n",
      "\n",
      "12) In terms of actual use, I do everything through the Xbox, mainly using Netflix, Plex, and Amazon Video.\n",
      "\n",
      "Overall, it's a fantastic value at the sale price, and even at the regular price of $319, it's still a fantastic value in my opinion. There may be some merit in a 4k tv these days, but if your usage doesn't require a 4k display, this is a great buy. Its competition in the budget HD space, imo, is the TCL and Vizio D series HD lines, and I compared the three online before pulling the trigger on the HiSense. The reason for this long review is because there's very little available in terms of info on the HiSense (most things on Google concern it's popular H8 series 4k line), while lots available about the TCL and Vizio D series.\n",
      "\n",
      "Hopefully, this wall of text helps to balance that out. :)\n",
      "Amazing is what I first said when the TV started showing some 4K content! This TV really is awesome and the sound is just as sweet. I have to admit I bought a Spectre 50\" 4K Ultra a few days ago from Amazon. And while that TV is nice, this Hisense TV is just better overall. From the image to the sound. I watched Tim Burton's \"Twas A Nightmare Before Xmas\". These speakers on this TV are very powerful even for being 10 watts each! Obviously this TV doesn't need a sound bar with a 100 watts of anything! Maybe I will buy the Spectre TV a sound bar or tower instead. I am so happy I bought this TV and the price was a steal! Plus you get a extra 2 years extended warranty on top of the 2 years provided. So 4 years warranty for free on this $500 4K Ultra, one of my best purchases in 2015! Update: I love the visuals of this TV so much I bought a second Hisense 50\" 4K Ultra TV 2 weeks later! I will try to describe visually why I love this model from Hisense. I am a 53 years old male, and in those 53 years of age. I have watched the 3 stooges probably since I was 8 years old, making that 45 years of viewing. In those 45 years I have owned many televisions that give great images and smooth frames. But this is the first time that watching the 3 stooges makes it look like the stooges are in a studio recording. I know this is what happens in real life. But no TV before this one ever showed me how real the 3 Stooges really looks! I am truly in love with this TV which is why I didn't mind buying a second TV for viewing. This truly is a fantastic purchase at a super low price! Update 2 weeks of owning this smart TV. While overall the experience is a positive one owning this beautiful TV. There is a area in particular I wasn't expecting to have issues with. The apps on the TV are fine for what they are worth. But there is no way to add Hulu. Also while viewing Youtube, while you can fast forward or rewind if you want to skip to a certain segment of your show. If you try to rewind 3 times or more. The app for Youtube will freeze and you will need to switch to another show or use the home button. Needless to say you will lose your program and what you were watching. Not the end of the world but it seems the smart TV processor can't do too much at one time. And one more negative note for this TV while it isn't major. To some this could be a deal breaker on buying this TV. This 50\" Hisense TV has no VGA connector. So I can't connect my graphics card on my computer to this TV. That is a bummer for me really. But I bought this TV to watch movies and hook up my game consoles. So I cannot honestly reduce the star count. I will have to use my 35\" TV monitor instead for my computer.\n",
      "I revised my original review with the following on 1/06/2015.\n",
      "\n",
      "Prior to black Friday, I owned an old CRT, a newer flat screen CRT and a plasma TV. What I read about LED TVs over two weeks prior to Black Friday is all I know. So my review is as a lay person. The comparisons are with my plasma or various LEDs to each other. I watched ESPNHD to evaluate all these.\n",
      "\n",
      "Walmart had several Tvs on black Friday prices, all being unknown brands with no online reviews available at that time. So, I bought 6 of them with the intention of returning the ones I don't like. Here is what I bought and reviewed:\n",
      "\n",
      "*** Hisense U55H7B, 4K/120HZ with \"Ultra smooth motion rate\" of 480. Bought it for $448. I am assuming that means a native refresh rate of 120Hz and a fake one of 480. Easy to set up except for couple of minor issues. The remote codes Hisense has given in the instruction materials and on line did not work with Time Warner. After long time of hit and try, the Time Warner technician found the code that worked 386. Picture: is very good. The picture is nice and bright at all settings except the \"energy saver\" which is darker. Nice contrast. I liked the brighter picture with better contrasts at non-energy saver, so I left it at that setting. With 4K content, the picture is very clear, I can see the fine hair and fine wrinkles on a person's face. Some of the Utube 4K videos are gorgeous. However while watching normal 1080P HD content, it is not the same but still very good. On ESPN, when camera changes view quickly from close up to far objects/people the screen sometimes becomes pixilated/ snowy and faces become out of focus, unlike my plasma TV. I am not sure if that is the problem with the source or function of the TV. Motion does not leave any trails but sometimes blurs the image some. I believe this may be the result of \"4K upscaling\". I did not find a way to turn off/on upscaling and I assume that it is always on, although you have control on ultra smooth motion which can be off/low/medium/high. Sound: is excellent, better than all my existing TVs. I don't feel the need of adding sound bar. There are several settings for sound and an equalizer. I did hook up a soundbar, Vizio model SB2920X (does not have a subwhoofer). I found that the native sound of TV is better than the sound bar. Built in internet: It was easy to set up. Had hard time figuring out how to go from wired to wireless settings. It comes with 4 years parts and in-house labor warranty. Customer service: poor. I called them twice. Both times I was disconnected after more than 30 minutes music hold.\n",
      "\n",
      "NOW THE BAD about this TV: After using it for two months, I see two major problems. While watching videos (Youtube and netflix), sometimes the TV restarts randomly. Second problem: the videos freeze frequently. If the Tv is turned off and restarted and same video played again, the freezing stops for a while but then returns. These two problems are very annoying resulting in my 3* rating.\n",
      "\n",
      "***** Hisense 40H3E, 1080P/60Hz. for $149. Similar to 55\" above, excellent picture & sound. No internet but it is supposed to be MHL ready. I was surprised that this 60Hz had as good or better picture than the above 4K. No snow/pixilation. No motion blur. Only 1 year warranty on this one.\n",
      "\n",
      "* Element ELEFW505: 1080P/60Hz, $269: Picture is rather dark. Even the day time scenes look like they were shot as night. The faces even in close up appear to be like in a panting or air brushed or out of focus, flat, no detail. If  in a close up scene two persons are standing side by side but one slightly behind the other, the behind person is out of focus. I am sure it is not the camera but it is the TV processing of the image. I did not like it at all. So packed it back. No built in connectivity.\n",
      "\n",
      "***** Sceptre U550CV-UMC 4K/ MEMC 120 (my screen is reading it as 60Hz when setting is ON for MEMC), I assume native refresh is 60Hz. for $399, available on line only: Picture: excellent. Gives you option of various settings. Contrast and backlight are good in all except \"mild\" setting. The people are clear. No motion blur or trails. No snow or pixilation. The settings give the choice of turning MEMC on/off. While watching ESPN football, I did not see any difference between MEMC on or off. I would rate the picture to be even at par with Hisense above. Sound: Good. Not as good  as on Hisense. Changing the sound is indicated on the screen only with a speaker icon with a number next to it without the usual volume bar seen on most tvs. You are able to set different modes of sound and have equilizer settings. No built in internet.\n",
      "\n",
      "**** TCL.ROKU 55FS3750  1080/120Hz, $349:  Set up: you must sign up with ROKU before you can proceed any further in \"activating\" the TV. If you don't sign up, you cannot use TV for even cable that you already have. The instructions said you must give credit card info at sign up but I did not select any services that are not free so it did not ask for credit card. I already have cable and Netflix subscription. Picture: Good. Good contrast. I watched same 4K movie on Hisense 4K and on this TV. The picture appeared similar. Sound is good and can be set at various types but no individual equalizer control. Built in ROKU internet access. BAD: You have to use both remotes for many of the functions.\n",
      "Update 10/28\n",
      "\n",
      "I feel as though I should update this review, having had the TV for a couple of weeks.\n",
      "\n",
      "To say my opinions have changed would be an understatement. This TV has a great upscaling engine, I stand by that from my previous post. Watching 1080p content looks great, action is smooth, and there is no motion blur. My gripe comes with the QC and 4k performance.\n",
      "\n",
      "Firstly, the HDR is not really there - it's not up to standard and essentially nothing will run on it. While I didn't notice any color or saturation lacking on this TV, it's nice to know that what you're buying is actually there, even if a limited amount of material can take advantage of it at this time.\n",
      "\n",
      "4K content - this is where things really started to sour for me. As I stated in my earlier review, the in-app stuff built into the TV never really worked (sync issues), which didn't bother me as I had the new 4k HDR Roku on order. Well, it arrived, and I excitedly hooked everything up. Immediately I went to settings to change the output to 4k HDR - received a message saying HDR is not supported. Okay then. Regular 4K it is. I fired up Netflix and threw up some 4K show. The credits looked great, but once there were some fast motion scenes the frustration really began. The TV continuously dropped frames, a lot of them, and had some odd 'blinking' every 30 or 40 seconds. The picture would cut out and judder so often that it became abundantly clear this wasn't going to last. My first thought was \"maybe it's my receiver...\" So I plugged it directly into the HDMI 2.0 ports on the back - same result. Just for fun, I decided to go back to the built in Netflix app and load up the same show. Sure enough, the issue occurred there as well. Frame rate drop, juddering, and blinking, constantly.\n",
      "\n",
      "Needless to say, this one is going back. Props to Amazon as usual for their amazing customer service, and literally no questions ask refund policy. I'll be taking the money and spending a little more cash up front when my refund is posted - something I should have done from the start to avoid all the headache of returning a 5'x3' box. Live and learn I suppose.\n",
      "\n",
      "I advise you to spend a little extra money and pick up something a little more established, even something like a 6300 series Samsung. I promise it will be worth it.\n",
      "\n",
      "__________________________________________________________________________________________________\n",
      "\n",
      "I ordered this TV last Saturday (10/8) and had it delivered yesterday. Here are my initial thoughts.\n",
      "\n",
      "First, I'd like to touch on delivery. I've read a lot of very lousy things about XPO, which Amazon will use to ship this item (at least the 65\" version that I bought - smaller sets might be different). I set up delivery for the hours of 6-9AM, knowing I would be exited to unbox this thing and get it setup in time for the Colorado Avalanche season opener. On Friday (10/14) evening, I received an automated call to confirm my delivery slot the following morning. At about 6:15AM the following day, I got a call from Rick who said they'd be by in 15-20 minutes. Much to my surprise, delivery was smooth, the two guys brought the TV in my house, offered to unbox and remove the packaging (I declined). It was about as painless and smooth as can be. I have no doubt that XPO Logistics lackluster ratings are deserved - but I experienced no problems and everything was in its right place.\n",
      "\n",
      "Now, to the TV. I'm not a huge TV person, but I am a big computer (and monitor!) guy. This picture isn't going to compete with an LG OLED. The $2500 difference in price does compete, and that in the end won out for me. I live a comfortable life, but I'm not yet prepared to spend $3000 on a TV... Maybe later in life.\n",
      "\n",
      "With that in mind, I think the value to price hits a nice sweet spot with this set. The picture is clear, lacks any describable motion blur, and even with the 120hz activated, has little soap opera effect. One of my biggest problems with LED TVs (having used plasma for many years) was motion blur. It's very apparent to me in many sets, and something I was worried about with this one. Luckily, I don't see any to note here.\n",
      "\n",
      "The set displays color quite nicely. As with any TV, the settings need to be adjusted to user taste - this one came from factory setup quite neutral, and the display looked to be a bit washed-out the first time I fired it up. With a few tweaks, I was left with a nice tonal balance, pretty solid blacks (something that's hard to achieve with backlit LEDs), and contrast that was more than acceptable for the normal user. Again, this is not an OLED TV, it's not going to blow your mind. 4K content with HDR enabled looks very respectable, a noticeable improvement over 1080p content without a doubt. That said, this set has a fantastic up-conversion engine, and makes regular 1080p content pop and come to life much more than my previous 8500u Samsung LED television. I am seriously impressed with its ability to upscale. It's clean, colorful, and prominent. It doesn't get in the way of itself - it just works.\n",
      "\n",
      "One potentially major flaw is quite apparent if you're using a theatre system. The build in applications will not sync correctly with my audio setup. All audio is delayed by about .25-.50 seconds. There are lipsync and delay settings on the TV in settings (as well as on my Yamaha receiver), but these act only to further the delay - there are no 'negative' delay settings. I can't get around the fact that no application syncs up correctly. All other inputs are perfect right out of the box, so this isn't a deal breaker for me. I have a Roku Premiere+ on the way so all of my 4K streaming is taken care of there, but it is a bit of an annoyance knowing in the back of my mind that the convenience of the built in applications do not work as intended. The apps sync just fine when using audio through the TV, and I'm sure this varies with other setups. Just a word of caution here - I am not the first to experience this problem.\n",
      "\n",
      "Other than that minor (for me) hiccup, this has been a solid purchase that I'm very pleased with. For the money, it's hard to pick fault with much here. Color me pleased.\n",
      "<div id=\"video-block-R1OU0WMWEMK5AY\" class=\"a-section a-spacing-small a-spacing-top-mini video-block\"></div><input type=\"hidden\" name=\"\" value=\"https://images-na.ssl-images-amazon.com/images/I/C1e45A4s1wS.mp4\" class=\"video-url\"><input type=\"hidden\" name=\"\" value=\"https://images-na.ssl-images-amazon.com/images/I/814c7dOf0jS.png\" class=\"video-slate-img-url\">&nbsp;I decided to revise my review in detail, to better inform others about this tv as I feel for the price it is one of the best products out this year! Upon shipping arrival, the tv is neatly packaged. In the box, you have the tv, instruction manual, remote with batteries, and warranty card. You get peg legs for the tv to stand. The back is also vesa compatible in case you would like to use a stand or wall mount. When first turning on the tv, you will go through a setup screen. It will give you options on setting up network through wired or wifi. After that, the tv will download a firmware update before getting started. There has only been one update released for this set so far. Once connected to the network, make sure to register for the 4 year warrant which the information code is stored on the warranty card that came in the package.\n",
      "\n",
      "When that is done, you can now use your tv! The back of the unit has 2 4k@60fps hdmi ports which is where you would want to hook up your ps4 or xbox one (S version if you have it.) or an ultra blu ray player. I recommend getting a couple of amazon basics hdmi cables that are the latest standard if you have a ps4 and a regular xbox one not the s, as the regular ps4 does support HDR through update 4.0, and the xbox one does has a higher degree of color once you activate it in the settings. You also have the components outputs in the back along with an optical port. On the side, you have a usb 3.0 port for use with pictures from a usb drive. This tv supports HDR10 so if you have images from a DSLR camera, you can view them. Also on the side, you have 2 4k@30fps hdmi ports. This is good for ps3 or xbox 360 if you are a gamer, or any other hdmi enabled device.\n",
      "\n",
      "There also a line in port for 3.5mm cables which outputs audio through an RCA splitter. 2 usb 2.0 ports and a regular coaxial port for cable. On both sides in the back, you will notice the speaker grills. These speakers provide great sound and are pretty loud. Compared to other tv's this size, these are the loudest and one of the best as the speakers don't sound cheap or does not sound distorted or crackly. The picture itself is awesome! On default settings, you may or may not want to adjust the picture. By pressing the cog button on the remote, you bring up the settings quick menu on the side. You press the right cursor to bring up the full menu. First options is picture where you adjust the picture mode. If you select picture mode, you have a few options. Vivid, standard, theater, energy saving, game, and sport. Below that you have brightness, contrast, color, aspect ratio which has, normal zoom, wide, and cinema. Below that you have backlight, advanced picture settings where you can adjust ultra smooth motion, noise reduction, adaptive contrast, and white balance.\n",
      "\n",
      "Its good to play around with these settings to see which is best for you. Also a plus, every port setting has their own setting. So you can swtich from tv, to game and the settings change for that port. No need to re-adjust every time. The tv has built in apps as well. Netflix with ultra hd if you have the premium subscription, youtube with uhd, amazon video, and vimeo are standard. Opera os is built in which includes a web browser, and an app store to download more channel widgets. Standouts are, TED talks, and gamespot. There are also many more channels available with unique features for everyone. Hulu is absent which would have been a big plus but does not take away from this tv. When switching ports, you can also edit the name to know what device is connect to what.\n",
      "\n",
      "While the tv has 4 hdmi ports, you can get a splitter and hook up more devices. I have a splitter with my xbox and pc connected into the same port. Anywhere cast is also a nice feature on the tv. You can stream audio, and video along with pictures to the display by a wifi network. I do not use this feature much but it is a good addition. There is some lag present when navigating the menus which I thought it was a little annoying. It also happens when raising and lowering the volume but I was not to worried about it. Overall, this is the best tv I have ever bought. 4K with HDR, apps, and good speakers and amazing picture, this is one of the best products to come out this year and you will not be let down. $499 is a great price for this and that is money well spent.\n",
      "\n",
      "As of today, (10/25/16) Hisense released a new firmware update for the tv which improve picture quality. In the setting menu got to about tv, and choose check firmware upgrade and select it. The tv will then download and install the update.\n",
      "I bought the 55H8C during the holiday season deals.  Great TV for the price.  Probably one of the best entry level 4K HDR TV's if not the best.  Here are a few tips to get the most out of the TV.  First and foremost make sure you update the firmware.  It's a must.  Also, make sure you properly calibrate the picture.  It's also a must.  I recommend searching the TV and going to the Rtings.com website review of the TV  where they have calibrated the TV in detail.  I would go with their settings 1st, and then tweak to your own eyes if necessary.  The USB port supports 4K HDR.  Utilize USB 3.0 devices to play content.  HDMI 3 and 4 ports support 4K HDR.  The others do not.  I recommend using HDMI 2.0 cables.  Once these things are done, watching 4K content via Netflix, 4K blue ray ect will impress you on this TV for the price.  Is it the best 4K HDR picture?  No it is not, but it is good..  You will notice the difference.  The sound on this TV once calibrated is pretty good as well.  I love late night mode for sound.  It levels everything so sound effects are still good, but you can hear what people are saying extremely clearly and the sound does not fluctuate annoyingly in volume.  The screen has a 10bit board, not an 8 bit.  That results in a more color/detail-rich picture.  Again, 10 bit for this price range is a great deal.  No need to use the motion blur (Ultra Smooth Motion System is what Hisense calls it) settings on this TV, it actually hurts the picture quality in my opinion.  It's annoying and definitely needs to be off for gaming.  I didn't like it for sports either.  Makes movement unnatural.  It is a good TV for gaming.  Not the best but satisfactory.  Make sure you are in game mode and update the settings on the TV to the highest resolution settings aka HDR.  Games on my Playstation Pro, especially the games updated to 4K look amazing.  This TV's upscale engine/system for 720p/1080i/1080p works well.  Noise reduction system (picture enhancment system) off, it harms the picture.  I actually liked the Adaptive contrast system on this TV, on the low setting.  Enhances blacks and brightens colors to aid in picture quality.  The medium and especially the high settings start to darken the picture too much for me.  Again, to your taste.  To utilize all this TV's ability to display 4K/HDR, you must have the backlighting set at 100.  If it's too bright for you personally, go down from there but that is where the picture is it's strongest.  With that said, to personal taste because I like my picture bright and clear so 100 works for me.  After sampling TV shows, movies, sports, gaming I prefer a cool color temperature setting for this TV.  Standard is second, warm is too yellow/orange/red for me.  I don't like the eco sensor on, or the local dimming.  It causes the picture to be inconsistent and almost flickery.  It's noticeable and not good.  Sorry for the long review but there seems to be a lot of confusion on this TV's abilities and some frustration because people are not educated/aware on how to get the best from this TV.  If you set it up right, I highly doubt you will be disappointed considering the cost of the TV.  Also, the 4yr warranty is easy to setup via the TV and having the TV connected to the internet.  It takes litterally like 2 minutes to complete the registration for the TV warranty.\n",
      "Prior to black Friday, I owned an old CRT, a newer flat screen CRT and a plasma TV. What I read about LED TVs over two weeks prior to Black Friday is all I know. So my review is as a lay person. The comparisons are with my plasma or various LEDs to each other. I watched ESPNHD to evaluate all these.\n",
      "\n",
      "Walmart had several Tvs on black Friday prices, all being unknown brands with no online reviews available at that time. So, I bought 6 of them with the intention of returning the ones I don't like. Here is what I bought and reviewed:\n",
      "\n",
      "***** Hisense U55H7B, 4K/120HZ with \"Ultra smooth motion rate\" of 480. Bought it for $448. I am assuming that means a native refresh rate of 120Hz and a fake one of 480. Easy to set up except for couple of minor issues. The remote codes Hisense has given in the instruction materials and on line did not work with Time Warner. After long time of hit and try, the Time Warner technician found the code that worked 386. Picture: is very good. The picture is nice and bright at all settings except the \"energy saver\" which is darker. Nice contrast. I liked the brighter picture with better contrasts at non-energy saver, so I left it at that setting. With 4K content, the picture is very clear, I can see the fine hair and fine wrinkles on a person's face. Some of the Utube 4K videos are gorgeous. However while watching normal 1080P HD content, it is not the same but still very good. On ESPN, when camera changes view quickly from close up to far objects/people the screen sometimes becomes pixilated/ snowy and faces become out of focus, unlike my plasma TV. I am not sure if that is the problem with the source or function of the TV. Motion does not leave any trails but sometimes blurs the image some. I believe this may be the result of \"4K upscaling\". I did not find a way to turn off/on upscaling and I assume that it is always on, although you have control on ultra smooth motion which can be off/low/medium/high. Sound: is excellent, better than all my existing TVs. I don't feel the need of adding sound bar. There are several settings for sound and an equalizer. I did hook up a soundbar, Vizio model SB2920X (does not have a subwhoofer). I found that the native sound of TV is better than the sound bar. Built in internet: It was easy to set up. Had hard time figuring out how to go from wired to wireless settings. It comes with 4 years parts and in-house labor warranty. Customer service: poor. I called them twice. Both times I was disconnected after more than 30 minutes music hold.\n",
      "\n",
      "***** Hisense 40H3E, 1080P/60Hz. for $149. Similar to 55\" above, excellent picture & sound. No internet but it is supposed to be MHL ready. I was surprised that this 60Hz had as good or better picture than the above 4K. No snow/pixilation. No motion blur. Only 1 year warranty on this one.\n",
      "\n",
      "* Element ELEFW505: 1080P/60Hz, $269: Picture is rather dark. Even the day time scenes look like they were shot as night. The faces even in close up appear to be like in a panting or air brushed or out of focus, flat, no detail. If  in a close up scene two persons are standing side by side but one slightly behind the other, the behind person is out of focus. I am sure it is not the camera but it is the TV processing of the image. I did not like it at all. So packed it back. No built in connectivity.\n",
      "\n",
      "***** Sceptre U550CV-UMC 4K/ MEMC 120 (my screen is reading it as 60Hz when setting is ON for MEMC), I assume native refresh is 60Hz. for $399, available on line only: Picture: excellent. Gives you option of various settings. Contrast and backlight are good in all except \"mild\" setting. The people are clear. No motion blur or trails. No snow or pixilation. The settings give the choice of turning MEMC on/off. While watching ESPN football, I did not see any difference between MEMC on or off. I would rate the picture to be even at par with Hisense above. Sound: Good. Not as good  as on Hisense. Changing the sound is indicated on the screen only with a speaker icon with a number next to it without the usual volume bar seen on most tvs. You are able to set different modes of sound and have equilizer settings. No built in internet.\n",
      "\n",
      "**** TCL.ROKU 55FS3750  1080/120Hz, $349:  Set up: you must sign up with ROKU before you can proceed any further in \"activating\" the TV. If you don't sign up, you cannot use TV for even cable that you already have. The instructions said you must give credit card info at sign up but I did not select any services that are not free so it did not ask for credit card. I already have cable and Netflix subscription. Picture: Good. Good contrast. I watched same 4K movie on Hisense 4K and on this TV. The picture appeared similar. Sound is good and can be set at various types but no individual equalizer control. Built in ROKU internet access.\n",
      "Update 10/23/2016:\n",
      "\n",
      "Below is the review of the TV, and at the time I was playing and testing the TV the Hisense H8C did not display HDR even though it was marketed as an HDR TV. Since then they've released an HDR firmware update that now brings the H8C into the HDR world with HDR10 support. It's worth noting that the picture quality didn't change much with HDR, and that's because this is an LED TV and not one of the newer Quantum Dot displays that have a Wide Color Gamut support. Those TVs are the ones that really shine with HDR. So when you are looking at budget friendly TVs, keep in mind that even though these models will say HDR that there isn't going to be a dramatic difference. However, since the update I needed to correct my review as below I list it as a non-HDR TV.\n",
      "\n",
      "The Hisense H8C is a budget TV, which normally budget TVs mean you sacrifice a lot of features if not picture quality to make up for the low price.\n",
      "I was very surprised to see that not only did this TV have a good picture, but also had some features that even a high end TV has like Local Dimming.\n",
      "I'm not saying this TV is the best thing, there are some faults it has which I'll list below but for a budget 4K TV this is a good pick.\n",
      "\n",
      "The H8C has a pretty good picture quality, the upscaling is great, black levels a good and the contrast is also better than other 4K TVs at this price point. The H8C features a full array LED and with local dimming really does help make the picture so much better than other budget TVs in the same price range. The local dimming is a high end feature, however it has a very small amount of zones so don't expect very deep black levels. However, it's better than not having any local dimming at all so I can't exactly fault it because it is a budget TV. That brings me to another fault, this one is a little bigger issue and for those who have a large viewing area may want to think before pulling a trigger on this TV.\n",
      "The H8C's picture degrades very fast the more you go off to the side, and while this is an issue for a lot of LEDs this one is very noticeable and has very limited viewing areas. So if you have a large room, and have people that sit on multiple areas in the room they may not like the picture as much as the people sitting directly in front of the TV.\n",
      "The upscaling in this TV is very good, and far exceeds Vizio's upscaling abilities. Vizio's 2016 4K TVs across the board share the same 4K upscaling abilities and anything below 1080p looks terrible. The H8C is as good as Samsung and LG's upscaling abilities.\n",
      "\n",
      "This TV at the moment doesn't support HDR, it's possible that a future update can fix this as Samsung's entry level 4K TVs claim to support HDR, but since they don't support Wide Color Gamut and made with a Quantum Dot Display, you won't notice a difference between HDR and Standard 4K content. Those looking for a budget 4K TV also shouldn't expect full HDR support anyways.\n",
      "\n",
      "The H8C features the Opera TV platform. It is very easy to use, the apps are big, clearly displayed and allows downloading of apps from the Opera TV Store. It feels quite responsive, but does occasionally have issues with browsing menus which requires a TV restart to fix. It is not as stable as some of the other platforms such as Android TV or LG's WebOS. This can be easily fixed by using something else to stream from, like the Xbox One S, PS4 Pro, Samsung 4K Blu Ray Player or Roku 4. Any of these add ons will solve the loading issues, as well as stream 4K.\n",
      "I would personally go for the Xbox One S or the Samsung 4K Blu Ray Player so you can watch 4K Blu Rays.\n",
      "\n",
      "The TV handling with fast moving objects is good, it's a 60hz panel so don't expect the smoothest of pictures but it's much better than Samsung's K6250 model which is supposedly their \"best\" 2016 1080p.\n",
      "There is another thing that needs to be said as well, and this is a feature that no one ever seems to look at when buying a TV and that's Judder-Free 24p support. Movies play a certain frame rates, Blu Rays and DVD's play at 24fps, streaming movies like from Netflix play at 60p and movies from cable are 60i. This has been a thing that has always been over looked with most people, and that is does that TV support these frame rates. Samsung's 2016 models K6250 all the way through KU7500 doesn't support ANY of these frame rates. This means that regardless of what's playing, there will be a slight judder. It's mostly noticeable with slow panning shots, and to be honest most people don't notice it all. This is one of the reasons why Motion Interpolation is included with LED's and that's because with that Soap Opera Effect on, it hides the judder so they could cut corners with internal features. Samsung isn't the only brand that does this, Sony, LG, Vizio and many more do the same thing, and it's annoying and a trend that's slowly starting to change.\n",
      "The H8C doesn't support any of these signals, which for a budget TV I expected as much. This is why the motion interpolation is added to this TV to help smooth out this judder. You can turn it off if you don't like it, but I would recommend playing with the settings and finding a middle ground where it's on but not to high that it looks like a Soap Opera.\n",
      "Lucky for me, I am one of those people who don't notice this effect.\n",
      "For those on a budget, this TV is a good one and has some pretty good features as well.\n",
      "\n",
      "The Samsung KU6300 is the next level up in price, and provides very similar picture quality. When viewed at an angle this picture quality degrades slower than the Hisense H8C so the KU6300 would be a little better for larger areas. It has slightly more motion blur. Those looking to use the TV as a PC monitor are better off with the Samsung KU6300 due to the lower input lag and clearer text. For anyone else, it's better to save the money and buy the Hisense H8C.\n",
      "\n",
      "The LG UH6100 is a bit more expensive, and has worse picture quality. This is thanks to LG choosing to use a less accurate pixel structure, which makes the 4K picture look off and may be an issue for those using the TV as a PC monitor. For those with wider seating, it does retain the image quality much better at an angle.  If you watch TV from an angle in a bright room then go with the LG UH6100, otherwise the Hisense H8C provides better picture quality at a better price.\n",
      "My expectations were low from the price of the prime day deal, the lack of reviews, and the lack of online documentation for this TV model.  Of course, also knowing the display was only 720p I did not expect to be so happy with this TV.\n",
      "\n",
      "Pros:\n",
      "1 - Supports HDMI CEC.  The included TV remote can control the Fire TV stick and other HDMI CEC devices without the need for other remotes.  Note: it must be turned on in the TV settings.  It is not on by default.\n",
      "2 - Live TV channel surfing is fast.  Push and hold a channel button to quickly surf between channels.  Most \"dumb\" TVs cannot do this very quickly.\n",
      "3 - Volume, though very tinny goes quite loud and the sound profiles are highly customizable\n",
      "4 - Plenty of inputs for a 32 inch TV.  Though documentation is sparse the tv actually has three HDMI ports (one that supports MHL), an optical port, and analog video ports.\n",
      "5 - Setup is fast.  Just attach two legs and power it up.\n",
      "\n",
      "Cons:\n",
      "For the price this TV was sold for recently, it's hard to be picky.  But for fairness, there are a few.\n",
      "1 - Not full HD\n",
      "2 - Colors aren't as vivid as a more expensive TV, and the picture is grainy.  Even tweaking and customizing, it will not be a good primary household TV.\n",
      "3 - In some video content, there is a faint whining sound when bright colors are on screen.\n",
      "4 - No smart TV functionality (but frankly, most smart TVs suck compared to roku/fire stick type products anyway)\n",
      "5 - Powering on the TV, the screen stays black for about 10 seconds.  It's difficult to know if the remote detected the press of the power button.  This isn't a huge issue once you're used to it.\n",
      "\n",
      "All in all, if you know what you're getting, this makes a fantastic bedroom TV for the price.  In particular, it's great to not have multiple remotes cluttering up a bedroom since the TV supports HDMI CEC.  I cannot imagine why Hisense doesn't highlight this feature on their website or online documentation.  I did not expect a TV in this price range to support MHL and HDMI CEC, especially with it not being a smart TV.  It really makes a difference for a simple, clean setup for a smaller room or bedroom to not have tons of remotes lying around.  It also allows for players to be hidden away out of sight for a lack of clutter.\n",
      "\n",
      "If you really care about quality, buy a better brand or model.  But for the price, this totally met my expectations.  This is coming from someone who primarily watches TV on a more expensive UHD TV.\n",
      "When the Hisense 50H6B 50-Inch Smart LED TV arrived we couldn't wait to get it set up. With my IT husband on hand we quickly removed the older flat screen TV from the wall and had this one up and ready to set up in a few minutes.\n",
      "\n",
      "The full set up was easy and took no time at all. Before I could blink we had the TV on and let me tell you, the picture and sound quality was beyond anything I could have expected. Ive never heard of this brand before so I was going into this product without any idea what it would be like. And Im not at all disappointed!\n",
      "\n",
      "So far, with using it for about a month  give or take theres only been one slight problem and that was right when we first got it set up. We were connecting it to Netflix and we kind of went a bit too fast for the TV to keep up with. The picture froze and there was nothing we could do reset it. Neither the remote nor the actual power button on the unit itself would turn the TV off. The only thing left was to unplug the unit from the wall and that did the trick. Since, we haven't had that problem but weve been cautious of it and have been keeping an eye on things. Should this change Ill be sure to update my review then. We were pushing the TV/App a bit too much because we were so impressed by the speed of the wifi connection, so much faster than any smart TV weve owned. It was a quick as browsing on an iPad/Tablet.\n",
      "\n",
      "As said, the picture is pretty amazing. Its so clear! Id say for the price this TV cant be beat!\n",
      "\n",
      "Oh two things  When the TV was delivered it was just in the box from the manufacture. So keep that in mind if you're ordering for a gift. Itll be given away as soon as it hits your door step. And second the TV itself, being Smart comes with a bunch of apps already installed. Oh one other small plus, we didn't have to go through with setting the cable remote up for this specific TV it worked without any trouble from the get go.\n",
      "\n",
      "This TV was an EPIC WIN for us. So far, so good! And yep, at this point in time Id totally recommend it! Enjoy!\n"
     ]
    }
   ],
   "source": [
    "for review in top_reviews(review_topic_matrix_df, 'topic_0', 15):\n",
    "    print(review)"
   ]
  },
  {
   "cell_type": "code",
   "execution_count": 320,
   "metadata": {},
   "outputs": [],
   "source": [
    "Hisense_df = only_tv_df[only_tv_df['brand'] == 'Hisense']\n",
    "Hisense_df = Hisense_df.reset_index()\n",
    "pos_Hisense_df = Hisense_df[Hisense_df['rating'] == 1].reset_index()"
   ]
  },
  {
   "cell_type": "code",
   "execution_count": 321,
   "metadata": {},
   "outputs": [],
   "source": [
    "pos_corpus = pos_Hisense_df['reviewText']\n",
    "pos_Hisense_review_word_matrix = tfidf_vector.fit_transform(pos_corpus)"
   ]
  },
  {
   "cell_type": "code",
   "execution_count": 322,
   "metadata": {},
   "outputs": [
    {
     "name": "stderr",
     "output_type": "stream",
     "text": [
      "C:\\Users\\brian\\.conda\\envs\\metis\\lib\\site-packages\\sklearn\\decomposition\\_nmf.py:312: FutureWarning: The 'init' value, when 'init=None' and n_components is less than n_samples and n_features, will be changed from 'nndsvd' to 'nndsvda' in 1.1 (renaming of 0.26).\n",
      "  warnings.warn((\"The 'init' value, when 'init=None' and \"\n"
     ]
    },
    {
     "data": {
      "text/plain": [
       "NMF(n_components=5)"
      ]
     },
     "execution_count": 322,
     "metadata": {},
     "output_type": "execute_result"
    }
   ],
   "source": [
    "nmf = NMF(n_components = 5)\n",
    "nmf.fit(pos_Hisense_review_word_matrix)"
   ]
  },
  {
   "cell_type": "code",
   "execution_count": 324,
   "metadata": {},
   "outputs": [
    {
     "name": "stdout",
     "output_type": "stream",
     "text": [
      "\n",
      "Topic  0\n",
      "tv, 4k, use, hisense, like, set, sound, remote, picture, app\n",
      "\n",
      "Topic  1\n",
      "great, tv, price, picture, deal, excellent, buy, sound, bedroom, guest\n",
      "\n",
      "Topic  2\n",
      "love, daughter, tv, deal, wife, ju, college, feature, 5, new\n",
      "\n",
      "Topic  3\n",
      "good, price, picture, quality, far, sound, value, clear, purchase, cheap\n",
      "\n",
      "Topic  4\n",
      "work, perfect, perfectly, great, use, remote, expect, issue, month, need\n"
     ]
    }
   ],
   "source": [
    "vocab = tfidf_vector.get_feature_names()\n",
    "review_topic_matrix = nmf.transform(pos_Hisense_review_word_matrix)\n",
    "review_topic_matrix_df = pd.DataFrame(review_topic_matrix).add_prefix('topic_')\n",
    "review_topic_matrix_df[['reviews', 'token']] = pos_Hisense_df[['reviewText', 'token']]\n",
    "word_topic_matrix_df = pd.DataFrame(nmf.components_, columns=vocab).T.add_prefix('topic_')\n",
    "display_topics(nmf, tfidf_vector.get_feature_names(), 10)"
   ]
  },
  {
   "cell_type": "code",
   "execution_count": 333,
   "metadata": {},
   "outputs": [
    {
     "name": "stderr",
     "output_type": "stream",
     "text": [
      "C:\\Users\\brian\\.conda\\envs\\metis\\lib\\site-packages\\sklearn\\decomposition\\_nmf.py:312: FutureWarning: The 'init' value, when 'init=None' and n_components is less than n_samples and n_features, will be changed from 'nndsvd' to 'nndsvda' in 1.1 (renaming of 0.26).\n",
      "  warnings.warn((\"The 'init' value, when 'init=None' and \"\n"
     ]
    },
    {
     "name": "stdout",
     "output_type": "stream",
     "text": [
      "\n",
      "Topic  0\n",
      "tv, screen, look, 4k, motion, like, video, setting, watch, set\n",
      "\n",
      "Topic  1\n",
      "quality, poor, tv, picture, return, line, vertical, fire, image, pleased\n",
      "\n",
      "Topic  2\n",
      "sound, hisense, month, tv, 3, fix, 4, time, channel, hook\n",
      "\n",
      "Topic  3\n",
      "tv, connect, roku, network, wifi, buy, wireless, use, internet, work\n",
      "\n",
      "Topic  4\n",
      "refund, stop, week, amazon, work, break, s, internally, crack, pay\n"
     ]
    },
    {
     "name": "stderr",
     "output_type": "stream",
     "text": [
      "C:\\Users\\brian\\.conda\\envs\\metis\\lib\\site-packages\\sklearn\\decomposition\\_nmf.py:1090: ConvergenceWarning: Maximum number of iterations 200 reached. Increase it to improve convergence.\n",
      "  warnings.warn(\"Maximum number of iterations %d reached. Increase it to\"\n"
     ]
    }
   ],
   "source": [
    "neg_Hisense_df = Hisense_df[Hisense_df['rating'] == 0].reset_index()\n",
    "neg_corpus = neg_Hisense_df['reviewText']\n",
    "neg_Hisense_review_word_matrix = tfidf_vector.fit_transform(neg_corpus)\n",
    "nmf = NMF(n_components = 5)\n",
    "nmf.fit(neg_Hisense_review_word_matrix)\n",
    "vocab = tfidf_vector.get_feature_names()\n",
    "review_topic_matrix = nmf.transform(neg_Hisense_review_word_matrix)\n",
    "review_topic_matrix_df = pd.DataFrame(review_topic_matrix).add_prefix('topic_')\n",
    "review_topic_matrix_df[['reviews', 'token']] = neg_Hisense_df[['reviewText', 'token']]\n",
    "display_topics(nmf, tfidf_vector.get_feature_names(), 10)"
   ]
  },
  {
   "cell_type": "markdown",
   "metadata": {},
   "source": [
    "## LDA\n",
    "**Hisense Negative**"
   ]
  },
  {
   "cell_type": "code",
   "execution_count": 336,
   "metadata": {},
   "outputs": [],
   "source": [
    "from gensim import corpora, models, similarities, matutils\n",
    "import logging\n",
    "logging.basicConfig(format='%(asctime)s : %(levelname)s : %(message)s', level=logging.INFO)"
   ]
  },
  {
   "cell_type": "code",
   "execution_count": 455,
   "metadata": {},
   "outputs": [],
   "source": [
    "# create bag of words vectorizer object\n",
    "count_vectorizer = CountVectorizer(ngram_range=(1, 2),  \n",
    "                                   stop_words=stop_words, token_pattern=\"\\\\b[a-z][a-z]+\\\\b\")"
   ]
  },
  {
   "cell_type": "code",
   "execution_count": 456,
   "metadata": {},
   "outputs": [
    {
     "name": "stderr",
     "output_type": "stream",
     "text": [
      "C:\\Users\\brian\\.conda\\envs\\metis\\lib\\site-packages\\sklearn\\feature_extraction\\text.py:388: UserWarning: Your stop_words may be inconsistent with your preprocessing. Tokenizing the stop words generated tokens ['ll', 've'] not in stop_words.\n",
      "  warnings.warn('Your stop_words may be inconsistent with '\n"
     ]
    },
    {
     "data": {
      "text/plain": [
       "CountVectorizer(ngram_range=(1, 2),\n",
       "                stop_words={\"'d\", \"'ll\", \"'m\", \"'re\", \"'s\", \"'ve\", '...',\n",
       "                            '....', 'a', 'about', 'above', 'across', 'after',\n",
       "                            'afterwards', 'again', 'against', 'all', 'almost',\n",
       "                            'alone', 'along', 'already', 'also', 'although',\n",
       "                            'always', 'am', 'among', 'amongst', 'amount', 'an',\n",
       "                            'and', ...},\n",
       "                token_pattern='\\\\b[a-z][a-z]+\\\\b')"
      ]
     },
     "execution_count": 456,
     "metadata": {},
     "output_type": "execute_result"
    }
   ],
   "source": [
    "# fit the vocab in the vectorizer\n",
    "count_vectorizer.fit(neg_corpus)"
   ]
  },
  {
   "cell_type": "code",
   "execution_count": 457,
   "metadata": {},
   "outputs": [],
   "source": [
    "# transform the data into format\n",
    "neg_Hisense_review_word = count_vectorizer.transform(neg_corpus).transpose()"
   ]
  },
  {
   "cell_type": "code",
   "execution_count": 458,
   "metadata": {},
   "outputs": [
    {
     "data": {
      "text/html": [
       "<div>\n",
       "<style scoped>\n",
       "    .dataframe tbody tr th:only-of-type {\n",
       "        vertical-align: middle;\n",
       "    }\n",
       "\n",
       "    .dataframe tbody tr th {\n",
       "        vertical-align: top;\n",
       "    }\n",
       "\n",
       "    .dataframe thead th {\n",
       "        text-align: right;\n",
       "    }\n",
       "</style>\n",
       "<table border=\"1\" class=\"dataframe\">\n",
       "  <thead>\n",
       "    <tr style=\"text-align: right;\">\n",
       "      <th></th>\n",
       "      <th>0</th>\n",
       "      <th>1</th>\n",
       "      <th>2</th>\n",
       "      <th>3</th>\n",
       "      <th>4</th>\n",
       "      <th>5</th>\n",
       "      <th>6</th>\n",
       "      <th>7</th>\n",
       "      <th>8</th>\n",
       "      <th>9</th>\n",
       "      <th>...</th>\n",
       "      <th>83</th>\n",
       "      <th>84</th>\n",
       "      <th>85</th>\n",
       "      <th>86</th>\n",
       "      <th>87</th>\n",
       "      <th>88</th>\n",
       "      <th>89</th>\n",
       "      <th>90</th>\n",
       "      <th>91</th>\n",
       "      <th>92</th>\n",
       "    </tr>\n",
       "  </thead>\n",
       "  <tbody>\n",
       "    <tr>\n",
       "      <th>ability</th>\n",
       "      <td>0</td>\n",
       "      <td>0</td>\n",
       "      <td>0</td>\n",
       "      <td>0</td>\n",
       "      <td>0</td>\n",
       "      <td>0</td>\n",
       "      <td>0</td>\n",
       "      <td>0</td>\n",
       "      <td>0</td>\n",
       "      <td>0</td>\n",
       "      <td>...</td>\n",
       "      <td>0</td>\n",
       "      <td>0</td>\n",
       "      <td>0</td>\n",
       "      <td>0</td>\n",
       "      <td>0</td>\n",
       "      <td>0</td>\n",
       "      <td>0</td>\n",
       "      <td>0</td>\n",
       "      <td>0</td>\n",
       "      <td>0</td>\n",
       "    </tr>\n",
       "    <tr>\n",
       "      <th>ability straight</th>\n",
       "      <td>0</td>\n",
       "      <td>0</td>\n",
       "      <td>0</td>\n",
       "      <td>0</td>\n",
       "      <td>0</td>\n",
       "      <td>0</td>\n",
       "      <td>0</td>\n",
       "      <td>0</td>\n",
       "      <td>0</td>\n",
       "      <td>0</td>\n",
       "      <td>...</td>\n",
       "      <td>0</td>\n",
       "      <td>0</td>\n",
       "      <td>0</td>\n",
       "      <td>0</td>\n",
       "      <td>0</td>\n",
       "      <td>0</td>\n",
       "      <td>0</td>\n",
       "      <td>0</td>\n",
       "      <td>0</td>\n",
       "      <td>0</td>\n",
       "    </tr>\n",
       "    <tr>\n",
       "      <th>ability upscale</th>\n",
       "      <td>0</td>\n",
       "      <td>0</td>\n",
       "      <td>0</td>\n",
       "      <td>0</td>\n",
       "      <td>0</td>\n",
       "      <td>0</td>\n",
       "      <td>0</td>\n",
       "      <td>0</td>\n",
       "      <td>0</td>\n",
       "      <td>0</td>\n",
       "      <td>...</td>\n",
       "      <td>0</td>\n",
       "      <td>0</td>\n",
       "      <td>0</td>\n",
       "      <td>0</td>\n",
       "      <td>0</td>\n",
       "      <td>0</td>\n",
       "      <td>0</td>\n",
       "      <td>0</td>\n",
       "      <td>0</td>\n",
       "      <td>0</td>\n",
       "    </tr>\n",
       "    <tr>\n",
       "      <th>able</th>\n",
       "      <td>0</td>\n",
       "      <td>0</td>\n",
       "      <td>0</td>\n",
       "      <td>2</td>\n",
       "      <td>0</td>\n",
       "      <td>0</td>\n",
       "      <td>0</td>\n",
       "      <td>0</td>\n",
       "      <td>0</td>\n",
       "      <td>0</td>\n",
       "      <td>...</td>\n",
       "      <td>0</td>\n",
       "      <td>0</td>\n",
       "      <td>0</td>\n",
       "      <td>0</td>\n",
       "      <td>0</td>\n",
       "      <td>0</td>\n",
       "      <td>0</td>\n",
       "      <td>0</td>\n",
       "      <td>0</td>\n",
       "      <td>0</td>\n",
       "    </tr>\n",
       "    <tr>\n",
       "      <th>able avoid</th>\n",
       "      <td>0</td>\n",
       "      <td>0</td>\n",
       "      <td>0</td>\n",
       "      <td>0</td>\n",
       "      <td>0</td>\n",
       "      <td>0</td>\n",
       "      <td>0</td>\n",
       "      <td>0</td>\n",
       "      <td>0</td>\n",
       "      <td>0</td>\n",
       "      <td>...</td>\n",
       "      <td>0</td>\n",
       "      <td>0</td>\n",
       "      <td>0</td>\n",
       "      <td>0</td>\n",
       "      <td>0</td>\n",
       "      <td>0</td>\n",
       "      <td>0</td>\n",
       "      <td>0</td>\n",
       "      <td>0</td>\n",
       "      <td>0</td>\n",
       "    </tr>\n",
       "  </tbody>\n",
       "</table>\n",
       "<p>5 rows × 93 columns</p>\n",
       "</div>"
      ],
      "text/plain": [
       "                  0   1   2   3   4   5   6   7   8   9   ...  83  84  85  86  \\\n",
       "ability            0   0   0   0   0   0   0   0   0   0  ...   0   0   0   0   \n",
       "ability straight   0   0   0   0   0   0   0   0   0   0  ...   0   0   0   0   \n",
       "ability upscale    0   0   0   0   0   0   0   0   0   0  ...   0   0   0   0   \n",
       "able               0   0   0   2   0   0   0   0   0   0  ...   0   0   0   0   \n",
       "able avoid         0   0   0   0   0   0   0   0   0   0  ...   0   0   0   0   \n",
       "\n",
       "                  87  88  89  90  91  92  \n",
       "ability            0   0   0   0   0   0  \n",
       "ability straight   0   0   0   0   0   0  \n",
       "ability upscale    0   0   0   0   0   0  \n",
       "able               0   0   0   0   0   0  \n",
       "able avoid         0   0   0   0   0   0  \n",
       "\n",
       "[5 rows x 93 columns]"
      ]
     },
     "execution_count": 458,
     "metadata": {},
     "output_type": "execute_result"
    }
   ],
   "source": [
    "pd.DataFrame(neg_Hisense_review_word.toarray(), count_vectorizer.get_feature_names()).head()"
   ]
  },
  {
   "cell_type": "code",
   "execution_count": 459,
   "metadata": {},
   "outputs": [],
   "source": [
    "# Convert sparse matrix of counts to a gensim corpus\n",
    "corpus = matutils.Sparse2Corpus(neg_Hisense_review_word)\n",
    "id2word = dict((v, k) for k, v in count_vectorizer.vocabulary_.items())"
   ]
  },
  {
   "cell_type": "code",
   "execution_count": 460,
   "metadata": {},
   "outputs": [],
   "source": [
    "# create LDA model\n",
    "lda = models.LdaModel(corpus=corpus, num_topics=10, id2word=id2word, passes=10)"
   ]
  },
  {
   "cell_type": "code",
   "execution_count": 461,
   "metadata": {},
   "outputs": [
    {
     "data": {
      "text/html": [
       "\n",
       "<link rel=\"stylesheet\" type=\"text/css\" href=\"https://cdn.jsdelivr.net/gh/bmabey/pyLDAvis@3.3.1/pyLDAvis/js/ldavis.v1.0.0.css\">\n",
       "\n",
       "\n",
       "<div id=\"ldavis_el1611223845299724644431978138\"></div>\n",
       "<script type=\"text/javascript\">\n",
       "\n",
       "var ldavis_el1611223845299724644431978138_data = {\"mdsDat\": {\"x\": [0.18738451666979483, -0.03421343384449452, 0.003959617468450963, -0.04994793407909829, -0.05059863300475253, -0.031491334490276184, -0.009965656221127167, -0.006097789897971717, -0.0024631724913851726, -0.006566180109140183], \"y\": [-0.0018302452159698393, 0.1803715699312022, -0.013928099602603099, -0.019229473743463826, -0.07742333426487893, -0.04991478923254255, -0.005292469622556863, -0.0023786084223420744, -0.0038992616184034103, -0.006475288208441607], \"topics\": [1, 2, 3, 4, 5, 6, 7, 8, 9, 10], \"cluster\": [1, 1, 1, 1, 1, 1, 1, 1, 1, 1], \"Freq\": [20.918182172978426, 20.033802377873343, 11.544226334762062, 11.21421611883665, 10.365287866325117, 9.568192376444262, 8.2483744192061, 4.209398009235031, 2.273125287298474, 1.625195037040534]}, \"tinfo\": {\"Term\": [\"eula\", \"roku\", \"sync\", \"issue\", \"picture\", \"lot\", \"audio\", \"lip\", \"screen\", \"hisense\", \"lip sync\", \"deal\", \"amazon\", \"network\", \"trying\", \"ll\", \"having\", \"internet\", \"issues\", \"mail\", \"skin\", \"told\", \"wireless\", \"setting\", \"ok\", \"content\", \"wasn\", \"find\", \"poor\", \"support\", \"mail\", \"registration\", \"mail address\", \"prior\", \"memc\", \"black friday\", \"good thing\", \"gives\", \"means native\", \"native\", \"refresh\", \"compared\", \"status\", \"failed\", \"address\", \"far\", \"months old\", \"screen lag\", \"effective means\", \"shopping\", \"handle\", \"effective\", \"function\", \"screen settings\", \"restart\", \"appeared\", \"momentary\", \"power outage\", \"hard time\", \"good picture\", \"outage\", \"friday\", \"poor\", \"picture\", \"good\", \"happy\", \"image\", \"videos\", \"bar\", \"gave\", \"trying\", \"said\", \"sound\", \"sound bar\", \"means\", \"screen\", \"settings\", \"built\", \"time\", \"samsung\", \"hisense\", \"customer\", \"got\", \"tvs\", \"like\", \"motion\", \"use\", \"netflix\", \"set\", \"quality\", \"days\", \"support\", \"black\", \"fine\", \"roku\", \"service\", \"bought\", \"ethernet\", \"hdr\", \"wi\", \"wi fi\", \"fi\", \"delay\", \"small\", \"ethernet port\", \"extender\", \"day ll\", \"life\", \"network\", \"cc\", \"problem major\", \"major getting\", \"sound watching\", \"smoke\", \"getting sound\", \"upscale\", \"watching programming\", \"apple\", \"wifi network\", \"verizon\", \"ll connect\", \"occasionally issues\", \"fios\", \"telling\", \"password\", \"half features\", \"stars great\", \"applications\", \"fact\", \"user\", \"hz\", \"port\", \"lot\", \"speaker\", \"deal\", \"bit\", \"stand\", \"work\", \"connect\", \"problems\", \"device\", \"wireless\", \"wifi\", \"began\", \"little\", \"going\", \"day\", \"experience\", \"issues\", \"ll\", \"don\", \"didn\", \"like\", \"problem\", \"service\", \"roku\", \"great\", \"good\", \"time\", \"customer\", \"way\", \"set\", \"settings\", \"use\", \"hisense\", \"motion\", \"customer service\", \"forums\", \"hours phone\", \"sounded\", \"needs\", \"uhd\", \"space\", \"look ok\", \"sounded like\", \"treadmill\", \"wireless router\", \"games\", \"perfectly fine\", \"software\", \"streams\", \"dynamic contrast\", \"browser\", \"crashes\", \"web browser\", \"large\", \"complain definitely\", \"definitely quality\", \"definitely\", \"dead pixel\", \"hassle sending\", \"pixel\", \"picture arrived\", \"arrived dead\", \"hassle\", \"great picture\", \"control issue\", \"netflix amazon\", \"panel\", \"find\", \"web\", \"phone\", \"pain\", \"fairly\", \"dynamic\", \"adjustment\", \"roku netflix\", \"ok\", \"hours\", \"wireless\", \"tried\", \"ve\", \"wall\", \"came\", \"app\", \"internet\", \"screen\", \"fine\", \"better\", \"cable\", \"got\", \"router\", \"like\", \"roku\", \"price\", \"noticed\", \"away\", \"quality\", \"watching\", \"cheap\", \"probably\", \"low\", \"use\", \"amazon\", \"netflix\", \"don\", \"sound\", \"picture\", \"hisense\", \"settings\", \"motion\", \"time\", \"set\", \"released\", \"correct\", \"ignore\", \"listed\", \"bbb\", \"months released\", \"idea\", \"information\", \"concern\", \"uses\", \"tablet\", \"satellite\", \"shield\", \"stretch screen\", \"stretch\", \"total closed\", \"false\", \"satellite feed\", \"wrong information\", \"world supervisor\", \"supervisor know\", \"let know\", \"product months\", \"closed complaints\", \"reviews amazon\", \"correct specs\", \"false information\", \"took month\", \"television released\", \"actually told\", \"complaints\", \"feed\", \"company\", \"website\", \"year warranty\", \"told\", \"closed\", \"answer\", \"times\", \"supervisor\", \"lg\", \"television\", \"emails\", \"months\", \"actually\", \"know\", \"input\", \"best\", \"inputs\", \"rating\", \"warranty\", \"getting\", \"month\", \"hisense\", \"picture\", \"doesn\", \"didn\", \"find\", \"screen\", \"look\", \"use\", \"year\", \"product\", \"called\", \"good\", \"quality\", \"sound\", \"problem\", \"don\", \"issues\", \"problems\", \"skin\", \"softening\", \"skin softening\", \"xbox\", \"pixelation\", \"static\", \"hisense tech\", \"ulra\", \"ulra hd\", \"extreme\", \"xbox ones\", \"background\", \"angle\", \"excitement\", \"static background\", \"contrast ratio\", \"regard product\", \"family\", \"wanted like\", \"extreme skin\", \"home theater\", \"meant\", \"interested\", \"specs contrast\", \"eyes\", \"streaming content\", \"subject\", \"theater\", \"disappointing\", \"subject static\", \"gaming\", \"ghosting\", \"tech\", \"tech support\", \"content\", \"ones\", \"sony\", \"hooked\", \"hd\", \"product\", \"received\", \"youtube\", \"wanted\", \"pay\", \"sound\", \"picture\", \"years\", \"audio\", \"quality\", \"box\", \"like\", \"support\", \"way\", \"netflix\", \"hisense\", \"time\", \"remote\", \"price\", \"motion interpolation\", \"interpolation\", \"heavy\", \"screen cracked\", \"cracked\", \"break\", \"master\", \"channel master\", \"dvr\", \"ups\", \"claim\", \"assembly\", \"halo\", \"suffer\", \"active\", \"aside\", \"keyboard\", \"glasses work\", \"mark\", \"remote keyboard\", \"returning amazon\", \"active glasses\", \"setting disable\", \"glasses\", \"shipping\", \"effect\", \"love\", \"sending refund\", \"change review\", \"broken right\", \"defective\", \"vudu\", \"firmware update\", \"solid\", \"firmware\", \"great\", \"motion\", \"screen\", \"amazon\", \"hisense\", \"setting\", \"support\", \"vizio\", \"took\", \"feet\", \"black\", \"easily\", \"picture\", \"star\", \"going\", \"quality\", \"remote\", \"weeks\", \"use\", \"issue\", \"video\", \"turn\", \"box\", \"update\", \"price\", \"don\", \"ve\", \"looks\", \"issues\", \"eula\", \"mode\", \"consumer mode\", \"consumer\", \"commercial\", \"push\", \"significantly\", \"selection\", \"friend\", \"reserve\", \"stay\", \"commercial personal\", \"equivalent\", \"mode eula\", \"apps like\", \"fishy\", \"personal\", \"sync settings\", \"set perfect\", \"decided\", \"lip sync\", \"viewing\", \"weird\", \"hisense support\", \"agree\", \"advertisements\", \"ugh low\", \"priced\", \"ugh\", \"freaking weeks\", \"lip\", \"ago\", \"usage\", \"local\", \"sync\", \"sharp\", \"smart\", \"ll\", \"hisense\", \"support\", \"price\", \"audio\", \"asked\", \"notice\", \"perfect\", \"like\", \"sound\", \"set\", \"apps\", \"use\", \"days\", \"best\", \"told\", \"turn\", \"way\", \"screen\", \"amazon\", \"time\", \"customer\", \"settings\", \"samsung\", \"bought\", \"mom\", \"basement\", \"lg samsung\", \"roku develop\", \"develop\", \"cumbersome\", \"mom loved\", \"come hulu\", \"loved\", \"hulu plus\", \"loaded\", \"way download\", \"problem version\", \"version come\", \"plus loaded\", \"loved problem\", \"loaded way\", \"working week\", \"refund amazon\", \"got refund\", \"week got\", \"big room\", \"taste big\", \"star taste\", \"scam\", \"got looked\", \"running audio\", \"codec error\", \"codec\", \"certain feeds\", \"channels\", \"looked sure\", \"switch\", \"biggest\", \"having\", \"week\", \"guess\", \"audio\", \"arc\", \"roku\", \"input\", \"complaint\", \"lg\", \"receiver\", \"main\", \"inch\", \"cheap\", \"problem\", \"way\", \"big\", \"apps\", \"youtube\", \"hard\", \"power\", \"year\", \"nice\", \"sure\", \"samsung\", \"got\", \"amazon\", \"like\", \"good\", \"picture\", \"price\", \"offerings\", \"roku stick\", \"unbiased\", \"tlc\", \"month calls\", \"channel month\", \"right channel\", \"sound right\", \"calls fixed\", \"pleased unit\", \"unit poor\", \"quality poor\", \"hisense living\", \"returned hisense\", \"china pleased\", \"return amazon\", \"quality return\", \"living china\", \"poor returned\", \"slow doesn\", \"use better\", \"hulu operatv\", \"internet picture\", \"great value\", \"mg internet\", \"patio don\", \"ok patio\", \"amazon fire\", \"think better\", \"ok sound\", \"bedroom tlc\", \"roku slow\", \"saw\", \"stick\", \"free\", \"lot\", \"non\", \"roku\", \"amazon\", \"returned\", \"reviews\", \"poor\", \"ok\", \"good\", \"picture\", \"review\", \"internet\", \"deal\", \"better\", \"don\", \"quality\", \"use\", \"sound\", \"hisense\", \"like\", \"easy\", \"doesn\", \"hulu\", \"inches\", \"sync issue\", \"monitor\", \"ghosting dark\", \"lots ghosting\", \"scenes replacements\", \"replacements issue\", \"replacements\", \"smashed\", \"dead arrival\", \"smashed inside\", \"arrival smashed\", \"watching hours\", \"regardless input\", \"cable memorable\", \"issues regardless\", \"hours positive\", \"input source\", \"unit constant\", \"distance watching\", \"positive experience\", \"power cable\", \"memorable\", \"suitable distance\", \"suitable\", \"distance\", \"memorable bad\", \"ll lock\", \"source week\", \"round tomorrow\", \"lip sync\", \"sync issues\", \"lip\", \"sync\", \"contact hisense\", \"issue\", \"wasn\", \"trying\", \"setting\", \"issues\", \"picture\", \"hisense\", \"deal\", \"way\", \"ve\", \"cable\", \"great\", \"update\", \"actually\", \"know\", \"don\", \"hours\", \"power\", \"ll\", \"quality\", \"price\", \"different\", \"ghosting\"], \"Freq\": [6.0, 16.0, 6.0, 9.0, 42.0, 7.0, 10.0, 4.0, 33.0, 38.0, 3.0, 11.0, 17.0, 11.0, 6.0, 13.0, 9.0, 10.0, 13.0, 8.0, 4.0, 8.0, 10.0, 10.0, 7.0, 10.0, 4.0, 8.0, 6.0, 16.0, 7.704860226566359, 4.652121541721751, 3.8901003503125957, 3.131214249077814, 3.127458870413504, 3.127923501603136, 2.3731327673464873, 2.372136355812299, 2.371523382045121, 6.1983901485256965, 2.3702880716656343, 2.3654407511879074, 2.3646371557456383, 2.363928066521411, 5.419793502756447, 3.1270237907038174, 1.611990366729561, 1.6106564538872867, 1.608852935843905, 1.6086548531515998, 1.6072848055788977, 1.6075551577320588, 1.6066634930277748, 1.6071611867642759, 1.6061034778533698, 1.6057194549085387, 1.6060492026105002, 1.6059508927366235, 1.6044907277795344, 1.603868830050591, 1.604385834655175, 3.1287845907662883, 3.8912689504205233, 18.44148109828323, 13.082190885941896, 3.138894707974435, 5.424535198637538, 3.1313403548981738, 3.130238465061805, 3.1289545849232003, 3.9026954251363235, 6.189438683402526, 11.552890680404643, 2.366377474584385, 2.372088810114368, 12.341899980315338, 8.489211511024322, 5.426376753239265, 8.485433603013915, 6.199130983646697, 10.79245561347848, 5.423679668663682, 5.440011396461458, 4.662966057094869, 6.987266027893274, 5.430257067368293, 6.199652377084935, 5.43827868493438, 5.432462017396672, 5.44657358054273, 3.908702275465757, 4.668694655370563, 3.902357484944872, 3.9136953052208368, 3.9151333797151944, 3.909321686188963, 3.905029114285255, 3.8720278414470557, 3.8644756639225544, 3.114177152926986, 3.1128483552637753, 3.1119169078929376, 3.1094725590915493, 2.3556063020293427, 2.354405844587505, 2.354264894519054, 2.352841102674522, 2.3447954598010297, 9.181741337156007, 1.600587224725372, 1.597762618979872, 1.5970392340858233, 1.5970099512187197, 1.596771765218355, 1.5963043602199927, 1.5963176706141307, 1.5957450434473717, 1.595318830616131, 1.5952326633277638, 1.5950777023181149, 1.595084147351066, 1.5940260410717992, 1.5949908344826877, 1.5948654365589665, 1.5947798297082472, 1.5946376186550884, 1.5946475664233388, 3.115966630336784, 3.8719373307669174, 3.109124247093369, 2.356109294818348, 2.353156348851475, 4.629146598398947, 3.8746745082393423, 6.15357398961715, 4.630313709800733, 2.356870929581867, 7.677573206472345, 6.155658257229752, 6.915009237333295, 2.354838782670521, 5.404116415312281, 5.392197027416388, 2.354031472238697, 4.631229184698605, 5.382467269410906, 5.392921112857496, 3.875189830656602, 5.400442746530186, 5.396236661982572, 6.164500842438581, 3.8744043772930468, 6.91761190977022, 5.393224870062667, 4.636389134122974, 5.391822094629932, 5.389359531604986, 6.17448447869857, 5.3963442660109715, 4.638169084092758, 4.630503137725729, 4.6300379744779585, 4.62271753792087, 4.657466633623474, 4.649573149571391, 3.8805478947895096, 3.878669588012517, 1.9967050317311779, 1.3561230068966688, 1.3532773758217649, 1.353075938792545, 1.3527194073612685, 1.3526583707303705, 1.3516472295063424, 1.351978571216931, 1.3523721606026813, 1.3522981254300181, 1.3520205540847445, 1.351791263037456, 1.3499861611940498, 1.3494395765496334, 1.3497667199734407, 1.3491481992997518, 1.3493657028495387, 1.349394122021597, 1.3554666209056636, 0.7124686435010638, 0.7124605698726381, 0.7124363489873612, 0.7124348957342446, 0.7124292441943466, 0.7123696608165653, 0.7123686112448699, 0.7123443903595931, 0.7123368818851572, 0.7123217034637169, 0.7123045066351703, 1.3530385578929343, 1.9999569277884601, 3.9303107819742755, 1.348950879821029, 2.6483262901846434, 1.35626510275696, 1.3550325826415008, 1.3519760683921191, 1.3511627310645193, 1.35229739880346, 3.278874571084326, 3.2925693825650466, 3.9322413480034166, 2.643472747720281, 3.9346459974937114, 1.995779309495893, 2.002154085028216, 3.294260323302514, 3.2880578390007944, 6.520795821919326, 3.2836444707581984, 3.2818010999160547, 2.642640679574734, 3.2885713217686656, 1.9986422181356276, 3.935252488461046, 3.2961353427680864, 3.299648339968654, 1.9990397635993065, 1.9963951658722014, 3.295886029122302, 2.647444811433131, 1.9984176097928261, 1.9995225665791603, 1.9968363089293788, 3.2899519122294514, 2.6609797650710236, 2.6525402398051257, 2.644038386127782, 2.648012710456591, 2.6600756801599195, 2.0157181037284406, 2.009381435722287, 2.0092847136537477, 2.008449093111693, 2.007772038631918, 3.2413569593668763, 2.6077366969955125, 1.9714894000145078, 1.9711512171497845, 1.9710169478862394, 1.9709662831991774, 1.9705289669529582, 3.877688174637597, 1.339680831561305, 1.33655577719494, 1.3359416835421607, 1.3356982420736772, 1.335704673194945, 1.3355416991706186, 1.335574168490191, 1.3354665648514152, 1.3353071985292637, 1.3349759173556572, 1.335272846930296, 1.3351864189347196, 1.3349580357014, 1.3348852542314409, 1.3349054887349425, 1.3349796819144482, 1.3347495732583492, 1.3349139589922223, 1.3349221155362694, 1.3348794505366381, 1.334705810262404, 1.334782356291154, 2.6078496337592423, 1.9711549817085754, 5.154512638635702, 3.2423752725198374, 2.6075894086328155, 4.520254126692651, 2.607338594903366, 1.972463636458291, 3.8796040213489746, 1.9709851059931323, 2.609630270067377, 3.2425283645773373, 1.970828092520225, 3.8841952145078116, 3.244122341512086, 4.554986887237961, 1.981438187759379, 3.2537752976786325, 1.9747349202621842, 1.97163606095074, 3.2499825046967166, 2.632468436542726, 2.6111691903298078, 5.1987371067460115, 5.186749810415823, 3.2503059430395087, 2.609418199922152, 2.647275701120594, 3.9185232849830904, 2.6127106202980994, 3.2523711172495955, 2.6248039517009008, 2.616284912013522, 2.6106917187898184, 2.6302976978298753, 2.629197505523211, 2.622372831005007, 2.6208875557053477, 2.6200394319810623, 2.615983590453627, 2.6155963114680043, 4.378871280337167, 3.764025853401615, 3.7624762814965322, 3.146624386731163, 2.5292524964705763, 2.528911497862721, 1.9136303988112657, 1.9125568041296477, 1.912237407899586, 1.912083581571808, 1.9113280782786395, 1.911424346593102, 1.3014106031632364, 1.295997540228341, 1.2961548461337504, 1.2956953969040341, 1.2958937328290112, 1.2959360676901903, 1.2956339243658834, 1.2957071404785394, 1.2959894212138683, 1.2951621516320568, 1.2957444009556733, 1.2952089809476766, 1.2951840439746531, 1.2952669739081961, 1.2955404107170456, 1.2954189154647573, 1.2951630215264647, 1.2954713990940274, 3.7620552526031603, 2.5293818207725347, 3.7652495048685775, 1.9153642433483993, 4.385564537875531, 1.9125707224401722, 2.5342654079778866, 3.157850084098933, 3.1485500429852147, 3.1516741237684034, 2.541982821199026, 2.531915243252832, 1.914396340837328, 1.9182618616207587, 3.784328898914708, 4.4112646982593775, 2.533931948454899, 2.536737647884835, 3.154973053327558, 2.543760595403753, 3.168955736038428, 2.540024978851886, 2.539387926180579, 2.5408664567090247, 2.545567946018345, 1.9301836194971649, 1.9282476694926207, 1.9241461173598753, 2.447879114415321, 2.446683448724815, 1.8507969395065824, 1.2596847953927972, 1.2596180126326044, 1.2585342314862287, 1.2563597098677655, 1.2563641263629284, 1.255684789106939, 1.2575639408822246, 1.2573444544559396, 1.2543016231217827, 1.254973465719314, 1.2540264620898058, 1.2543886146931762, 1.2543077794483737, 1.253737917739153, 1.253914577545675, 1.253606761216129, 1.2532487574415483, 1.253208875151894, 1.253464496538604, 1.253109303260945, 3.0459475060772885, 2.448755721788594, 1.8552590717863204, 1.8507736525320864, 0.6610300136230448, 0.6610286752911771, 0.661028474541397, 1.2598021670975852, 1.2543946371865804, 1.255825313953036, 1.8593858181000398, 2.4505490864911668, 4.852790281222486, 4.256607063829208, 6.066260603562723, 4.242477758970295, 6.0610266552949446, 3.0483490087804954, 3.658323736069306, 2.4509013354387172, 2.4604369499953087, 1.8650622188832437, 2.460727903343323, 1.8514623581111491, 4.281309190442098, 1.856259608690532, 2.4750349386742534, 3.0635950177497278, 2.4556293942605456, 1.871352646327299, 2.4713877166686924, 1.8599033510332375, 1.8549066890055834, 1.8606710181924881, 1.8667086347467552, 1.867827480188062, 1.8685786858653413, 1.8647835781884112, 1.864154562210643, 1.8612250875856713, 1.860057660697571, 6.274990055416805, 2.881373163575261, 1.7513357948531856, 1.7505109968812043, 1.7507490103398975, 1.1866165021185702, 1.1863562217682009, 1.1862481177397008, 1.1860222183930595, 1.1858651964263696, 1.1857288261364154, 1.1857261725690136, 1.185798049633854, 1.185674947180909, 1.1866649585667772, 1.185453201244114, 1.1851433107205802, 1.1857452090308092, 1.1855812647143753, 2.317129436268049, 2.3153916957373477, 1.1859163064419784, 1.750385471605849, 1.7531074548976318, 1.1862020841139043, 1.186846900992545, 0.6247319116040667, 0.6247319116040667, 0.6247316231728274, 0.6247312770553403, 2.3158640307348706, 1.1864642104242051, 1.1858114328433589, 1.186443212629982, 2.8811484179535767, 1.751782747901648, 2.8838368278491022, 3.450116879705967, 5.718030255255077, 2.8867040651130105, 2.886649378550034, 2.317977193366681, 1.7523309980013617, 1.7524213346655193, 1.751584422581486, 2.8886919332144565, 2.88683028262334, 2.3234359276297, 1.7538906033986543, 2.3197931564494874, 1.7565754367468118, 1.7523363051361653, 1.754650908145522, 1.7554807825073155, 1.7621742332196486, 1.7618349227097037, 1.761480036912835, 1.7602452050910253, 1.7600015383800414, 1.7558376296366116, 1.7545327667098933, 1.7539561349762296, 1.235596497401737, 0.8375803678191811, 0.8366865980036051, 0.8288167133771793, 0.8287114393040403, 0.8273173232504695, 0.44077954144896386, 0.4407787760334433, 0.4407778339835718, 0.44077768678827933, 0.4407775984711039, 0.4407773040805191, 0.4407773040805191, 0.4407771568852267, 0.4407771568852267, 0.4407767447384079, 0.4407760676400627, 0.4407744779309046, 0.44077394802785186, 0.44077332980762374, 0.44077238775775224, 0.4407697088034302, 0.44076941441284534, 0.4407687078754417, 0.44065507310969326, 0.4395620303072387, 0.4392072896525059, 0.43906701253882935, 0.4391269210228444, 0.43910145623725566, 1.624460200335951, 0.439343651371404, 0.8370578834092061, 0.8364733414639466, 1.6347303102786988, 0.8407995288644127, 1.2316818091607613, 1.6412297478545748, 0.8395657968014628, 2.00071444798404, 0.8324526137343112, 0.8144482154685152, 0.8385052841586331, 0.8399691119026944, 0.8370527021349129, 0.8395817527711612, 0.8387606974300408, 1.2463349238868493, 1.2395249631220835, 0.8387710011005103, 0.8332093741717024, 0.8246016289834323, 0.8388053270427026, 0.8332910381199371, 0.8290275559140422, 0.8386194488274343, 0.84168705759959, 0.8438053156137517, 0.843819740752409, 0.8453753594808234, 0.8476536482169045, 0.8461955905283062, 0.8420591672988285, 0.8411303650036565, 0.5541644148835441, 0.5538381993368133, 0.5532097415885988, 0.5539205480956859, 0.2910038215397148, 0.29100359897550165, 0.2910035353857265, 0.2910032810266257, 0.291002549744211, 0.29083212914669865, 0.2908271373493461, 0.2907890788688942, 0.2907880296376036, 0.2907807486083442, 0.29077162347560426, 0.2906974460028437, 0.290666445987438, 0.29064441213033426, 0.2906045095464018, 0.29052492694275006, 0.290471861275353, 0.2903115196572084, 0.2904574263963846, 0.2904473792119044, 0.2904367279245599, 0.2904329761278236, 0.2904271576633936, 0.290026160541038, 0.29024220680225005, 0.2904062366273557, 0.2904035022670225, 0.29040299354882093, 0.5536553787331386, 0.817206635860855, 0.5543384600982423, 0.8173411918251594, 0.5540096373707287, 0.821916476150165, 0.8213312594490806, 0.5559149142150069, 0.5540148517322944, 0.5560467358189782, 0.5598839336233398, 0.824459622029386, 0.8287533944196203, 0.5555321673581312, 0.556076559423543, 0.5532991488125176, 0.5576829007346474, 0.5607640797017609, 0.5601822332587616, 0.5600388383157056, 0.562612125748367, 0.5613671015398989, 0.2984776232025973, 0.2937626003466091, 0.2934617889150672, 0.29338201554208987, 0.4288605591386511, 0.42801665294927843, 0.6326391258916989, 0.224982630410769, 0.2249825167503082, 0.2249821075726493, 0.22498199391218848, 0.22498183478754336, 0.2249810618964099, 0.22498097096804126, 0.22497983436343322, 0.22497974343506458, 0.22471725596688533, 0.22477995107706447, 0.2247789508650094, 0.22476967617140783, 0.22468095281570474, 0.22476792580031146, 0.22476485696786977, 0.22466644974090624, 0.22465396982231003, 0.22474405710354278, 0.22473707835124945, 0.22463430656259106, 0.2246321470138358, 0.22463169237199257, 0.2247299859384953, 0.2247287811376108, 0.2247279173181087, 0.22472703076651443, 0.8368505116794859, 0.42839914313197386, 0.8361579102955347, 0.836973901475734, 0.22471696044968725, 0.6332343429928339, 0.428954351750906, 0.42821214894186016, 0.43084575274704234, 0.43070640502209745, 0.43537084847672947, 0.23002226704651288, 0.22780675188034974, 0.22760027628725438, 0.22757352061478126, 0.22699432963861957, 0.22672036246389918, 0.22661872727984883, 0.2262227796985943, 0.22620466222114224, 0.22607772621851707, 0.2260351717419923, 0.22602903407710892, 0.22599836848478416, 0.22596583886090227, 0.22589791536952616, 0.22588091176459, 0.22571160314217734], \"Total\": [6.0, 16.0, 6.0, 9.0, 42.0, 7.0, 10.0, 4.0, 33.0, 38.0, 3.0, 11.0, 17.0, 11.0, 6.0, 13.0, 9.0, 10.0, 13.0, 8.0, 4.0, 8.0, 10.0, 10.0, 7.0, 10.0, 4.0, 8.0, 6.0, 16.0, 8.211027327620142, 5.145618138207091, 4.379729180388993, 3.6138187800422434, 3.612886403117499, 3.613707709595118, 2.8482064210643143, 2.8479423871498315, 2.849474399678949, 7.449054680166709, 2.8486939692654363, 2.84629171134775, 2.8471154668645586, 2.846448316349584, 6.675498253126125, 4.015521778854418, 2.08360191027171, 2.0835581487991566, 2.0830986662095774, 2.0830636797175455, 2.08174491178316, 2.0828795442161003, 2.081863030139261, 2.0825858897575396, 2.0816291429042653, 2.0815003164075265, 2.0822679048162094, 2.0822529555463936, 2.081541052822483, 2.081196435775113, 2.0819236445979055, 4.37551110720522, 6.131511382034215, 42.166483135662354, 29.364606313228975, 4.823533696328451, 9.80510612696483, 4.854798403434912, 4.8820045174050986, 4.899694426332934, 6.604650856392856, 12.217396017137359, 27.940469873055353, 3.4680331469938865, 3.4970335385896116, 33.41289725341265, 20.2858122485755, 11.37458390216638, 23.012273441638598, 14.16195306715945, 38.22762421762099, 14.11293524968998, 14.604386895812562, 11.01889842836787, 26.453398671163786, 17.1205617780546, 23.301738073267146, 17.458834210372768, 18.843839867373852, 20.65439488994253, 8.110883049196547, 16.8966393937214, 9.139479568664127, 11.079079020442798, 16.993772801576487, 12.11241342572915, 11.42899421663481, 4.362837796255716, 4.361287948688953, 3.6009561901513, 3.600074839560901, 3.600646195478443, 3.599653539187155, 2.838243324716595, 2.8370365506452755, 2.837609582950246, 2.8373867826487755, 2.834917743647467, 11.11874136497252, 2.0755858569289103, 2.0745883165206913, 2.0742572326514477, 2.074572504355867, 2.0743227000417876, 2.0739368653558055, 2.0744521071441158, 2.074054376098207, 2.0737446510863973, 2.0743326320698148, 2.0742569375734345, 2.0743366751314483, 2.0730144978226135, 2.0742814759381627, 2.074123906831683, 2.074057275656536, 2.074118667105847, 2.074240112704809, 4.240103828308181, 5.62341433397307, 4.432117529248808, 3.241342559085432, 3.2385326753838077, 7.1871879471300355, 6.170839244376123, 11.171422796337973, 8.023754945949142, 3.4057400277093794, 15.741592908730938, 12.154091150307726, 14.207196298916307, 3.476049757347877, 10.546486365039021, 10.569632466443384, 3.4843853967179115, 9.079814458052539, 11.327415801271195, 11.624526056287582, 7.383916550352303, 13.407197405823453, 13.713394047347451, 18.647891617661422, 7.68677489578084, 26.453398671163786, 15.847561615809363, 12.11241342572915, 16.993772801576487, 17.287846109417583, 29.364606313228975, 23.012273441638598, 14.11293524968998, 17.31774255033946, 18.843839867373852, 20.2858122485755, 23.301738073267146, 38.22762421762099, 17.1205617780546, 8.527687861279666, 2.49035820185919, 1.8441226471569254, 1.8430681315575632, 1.8430559293318876, 1.8427106304910414, 1.8434633152117765, 1.84223041618211, 1.842696155058537, 1.8435296831665875, 1.8434552224545337, 1.8435529532538282, 1.8434637688870583, 1.8414282852868484, 1.8407247186260434, 1.8417200208010025, 1.840937534887155, 1.841326317790507, 1.8413883192110607, 2.049409586143012, 1.196010153804552, 1.1960110768525454, 1.1960070942715564, 1.1960073140646097, 1.1960068858528694, 1.1960037382570294, 1.1960021826285967, 1.1959990731541803, 1.1960000931374641, 1.1959976665093497, 1.195996572906841, 2.41163564979943, 3.751901101692937, 8.171442111457882, 2.461437491272349, 5.307147857410337, 2.482429070530761, 2.483216644495824, 2.4808210268633912, 2.480580447053729, 2.4831467011984674, 7.474057745397518, 7.967836107645751, 10.546486365039021, 6.64104099279124, 11.98431044073075, 4.423424702132139, 4.462980597554054, 9.615128259180745, 10.31489489770293, 33.41289725341265, 11.079079020442798, 12.420197331702337, 8.38580537215955, 14.604386895812562, 4.784573263753002, 26.453398671163786, 16.993772801576487, 18.57266729707538, 5.07367195250819, 5.062211287188069, 20.65439488994253, 11.695014430646081, 5.380220884522711, 5.4234406673473705, 5.593478915780281, 23.301738073267146, 17.620944495787842, 17.458834210372768, 18.647891617661422, 27.940469873055353, 42.166483135662354, 38.22762421762099, 20.2858122485755, 17.1205617780546, 23.012273441638598, 18.843839867373852, 3.7448027700454682, 3.105177753011613, 2.4660910590853895, 2.465886842509412, 2.465936181413086, 2.466006066388183, 2.4658661688373504, 5.14983360912293, 1.8270618599501278, 1.8267134118226807, 1.8264593444207977, 1.82618821145329, 1.8262121849136999, 1.8262594697616097, 1.8263643347631127, 1.8265005632485358, 1.8264809247276206, 1.826241496030332, 1.8266932659702007, 1.8265795557600009, 1.8264349832970375, 1.8263893137150475, 1.8264977488416057, 1.8266083156465052, 1.8263535758204807, 1.8265884985697323, 1.8267368995945106, 1.8267057382966063, 1.8265013459559676, 1.8266475394799837, 3.7064610331986607, 2.866857410978326, 9.030762060070927, 5.273741902106052, 4.272885682051043, 8.730982514829613, 4.372798790409999, 3.033237489460352, 7.445868200044873, 3.0867153350309646, 4.6709915130211, 6.633757018331666, 3.231676555317862, 9.238447182988184, 7.321679449363131, 13.204226998578317, 3.477046710016941, 8.356686793360817, 3.7956096887082924, 3.9940563605860024, 11.198724465689061, 7.3176199546815015, 7.196732508492614, 38.22762421762099, 42.166483135662354, 13.097902622671862, 7.68677489578084, 8.171442111457882, 33.41289725341265, 7.940205107932231, 23.301738073267146, 8.961620161659607, 9.556373543808219, 9.817232054001915, 29.364606313228975, 20.65439488994253, 27.940469873055353, 15.847561615809363, 18.647891617661422, 13.407197405823453, 14.207196298916307, 4.8922271687973575, 4.272453206850329, 4.273273935791168, 3.6507704591885064, 3.03056998017111, 3.030555258996054, 2.409840316973393, 2.409933719055693, 2.4098366280938355, 2.4098157027935994, 2.4091628862264725, 2.41001024837554, 1.7903489297307131, 1.7893775374614822, 1.7895986609750472, 1.788979295737533, 1.7892925701521476, 1.789525658308121, 1.7891192721229454, 1.789255321015966, 1.7897148823618239, 1.7885815477764637, 1.789429510436284, 1.7887003425763373, 1.7888455896192612, 1.789057321032295, 1.789459956353878, 1.7893947891300628, 1.7891742326234958, 1.7896233914985575, 5.802466668981591, 3.874093747902502, 6.325220955139854, 3.057256753804785, 10.884532115145419, 3.175613423822892, 4.9644896524390765, 7.234149062370025, 9.11885363069036, 9.556373543808219, 7.2084235923501865, 7.2793402170304, 4.255713398377693, 4.5039187335270805, 27.940469873055353, 42.166483135662354, 10.032859243466664, 10.597904276515088, 20.65439488994253, 10.983197352397326, 26.453398671163786, 16.8966393937214, 17.31774255033946, 17.458834210372768, 38.22762421762099, 23.012273441638598, 11.213215496620947, 18.57266729707538, 2.950947911031701, 2.9510039589734545, 2.3505085461726782, 1.750268176160964, 1.7502381375354155, 1.7500912876562837, 1.7473404510661519, 1.7474481527545949, 1.746906884691278, 1.7504668905178262, 1.75019688414634, 1.7494488555547836, 1.750535002431612, 1.7494833213779895, 1.7500104960221858, 1.7500495938542437, 1.7495351824363785, 1.7498397006452793, 1.7497513163920921, 1.7492820753728937, 1.7493975786538227, 1.7499119729421209, 1.749452892466751, 4.318957329281843, 3.572371171953673, 3.1121340988858193, 3.1127934518798024, 1.14900721181331, 1.1490058749719545, 1.149005675768529, 2.3175906891736364, 2.3175095493393427, 2.3887112077890147, 3.874442860217639, 5.526280173082758, 17.287846109417583, 17.1205617780546, 33.41289725341265, 17.620944495787842, 38.22762421762099, 10.144115279363271, 16.8966393937214, 7.814897921290787, 8.082015082661012, 4.381818544193524, 9.139479568664127, 4.709636310771333, 42.166483135662354, 4.9966580532387, 11.327415801271195, 20.65439488994253, 11.213215496620947, 7.091671671409081, 23.301738073267146, 9.249027268397942, 9.428340459296102, 9.940224911294724, 10.983197352397326, 12.703513939111776, 18.57266729707538, 18.647891617661422, 11.98431044073075, 12.54165546750059, 13.407197405823453, 6.794512954498541, 3.3875947487223925, 2.251410981976283, 2.251205036525779, 2.251754664600044, 1.6834856897536354, 1.6835468528777933, 1.6835433601792231, 1.6834520282520844, 1.6833756124614294, 1.6832048719512642, 1.683294926948323, 1.6835129991164652, 1.6836062540792016, 1.6853090113354727, 1.6836393324985328, 1.6834649138315827, 1.6843816956361684, 1.6843689541209927, 3.5796566640225653, 3.643011334810666, 1.888052395524621, 2.8995201861003634, 3.0144598836112637, 2.0854561622266394, 2.0873165054091514, 1.1160118686499705, 1.1160118783597985, 1.1160115836997446, 1.1160112531924344, 4.2809031701792835, 2.322395111468175, 2.3223044565742987, 2.331211059182878, 6.497601256220262, 3.779520091595325, 8.243180446541357, 13.713394047347451, 38.22762421762099, 16.8966393937214, 18.57266729707538, 10.597904276515088, 4.897731897024551, 5.018568537160873, 5.056183876790101, 26.453398671163786, 27.940469873055353, 18.843839867373852, 7.095131357416317, 23.301738073267146, 8.110883049196547, 8.356686793360817, 8.730982514829613, 9.940224911294724, 17.31774255033946, 33.41289725341265, 17.620944495787842, 23.012273441638598, 14.11293524968998, 20.2858122485755, 14.16195306715945, 11.42899421663481, 1.7536011566998666, 1.3515718284528373, 1.35222422801055, 1.3563100156615233, 1.3565716067357114, 1.3570947418578407, 0.948790841649118, 0.9487900807642974, 0.9487891633981874, 0.9487890198187573, 0.9487889380194625, 0.948788623632249, 0.9487886345674776, 0.9487884919028853, 0.9487884974408981, 0.9487880797560664, 0.9487874179705922, 0.9487858664706925, 0.9487853403195106, 0.9487847103868052, 0.9487837977323269, 0.9487811430845557, 0.9487808563928317, 0.9487801679557263, 0.948667599061437, 0.9498994123446552, 0.9494085243923771, 0.9491628453995528, 0.9494363650748142, 0.9494099901479813, 4.112643173603842, 0.9500970308355106, 2.519958882907259, 2.681146157200059, 9.321430695864333, 2.9224747187124014, 5.840013757463259, 10.597904276515088, 3.1606373341739142, 16.993772801576487, 3.477046710016941, 4.030832982374444, 4.6709915130211, 4.7645006562679155, 5.034349284560126, 5.173437955446801, 5.380220884522711, 15.847561615809363, 17.31774255033946, 6.058195784851775, 7.095131357416317, 7.2793402170304, 7.875838977653506, 7.7431266837570565, 8.961620161659607, 9.349421099317723, 11.75367621184536, 14.16195306715945, 14.604386895812562, 17.620944495787842, 26.453398671163786, 29.364606313228975, 42.166483135662354, 18.57266729707538, 1.0784392085070673, 1.0787370299384436, 1.0775518764515244, 1.0804682665054917, 0.8126349362619452, 0.8126347295272182, 0.8126346770019697, 0.8126343970253633, 0.8126337085163327, 0.8128839176430747, 0.8128928285597198, 0.8129450936850263, 0.8129434092971765, 0.8129567394305858, 0.8129705692832863, 0.8130712704153904, 0.8131163214093866, 0.8131477315425149, 0.8132035239012254, 0.8135517364359836, 0.8136522342295017, 0.8132317662937382, 0.8136810385054407, 0.8136968945829296, 0.8137204670546924, 0.813727152842407, 0.8137375955315952, 0.8126978910335881, 0.8133045808840854, 0.8137766917957924, 0.8137822230721765, 0.8137820526599026, 1.8402599915039048, 4.045467673442042, 2.8484658789447974, 7.1871879471300355, 3.179716477823496, 16.993772801576487, 17.620944495787842, 5.793963503007496, 5.981732048417671, 6.131511382034215, 7.474057745397518, 29.364606313228975, 42.166483135662354, 9.555318316896056, 10.31489489770293, 11.171422796337973, 12.420197331702337, 18.647891617661422, 20.65439488994253, 23.301738073267146, 27.940469873055353, 38.22762421762099, 26.453398671163786, 6.575712470414279, 13.097902622671862, 3.271726077840754, 0.958565938854298, 0.9596452810379479, 1.9270519324436748, 0.7526171952859735, 0.7526170910054946, 0.7526166970813597, 0.7526165777440927, 0.7526164437952043, 0.7526156507743318, 0.7526155647789681, 0.7526144989534518, 0.7526144144903402, 0.7526954843720653, 0.7529832107991525, 0.7529831011185489, 0.7530014067368985, 0.7527055497190128, 0.7530041351861022, 0.7530080608112142, 0.7527108665949004, 0.7527151084463493, 0.7530442765921213, 0.7530582379478032, 0.7527207900553755, 0.752720339717554, 0.752720372727426, 0.7530714691212501, 0.7530740335716395, 0.7530757856474242, 0.7530755192229945, 3.643011334810666, 1.7214167644472305, 4.2809031701792835, 6.497601256220262, 0.753093697140669, 9.249027268397942, 4.8483092887754, 6.604650856392856, 10.144115279363271, 13.407197405823453, 42.166483135662354, 38.22762421762099, 11.171422796337973, 17.31774255033946, 11.98431044073075, 8.38580537215955, 17.287846109417583, 12.703513939111776, 7.321679449363131, 13.204226998578317, 18.647891617661422, 7.967836107645751, 7.7431266837570565, 13.713394047347451, 20.65439488994253, 18.57266729707538, 6.821490210534218, 3.874093747902502], \"Category\": [\"Default\", \"Default\", \"Default\", \"Default\", \"Default\", \"Default\", \"Default\", \"Default\", \"Default\", \"Default\", \"Default\", \"Default\", \"Default\", \"Default\", \"Default\", \"Default\", \"Default\", \"Default\", \"Default\", \"Default\", \"Default\", \"Default\", \"Default\", \"Default\", \"Default\", \"Default\", \"Default\", \"Default\", \"Default\", \"Default\", \"Topic1\", \"Topic1\", \"Topic1\", \"Topic1\", \"Topic1\", \"Topic1\", \"Topic1\", \"Topic1\", \"Topic1\", \"Topic1\", \"Topic1\", \"Topic1\", \"Topic1\", \"Topic1\", \"Topic1\", \"Topic1\", \"Topic1\", \"Topic1\", \"Topic1\", \"Topic1\", \"Topic1\", \"Topic1\", \"Topic1\", \"Topic1\", \"Topic1\", \"Topic1\", \"Topic1\", \"Topic1\", \"Topic1\", \"Topic1\", \"Topic1\", \"Topic1\", \"Topic1\", \"Topic1\", \"Topic1\", \"Topic1\", \"Topic1\", \"Topic1\", \"Topic1\", \"Topic1\", \"Topic1\", \"Topic1\", \"Topic1\", \"Topic1\", \"Topic1\", \"Topic1\", \"Topic1\", \"Topic1\", \"Topic1\", \"Topic1\", \"Topic1\", \"Topic1\", \"Topic1\", \"Topic1\", \"Topic1\", \"Topic1\", \"Topic1\", \"Topic1\", \"Topic1\", \"Topic1\", \"Topic1\", \"Topic1\", \"Topic1\", \"Topic1\", \"Topic1\", \"Topic1\", \"Topic1\", \"Topic2\", \"Topic2\", \"Topic2\", \"Topic2\", \"Topic2\", \"Topic2\", \"Topic2\", \"Topic2\", \"Topic2\", \"Topic2\", \"Topic2\", \"Topic2\", \"Topic2\", \"Topic2\", \"Topic2\", \"Topic2\", \"Topic2\", \"Topic2\", \"Topic2\", \"Topic2\", \"Topic2\", \"Topic2\", \"Topic2\", \"Topic2\", \"Topic2\", \"Topic2\", \"Topic2\", \"Topic2\", \"Topic2\", \"Topic2\", \"Topic2\", \"Topic2\", \"Topic2\", \"Topic2\", \"Topic2\", \"Topic2\", \"Topic2\", \"Topic2\", \"Topic2\", \"Topic2\", \"Topic2\", \"Topic2\", \"Topic2\", \"Topic2\", \"Topic2\", \"Topic2\", \"Topic2\", \"Topic2\", \"Topic2\", \"Topic2\", \"Topic2\", \"Topic2\", \"Topic2\", \"Topic2\", \"Topic2\", \"Topic2\", \"Topic2\", \"Topic2\", \"Topic2\", \"Topic2\", \"Topic2\", \"Topic2\", \"Topic2\", \"Topic2\", \"Topic2\", \"Topic2\", \"Topic2\", \"Topic2\", \"Topic2\", \"Topic2\", \"Topic3\", \"Topic3\", \"Topic3\", \"Topic3\", \"Topic3\", \"Topic3\", \"Topic3\", \"Topic3\", \"Topic3\", \"Topic3\", \"Topic3\", \"Topic3\", \"Topic3\", \"Topic3\", \"Topic3\", \"Topic3\", \"Topic3\", \"Topic3\", \"Topic3\", \"Topic3\", \"Topic3\", \"Topic3\", \"Topic3\", \"Topic3\", \"Topic3\", \"Topic3\", \"Topic3\", \"Topic3\", \"Topic3\", \"Topic3\", \"Topic3\", \"Topic3\", \"Topic3\", \"Topic3\", \"Topic3\", \"Topic3\", \"Topic3\", \"Topic3\", \"Topic3\", \"Topic3\", \"Topic3\", \"Topic3\", \"Topic3\", \"Topic3\", \"Topic3\", \"Topic3\", \"Topic3\", \"Topic3\", \"Topic3\", \"Topic3\", \"Topic3\", \"Topic3\", \"Topic3\", \"Topic3\", \"Topic3\", \"Topic3\", \"Topic3\", \"Topic3\", \"Topic3\", \"Topic3\", \"Topic3\", \"Topic3\", \"Topic3\", \"Topic3\", \"Topic3\", \"Topic3\", \"Topic3\", \"Topic3\", \"Topic3\", \"Topic3\", \"Topic3\", \"Topic3\", \"Topic3\", \"Topic3\", \"Topic3\", \"Topic3\", \"Topic4\", \"Topic4\", \"Topic4\", \"Topic4\", \"Topic4\", \"Topic4\", \"Topic4\", \"Topic4\", \"Topic4\", \"Topic4\", \"Topic4\", \"Topic4\", \"Topic4\", \"Topic4\", \"Topic4\", \"Topic4\", \"Topic4\", \"Topic4\", \"Topic4\", \"Topic4\", \"Topic4\", \"Topic4\", \"Topic4\", \"Topic4\", \"Topic4\", \"Topic4\", \"Topic4\", \"Topic4\", \"Topic4\", \"Topic4\", \"Topic4\", \"Topic4\", \"Topic4\", \"Topic4\", \"Topic4\", \"Topic4\", \"Topic4\", \"Topic4\", \"Topic4\", \"Topic4\", \"Topic4\", \"Topic4\", \"Topic4\", \"Topic4\", \"Topic4\", \"Topic4\", \"Topic4\", \"Topic4\", \"Topic4\", \"Topic4\", \"Topic4\", \"Topic4\", \"Topic4\", \"Topic4\", \"Topic4\", \"Topic4\", \"Topic4\", \"Topic4\", \"Topic4\", \"Topic4\", \"Topic4\", \"Topic4\", \"Topic4\", \"Topic4\", \"Topic4\", \"Topic4\", \"Topic4\", \"Topic4\", \"Topic4\", \"Topic4\", \"Topic4\", \"Topic5\", \"Topic5\", \"Topic5\", \"Topic5\", \"Topic5\", \"Topic5\", \"Topic5\", \"Topic5\", \"Topic5\", \"Topic5\", \"Topic5\", \"Topic5\", \"Topic5\", \"Topic5\", \"Topic5\", \"Topic5\", \"Topic5\", \"Topic5\", \"Topic5\", \"Topic5\", \"Topic5\", \"Topic5\", \"Topic5\", \"Topic5\", \"Topic5\", \"Topic5\", \"Topic5\", \"Topic5\", \"Topic5\", \"Topic5\", \"Topic5\", \"Topic5\", \"Topic5\", \"Topic5\", \"Topic5\", \"Topic5\", \"Topic5\", \"Topic5\", \"Topic5\", \"Topic5\", \"Topic5\", \"Topic5\", \"Topic5\", \"Topic5\", \"Topic5\", \"Topic5\", \"Topic5\", \"Topic5\", \"Topic5\", \"Topic5\", \"Topic5\", \"Topic5\", \"Topic5\", \"Topic5\", \"Topic5\", \"Topic5\", \"Topic5\", \"Topic5\", \"Topic6\", \"Topic6\", \"Topic6\", \"Topic6\", \"Topic6\", \"Topic6\", \"Topic6\", \"Topic6\", \"Topic6\", \"Topic6\", \"Topic6\", \"Topic6\", \"Topic6\", \"Topic6\", \"Topic6\", \"Topic6\", \"Topic6\", \"Topic6\", \"Topic6\", \"Topic6\", \"Topic6\", \"Topic6\", \"Topic6\", \"Topic6\", \"Topic6\", \"Topic6\", \"Topic6\", \"Topic6\", \"Topic6\", \"Topic6\", \"Topic6\", \"Topic6\", \"Topic6\", \"Topic6\", \"Topic6\", \"Topic6\", \"Topic6\", \"Topic6\", \"Topic6\", \"Topic6\", \"Topic6\", \"Topic6\", \"Topic6\", \"Topic6\", \"Topic6\", \"Topic6\", \"Topic6\", \"Topic6\", \"Topic6\", \"Topic6\", \"Topic6\", \"Topic6\", \"Topic6\", \"Topic6\", \"Topic6\", \"Topic6\", \"Topic6\", \"Topic6\", \"Topic6\", \"Topic6\", \"Topic6\", \"Topic6\", \"Topic6\", \"Topic6\", \"Topic7\", \"Topic7\", \"Topic7\", \"Topic7\", \"Topic7\", \"Topic7\", \"Topic7\", \"Topic7\", \"Topic7\", \"Topic7\", \"Topic7\", \"Topic7\", \"Topic7\", \"Topic7\", \"Topic7\", \"Topic7\", \"Topic7\", \"Topic7\", \"Topic7\", \"Topic7\", \"Topic7\", \"Topic7\", \"Topic7\", \"Topic7\", \"Topic7\", \"Topic7\", \"Topic7\", \"Topic7\", \"Topic7\", \"Topic7\", \"Topic7\", \"Topic7\", \"Topic7\", \"Topic7\", \"Topic7\", \"Topic7\", \"Topic7\", \"Topic7\", \"Topic7\", \"Topic7\", \"Topic7\", \"Topic7\", \"Topic7\", \"Topic7\", \"Topic7\", \"Topic7\", \"Topic7\", \"Topic7\", \"Topic7\", \"Topic7\", \"Topic7\", \"Topic7\", \"Topic7\", \"Topic7\", \"Topic7\", \"Topic7\", \"Topic7\", \"Topic7\", \"Topic7\", \"Topic7\", \"Topic7\", \"Topic7\", \"Topic8\", \"Topic8\", \"Topic8\", \"Topic8\", \"Topic8\", \"Topic8\", \"Topic8\", \"Topic8\", \"Topic8\", \"Topic8\", \"Topic8\", \"Topic8\", \"Topic8\", \"Topic8\", \"Topic8\", \"Topic8\", \"Topic8\", \"Topic8\", \"Topic8\", \"Topic8\", \"Topic8\", \"Topic8\", \"Topic8\", \"Topic8\", \"Topic8\", \"Topic8\", \"Topic8\", \"Topic8\", \"Topic8\", \"Topic8\", \"Topic8\", \"Topic8\", \"Topic8\", \"Topic8\", \"Topic8\", \"Topic8\", \"Topic8\", \"Topic8\", \"Topic8\", \"Topic8\", \"Topic8\", \"Topic8\", \"Topic8\", \"Topic8\", \"Topic8\", \"Topic8\", \"Topic8\", \"Topic8\", \"Topic8\", \"Topic8\", \"Topic8\", \"Topic8\", \"Topic8\", \"Topic8\", \"Topic8\", \"Topic8\", \"Topic8\", \"Topic8\", \"Topic8\", \"Topic8\", \"Topic8\", \"Topic8\", \"Topic8\", \"Topic8\", \"Topic9\", \"Topic9\", \"Topic9\", \"Topic9\", \"Topic9\", \"Topic9\", \"Topic9\", \"Topic9\", \"Topic9\", \"Topic9\", \"Topic9\", \"Topic9\", \"Topic9\", \"Topic9\", \"Topic9\", \"Topic9\", \"Topic9\", \"Topic9\", \"Topic9\", \"Topic9\", \"Topic9\", \"Topic9\", \"Topic9\", \"Topic9\", \"Topic9\", \"Topic9\", \"Topic9\", \"Topic9\", \"Topic9\", \"Topic9\", \"Topic9\", \"Topic9\", \"Topic9\", \"Topic9\", \"Topic9\", \"Topic9\", \"Topic9\", \"Topic9\", \"Topic9\", \"Topic9\", \"Topic9\", \"Topic9\", \"Topic9\", \"Topic9\", \"Topic9\", \"Topic9\", \"Topic9\", \"Topic9\", \"Topic9\", \"Topic9\", \"Topic9\", \"Topic9\", \"Topic9\", \"Topic9\", \"Topic9\", \"Topic9\", \"Topic9\", \"Topic9\", \"Topic10\", \"Topic10\", \"Topic10\", \"Topic10\", \"Topic10\", \"Topic10\", \"Topic10\", \"Topic10\", \"Topic10\", \"Topic10\", \"Topic10\", \"Topic10\", \"Topic10\", \"Topic10\", \"Topic10\", \"Topic10\", \"Topic10\", \"Topic10\", \"Topic10\", \"Topic10\", \"Topic10\", \"Topic10\", \"Topic10\", \"Topic10\", \"Topic10\", \"Topic10\", \"Topic10\", \"Topic10\", \"Topic10\", \"Topic10\", \"Topic10\", \"Topic10\", \"Topic10\", \"Topic10\", \"Topic10\", \"Topic10\", \"Topic10\", \"Topic10\", \"Topic10\", \"Topic10\", \"Topic10\", \"Topic10\", \"Topic10\", \"Topic10\", \"Topic10\", \"Topic10\", \"Topic10\", \"Topic10\", \"Topic10\", \"Topic10\", \"Topic10\", \"Topic10\", \"Topic10\", \"Topic10\", \"Topic10\", \"Topic10\", \"Topic10\", \"Topic10\"], \"logprob\": [30.0, 29.0, 28.0, 27.0, 26.0, 25.0, 24.0, 23.0, 22.0, 21.0, 20.0, 19.0, 18.0, 17.0, 16.0, 15.0, 14.0, 13.0, 12.0, 11.0, 10.0, 9.0, 8.0, 7.0, 6.0, 5.0, 4.0, 3.0, 2.0, 1.0, -5.7875, -6.292, -6.4709, -6.6879, -6.6891, -6.689, -6.9651, -6.9656, -6.9658, -6.0051, -6.9663, -6.9684, -6.9687, -6.969, -6.1393, -6.6893, -7.3519, -7.3527, -7.3538, -7.354, -7.3548, -7.3546, -7.3552, -7.3549, -7.3555, -7.3558, -7.3556, -7.3556, -7.3566, -7.3569, -7.3566, -6.6887, -6.4706, -4.9148, -5.2581, -6.6855, -6.1384, -6.6879, -6.6883, -6.6887, -6.4677, -6.0065, -5.3824, -6.968, -6.9656, -5.3164, -5.6906, -6.1381, -5.691, -6.005, -5.4505, -6.1386, -6.1356, -6.2897, -5.8853, -6.1374, -6.0049, -6.1359, -6.137, -6.1344, -6.4662, -6.2885, -6.4678, -6.4649, -6.4645, -6.466, -6.4671, -6.4324, -6.4343, -6.6502, -6.6506, -6.6509, -6.6517, -6.9294, -6.9299, -6.9299, -6.9305, -6.934, -5.5689, -7.3158, -7.3176, -7.318, -7.318, -7.3182, -7.3185, -7.3185, -7.3188, -7.3191, -7.3191, -7.3192, -7.3192, -7.3199, -7.3193, -7.3194, -7.3194, -7.3195, -7.3195, -6.6496, -6.4324, -6.6518, -6.9292, -6.9304, -6.2538, -6.4317, -5.9691, -6.2535, -6.9288, -5.7479, -5.9688, -5.8525, -6.9297, -6.099, -6.1012, -6.93, -6.2533, -6.103, -6.1011, -6.4316, -6.0997, -6.1005, -5.9674, -6.4318, -5.8521, -6.101, -6.2522, -6.1013, -6.1017, -5.9657, -6.1004, -6.2518, -6.2535, -6.2536, -6.2552, -6.2477, -6.2494, -6.4302, -6.4307, -6.5434, -6.9303, -6.9324, -6.9325, -6.9328, -6.9329, -6.9336, -6.9334, -6.9331, -6.9331, -6.9333, -6.9335, -6.9348, -6.9352, -6.935, -6.9355, -6.9353, -6.9353, -6.9308, -7.5739, -7.574, -7.574, -7.574, -7.574, -7.5741, -7.5741, -7.5741, -7.5741, -7.5742, -7.5742, -6.9326, -6.5418, -5.8662, -6.9356, -6.261, -6.9302, -6.9311, -6.9334, -6.934, -6.9331, -6.0474, -6.0433, -5.8657, -6.2628, -5.8651, -6.5439, -6.5407, -6.0427, -6.0446, -5.3599, -6.046, -6.0465, -6.2631, -6.0445, -6.5425, -5.865, -6.0422, -6.0411, -6.5423, -6.5436, -6.0423, -6.2613, -6.5426, -6.542, -6.5434, -6.0441, -6.2562, -6.2594, -6.2626, -6.2611, -6.2566, -6.534, -6.5371, -6.5371, -6.5376, -6.5379, -6.0299, -6.2474, -6.5271, -6.5273, -6.5274, -6.5274, -6.5276, -5.8507, -6.9135, -6.9158, -6.9163, -6.9165, -6.9165, -6.9166, -6.9166, -6.9166, -6.9168, -6.917, -6.9168, -6.9169, -6.917, -6.9171, -6.9171, -6.917, -6.9172, -6.9171, -6.9171, -6.9171, -6.9172, -6.9172, -6.2474, -6.5273, -5.5661, -6.0296, -6.2475, -5.6974, -6.2476, -6.5266, -5.8502, -6.5274, -6.2467, -6.0296, -6.5275, -5.849, -6.0291, -5.6897, -6.5221, -6.0261, -6.5255, -6.5271, -6.0273, -6.238, -6.2461, -5.5575, -5.5598, -6.0272, -6.2468, -6.2324, -5.8402, -6.2455, -6.0265, -6.2409, -6.2442, -6.2463, -6.2388, -6.2392, -6.2418, -6.2424, -6.2427, -6.2443, -6.2444, -5.6504, -5.8017, -5.8021, -5.9809, -6.1993, -6.1994, -6.4782, -6.4788, -6.4789, -6.479, -6.4794, -6.4794, -6.8638, -6.8679, -6.8678, -6.8682, -6.868, -6.868, -6.8682, -6.8681, -6.8679, -6.8686, -6.8681, -6.8685, -6.8686, -6.8685, -6.8683, -6.8684, -6.8686, -6.8683, -5.8022, -6.1992, -5.8014, -6.4773, -5.6489, -6.4788, -6.1973, -5.9773, -5.9803, -5.9793, -6.1943, -6.1982, -6.4778, -6.4758, -5.7963, -5.643, -6.1974, -6.1963, -5.9782, -6.1936, -5.9738, -6.195, -6.1953, -6.1947, -6.1928, -6.4696, -6.4706, -6.4727, -6.152, -6.1525, -6.4316, -6.8163, -6.8164, -6.8172, -6.819, -6.819, -6.8195, -6.818, -6.8182, -6.8206, -6.8201, -6.8208, -6.8205, -6.8206, -6.8211, -6.8209, -6.8212, -6.8214, -6.8215, -6.8213, -6.8216, -5.9334, -6.1516, -6.4292, -6.4316, -7.4611, -7.4611, -7.4611, -6.8162, -6.8205, -6.8194, -6.4269, -6.1509, -5.4676, -5.5987, -5.2444, -5.602, -5.2453, -5.9326, -5.7502, -6.1507, -6.1468, -6.4239, -6.1467, -6.4312, -5.5929, -6.4286, -6.1409, -5.9276, -6.1488, -6.4205, -6.1424, -6.4267, -6.4294, -6.4262, -6.423, -6.4224, -6.422, -6.424, -6.4244, -6.426, -6.4266, -5.0622, -5.8405, -6.3384, -6.3388, -6.3387, -6.7277, -6.7279, -6.728, -6.7282, -6.7283, -6.7284, -6.7284, -6.7283, -6.7284, -6.7276, -6.7286, -6.7289, -6.7284, -6.7285, -6.0584, -6.0592, -6.7282, -6.3389, -6.3374, -6.728, -6.7275, -7.3692, -7.3692, -7.3692, -7.3692, -6.059, -6.7278, -6.7283, -6.7278, -5.8406, -6.3381, -5.8396, -5.6603, -5.1551, -5.8386, -5.8387, -6.0581, -6.3378, -6.3378, -6.3382, -5.838, -5.8386, -6.0557, -6.3369, -6.0573, -6.3354, -6.3378, -6.3365, -6.336, -6.3322, -6.3324, -6.3326, -6.3333, -6.3334, -6.3358, -6.3366, -6.3369, -6.0145, -6.4033, -6.4044, -6.4138, -6.4139, -6.4156, -7.0453, -7.0453, -7.0453, -7.0453, -7.0453, -7.0453, -7.0453, -7.0453, -7.0453, -7.0453, -7.0453, -7.0453, -7.0453, -7.0453, -7.0453, -7.0453, -7.0453, -7.0453, -7.0456, -7.048, -7.0488, -7.0492, -7.049, -7.0491, -5.7409, -7.0485, -6.4039, -6.4046, -5.7346, -6.3995, -6.0177, -5.7306, -6.4009, -5.5326, -6.4094, -6.4313, -6.4022, -6.4005, -6.4039, -6.4009, -6.4019, -6.0059, -6.0113, -6.4019, -6.4085, -6.4189, -6.4018, -6.4084, -6.4136, -6.4021, -6.3984, -6.3959, -6.3959, -6.394, -6.3913, -6.3931, -6.398, -6.3991, -6.2002, -6.2008, -6.2019, -6.2006, -6.8443, -6.8443, -6.8443, -6.8443, -6.8443, -6.8449, -6.8449, -6.8451, -6.8451, -6.8451, -6.8451, -6.8454, -6.8455, -6.8456, -6.8457, -6.846, -6.8461, -6.8467, -6.8462, -6.8462, -6.8463, -6.8463, -6.8463, -6.8477, -6.8469, -6.8464, -6.8464, -6.8464, -6.2011, -5.8118, -6.1999, -5.8116, -6.2005, -5.806, -5.8067, -6.197, -6.2005, -6.1968, -6.1899, -5.8029, -5.7977, -6.1977, -6.1967, -6.2018, -6.1939, -6.1884, -6.1894, -6.1896, -6.1851, -6.1873, -6.819, -6.8349, -6.8359, -6.8362, -6.121, -6.123, -5.7322, -6.7661, -6.7661, -6.7661, -6.7661, -6.7661, -6.7661, -6.7661, -6.7661, -6.7661, -6.7673, -6.767, -6.767, -6.767, -6.7674, -6.7671, -6.7671, -6.7675, -6.7676, -6.7672, -6.7672, -6.7677, -6.7677, -6.7677, -6.7672, -6.7672, -6.7672, -6.7672, -5.4525, -6.1221, -5.4533, -5.4523, -6.7673, -5.7313, -6.1208, -6.1225, -6.1164, -6.1167, -6.1059, -6.7439, -6.7536, -6.7545, -6.7547, -6.7572, -6.7584, -6.7589, -6.7606, -6.7607, -6.7612, -6.7614, -6.7615, -6.7616, -6.7617, -6.762, -6.7621, -6.7629], \"loglift\": [30.0, 29.0, 28.0, 27.0, 26.0, 25.0, 24.0, 23.0, 22.0, 21.0, 20.0, 19.0, 18.0, 17.0, 16.0, 15.0, 14.0, 13.0, 12.0, 11.0, 10.0, 9.0, 8.0, 7.0, 6.0, 5.0, 4.0, 3.0, 2.0, 1.0, 1.5009, 1.4637, 1.446, 1.4212, 1.4203, 1.4202, 1.3821, 1.3817, 1.3809, 1.3808, 1.3807, 1.3795, 1.3789, 1.3788, 1.3562, 1.3145, 1.3079, 1.3071, 1.3062, 1.3061, 1.3059, 1.3055, 1.3054, 1.3054, 1.3052, 1.305, 1.3049, 1.3048, 1.3042, 1.304, 1.304, 1.2292, 1.1098, 0.7375, 0.756, 1.1349, 0.9726, 1.126, 1.1201, 1.1161, 1.0384, 0.8845, 0.6814, 1.1823, 1.1764, 0.5686, 0.6934, 0.8244, 0.5669, 0.7384, 0.2998, 0.6082, 0.577, 0.7046, 0.2333, 0.4163, 0.2405, 0.3982, 0.3208, 0.2316, 0.8346, 0.2783, 0.7135, 0.524, 0.0966, 0.4337, 0.4907, 1.4884, 1.4868, 1.4625, 1.4623, 1.4619, 1.4614, 1.4214, 1.4213, 1.421, 1.4205, 1.4179, 1.4163, 1.3479, 1.3466, 1.3463, 1.3461, 1.3461, 1.346, 1.3458, 1.3456, 1.3455, 1.3451, 1.3451, 1.345, 1.345, 1.345, 1.345, 1.345, 1.3449, 1.3448, 1.2997, 1.2346, 1.2532, 1.2888, 1.2884, 1.1678, 1.1424, 1.0114, 1.058, 1.2396, 0.8897, 0.9275, 0.8877, 1.2183, 0.9391, 0.9347, 1.2156, 0.9345, 0.8637, 0.8397, 0.963, 0.6984, 0.6751, 0.5008, 0.9226, 0.2664, 0.5299, 0.6475, 0.4598, 0.4422, 0.0484, 0.1574, 0.495, 0.2887, 0.2041, 0.1288, -0.0023, -0.499, 0.1234, 0.8199, 1.9381, 1.8516, 1.8501, 1.8499, 1.8499, 1.8494, 1.8493, 1.8493, 1.8492, 1.8491, 1.8489, 1.8488, 1.8485, 1.8485, 1.8482, 1.8482, 1.8481, 1.8481, 1.7456, 1.641, 1.641, 1.6409, 1.6409, 1.6409, 1.6408, 1.6408, 1.6408, 1.6408, 1.6408, 1.6408, 1.581, 1.5298, 1.4271, 1.5576, 1.4639, 1.5545, 1.5533, 1.552, 1.5515, 1.5513, 1.335, 1.2752, 1.1724, 1.2378, 1.0452, 1.3631, 1.3574, 1.0878, 1.0157, 0.525, 0.9429, 0.8281, 1.0042, 0.6681, 1.2861, 0.2536, 0.5189, 0.4311, 1.2276, 1.2285, 0.3237, 0.6734, 1.1686, 1.1612, 1.1289, 0.2013, 0.2686, 0.2747, 0.2056, -0.1973, -0.6043, -0.7836, -0.1531, 0.0165, -0.2797, -0.0802, 2.0436, 2.0134, 1.9641, 1.9641, 1.964, 1.9639, 1.9637, 1.9043, 1.8777, 1.8756, 1.8752, 1.8752, 1.8752, 1.8751, 1.875, 1.8749, 1.8748, 1.8746, 1.8746, 1.8746, 1.8745, 1.8745, 1.8744, 1.8744, 1.8744, 1.8744, 1.8743, 1.8743, 1.8743, 1.8743, 1.8364, 1.8134, 1.6272, 1.7016, 1.6941, 1.5297, 1.6709, 1.7576, 1.5361, 1.7394, 1.6058, 1.4722, 1.6934, 1.3215, 1.374, 1.1237, 1.6256, 1.2447, 1.5346, 1.482, 0.9508, 1.1656, 1.1742, 0.1928, 0.0925, 0.7943, 1.1076, 1.0609, 0.0448, 1.0764, 0.2188, 0.96, 0.8925, 0.8635, -0.2247, 0.1267, -0.178, 0.3885, 0.2254, 0.5538, 0.4957, 2.1559, 2.14, 2.1394, 2.1181, 2.0859, 2.0858, 2.0361, 2.0355, 2.0354, 2.0354, 2.0352, 2.0349, 1.9477, 1.9441, 1.9441, 1.9441, 1.9441, 1.944, 1.944, 1.944, 1.9439, 1.9439, 1.9439, 1.9439, 1.9438, 1.9437, 1.9437, 1.9437, 1.9436, 1.9436, 1.8334, 1.8404, 1.748, 1.7991, 1.3577, 1.7597, 1.5943, 1.4378, 1.2033, 1.1574, 1.2244, 1.2106, 1.4678, 1.4132, 0.2675, 0.0092, 0.8906, 0.8369, 0.3878, 0.804, 0.1447, 0.3718, 0.3469, 0.3394, -0.4425, -0.2117, 0.5062, -0.0005, 2.1598, 2.1593, 2.1077, 2.0178, 2.0178, 2.017, 2.0168, 2.0168, 2.0166, 2.016, 2.016, 2.014, 2.0139, 2.0138, 2.0138, 2.0137, 2.0135, 2.0135, 2.0133, 2.0133, 2.0132, 2.0131, 2.0131, 1.9975, 1.9691, 1.8294, 1.8268, 1.7939, 1.7939, 1.7939, 1.7372, 1.7329, 1.7038, 1.6126, 1.5335, 1.0763, 0.9549, 0.6405, 0.9228, 0.505, 1.1444, 0.8166, 1.1871, 1.1574, 1.4926, 1.0346, 1.4131, 0.0594, 1.3565, 0.8258, 0.4384, 0.828, 1.0145, 0.103, 0.7427, 0.7208, 0.6711, 0.5745, 0.4296, 0.0502, 0.0441, 0.4859, 0.4389, 0.3715, 2.4156, 2.3333, 2.244, 2.2436, 2.2435, 2.1454, 2.1451, 2.145, 2.1449, 2.1448, 2.1448, 2.1448, 2.1447, 2.1445, 2.1444, 2.1443, 2.1442, 2.1441, 2.144, 2.0602, 2.0419, 2.0301, 1.9904, 1.9531, 1.9309, 1.9306, 1.915, 1.915, 1.915, 1.915, 1.8808, 1.8235, 1.823, 1.8197, 1.6819, 1.7262, 1.4449, 1.1152, 0.5952, 0.7282, 0.6336, 0.9752, 1.4673, 1.443, 1.4351, 0.2806, 0.2252, 0.402, 1.0976, 0.1881, 0.9653, 0.933, 0.8905, 0.7613, 0.21, -0.4474, 0.1922, -0.0754, 0.4134, 0.0482, 0.4068, 0.6209, 2.8177, 2.6893, 2.6878, 2.6753, 2.675, 2.6729, 2.4012, 2.4012, 2.4012, 2.4012, 2.4012, 2.4012, 2.4012, 2.4012, 2.4012, 2.4012, 2.4012, 2.4012, 2.4012, 2.4012, 2.4012, 2.4012, 2.4012, 2.4012, 2.4011, 2.3973, 2.397, 2.3969, 2.3968, 2.3967, 2.239, 2.3966, 2.0657, 2.003, 1.427, 1.922, 1.6115, 1.3026, 1.8422, 1.0285, 1.7383, 1.5686, 1.4503, 1.4323, 1.3737, 1.3495, 1.3093, 0.625, 0.5308, 1.1906, 1.026, 0.99, 0.9283, 0.9387, 0.7874, 0.7565, 0.5313, 0.3475, 0.3167, 0.1308, -0.2728, -0.3789, -0.7457, 0.0732, 3.1182, 3.1173, 3.1173, 3.1159, 2.7571, 2.7571, 2.7571, 2.7571, 2.7571, 2.7562, 2.7561, 2.7559, 2.7559, 2.7559, 2.7559, 2.7555, 2.7553, 2.7552, 2.755, 2.7543, 2.754, 2.754, 2.7539, 2.7538, 2.7538, 2.7538, 2.7537, 2.7536, 2.7536, 2.7536, 2.7536, 2.7536, 2.5829, 2.1846, 2.1473, 1.61, 2.0366, 0.7551, 0.7181, 1.4401, 1.4047, 1.3837, 1.1926, 0.2112, -0.1454, 0.9391, 0.8636, 0.7788, 0.6807, 0.2798, 0.1766, 0.0557, -0.1212, -0.4369, -0.7004, 0.6756, -0.0144, 1.3724, 3.3152, 3.3121, 3.0057, 2.912, 2.912, 2.912, 2.912, 2.912, 2.912, 2.912, 2.912, 2.912, 2.9107, 2.9106, 2.9106, 2.9106, 2.9105, 2.9105, 2.9105, 2.9105, 2.9104, 2.9104, 2.9103, 2.9103, 2.9103, 2.9103, 2.9103, 2.9103, 2.9103, 2.9103, 2.6486, 2.7287, 2.4864, 2.0701, 2.9102, 1.4381, 1.6945, 1.3836, 0.9606, 0.6814, -0.4536, -0.9936, 0.2269, -0.2124, 0.1557, 0.5102, -0.2145, 0.0932, 0.6425, 0.0527, -0.2931, 0.5571, 0.5856, 0.0139, -0.3958, -0.2898, 0.7117, 1.2767]}, \"token.table\": {\"Topic\": [6, 6, 2, 3, 4, 6, 4, 1, 2, 3, 4, 7, 4, 7, 7, 1, 2, 3, 4, 5, 6, 7, 8, 9, 5, 4, 7, 1, 2, 3, 6, 8, 1, 2, 2, 4, 2, 3, 4, 5, 6, 7, 8, 7, 5, 7, 8, 3, 6, 1, 4, 6, 7, 6, 2, 4, 5, 7, 8, 1, 2, 3, 4, 5, 1, 3, 5, 8, 4, 2, 3, 1, 2, 4, 5, 7, 1, 2, 3, 4, 5, 6, 9, 2, 3, 6, 7, 8, 2, 7, 8, 1, 2, 3, 4, 1, 2, 5, 6, 7, 1, 1, 2, 4, 5, 6, 7, 1, 2, 3, 4, 5, 6, 6, 6, 3, 1, 2, 3, 6, 1, 2, 3, 5, 6, 1, 3, 4, 5, 7, 2, 3, 6, 2, 6, 6, 2, 5, 7, 8, 3, 4, 5, 8, 6, 3, 4, 5, 4, 7, 7, 1, 2, 3, 4, 5, 7, 1, 3, 1, 4, 5, 8, 4, 6, 4, 1, 2, 3, 7, 7, 7, 1, 2, 3, 5, 5, 3, 4, 4, 6, 3, 8, 1, 2, 3, 5, 7, 1, 2, 3, 7, 1, 2, 3, 5, 7, 2, 1, 2, 4, 5, 7, 3, 1, 2, 4, 7, 9, 2, 7, 6, 7, 3, 3, 2, 8, 2, 4, 1, 2, 4, 1, 2, 4, 6, 7, 5, 1, 2, 3, 4, 5, 6, 1, 2, 3, 4, 5, 6, 9, 6, 3, 4, 3, 2, 6, 7, 1, 5, 6, 2, 6, 1, 1, 1, 4, 7, 2, 2, 7, 5, 2, 4, 6, 7, 2, 5, 5, 5, 2, 4, 5, 1, 3, 4, 4, 4, 5, 1, 4, 2, 3, 5, 6, 2, 1, 3, 4, 1, 2, 3, 6, 7, 2, 3, 4, 6, 4, 6, 7, 3, 7, 1, 6, 9, 1, 2, 7, 1, 3, 1, 2, 5, 1, 3, 4, 2, 3, 4, 6, 2, 4, 5, 1, 1, 6, 6, 2, 4, 5, 6, 7, 1, 2, 3, 4, 5, 6, 7, 8, 9, 1, 1, 1, 2, 3, 5, 6, 7, 8, 1, 2, 3, 4, 5, 6, 7, 3, 1, 2, 3, 4, 5, 8, 2, 6, 1, 1, 4, 7, 1, 2, 3, 4, 8, 1, 3, 3, 1, 2, 3, 4, 8, 1, 2, 3, 4, 5, 6, 2, 6, 1, 2, 3, 4, 5, 6, 7, 9, 2, 7, 5, 5, 1, 2, 3, 4, 5, 1, 2, 3, 4, 5, 7, 3, 1, 3, 2, 4, 4, 1, 2, 3, 4, 5, 6, 4, 5, 6, 7, 8, 1, 4, 4, 8, 2, 4, 7, 5, 1, 2, 3, 4, 9, 6, 1, 2, 3, 6, 10, 1, 2, 3, 4, 6, 7, 6, 1, 2, 3, 4, 5, 6, 3, 4, 2, 4, 8, 8, 2, 1, 2, 3, 4, 5, 6, 7, 8, 4, 7, 10, 7, 10, 4, 2, 4, 5, 6, 7, 1, 2, 3, 4, 6, 7, 2, 3, 7, 1, 2, 3, 4, 6, 3, 1, 2, 3, 4, 5, 6, 2, 3, 5, 9, 2, 6, 1, 3, 6, 7, 1, 1, 1, 2, 5, 8, 2, 6, 6, 1, 3, 1, 5, 1, 7, 7, 8, 1, 2, 10, 2, 3, 4, 6, 7, 1, 2, 4, 5, 6, 7, 1, 4, 1, 2, 3, 5, 6, 6, 1, 2, 3, 1, 2, 3, 4, 5, 6, 7, 3, 7, 1, 2, 3, 1, 2, 4, 5, 8, 1, 7, 9, 2, 4, 6, 7, 2, 3, 5, 6, 2, 9, 1, 3, 5, 6, 7, 9, 1, 5, 1, 3, 4, 3, 4, 5, 2, 2, 3, 5, 2, 4, 7, 3, 7, 1, 2, 3, 4, 1, 2, 3, 4, 5, 6, 7, 8, 9, 3, 3, 5, 1, 5, 6, 9, 2, 1, 2, 3, 4, 5, 7, 8, 1, 1, 2, 3, 4, 5, 6, 7, 8, 7, 1, 1, 3, 4, 5, 1, 2, 3, 4, 5, 7, 8, 2, 1, 2, 4, 6, 7, 1, 2, 3, 4, 5, 6, 7, 4, 7, 1, 2, 3, 4, 5, 6, 7, 9, 1, 2, 4, 1, 2, 3, 4, 5, 6, 2, 3, 5, 8, 1, 5, 1, 4, 1, 2, 3, 5, 6, 6, 7, 1, 1, 2, 3, 4, 7, 9, 6, 1, 2, 3, 4, 5, 6, 9, 1, 2, 4, 7, 9, 4, 1, 2, 3, 4, 7, 8, 9, 8, 3, 4, 9, 1, 2, 3, 1, 2, 3, 5, 7, 1, 2, 3, 4, 7, 8, 4, 4, 2, 9, 1, 2, 3, 4, 5, 6, 7, 6, 1, 1, 7, 6, 1, 2, 3, 4, 7, 1, 2, 3, 4, 5, 6, 7, 7, 1, 2, 3, 4, 5, 6, 7, 6, 1, 2, 3, 4, 5, 6, 7, 1, 2, 7, 4, 5, 6, 1, 7, 5, 5, 2, 1, 2, 3, 4, 6, 7, 2, 5, 3, 2, 6, 3, 4, 5, 1, 2, 3, 4, 5, 6, 7, 9, 1, 5, 2, 3, 3, 3, 1, 2, 4, 5, 2, 7, 1, 3, 6, 7, 2, 5, 5, 1, 7, 1, 6, 7, 9, 5, 3, 4, 4, 5, 5, 6, 4, 5, 4, 1, 2, 3, 5, 6, 7, 1, 2, 3, 4, 5, 7, 8, 6, 7, 8, 2, 7, 10, 2, 7, 4, 1, 3, 4, 5, 3, 5, 2, 4, 6, 4, 2, 5, 1, 2, 3, 4, 5, 6, 7, 1, 3, 4, 5, 9, 2, 4, 5, 7, 1, 3, 4, 5, 6, 4, 4, 3, 1, 2, 3, 4, 7, 1, 2, 3, 1, 2, 3, 6, 7, 1, 2, 3, 6, 7, 7, 7, 3, 5, 5, 9, 1, 2, 3, 4, 6, 7, 6, 2, 4, 7, 1, 2, 3, 4, 6, 7, 9, 2, 7, 4, 1, 2, 3, 4, 6, 7, 2, 1, 3, 5, 6, 7, 1, 5, 7, 1, 2, 4, 6, 6, 7, 2, 3, 6, 7, 4, 5, 7, 5, 1, 2, 3, 4, 6, 7, 1, 2, 7, 1, 2, 3, 4, 5, 6, 7, 2, 1, 2, 3, 4, 5, 6, 7, 8, 3, 5, 3, 1, 2, 4, 1, 6, 8, 1, 2, 4, 5, 6, 7, 3, 7, 2, 2, 1, 2, 4, 7, 2, 1, 2, 3, 3, 1, 2, 3, 4, 5, 6, 7, 4, 4, 5, 5, 1, 2, 3, 4, 7, 8, 1, 4, 1, 2, 4, 5, 7, 1, 5, 7, 8], \"Freq\": [0.5714251441765766, 0.5714573164035809, 0.27316137149024844, 0.13658068574512422, 0.40974205723537266, 0.13658068574512422, 0.5474509878817034, 0.749007760980015, 0.149801552196003, 0.4031314530386364, 0.4031314530386364, 0.479084028420492, 0.4305899521842425, 0.4305899521842425, 0.47951139808774546, 0.1135012938993188, 0.1135012938993188, 0.1702519408489782, 0.1135012938993188, 0.0567506469496594, 0.2270025877986376, 0.1135012938993188, 0.0567506469496594, 0.0567506469496594, 0.558550338089911, 0.6593614931074266, 0.3296807465537133, 0.20800554564525484, 0.20800554564525484, 0.31200831846788224, 0.10400277282262742, 0.10400277282262742, 0.9608453980212751, 0.9644388950935865, 0.7075298439559704, 0.2358432813186568, 0.2818834351684642, 0.1409417175842321, 0.1409417175842321, 0.1409417175842321, 0.1409417175842321, 0.2818834351684642, 0.1409417175842321, 0.5933629935364672, 0.31639188374687943, 0.31639188374687943, 0.31639188374687943, 0.8361210492937285, 0.5714123779758935, 0.20417614132931933, 0.20417614132931933, 0.20417614132931933, 0.40835228265863865, 0.5716085936578471, 0.28307483458290783, 0.0943582781943026, 0.28307483458290783, 0.1887165563886052, 0.1887165563886052, 0.19754212996421072, 0.19754212996421072, 0.39508425992842144, 0.19754212996421072, 0.8298719896930289, 0.6145016845651284, 0.2048338948550428, 0.2048338948550428, 0.7398792864340134, 0.8110509976190524, 0.5739893187142512, 0.2869946593571256, 0.11966464996563896, 0.2393292999312779, 0.35899394989691685, 0.11966464996563896, 0.2393292999312779, 0.2415420560462878, 0.16102803736419186, 0.2415420560462878, 0.08051401868209593, 0.08051401868209593, 0.08051401868209593, 0.08051401868209593, 0.33013129172895056, 0.16506564586447528, 0.16506564586447528, 0.16506564586447528, 0.16506564586447528, 0.3729748179951172, 0.3729748179951172, 0.3729748179951172, 0.12462992785003463, 0.6231496392501732, 0.12462992785003463, 0.12462992785003463, 0.43766168193148663, 0.10941542048287166, 0.10941542048287166, 0.21883084096574332, 0.10941542048287166, 0.8301722887090173, 0.34998705259453466, 0.17499352629726733, 0.17499352629726733, 0.08749676314863367, 0.08749676314863367, 0.17499352629726733, 0.09104816820775126, 0.2731445046232538, 0.09104816820775126, 0.09104816820775126, 0.2731445046232538, 0.18209633641550252, 0.5713987647691204, 0.8703177199983243, 0.5432014835100298, 0.4395765192824073, 0.3516612154259259, 0.08791530385648147, 0.08791530385648147, 0.23849826119741566, 0.23849826119741566, 0.35774739179612347, 0.11924913059870783, 0.11924913059870783, 0.30558511640529823, 0.10186170546843273, 0.30558511640529823, 0.20372341093686547, 0.10186170546843273, 0.22406550468717074, 0.44813100937434147, 0.22406550468717074, 0.9635833628965129, 0.8703175691111313, 0.5722630444992872, 0.24315262904846577, 0.24315262904846577, 0.24315262904846577, 0.48630525809693154, 0.37173194984492236, 0.18586597492246118, 0.18586597492246118, 0.18586597492246118, 0.5713642899597269, 0.22868648843232933, 0.686059465296988, 0.22868648843232933, 0.547462743618389, 0.8881962282313022, 0.5940729601157408, 0.11073262625547971, 0.11073262625547971, 0.11073262625547971, 0.5536631312773985, 0.11073262625547971, 0.11073262625547971, 0.7026686660493342, 0.8361133029004507, 0.24808767923967162, 0.24808767923967162, 0.24808767923967162, 0.24808767923967162, 0.8093974206471051, 0.26979914021570167, 0.5473268431246747, 0.24683046744503342, 0.49366093489006685, 0.08227682248167781, 0.08227682248167781, 0.8884130799061037, 0.8883318132544619, 0.18374698873983522, 0.36749397747967044, 0.09187349436991761, 0.36749397747967044, 0.5589779615575345, 0.8361227972163198, 0.9661282665993584, 0.5474686831670225, 0.5713508228132558, 0.5430867903957113, 0.7368682297236051, 0.35428491037042315, 0.35428491037042315, 0.07085698207408464, 0.07085698207408464, 0.14171396414816928, 0.23453016017167866, 0.4690603203433573, 0.11726508008583933, 0.11726508008583933, 0.25807503768098417, 0.43012506280164026, 0.08602501256032806, 0.08602501256032806, 0.08602501256032806, 0.7048739397217277, 0.49316455134884907, 0.12329113783721227, 0.12329113783721227, 0.12329113783721227, 0.24658227567442453, 0.8361152881260547, 0.17902822554129866, 0.537084676623896, 0.08951411277064933, 0.08951411277064933, 0.08951411277064933, 0.2793564003080314, 0.5587128006160628, 0.4314825757073444, 0.4314825757073444, 0.8361154417809394, 0.836112657611522, 0.8334135403146149, 0.7371523884435988, 0.5753657569982372, 0.2876828784991186, 0.1300935715639189, 0.5203742862556756, 0.3902807146917567, 0.1465955339869477, 0.2931910679738954, 0.1465955339869477, 0.1465955339869477, 0.1465955339869477, 0.5589170589237044, 0.15269620317210886, 0.3053924063442177, 0.07634810158605443, 0.2290443047581633, 0.07634810158605443, 0.07634810158605443, 0.16087609588843274, 0.3217521917768655, 0.16087609588843274, 0.16087609588843274, 0.05362536529614425, 0.1072507305922885, 0.05362536529614425, 0.5724403565887399, 0.4030923590100101, 0.4030923590100101, 0.542970695168465, 0.42466124091701785, 0.42466124091701785, 0.21233062045850892, 0.30414955170234154, 0.30414955170234154, 0.15207477585117077, 0.3213229148313409, 0.6426458296626818, 0.9602091515823626, 0.9601081467923052, 0.30943690771109417, 0.6188738154221883, 0.5939960074705786, 0.9168344519782258, 0.7049609563701623, 0.883065503028807, 0.5588535560911644, 0.5417179314965512, 0.1354294828741378, 0.1354294828741378, 0.1354294828741378, 0.7048185952066781, 0.8299389856583153, 0.5588917290083479, 0.5590197420073806, 0.7113116271434172, 0.1778279067858543, 0.1778279067858543, 0.7026300068447727, 0.4027034863094007, 0.4027034863094007, 0.5475009273086868, 0.5474242077345537, 0.5588072992177349, 0.7471009161992057, 0.6976279993351648, 0.22821574876146555, 0.22821574876146555, 0.22821574876146555, 0.4564314975229311, 0.8331837778916706, 0.12237741959865493, 0.48950967839461973, 0.3671322587959648, 0.3610408403640154, 0.1805204201820077, 0.2707806302730115, 0.09026021009100385, 0.09026021009100385, 0.9641892979328823, 0.18095354717460227, 0.18095354717460227, 0.36190709434920454, 0.41863578851191374, 0.41863578851191374, 0.5939514364492737, 0.8030973209022259, 0.896048312361927, 0.3510661677191815, 0.3510661677191815, 0.3510661677191815, 0.6856341868404481, 0.22854472894681604, 0.5940175206764238, 0.9606779942032089, 0.5424308524661704, 0.17234049879954125, 0.17234049879954125, 0.689361995198165, 0.6122830811400789, 0.20409436038002632, 0.20409436038002632, 0.27331290944133896, 0.13665645472066948, 0.4099693641620084, 0.13665645472066948, 0.9643495100594006, 0.2581248841852153, 0.7743746525556459, 0.7022613972193319, 0.23153736509971035, 0.694612095299131, 0.5714809188700172, 0.44140694468361313, 0.08828138893672263, 0.08828138893672263, 0.17656277787344526, 0.08828138893672263, 0.44270983446297396, 0.204327615905988, 0.06810920530199599, 0.102163807952994, 0.034054602650997995, 0.034054602650997995, 0.034054602650997995, 0.034054602650997995, 0.034054602650997995, 0.9609856934312533, 0.7021962963107998, 0.3423628828563576, 0.13694515314254305, 0.20541772971381456, 0.06847257657127152, 0.06847257657127152, 0.06847257657127152, 0.06847257657127152, 0.057844105834285994, 0.28922052917143, 0.057844105834285994, 0.057844105834285994, 0.057844105834285994, 0.28922052917143, 0.057844105834285994, 0.8361220326780483, 0.17123247333485261, 0.17123247333485261, 0.17123247333485261, 0.17123247333485261, 0.17123247333485261, 0.17123247333485261, 0.9642649823844122, 0.5712539301476018, 0.9607325031417322, 0.6219506670562958, 0.20731688901876524, 0.20731688901876524, 0.3809117998110479, 0.2539411998740319, 0.12697059993701595, 0.12697059993701595, 0.12697059993701595, 0.9608265939737692, 0.8361203362256456, 0.8361155874841829, 0.2145593380732151, 0.32183900710982266, 0.2145593380732151, 0.10727966903660754, 0.2145593380732151, 0.10966290725781648, 0.21932581451563296, 0.10966290725781648, 0.10966290725781648, 0.3289887217734494, 0.10966290725781648, 0.9171602625326402, 0.8508796971857815, 0.2877500295958638, 0.13079546799811992, 0.05231818719924796, 0.13079546799811992, 0.07847728079887194, 0.15695456159774387, 0.15695456159774387, 0.02615909359962398, 0.33173438646064174, 0.6634687729212835, 0.8299305086371339, 0.5587482173028226, 0.2764665177281773, 0.13823325886408866, 0.13823325886408866, 0.13823325886408866, 0.414699776592266, 0.12550458951338408, 0.12550458951338408, 0.3765137685401522, 0.12550458951338408, 0.12550458951338408, 0.12550458951338408, 0.5422632825108975, 0.30564905991762353, 0.30564905991762353, 0.6170282725576263, 0.8110740255392671, 0.8110000612636539, 0.509938386719711, 0.10198767734394222, 0.10198767734394222, 0.10198767734394222, 0.10198767734394222, 0.10198767734394222, 0.19329505999915594, 0.19329505999915594, 0.19329505999915594, 0.19329505999915594, 0.19329505999915594, 0.19418103105865403, 0.7767241242346161, 0.575200785838812, 0.287600392919406, 0.2634622845902568, 0.5269245691805136, 0.2634622845902568, 0.5588373245036001, 0.38778873073062314, 0.19389436536531157, 0.29084154804796736, 0.09694718268265579, 0.09694718268265579, 0.6777354513261061, 0.2162389559422747, 0.32435843391341207, 0.10811947797113736, 0.2162389559422747, 0.10811947797113736, 0.14917360723959316, 0.37293401809898286, 0.07458680361979658, 0.22376041085938972, 0.14917360723959316, 0.07458680361979658, 0.5715803889164515, 0.15146664777993726, 0.15146664777993726, 0.07573332388996863, 0.37866661944984314, 0.07573332388996863, 0.07573332388996863, 0.48794540962502253, 0.5475283897527335, 0.21408730827541597, 0.642261924826248, 0.21408730827541597, 0.7395223212878256, 0.7054878415719944, 0.2646162819006894, 0.2646162819006894, 0.1512093039432511, 0.037802325985812776, 0.11340697795743833, 0.037802325985812776, 0.11340697795743833, 0.037802325985812776, 0.23359556622676897, 0.46719113245353794, 0.23359556622676897, 0.5489963703623623, 0.27449818518118113, 0.8110672256009519, 0.5506720454585602, 0.11013440909171204, 0.11013440909171204, 0.11013440909171204, 0.11013440909171204, 0.07292140782561612, 0.3646070391280806, 0.07292140782561612, 0.07292140782561612, 0.07292140782561612, 0.21876422347684837, 0.9641636403469858, 0.4289615888964228, 0.4289615888964228, 0.2518826620740576, 0.1259413310370288, 0.2518826620740576, 0.3778239931110864, 0.1259413310370288, 0.5428202635327388, 0.15946858093675392, 0.31893716187350785, 0.15946858093675392, 0.07973429046837696, 0.15946858093675392, 0.15946858093675392, 0.6956823776949626, 0.13913647553899253, 0.13913647553899253, 0.13913647553899253, 0.3212548520995199, 0.6425097041990399, 0.1787796137353459, 0.3575592274706918, 0.1787796137353459, 0.1787796137353459, 0.9742995219477237, 0.9132984792554533, 0.397270806404675, 0.1986354032023375, 0.1986354032023375, 0.1986354032023375, 0.9642005670837038, 0.5715097857802757, 0.5722983173598729, 0.5719133024976992, 0.2859566512488496, 0.7018838281984006, 0.5591022680756067, 0.8303610092504847, 0.8855840862108517, 0.5939631060273771, 0.5702550983040624, 0.9604912006635041, 0.5189273745891789, 0.5189273745891789, 0.13895194782075543, 0.13895194782075543, 0.4168558434622663, 0.13895194782075543, 0.13895194782075543, 0.21648659784328586, 0.10824329892164293, 0.4329731956865717, 0.10824329892164293, 0.10824329892164293, 0.10824329892164293, 0.9598762556995315, 0.8110280129721192, 0.29204649151227485, 0.23363719320981988, 0.11681859660490994, 0.05840929830245497, 0.23363719320981988, 0.6777483236905956, 0.8054713326209226, 0.1342452221034871, 0.5425771318630046, 0.286387964955264, 0.17183277897315838, 0.17183277897315838, 0.0572775929910528, 0.17183277897315838, 0.0572775929910528, 0.0572775929910528, 0.4146563350409784, 0.4146563350409784, 0.0899382373575403, 0.8094441362178626, 0.0899382373575403, 0.32087548182196285, 0.32087548182196285, 0.10695849394065428, 0.10695849394065428, 0.10695849394065428, 0.6289868967716872, 0.3144934483858436, 0.3144934483858436, 0.3985200132648679, 0.19926000663243396, 0.19926000663243396, 0.3985200132648679, 0.1970959118682567, 0.3941918237365134, 0.1970959118682567, 0.1970959118682567, 0.9647785879455719, 0.9272659896929617, 0.13379612976843727, 0.4013883893053118, 0.13379612976843727, 0.13379612976843727, 0.13379612976843727, 0.13379612976843727, 0.3148997899108803, 0.6297995798217606, 0.9606500244086867, 0.4028312477770786, 0.4028312477770786, 0.5330630914278518, 0.2665315457139259, 0.2665315457139259, 0.9642935243275317, 0.22202887289151557, 0.22202887289151557, 0.44405774578303114, 0.39555523468614284, 0.19777761734307142, 0.39555523468614284, 0.5424570945615725, 0.5940129739466861, 0.18842512529657646, 0.18842512529657646, 0.5652753758897293, 0.18842512529657646, 0.426879328353957, 0.094862072967546, 0.0711465547256595, 0.1185775912094325, 0.094862072967546, 0.094862072967546, 0.0237155182418865, 0.0237155182418865, 0.0237155182418865, 0.8361188754707627, 0.8361177879404698, 0.9899127951602742, 0.6523677036171373, 0.1630919259042843, 0.1630919259042843, 0.1630919259042843, 0.6175636315798402, 0.25829359142417857, 0.12914679571208929, 0.12914679571208929, 0.12914679571208929, 0.12914679571208929, 0.12914679571208929, 0.12914679571208929, 0.9604980963877129, 0.10768512502859177, 0.16152768754288765, 0.16152768754288765, 0.10768512502859177, 0.10768512502859177, 0.10768512502859177, 0.16152768754288765, 0.05384256251429589, 0.8960478104137197, 0.830146773426456, 0.18438479580327086, 0.3687695916065417, 0.18438479580327086, 0.18438479580327086, 0.18930357065198164, 0.31550595108663604, 0.12620238043465443, 0.18930357065198164, 0.06310119021732721, 0.06310119021732721, 0.06310119021732721, 0.9640466901665656, 0.21116059332754017, 0.49270805109759375, 0.21116059332754017, 0.0703868644425134, 0.0703868644425134, 0.10464220505988087, 0.10464220505988087, 0.10464220505988087, 0.3139266151796426, 0.3139266151796426, 0.10464220505988087, 0.10464220505988087, 0.5474958842047389, 0.5940056432236985, 0.24207922946388058, 0.09683169178555223, 0.14524753767832835, 0.14524753767832835, 0.14524753767832835, 0.14524753767832835, 0.048415845892776116, 0.048415845892776116, 0.2503720302668141, 0.2503720302668141, 0.5007440605336282, 0.13872658663694964, 0.2774531732738993, 0.13872658663694964, 0.13872658663694964, 0.41617975991084893, 0.13872658663694964, 0.41977116686276655, 0.20988558343138328, 0.20988558343138328, 0.20988558343138328, 0.702076116837401, 0.5588800941117013, 0.9717005548612612, 0.8011102811600342, 0.17836097064242556, 0.35672194128485113, 0.08918048532121278, 0.17836097064242556, 0.17836097064242556, 0.5716630920069483, 0.5940444857329265, 0.9607859338525703, 0.17259342408369088, 0.34518684816738177, 0.17259342408369088, 0.17259342408369088, 0.17259342408369088, 0.17259342408369088, 0.5716253481781477, 0.2093075221223691, 0.31396128318355365, 0.10465376106118456, 0.10465376106118456, 0.10465376106118456, 0.10465376106118456, 0.10465376106118456, 0.33435131895101416, 0.33435131895101416, 0.16717565947550708, 0.16717565947550708, 0.16717565947550708, 0.5475391037306425, 0.23538033882793385, 0.2942254235349173, 0.1765352541209504, 0.058845084706983464, 0.058845084706983464, 0.11769016941396693, 0.058845084706983464, 0.7372945627864161, 0.4027148293402719, 0.4027148293402719, 0.9270099869076187, 0.20900505538828423, 0.41801011077656847, 0.41801011077656847, 0.4911030134067678, 0.2455515067033839, 0.0818505022344613, 0.0818505022344613, 0.0818505022344613, 0.423670377351664, 0.211835188675832, 0.07061172955861067, 0.07061172955861067, 0.14122345911722134, 0.07061172955861067, 0.5475886843033527, 0.5475727072096882, 0.5434014783871793, 0.5434014783871793, 0.3591427558343319, 0.05985712597238865, 0.2094999409033603, 0.1197142519447773, 0.029928562986194326, 0.17957137791716596, 0.05985712597238865, 0.5713410171196729, 0.9598964162112228, 0.9603445456133604, 0.5939852953318316, 0.870316556518254, 0.33023971849435163, 0.41279964811793957, 0.16511985924717582, 0.08255992962358791, 0.08255992962358791, 0.26533870141069177, 0.26533870141069177, 0.10613548056427671, 0.10613548056427671, 0.053067740282138356, 0.053067740282138356, 0.10613548056427671, 0.5936941532633873, 0.19715864271265818, 0.09857932135632909, 0.09857932135632909, 0.09857932135632909, 0.09857932135632909, 0.2957379640689873, 0.09857932135632909, 0.5716072746548706, 0.3943642927367511, 0.24647768296046946, 0.09859107318418778, 0.04929553659209389, 0.04929553659209389, 0.04929553659209389, 0.09859107318418778, 0.26458385608896257, 0.26458385608896257, 0.5291677121779251, 0.5475814958748928, 0.2799261196179444, 0.5598522392358888, 0.9601242724712052, 0.5939840630456091, 0.81762352032874, 0.9360504522066, 0.7046612186429452, 0.24262479912582194, 0.12131239956291097, 0.12131239956291097, 0.12131239956291097, 0.12131239956291097, 0.3639371986887329, 0.9641701360929568, 0.9362302654565097, 0.5430567174350888, 0.5162032509333881, 0.5162032509333881, 0.20143057393798686, 0.20143057393798686, 0.6042917218139605, 0.42948454533945796, 0.10737113633486449, 0.10737113633486449, 0.10737113633486449, 0.14316151511315264, 0.03579037877828816, 0.10737113633486449, 0.03579037877828816, 0.5766957567097111, 0.28834787835485554, 0.9640540380250431, 0.5425735396742536, 0.5426830664701924, 0.5424572280599576, 0.16205251188667139, 0.6482100475466855, 0.16205251188667139, 0.5590651358402826, 0.5872438834813686, 0.2936219417406843, 0.20013376727907703, 0.20013376727907703, 0.40026753455815406, 0.20013376727907703, 0.9642085252087812, 0.9899176037442801, 0.5587845039262371, 0.7024653630232072, 0.5941047442672529, 0.49438041814787803, 0.24719020907393902, 0.24719020907393902, 0.24719020907393902, 0.5589535831210791, 0.5432642860071014, 0.5475358782286472, 0.5475673180933784, 0.5588278164310279, 0.5587767821712706, 0.5715973326412422, 0.6479379479222165, 0.32396897396110824, 0.5475146989326845, 0.2959168319504968, 0.11836673278019873, 0.059183366390099364, 0.17755009917029807, 0.23673346556039745, 0.17755009917029807, 0.25523929245018667, 0.25523929245018667, 0.08507976415006223, 0.08507976415006223, 0.17015952830012446, 0.08507976415006223, 0.08507976415006223, 0.3968318716559006, 0.3968318716559006, 0.3968318716559006, 0.3078058996133945, 0.4617088494200917, 0.15390294980669725, 0.5809168474788923, 0.593689662260497, 0.5475073962388786, 0.158097243889544, 0.158097243889544, 0.158097243889544, 0.632388975558176, 0.3270906176772659, 0.6541812353545318, 0.30148828099570385, 0.4522324214935558, 0.15074414049785193, 0.5474948059655619, 0.9642625464238005, 0.5588481681486078, 0.34764057624679245, 0.21727536015424528, 0.08691014406169811, 0.08691014406169811, 0.08691014406169811, 0.04345507203084906, 0.08691014406169811, 0.26860534544352355, 0.13430267272176177, 0.5372106908870471, 0.13430267272176177, 0.9255246368634718, 0.1145346469657333, 0.5726732348286665, 0.1145346469657333, 0.2290692939314666, 0.24746303731735894, 0.12373151865867947, 0.12373151865867947, 0.12373151865867947, 0.24746303731735894, 0.5474335461016807, 0.5474950405826554, 0.5424376993389787, 0.3011576049855697, 0.15057880249278485, 0.4517364074783546, 0.15057880249278485, 0.15057880249278485, 0.6056338309129953, 0.15140845772824882, 0.15140845772824882, 0.3018040363041692, 0.20120269086944614, 0.10060134543472307, 0.20120269086944614, 0.20120269086944614, 0.45376586711495853, 0.2722595202689751, 0.0907531734229917, 0.0907531734229917, 0.0907531734229917, 0.896048046996834, 0.896047818209757, 0.542678803417725, 0.8298983429235883, 0.8299317790608846, 0.9280295657718961, 0.3148735081625516, 0.3148735081625516, 0.0787183770406379, 0.0787183770406379, 0.1574367540812758, 0.0787183770406379, 0.5712761580449992, 0.9641099898678241, 0.43060676095636924, 0.43060676095636924, 0.2574915219257178, 0.21457626827143148, 0.1287457609628589, 0.1287457609628589, 0.0858305073085726, 0.0858305073085726, 0.0429152536542863, 0.6768773572005129, 0.22562578573350428, 0.5474312464822862, 0.16688486249510479, 0.08344243124755239, 0.33376972499020957, 0.16688486249510479, 0.16688486249510479, 0.08344243124755239, 0.9642007042481903, 0.21212640852696948, 0.21212640852696948, 0.21212640852696948, 0.21212640852696948, 0.10606320426348474, 0.6179453296922509, 0.20598177656408365, 0.5296463182750479, 0.25592144902510255, 0.25592144902510255, 0.12796072451255128, 0.25592144902510255, 0.4314976826244673, 0.4314976826244673, 0.22606918108450882, 0.45213836216901765, 0.22606918108450882, 0.22606918108450882, 0.23497822959159018, 0.46995645918318035, 0.23497822959159018, 0.5589342284672911, 0.17859176785067366, 0.17859176785067366, 0.08929588392533683, 0.2678876517760105, 0.08929588392533683, 0.08929588392533683, 0.20625746841587803, 0.41251493683175605, 0.20625746841587803, 0.25651956376716223, 0.1710130425114415, 0.25651956376716223, 0.08550652125572075, 0.08550652125572075, 0.08550652125572075, 0.08550652125572075, 0.9642948724239713, 0.11548849361782412, 0.2887212340445603, 0.11548849361782412, 0.11548849361782412, 0.1732327404267362, 0.05774424680891206, 0.11548849361782412, 0.05774424680891206, 0.40626666472163264, 0.40626666472163264, 0.5430685041102292, 0.1896186841454363, 0.1896186841454363, 0.5688560524363089, 0.3421757572775805, 0.3421757572775805, 0.3421757572775805, 0.2820209525580884, 0.1410104762790442, 0.1410104762790442, 0.1410104762790442, 0.2820209525580884, 0.1410104762790442, 0.34488464843037525, 0.6897692968607505, 0.8331120517947623, 0.833316009721039, 0.2838320073592381, 0.4730533455987301, 0.09461066911974601, 0.09461066911974601, 0.9641655195889948, 0.09481830871321666, 0.47409154356608324, 0.3792732348528666, 0.5424596094438977, 0.06352597261268005, 0.5082077809014404, 0.06352597261268005, 0.1270519452253601, 0.06352597261268005, 0.06352597261268005, 0.06352597261268005, 0.5474713635365974, 0.5474372838774746, 0.8217443505519216, 0.8301638761888144, 0.33476089656587593, 0.11158696552195865, 0.11158696552195865, 0.33476089656587593, 0.11158696552195865, 0.11158696552195865, 0.23403387649724963, 0.7021016294917489, 0.1993449675178477, 0.1993449675178477, 0.09967248375892385, 0.29901745127677154, 0.09967248375892385, 0.27475017520418876, 0.41212526280628314, 0.13737508760209438, 0.13737508760209438], \"Term\": [\"active\", \"active glasses\", \"actually\", \"actually\", \"actually\", \"actually\", \"actually told\", \"address\", \"address\", \"adjustment\", \"adjustment\", \"advertisements\", \"ago\", \"ago\", \"agree\", \"amazon\", \"amazon\", \"amazon\", \"amazon\", \"amazon\", \"amazon\", \"amazon\", \"amazon\", \"amazon\", \"angle\", \"answer\", \"answer\", \"app\", \"app\", \"app\", \"app\", \"app\", \"appeared\", \"apple\", \"applications\", \"applications\", \"apps\", \"apps\", \"apps\", \"apps\", \"apps\", \"apps\", \"apps\", \"apps like\", \"arc\", \"arc\", \"arc\", \"arrived dead\", \"aside\", \"asked\", \"asked\", \"asked\", \"asked\", \"assembly\", \"audio\", \"audio\", \"audio\", \"audio\", \"audio\", \"away\", \"away\", \"away\", \"away\", \"background\", \"bar\", \"bar\", \"bar\", \"basement\", \"bbb\", \"began\", \"began\", \"best\", \"best\", \"best\", \"best\", \"best\", \"better\", \"better\", \"better\", \"better\", \"better\", \"better\", \"better\", \"big\", \"big\", \"big\", \"big\", \"big\", \"biggest\", \"biggest\", \"biggest\", \"bit\", \"bit\", \"bit\", \"bit\", \"black\", \"black\", \"black\", \"black\", \"black\", \"black friday\", \"bought\", \"bought\", \"bought\", \"bought\", \"bought\", \"bought\", \"box\", \"box\", \"box\", \"box\", \"box\", \"box\", \"break\", \"broken right\", \"browser\", \"built\", \"built\", \"built\", \"built\", \"cable\", \"cable\", \"cable\", \"cable\", \"cable\", \"called\", \"called\", \"called\", \"called\", \"called\", \"came\", \"came\", \"came\", \"cc\", \"change review\", \"channel master\", \"channels\", \"channels\", \"channels\", \"channels\", \"cheap\", \"cheap\", \"cheap\", \"cheap\", \"claim\", \"closed\", \"closed\", \"closed\", \"closed complaints\", \"commercial\", \"commercial personal\", \"company\", \"company\", \"company\", \"company\", \"company\", \"company\", \"compared\", \"complain definitely\", \"complaint\", \"complaint\", \"complaint\", \"complaint\", \"complaints\", \"complaints\", \"concern\", \"connect\", \"connect\", \"connect\", \"connect\", \"consumer\", \"consumer mode\", \"content\", \"content\", \"content\", \"content\", \"contrast ratio\", \"control issue\", \"correct\", \"correct specs\", \"cracked\", \"crashes\", \"cumbersome\", \"customer\", \"customer\", \"customer\", \"customer\", \"customer\", \"customer service\", \"customer service\", \"customer service\", \"customer service\", \"day\", \"day\", \"day\", \"day\", \"day\", \"day ll\", \"days\", \"days\", \"days\", \"days\", \"days\", \"dead pixel\", \"deal\", \"deal\", \"deal\", \"deal\", \"deal\", \"decided\", \"decided\", \"defective\", \"defective\", \"definitely\", \"definitely quality\", \"delay\", \"develop\", \"device\", \"device\", \"didn\", \"didn\", \"didn\", \"different\", \"different\", \"different\", \"different\", \"different\", \"disappointing\", \"doesn\", \"doesn\", \"doesn\", \"doesn\", \"doesn\", \"doesn\", \"don\", \"don\", \"don\", \"don\", \"don\", \"don\", \"don\", \"dvr\", \"dynamic\", \"dynamic\", \"dynamic contrast\", \"easily\", \"easily\", \"easily\", \"easy\", \"easy\", \"easy\", \"effect\", \"effect\", \"effective\", \"effective means\", \"emails\", \"emails\", \"equivalent\", \"ethernet\", \"ethernet port\", \"eula\", \"excitement\", \"experience\", \"experience\", \"experience\", \"experience\", \"extender\", \"extreme\", \"extreme skin\", \"eyes\", \"fact\", \"fact\", \"fact\", \"failed\", \"fairly\", \"fairly\", \"false\", \"false information\", \"family\", \"far\", \"feed\", \"feet\", \"feet\", \"feet\", \"feet\", \"fi\", \"find\", \"find\", \"find\", \"fine\", \"fine\", \"fine\", \"fine\", \"fine\", \"fios\", \"firmware\", \"firmware\", \"firmware\", \"firmware update\", \"firmware update\", \"fishy\", \"forums\", \"freaking weeks\", \"free\", \"free\", \"free\", \"friday\", \"friday\", \"friend\", \"function\", \"games\", \"gaming\", \"gaming\", \"gaming\", \"gave\", \"gave\", \"gave\", \"getting\", \"getting\", \"getting\", \"getting\", \"getting sound\", \"ghosting\", \"ghosting\", \"gives\", \"glasses\", \"glasses\", \"glasses work\", \"going\", \"going\", \"going\", \"going\", \"going\", \"good\", \"good\", \"good\", \"good\", \"good\", \"good\", \"good\", \"good\", \"good\", \"good picture\", \"good thing\", \"got\", \"got\", \"got\", \"got\", \"got\", \"got\", \"got\", \"great\", \"great\", \"great\", \"great\", \"great\", \"great\", \"great\", \"great picture\", \"guess\", \"guess\", \"guess\", \"guess\", \"guess\", \"guess\", \"half features\", \"halo\", \"handle\", \"happy\", \"happy\", \"happy\", \"hard\", \"hard\", \"hard\", \"hard\", \"hard\", \"hard time\", \"hassle\", \"hassle sending\", \"having\", \"having\", \"having\", \"having\", \"having\", \"hd\", \"hd\", \"hd\", \"hd\", \"hd\", \"hd\", \"hdr\", \"heavy\", \"hisense\", \"hisense\", \"hisense\", \"hisense\", \"hisense\", \"hisense\", \"hisense\", \"hisense\", \"hisense support\", \"hisense support\", \"hisense tech\", \"home theater\", \"hooked\", \"hooked\", \"hooked\", \"hooked\", \"hooked\", \"hours\", \"hours\", \"hours\", \"hours\", \"hours\", \"hours\", \"hours phone\", \"hulu\", \"hulu\", \"hz\", \"idea\", \"ignore\", \"image\", \"image\", \"image\", \"image\", \"image\", \"image\", \"inch\", \"inch\", \"inch\", \"inch\", \"inch\", \"information\", \"information\", \"input\", \"input\", \"inputs\", \"inputs\", \"inputs\", \"interested\", \"internet\", \"internet\", \"internet\", \"internet\", \"internet\", \"interpolation\", \"issue\", \"issue\", \"issue\", \"issue\", \"issue\", \"issues\", \"issues\", \"issues\", \"issues\", \"issues\", \"issues\", \"keyboard\", \"know\", \"know\", \"know\", \"know\", \"know\", \"know\", \"large\", \"let know\", \"lg\", \"lg\", \"lg\", \"lg samsung\", \"life\", \"like\", \"like\", \"like\", \"like\", \"like\", \"like\", \"like\", \"like\", \"lip\", \"lip\", \"lip\", \"lip sync\", \"lip sync\", \"listed\", \"little\", \"little\", \"little\", \"little\", \"little\", \"ll\", \"ll\", \"ll\", \"ll\", \"ll\", \"ll\", \"ll connect\", \"local\", \"local\", \"look\", \"look\", \"look\", \"look\", \"look\", \"look ok\", \"looks\", \"looks\", \"looks\", \"looks\", \"looks\", \"looks\", \"lot\", \"lot\", \"lot\", \"lot\", \"love\", \"love\", \"low\", \"low\", \"low\", \"low\", \"mail\", \"mail address\", \"main\", \"main\", \"main\", \"main\", \"major getting\", \"mark\", \"master\", \"means\", \"means\", \"means native\", \"meant\", \"memc\", \"mode\", \"mode eula\", \"mom\", \"momentary\", \"monitor\", \"monitor\", \"month\", \"month\", \"month\", \"month\", \"month\", \"months\", \"months\", \"months\", \"months\", \"months\", \"months\", \"months old\", \"months released\", \"motion\", \"motion\", \"motion\", \"motion\", \"motion\", \"motion interpolation\", \"native\", \"native\", \"needs\", \"netflix\", \"netflix\", \"netflix\", \"netflix\", \"netflix\", \"netflix\", \"netflix\", \"netflix amazon\", \"netflix amazon\", \"network\", \"network\", \"network\", \"nice\", \"nice\", \"nice\", \"nice\", \"nice\", \"non\", \"non\", \"non\", \"notice\", \"notice\", \"notice\", \"notice\", \"noticed\", \"noticed\", \"noticed\", \"noticed\", \"occasionally issues\", \"offerings\", \"ok\", \"ok\", \"ok\", \"ok\", \"ok\", \"ok\", \"ones\", \"ones\", \"outage\", \"pain\", \"pain\", \"panel\", \"panel\", \"panel\", \"password\", \"pay\", \"pay\", \"pay\", \"perfect\", \"perfect\", \"perfect\", \"perfectly fine\", \"personal\", \"phone\", \"phone\", \"phone\", \"phone\", \"picture\", \"picture\", \"picture\", \"picture\", \"picture\", \"picture\", \"picture\", \"picture\", \"picture\", \"picture arrived\", \"pixel\", \"pixelation\", \"poor\", \"poor\", \"poor\", \"poor\", \"port\", \"power\", \"power\", \"power\", \"power\", \"power\", \"power\", \"power\", \"power outage\", \"price\", \"price\", \"price\", \"price\", \"price\", \"price\", \"price\", \"price\", \"priced\", \"prior\", \"probably\", \"probably\", \"probably\", \"probably\", \"problem\", \"problem\", \"problem\", \"problem\", \"problem\", \"problem\", \"problem\", \"problem major\", \"problems\", \"problems\", \"problems\", \"problems\", \"problems\", \"product\", \"product\", \"product\", \"product\", \"product\", \"product\", \"product\", \"product months\", \"push\", \"quality\", \"quality\", \"quality\", \"quality\", \"quality\", \"quality\", \"quality\", \"quality\", \"rating\", \"rating\", \"rating\", \"received\", \"received\", \"received\", \"received\", \"received\", \"received\", \"receiver\", \"receiver\", \"receiver\", \"receiver\", \"refresh\", \"regard product\", \"registration\", \"released\", \"remote\", \"remote\", \"remote\", \"remote\", \"remote\", \"remote keyboard\", \"reserve\", \"restart\", \"returned\", \"returned\", \"returned\", \"returned\", \"returned\", \"returned\", \"returning amazon\", \"review\", \"review\", \"review\", \"review\", \"review\", \"review\", \"review\", \"reviews\", \"reviews\", \"reviews\", \"reviews\", \"reviews\", \"reviews amazon\", \"roku\", \"roku\", \"roku\", \"roku\", \"roku\", \"roku\", \"roku\", \"roku develop\", \"roku netflix\", \"roku netflix\", \"roku stick\", \"router\", \"router\", \"router\", \"said\", \"said\", \"said\", \"said\", \"said\", \"samsung\", \"samsung\", \"samsung\", \"samsung\", \"samsung\", \"samsung\", \"satellite\", \"satellite feed\", \"saw\", \"saw\", \"screen\", \"screen\", \"screen\", \"screen\", \"screen\", \"screen\", \"screen\", \"screen cracked\", \"screen lag\", \"screen settings\", \"selection\", \"sending refund\", \"service\", \"service\", \"service\", \"service\", \"service\", \"set\", \"set\", \"set\", \"set\", \"set\", \"set\", \"set\", \"set perfect\", \"setting\", \"setting\", \"setting\", \"setting\", \"setting\", \"setting\", \"setting\", \"setting disable\", \"settings\", \"settings\", \"settings\", \"settings\", \"settings\", \"settings\", \"settings\", \"sharp\", \"sharp\", \"sharp\", \"shield\", \"shipping\", \"shipping\", \"shopping\", \"significantly\", \"skin\", \"skin softening\", \"small\", \"smart\", \"smart\", \"smart\", \"smart\", \"smart\", \"smart\", \"smoke\", \"softening\", \"software\", \"solid\", \"solid\", \"sony\", \"sony\", \"sony\", \"sound\", \"sound\", \"sound\", \"sound\", \"sound\", \"sound\", \"sound\", \"sound\", \"sound bar\", \"sound bar\", \"sound watching\", \"sounded\", \"sounded like\", \"space\", \"speaker\", \"speaker\", \"speaker\", \"specs contrast\", \"stand\", \"stand\", \"star\", \"star\", \"star\", \"star\", \"stars great\", \"static\", \"static background\", \"status\", \"stay\", \"stick\", \"stick\", \"stick\", \"stick\", \"streaming content\", \"streams\", \"stretch\", \"stretch screen\", \"subject\", \"subject static\", \"suffer\", \"supervisor\", \"supervisor\", \"supervisor know\", \"support\", \"support\", \"support\", \"support\", \"support\", \"support\", \"sure\", \"sure\", \"sure\", \"sure\", \"sure\", \"sure\", \"sure\", \"switch\", \"switch\", \"switch\", \"sync\", \"sync\", \"sync\", \"sync issues\", \"sync settings\", \"tablet\", \"tech\", \"tech\", \"tech\", \"tech\", \"tech support\", \"tech support\", \"television\", \"television\", \"television\", \"television released\", \"telling\", \"theater\", \"time\", \"time\", \"time\", \"time\", \"time\", \"time\", \"time\", \"times\", \"times\", \"times\", \"times\", \"tlc\", \"told\", \"told\", \"told\", \"told\", \"took\", \"took\", \"took\", \"took\", \"took\", \"took month\", \"total closed\", \"treadmill\", \"tried\", \"tried\", \"tried\", \"tried\", \"tried\", \"trying\", \"trying\", \"trying\", \"turn\", \"turn\", \"turn\", \"turn\", \"turn\", \"tvs\", \"tvs\", \"tvs\", \"tvs\", \"tvs\", \"ugh\", \"ugh low\", \"uhd\", \"ulra\", \"ulra hd\", \"unbiased\", \"update\", \"update\", \"update\", \"update\", \"update\", \"update\", \"ups\", \"upscale\", \"usage\", \"usage\", \"use\", \"use\", \"use\", \"use\", \"use\", \"use\", \"use\", \"user\", \"user\", \"uses\", \"ve\", \"ve\", \"ve\", \"ve\", \"ve\", \"ve\", \"verizon\", \"video\", \"video\", \"video\", \"video\", \"video\", \"videos\", \"videos\", \"viewing\", \"vizio\", \"vizio\", \"vizio\", \"vizio\", \"vudu\", \"vudu\", \"wall\", \"wall\", \"wall\", \"wall\", \"wanted\", \"wanted\", \"wanted\", \"wanted like\", \"warranty\", \"warranty\", \"warranty\", \"warranty\", \"warranty\", \"warranty\", \"wasn\", \"wasn\", \"wasn\", \"watching\", \"watching\", \"watching\", \"watching\", \"watching\", \"watching\", \"watching\", \"watching programming\", \"way\", \"way\", \"way\", \"way\", \"way\", \"way\", \"way\", \"way\", \"web\", \"web\", \"web browser\", \"website\", \"website\", \"website\", \"week\", \"week\", \"week\", \"weeks\", \"weeks\", \"weeks\", \"weeks\", \"weeks\", \"weeks\", \"weird\", \"weird\", \"wi\", \"wi fi\", \"wifi\", \"wifi\", \"wifi\", \"wifi\", \"wifi network\", \"wireless\", \"wireless\", \"wireless\", \"wireless router\", \"work\", \"work\", \"work\", \"work\", \"work\", \"work\", \"work\", \"world supervisor\", \"wrong information\", \"xbox\", \"xbox ones\", \"year\", \"year\", \"year\", \"year\", \"year\", \"year\", \"year warranty\", \"year warranty\", \"years\", \"years\", \"years\", \"years\", \"years\", \"youtube\", \"youtube\", \"youtube\", \"youtube\"]}, \"R\": 30, \"lambda.step\": 0.01, \"plot.opts\": {\"xlab\": \"PC1\", \"ylab\": \"PC2\"}, \"topic.order\": [2, 8, 7, 3, 1, 10, 4, 5, 9, 6]};\n",
       "\n",
       "function LDAvis_load_lib(url, callback){\n",
       "  var s = document.createElement('script');\n",
       "  s.src = url;\n",
       "  s.async = true;\n",
       "  s.onreadystatechange = s.onload = callback;\n",
       "  s.onerror = function(){console.warn(\"failed to load library \" + url);};\n",
       "  document.getElementsByTagName(\"head\")[0].appendChild(s);\n",
       "}\n",
       "\n",
       "if(typeof(LDAvis) !== \"undefined\"){\n",
       "   // already loaded: just create the visualization\n",
       "   !function(LDAvis){\n",
       "       new LDAvis(\"#\" + \"ldavis_el1611223845299724644431978138\", ldavis_el1611223845299724644431978138_data);\n",
       "   }(LDAvis);\n",
       "}else if(typeof define === \"function\" && define.amd){\n",
       "   // require.js is available: use it to load d3/LDAvis\n",
       "   require.config({paths: {d3: \"https://d3js.org/d3.v5\"}});\n",
       "   require([\"d3\"], function(d3){\n",
       "      window.d3 = d3;\n",
       "      LDAvis_load_lib(\"https://cdn.jsdelivr.net/gh/bmabey/pyLDAvis@3.3.1/pyLDAvis/js/ldavis.v3.0.0.js\", function(){\n",
       "        new LDAvis(\"#\" + \"ldavis_el1611223845299724644431978138\", ldavis_el1611223845299724644431978138_data);\n",
       "      });\n",
       "    });\n",
       "}else{\n",
       "    // require.js not available: dynamically load d3 & LDAvis\n",
       "    LDAvis_load_lib(\"https://d3js.org/d3.v5.js\", function(){\n",
       "         LDAvis_load_lib(\"https://cdn.jsdelivr.net/gh/bmabey/pyLDAvis@3.3.1/pyLDAvis/js/ldavis.v3.0.0.js\", function(){\n",
       "                 new LDAvis(\"#\" + \"ldavis_el1611223845299724644431978138\", ldavis_el1611223845299724644431978138_data);\n",
       "            })\n",
       "         });\n",
       "}\n",
       "</script>"
      ],
      "text/plain": [
       "<IPython.core.display.HTML object>"
      ]
     },
     "execution_count": 461,
     "metadata": {},
     "output_type": "execute_result"
    }
   ],
   "source": [
    "dictionary = Dictionary([list(count_vectorizer.vocabulary_.keys())])\n",
    "vis = gensimvis.prepare(lda, corpus, dictionary)\n",
    "pyLDAvis.display(vis)"
   ]
  },
  {
   "cell_type": "markdown",
   "metadata": {},
   "source": [
    "**Hisense cons**  \n",
    "topic1 - picture, screen quality  \n",
    "topic2 - network, wifi connecting problems  \n",
    "topic3 - wireless connection  \n",
    "topic6 - motion interpolation"
   ]
  },
  {
   "cell_type": "code",
   "execution_count": 380,
   "metadata": {},
   "outputs": [
    {
     "data": {
      "text/plain": [
       "[(0,\n",
       "  '0.006*\"picture\" + 0.006*\"good\" + 0.005*\"sound\" + 0.004*\"screen\" + 0.004*\"like\" + 0.003*\"time\" + 0.003*\"work\" + 0.003*\"hisense\" + 0.003*\"network\" + 0.003*\"settings\"'),\n",
       " (1,\n",
       "  '0.006*\"mail\" + 0.004*\"samsung\" + 0.004*\"registration\" + 0.004*\"address\" + 0.003*\"native\" + 0.003*\"customer\" + 0.003*\"said\" + 0.003*\"support\" + 0.003*\"mail address\" + 0.003*\"picture\"'),\n",
       " (2,\n",
       "  '0.003*\"use\" + 0.003*\"image\" + 0.003*\"monitor\" + 0.002*\"quality\" + 0.002*\"returned\" + 0.002*\"poor\" + 0.002*\"inches\" + 0.002*\"got\" + 0.001*\"hisense\" + 0.001*\"picture\"'),\n",
       " (3,\n",
       "  '0.004*\"picture\" + 0.004*\"sync\" + 0.004*\"lip\" + 0.004*\"lip sync\" + 0.003*\"like\" + 0.003*\"hisense\" + 0.003*\"problem\" + 0.003*\"audio\" + 0.003*\"sound\" + 0.003*\"customer\"'),\n",
       " (4,\n",
       "  '0.005*\"content\" + 0.005*\"skin\" + 0.004*\"product\" + 0.004*\"skin softening\" + 0.004*\"softening\" + 0.003*\"quality\" + 0.003*\"sound\" + 0.003*\"hd\" + 0.003*\"makes\" + 0.003*\"years\"'),\n",
       " (5,\n",
       "  '0.007*\"hisense\" + 0.006*\"eula\" + 0.005*\"motion\" + 0.004*\"price\" + 0.004*\"amazon\" + 0.004*\"setting\" + 0.003*\"use\" + 0.003*\"support\" + 0.003*\"experience\" + 0.003*\"quality\"'),\n",
       " (6,\n",
       "  '0.004*\"picture\" + 0.004*\"hisense\" + 0.003*\"roku\" + 0.003*\"company\" + 0.003*\"amazon\" + 0.003*\"know\" + 0.002*\"settings\" + 0.002*\"months\" + 0.002*\"told\" + 0.002*\"time\"'),\n",
       " (7,\n",
       "  '0.004*\"screen\" + 0.003*\"days\" + 0.003*\"wifi\" + 0.002*\"roku\" + 0.002*\"netflix\" + 0.002*\"bad\" + 0.002*\"built\" + 0.002*\"streaming\" + 0.002*\"bought\" + 0.002*\"connect\"'),\n",
       " (8,\n",
       "  '0.006*\"screen\" + 0.004*\"good\" + 0.004*\"picture\" + 0.003*\"use\" + 0.003*\"hisense\" + 0.003*\"way\" + 0.003*\"lg\" + 0.002*\"like\" + 0.002*\"don\" + 0.002*\"amazon\"'),\n",
       " (9,\n",
       "  '0.003*\"picture\" + 0.003*\"roku\" + 0.003*\"hisense\" + 0.003*\"screen\" + 0.003*\"like\" + 0.003*\"issues\" + 0.003*\"wireless\" + 0.003*\"sound\" + 0.002*\"good\" + 0.002*\"better\"')]"
      ]
     },
     "execution_count": 380,
     "metadata": {},
     "output_type": "execute_result"
    }
   ],
   "source": [
    "lda.print_topics()"
   ]
  },
  {
   "cell_type": "markdown",
   "metadata": {},
   "source": [
    "**Hisense Positive**"
   ]
  },
  {
   "cell_type": "code",
   "execution_count": 372,
   "metadata": {},
   "outputs": [
    {
     "name": "stderr",
     "output_type": "stream",
     "text": [
      "C:\\Users\\brian\\.conda\\envs\\metis\\lib\\site-packages\\sklearn\\feature_extraction\\text.py:388: UserWarning: Your stop_words may be inconsistent with your preprocessing. Tokenizing the stop words generated tokens ['ll', 've'] not in stop_words.\n",
      "  warnings.warn('Your stop_words may be inconsistent with '\n"
     ]
    },
    {
     "data": {
      "text/plain": [
       "[(0,\n",
       "  '0.004*\"great\" + 0.003*\"picture\" + 0.003*\"works\" + 0.003*\"price\" + 0.002*\"screen\" + 0.002*\"little\" + 0.002*\"hisense\" + 0.002*\"time\" + 0.002*\"sound\" + 0.002*\"use\"'),\n",
       " (1,\n",
       "  '0.006*\"great\" + 0.005*\"picture\" + 0.003*\"sound\" + 0.003*\"amazon\" + 0.003*\"quality\" + 0.003*\"good\" + 0.003*\"hisense\" + 0.003*\"deal\" + 0.002*\"netflix\" + 0.002*\"works\"'),\n",
       " (2,\n",
       "  '0.007*\"picture\" + 0.006*\"good\" + 0.005*\"hisense\" + 0.005*\"quality\" + 0.004*\"great\" + 0.004*\"settings\" + 0.003*\"price\" + 0.003*\"apps\" + 0.003*\"sound\" + 0.002*\"like\"'),\n",
       " (3,\n",
       "  '0.013*\"great\" + 0.008*\"picture\" + 0.006*\"price\" + 0.005*\"good\" + 0.004*\"sound\" + 0.003*\"hisense\" + 0.003*\"smart\" + 0.003*\"hdr\" + 0.003*\"amazon\" + 0.003*\"easy\"'),\n",
       " (4,\n",
       "  '0.008*\"great\" + 0.006*\"price\" + 0.005*\"good\" + 0.003*\"picture\" + 0.002*\"sound\" + 0.002*\"quality\" + 0.002*\"netflix\" + 0.002*\"amazon\" + 0.002*\"tvs\" + 0.002*\"hisense\"'),\n",
       " (5,\n",
       "  '0.005*\"picture\" + 0.004*\"set\" + 0.004*\"good\" + 0.004*\"price\" + 0.003*\"hisense\" + 0.003*\"xbox\" + 0.003*\"great\" + 0.003*\"sound\" + 0.003*\"use\" + 0.002*\"settings\"'),\n",
       " (6,\n",
       "  '0.005*\"remote\" + 0.004*\"price\" + 0.004*\"great\" + 0.004*\"good\" + 0.004*\"roku\" + 0.004*\"like\" + 0.004*\"use\" + 0.003*\"screen\" + 0.003*\"hisense\" + 0.003*\"picture\"'),\n",
       " (7,\n",
       "  '0.006*\"great\" + 0.006*\"picture\" + 0.005*\"quality\" + 0.003*\"amazon\" + 0.003*\"love\" + 0.003*\"like\" + 0.003*\"hisense\" + 0.003*\"apps\" + 0.003*\"use\" + 0.003*\"easy\"'),\n",
       " (8,\n",
       "  '0.005*\"picture\" + 0.003*\"price\" + 0.003*\"great\" + 0.003*\"hisense\" + 0.003*\"sound\" + 0.003*\"good\" + 0.003*\"like\" + 0.002*\"excellent\" + 0.002*\"set\" + 0.002*\"update\"'),\n",
       " (9,\n",
       "  '0.006*\"picture\" + 0.005*\"great\" + 0.005*\"sound\" + 0.005*\"hisense\" + 0.004*\"screen\" + 0.004*\"set\" + 0.004*\"good\" + 0.003*\"like\" + 0.003*\"contrast\" + 0.003*\"price\"')]"
      ]
     },
     "execution_count": 372,
     "metadata": {},
     "output_type": "execute_result"
    }
   ],
   "source": [
    "count_vectorizer.fit(pos_corpus)\n",
    "pos_Hisense_review_word = count_vectorizer.transform(pos_corpus).transpose()\n",
    "pd.DataFrame(pos_Hisense_review_word.toarray(), count_vectorizer.get_feature_names()).head()\n",
    "corpus = matutils.Sparse2Corpus(pos_Hisense_review_word)\n",
    "id2word = dict((v, k) for k, v in count_vectorizer.vocabulary_.items())\n",
    "lda = models.LdaModel(corpus=corpus, num_topics=10, id2word=id2word, passes=10)\n",
    "lda.print_topics()"
   ]
  },
  {
   "cell_type": "code",
   "execution_count": 504,
   "metadata": {},
   "outputs": [],
   "source": [
    "### class to automate extration of each company's dataframe\n",
    "class company:\n",
    "    \n",
    "    def __init__(self, name):\n",
    "        self.name = name\n",
    "    \n",
    "    def dataframe(self, sentiment = 'all'):\n",
    "        if sentiment == 'pos':\n",
    "            return only_tv_df[(only_tv_df['brand'] == self.name) & (only_tv_df['rating'] == 1)].reset_index()\n",
    "        elif sentiment == 'neg':\n",
    "            return only_tv_df[(only_tv_df['brand'] == self.name) & (only_tv_df['rating'] == 0)].reset_index()\n",
    "        elif sentiment == 'all':\n",
    "            return only_tv_df[(only_tv_df['brand'] == self.name)].reset_index()"
   ]
  },
  {
   "cell_type": "markdown",
   "metadata": {},
   "source": [
    "**Samsung Negative**"
   ]
  },
  {
   "cell_type": "code",
   "execution_count": 516,
   "metadata": {},
   "outputs": [],
   "source": [
    "samsung = company('Samsung')\n",
    "df1 = samsung.dataframe('neg')"
   ]
  },
  {
   "cell_type": "code",
   "execution_count": 517,
   "metadata": {},
   "outputs": [
    {
     "data": {
      "text/plain": [
       "[(0,\n",
       "  '0.001*\"app\" + 0.001*\"work\" + 0.000*\"smart\" + 0.000*\"smarthub\" + 0.000*\"apps crash\" + 0.000*\"slow\" + 0.000*\"response time\" + 0.000*\"apps\" + 0.000*\"youtube app\" + 0.000*\"slow slow\"'),\n",
       " (1,\n",
       "  '0.000*\"subtitles\" + 0.000*\"pixel\" + 0.000*\"similar\" + 0.000*\"remote\" + 0.000*\"wear\" + 0.000*\"burned\" + 0.000*\"smart\" + 0.000*\"cnn\" + 0.000*\"dlna\" + 0.000*\"covered\"'),\n",
       " (2,\n",
       "  '0.016*\"samsung\" + 0.008*\"picture\" + 0.005*\"like\" + 0.005*\"screen\" + 0.005*\"good\" + 0.004*\"set\" + 0.004*\"remote\" + 0.004*\"quality\" + 0.004*\"sound\" + 0.004*\"smart\"'),\n",
       " (3,\n",
       "  '0.001*\"repair\" + 0.001*\"samsung\" + 0.001*\"xaa\" + 0.001*\"years\" + 0.001*\"power supply\" + 0.001*\"xaa xaa\" + 0.001*\"xfinity\" + 0.001*\"supply\" + 0.000*\"adapter\" + 0.000*\"power\"'),\n",
       " (4,\n",
       "  '0.001*\"images\" + 0.001*\"picture\" + 0.001*\"class\" + 0.001*\"spacing\" + 0.001*\"video block\" + 0.001*\"div\" + 0.001*\"images amazon\" + 0.001*\"class video\" + 0.001*\"hidden value\" + 0.001*\"type hidden\"'),\n",
       " (5,\n",
       "  '0.010*\"samsung\" + 0.003*\"smart\" + 0.002*\"buy\" + 0.002*\"service\" + 0.002*\"warranty\" + 0.002*\"screen\" + 0.002*\"television\" + 0.002*\"picture\" + 0.002*\"customer\" + 0.002*\"years\"'),\n",
       " (6,\n",
       "  '0.000*\"challenged\" + 0.000*\"overseas\" + 0.000*\"work galaxy\" + 0.000*\"bad price\" + 0.000*\"galaxy note\" + 0.000*\"galaxy\" + 0.000*\"works galaxy\" + 0.000*\"buzzing\" + 0.000*\"return time\" + 0.000*\"display quality\"'),\n",
       " (7,\n",
       "  '0.013*\"samsung\" + 0.004*\"repair\" + 0.003*\"amazon\" + 0.003*\"warranty\" + 0.003*\"service\" + 0.003*\"called\" + 0.002*\"screen\" + 0.002*\"said\" + 0.002*\"told\" + 0.002*\"customer\"'),\n",
       " (8,\n",
       "  '0.001*\"turning\" + 0.001*\"warranty\" + 0.000*\"set\" + 0.000*\"depth\" + 0.000*\"buzzing\" + 0.000*\"class action\" + 0.000*\"capacitors\" + 0.000*\"jan\" + 0.000*\"maybe years\" + 0.000*\"class\"'),\n",
       " (9,\n",
       "  '0.001*\"samsung\" + 0.001*\"picture\" + 0.001*\"buzzing\" + 0.001*\"sound\" + 0.001*\"great\" + 0.001*\"work\" + 0.001*\"smart\" + 0.001*\"good\" + 0.001*\"buzz\" + 0.001*\"light\"')]"
      ]
     },
     "execution_count": 517,
     "metadata": {},
     "output_type": "execute_result"
    }
   ],
   "source": [
    "corpus = df1['reviewText']\n",
    "count_vectorizer.fit(corpus)\n",
    "review_word =  count_vectorizer.transform(corpus).transpose()\n",
    "corpus = matutils.Sparse2Corpus(review_word)\n",
    "id2word = dict((v, k) for k, v in count_vectorizer.vocabulary_.items())\n",
    "lda = models.LdaModel(corpus=corpus, num_topics=10, id2word=id2word, passes=10)\n",
    "lda.print_topics()"
   ]
  },
  {
   "cell_type": "code",
   "execution_count": 441,
   "metadata": {},
   "outputs": [],
   "source": [
    "### using pyLDAvis as visual tool\n",
    "import pyLDAvis\n",
    "import pyLDAvis.gensim_models as gensimvis"
   ]
  },
  {
   "cell_type": "code",
   "execution_count": 454,
   "metadata": {},
   "outputs": [],
   "source": [
    "from gensim.corpora import Dictionary\n",
    "dictionary = Dictionary([list(count_vectorizer.vocabulary_.keys())])"
   ]
  },
  {
   "cell_type": "code",
   "execution_count": 452,
   "metadata": {},
   "outputs": [],
   "source": [
    "vis = gensimvis.prepare(lda, corpus, dictionary)"
   ]
  },
  {
   "cell_type": "code",
   "execution_count": 453,
   "metadata": {},
   "outputs": [
    {
     "data": {
      "text/html": [
       "\n",
       "<link rel=\"stylesheet\" type=\"text/css\" href=\"https://cdn.jsdelivr.net/gh/bmabey/pyLDAvis@3.3.1/pyLDAvis/js/ldavis.v1.0.0.css\">\n",
       "\n",
       "\n",
       "<div id=\"ldavis_el1611223845299711202322217915\"></div>\n",
       "<script type=\"text/javascript\">\n",
       "\n",
       "var ldavis_el1611223845299711202322217915_data = {\"mdsDat\": {\"x\": [0.24781546751572553, 0.24692402348777812, 0.1181766140576378, -0.007270327186322697, -0.053416117379791794, -0.08087991618572377, -0.09297099635933333, -0.11984579855873394, -0.12119634135426095, -0.13733660803697526], \"y\": [0.05210141919573455, -0.10230908866466358, 0.10980538635893768, -0.07408998687886961, 0.013956575954774831, -0.005710614007135337, -0.0016545324815921702, -0.003912219173701346, 0.007388858537325864, 0.004424201159189001], \"topics\": [1, 2, 3, 4, 5, 6, 7, 8, 9, 10], \"cluster\": [1, 1, 1, 1, 1, 1, 1, 1, 1, 1], \"Freq\": [35.02495489812268, 33.72856557766949, 12.121296309419858, 4.746378337988224, 3.721008264096246, 3.0847977828461386, 2.6656458719903937, 2.207091915282418, 1.8878829983476648, 0.8123780442368771]}, \"tinfo\": {\"Term\": [\"smart\", \"samsung\", \"apps\", \"netflix\", \"warranty\", \"service\", \"repair\", \"app\", \"problem\", \"picture\", \"use\", \"remote\", \"months\", \"internet\", \"years\", \"amazon\", \"hub\", \"roku\", \"audio\", \"customer\", \"smart hub\", \"video\", \"work\", \"told\", \"customer service\", \"called\", \"software\", \"issue\", \"sound\", \"good\", \"uhd\", \"black levels\", \"soap opera\", \"soap\", \"local dimming\", \"auto motion\", \"tones\", \"levels\", \"opera\", \"opera effect\", \"artifacts\", \"tweak\", \"black level\", \"fuzzy\", \"ips\", \"judder\", \"motion blur\", \"lg oled\", \"dark scene\", \"angles\", \"dark scenes\", \"better sound\", \"suhd\", \"change channel\", \"contrast brightness\", \"dimming\", \"analog audio\", \"lottery\", \"game mode\", \"uneven\", \"scenes\", \"blur\", \"sharpness\", \"dynamic\", \"washed\", \"motion\", \"brightness\", \"smart remote\", \"modes\", \"colors\", \"sports\", \"blacks\", \"refresh\", \"settings\", \"mode\", \"scene\", \"viewing\", \"adjust\", \"picture\", \"picture quality\", \"contrast\", \"angle\", \"looks\", \"color\", \"standard\", \"movies\", \"setting\", \"dark\", \"hd\", \"channel\", \"sound\", \"better\", \"quality\", \"bright\", \"good\", \"overall\", \"like\", \"remote\", \"watching\", \"look\", \"set\", \"movie\", \"channels\", \"audio\", \"room\", \"screen\", \"cable\", \"great\", \"use\", \"don\", \"black\", \"hdmi\", \"samsung\", \"box\", \"way\", \"video\", \"price\", \"time\", \"work\", \"extended warranty\", \"lasted\", \"repair\", \"service center\", \"expired\", \"authorized\", \"warranty expired\", \"warranty\", \"months later\", \"repairman\", \"lasted years\", \"dots\", \"won turn\", \"labor\", \"executive\", \"repaired\", \"repairs\", \"uhdtv\", \"ultra hd\", \"action lawsuit\", \"cost repair\", \"mark\", \"local repair\", \"repair person\", \"repair company\", \"months old\", \"requested\", \"inch ultra\", \"waste time\", \"samsung link\", \"capacitors\", \"extended\", \"days later\", \"phone samsung\", \"samsung product\", \"samsung televisions\", \"samsung products\", \"called samsung\", \"customer service\", \"shop\", \"repair shop\", \"months\", \"service\", \"told\", \"customer\", \"called\", \"started\", \"years\", \"buy samsung\", \"board\", \"samsung customer\", \"replacement\", \"products\", \"asked\", \"samsung\", \"sent\", \"parts\", \"tech\", \"later\", \"new\", \"product\", \"ago\", \"fix\", \"problem\", \"year\", \"buy\", \"said\", \"power\", \"amazon\", \"weeks\", \"days\", \"bought\", \"support\", \"issue\", \"time\", \"television\", \"screen\", \"got\", \"working\", \"set\", \"like\", \"great\", \"picture\", \"don\", \"box\", \"work\", \"model\", \"good\", \"hulu amazon\", \"glitchy\", \"like roku\", \"streaming device\", \"connect hdmi\", \"hdmi arc\", \"uhd color\", \"reset smart\", \"apps don\", \"dumbest\", \"non smart\", \"internet provider\", \"samsung software\", \"compliant\", \"standby mode\", \"flash player\", \"stream content\", \"harmony remote\", \"hollywood\", \"glitches\", \"prime movies\", \"uninstall\", \"reset samsung\", \"want good\", \"time load\", \"dvi output\", \"human\", \"uninstalled\", \"takes forever\", \"tcl\", \"login\", \"loading\", \"netflix apps\", \"youtube app\", \"stops working\", \"load\", \"roku\", \"launch\", \"smarthub\", \"hulu\", \"amazon netflix\", \"ads\", \"netflix hulu\", \"advertisements\", \"apps\", \"smart hub\", \"hub\", \"app\", \"netflix\", \"internet connection\", \"smart\", \"watch netflix\", \"internet\", \"arc\", \"youtube\", \"device\", \"browser\", \"router\", \"software\", \"updates\", \"netflix app\", \"amazon prime\", \"web browser\", \"slow\", \"samsung smart\", \"apple\", \"connection\", \"use\", \"keyboard\", \"wifi\", \"devices\", \"streaming\", \"interface\", \"remote\", \"samsung\", \"work\", \"connected\", \"update\", \"time\", \"connect\", \"amazon\", \"want\", \"video\", \"turn\", \"hdmi\", \"works\", \"buy\", \"good\", \"don\", \"like\", \"great\", \"sound\", \"picture\", \"color clarity\", \"won connect\", \"acts like\", \"universe\", \"service gave\", \"deal samsung\", \"panel bad\", \"samsung directed\", \"smart wifi\", \"look lg\", \"shipping box\", \"went years\", \"samsung went\", \"reviews bought\", \"amazon etc\", \"bought similar\", \"bad picture\", \"rename\", \"replaced entire\", \"pull hair\", \"calls emails\", \"line stay\", \"plasma went\", \"servicing\", \"didn look\", \"monitor samsung\", \"clarity brightness\", \"tighten\", \"house took\", \"tech told\", \"people having\", \"cracked screen\", \"zero stars\", \"entire panel\", \"problem\", \"samsung\", \"videos youtube\", \"amazon\", \"issue\", \"plasma\", \"good\", \"problems\", \"netflix\", \"buzzing\", \"fix\", \"reviews\", \"return\", \"base\", \"issues\", \"smart\", \"picture\", \"took\", \"away\", \"time\", \"bought\", \"screen\", \"went\", \"house\", \"panel\", \"connect\", \"right\", \"service\", \"stand\", \"tvs\", \"days\", \"quality\", \"work\", \"box\", \"new\", \"like\", \"spacing\", \"hidden value\", \"type hidden\", \"class video\", \"com images\", \"images amazon\", \"div\", \"input type\", \"video block\", \"na ssl\", \"ssl images\", \"images na\", \"https images\", \"ssl\", \"na\", \"value https\", \"png\", \"washers\", \"id video\", \"url input\", \"slate\", \"images class\", \"spacing small\", \"png class\", \"url nbsp\", \"div input\", \"mini video\", \"block class\", \"block div\", \"video url\", \"minus\", \"url\", \"subtitles\", \"hdr\", \"images\", \"block\", \"https\", \"video\", \"atsc tuner\", \"wi\", \"wi fi\", \"type\", \"hidden\", \"fi\", \"bright\", \"samsung\", \"smart\", \"good\", \"tvs\", \"screen\", \"picture\", \"plasma\", \"bit\", \"stand\", \"amazon\", \"doesn\", \"watching\", \"quality\", \"better\", \"like\", \"great\", \"bad\", \"work\", \"lcd\", \"time\", \"works\", \"use\", \"power\", \"model\", \"xaa\", \"tizen os\", \"xaa xaa\", \"theirs update\", \"video pack\", \"hub updates\", \"cable long\", \"remote wait\", \"later year\", \"plug hdmi\", \"wireless lan\", \"update enable\", \"coming later\", \"extremely frustrating\", \"enable smart\", \"wand\", \"eventually month\", \"hts\", \"pixels pixels\", \"subsequently returned\", \"occurrence\", \"washing\", \"trail\", \"best viewing\", \"smart called\", \"media hub\", \"gp product\", \"com gp\", \"gp\", \"updating smart\", \"solely\", \"time waiting\", \"theirs\", \"www amazon\", \"tizen\", \"makes smart\", \"os\", \"adapter\", \"glove delivery\", \"wouldn work\", \"delivery\", \"work\", \"amazon\", \"didn work\", \"smart\", \"importantly\", \"smart hub\", \"hub\", \"wireless\", \"buy\", \"phone\", \"didn\", \"scratches\", \"usb\", \"samsung\", \"update\", \"hbo\", \"frustrating\", \"lcd\", \"product\", \"plastic\", \"remote\", \"works\", \"love\", \"don\", \"return\", \"bose\", \"work galaxy\", \"excellent sound\", \"battery life\", \"shaky\", \"update correct\", \"fix time\", \"told customer\", \"bose system\", \"service doesn\", \"small room\", \"separate remote\", \"capable samsung\", \"hdmi source\", \"functions slow\", \"roku fire\", \"friday price\", \"replace time\", \"person contact\", \"man available\", \"putting damned\", \"work free\", \"conflicting\", \"basically poor\", \"reps service\", \"needed ship\", \"product customer\", \"fewer times\", \"available fix\", \"disconnect tell\", \"issue refund\", \"galaxy tab\", \"earned\", \"nag\", \"service said\", \"tab\", \"far worst\", \"galaxy\", \"absolutely horrible\", \"jack\", \"forewarned\", \"hdr\", \"fire stick\", \"headphone\", \"adapter\", \"headphone jack\", \"audio\", \"work\", \"samsung\", \"speakers\", \"sound\", \"inch lcd\", \"service\", \"delivery\", \"lcd\", \"customer\", \"quality\", \"free\", \"amazon\", \"plug\", \"problem\", \"customer service\", \"great\", \"inch\", \"save\", \"home\", \"time\", \"pic quality\", \"board supplier\", \"power defect\", \"star club\", \"chipset\", \"cyber\", \"cyber monday\", \"place order\", \"origional\", \"cnet site\", \"chassis\", \"juttering\", \"loading apps\", \"love problem\", \"different things\", \"thoroughly addressing\", \"sale pair\", \"failures faulty\", \"club star\", \"approx year\", \"spent series\", \"faulty components\", \"buyer weigh\", \"scroll comments\", \"stated new\", \"gamble star\", \"picture check\", \"argument samsung\", \"pair battery\", \"weigh research\", \"came broken\", \"samsung power\", \"causing boards\", \"pic\", \"boards fail\", \"fake\", \"set hour\", \"hour screen\", \"supplier\", \"weigh\", \"months purchased\", \"agreement\", \"action law\", \"law suit\", \"club\", \"suit\", \"power board\", \"cable\", \"advised\", \"uverse\", \"fail\", \"connector\", \"settled\", \"faulty\", \"million\", \"cnet\", \"hdmi\", \"samsung\", \"boards\", \"board\", \"power\", \"set\", \"rep\", \"use\", \"fine\", \"xfinity\", \"dithering\", \"superior picture\", \"spend little\", \"inst\", \"picture okay\", \"worked years\", \"box arrived\", \"amazing samsung\", \"terrible quality\", \"virtual remote\", \"port port\", \"quality lacking\", \"speakers work\", \"considering purchase\", \"inch size\", \"features great\", \"closed caption\", \"tipping\", \"work device\", \"thinking returning\", \"reviews stated\", \"bad don\", \"receiver set\", \"tvs size\", \"mute mute\", \"crooked result\", \"models type\", \"panasonic dmp\", \"dmp\", \"closed captioning\", \"captioning\", \"incredibly slow\", \"cc\", \"magnavox\", \"closed\", \"mute\", \"stand\", \"features\", \"remote\", \"glasses\", \"set\", \"picture\", \"second set\", \"great\", \"work\", \"screen\", \"kitchen\", \"hdcp\", \"years great\", \"samsung\", \"attached\", \"monitor work\", \"work pro\", \"rtn\", \"osd menus\", \"box returned\", \"sure wrong\", \"thought quality\", \"want quality\", \"la\", \"note work\", \"days late\", \"transmit\", \"random intervals\", \"linkcode\", \"manual find\", \"issues biggest\", \"horrible picture\", \"line left\", \"saw filed\", \"quits\", \"purchased expensive\", \"youtube apps\", \"creativeasin\", \"creative creativeasin\", \"camp creative\", \"camp\", \"makes watching\", \"real thing\", \"drop price\", \"called ask\", \"player want\", \"watch youtube\", \"wifi password\", \"buzzing\", \"work note\", \"buzzing problem\", \"buzz\", \"house calls\", \"cox cable\", \"work\", \"didn work\", \"knock\", \"eagle\", \"loudly\", \"loud\", \"buzzing noise\"], \"Freq\": [1510.0, 6816.0, 657.0, 742.0, 805.0, 1029.0, 640.0, 466.0, 1430.0, 3035.0, 1344.0, 1498.0, 721.0, 450.0, 900.0, 1378.0, 314.0, 274.0, 606.0, 608.0, 266.0, 691.0, 1108.0, 478.0, 379.0, 575.0, 361.0, 946.0, 1532.0, 1749.0, 82.89128528213764, 79.51294943877828, 46.2099208342965, 48.95653969928768, 46.00951719983686, 33.960769009739224, 40.82115150545854, 116.94017292466143, 47.414568922661054, 30.204463061362347, 39.27448475153619, 29.737821855643134, 36.48390366228669, 38.26865947359113, 26.890413150639034, 72.5900013189372, 72.34023659057347, 22.255102028693493, 23.11608088522305, 54.239418432343044, 63.676308904387426, 22.60431098214323, 20.952364902633736, 24.332423789497064, 20.752811849967323, 85.28936800114255, 19.365104064254865, 19.804303750931158, 83.95022952981925, 18.44899465307263, 179.7042697781732, 114.32200011541666, 61.150972585140444, 89.68753773963317, 74.84573329461765, 382.70452532831126, 195.2511764448877, 57.69588199115364, 42.98636352740765, 286.1248846825477, 97.22427771542183, 155.93283339870138, 98.49817027272829, 473.8593686260659, 268.7248365223491, 79.50767090867883, 347.0588139559616, 144.86931874918156, 2187.874299670208, 482.0180835469511, 201.7997701160799, 127.69132987179884, 382.00318645242413, 413.38086983563664, 194.52299091021496, 316.7781896367343, 253.47639381039772, 328.4227036158326, 384.8222825441694, 242.9765495957879, 1040.769037803836, 723.1974823581647, 1009.500710248342, 223.8964082096972, 1096.9407373912993, 211.84061742115082, 1154.3604674735714, 926.3549232356995, 439.8773624213929, 451.8338621442758, 1015.193164627259, 300.37906018297906, 270.21652177855685, 418.6019432717037, 326.59583990327883, 1000.362693979514, 521.93611137227, 751.4539517486446, 715.2994447745017, 697.09342797288, 433.60198328015645, 495.3722724004159, 1463.5643110262956, 491.06074713526755, 405.92791353397575, 386.92691180952113, 376.73704038628506, 446.44142519426515, 398.03897799599713, 121.89561935270767, 114.16507407745588, 635.900975231716, 77.62010790233998, 55.393191544470696, 63.336765757013964, 44.520140224334206, 796.2474486251709, 43.54419304318378, 41.75981363437869, 44.40037268199712, 45.48482281959872, 37.482955626131265, 37.97144938404631, 38.87035648996908, 109.38431745675831, 60.26106763487462, 28.359004517245104, 26.99252359862397, 26.38154162565261, 27.69369863768438, 28.08265211994547, 25.901378446450945, 25.894812486054974, 24.58713023002511, 24.56045815584541, 30.21023925645185, 24.245887286301123, 26.259306251429834, 23.169288383332646, 126.42016392875222, 156.65203687902377, 52.21041532932751, 42.46740187583147, 125.5970932703391, 38.8738699240518, 108.40948962304803, 218.6184053182554, 355.6705262973298, 113.42909655116227, 65.08322167454688, 664.2758270749548, 939.7218110564181, 442.87516122443435, 546.2152553452304, 517.0110855679831, 332.15525420464434, 760.2515105175332, 220.92953909735914, 238.0415117303178, 150.82435064691833, 283.51369250823956, 263.68250099084497, 135.24352942669924, 4659.499887991085, 192.05682258281215, 197.0629235964015, 330.8117001553561, 273.75106545383346, 716.832418378019, 485.80926250508156, 251.17549738906578, 384.74646363183393, 939.3326890136013, 473.6573527839387, 764.4200130598157, 423.2898574176566, 501.03546392122723, 847.606417180038, 291.3809193240887, 361.45885363968097, 646.3324716411804, 497.4887812688954, 573.0203027333024, 751.1647480812468, 406.0696689079432, 844.0235782885101, 467.4829374887732, 330.8712863117935, 602.2800553537895, 574.4738846853191, 519.8792698435125, 657.7972021169028, 495.39879893886064, 450.3244842825822, 454.2390082075746, 433.18162292779283, 444.2796920547445, 16.612130378705036, 14.379456496913338, 12.558053487072657, 11.818491704720673, 12.435965447965831, 11.82795874067892, 11.868930504878547, 11.669756448723971, 11.808663100302512, 11.061073930231881, 14.402301565888369, 10.302001648758987, 12.03272480327634, 8.820621593980588, 8.720145315725059, 8.5496317123615, 8.507869608727246, 8.493947329992007, 8.420018884625593, 14.50320945466149, 8.769459656902889, 8.15989688011834, 8.45681368125036, 8.111474155404485, 7.839007238231223, 7.807142361301371, 7.98997958075935, 7.42068720108334, 12.484987316227134, 7.387818072488651, 14.620094504699882, 24.974693952718997, 10.013069642202431, 25.991290056964953, 13.31670078362801, 80.12171554872234, 203.69563065321773, 30.189478482272893, 74.59950885589879, 110.53170535885614, 11.736645667293596, 81.501975695526, 36.78145834534982, 29.115639086616934, 404.50613429918775, 175.38310137206824, 200.83450724843965, 280.7917791899592, 414.5352483051702, 32.52049330607519, 690.8446992651302, 27.298272960235753, 231.23059465663835, 41.98062728209836, 120.02404732324037, 129.97187468174295, 85.57105578521619, 55.71153218547129, 162.00992965269327, 86.99059248912076, 45.347465701493924, 71.57487321398222, 42.19401325036182, 144.24944459410423, 75.85456409202888, 66.2918393248197, 112.21541041587041, 314.60826636836384, 74.35345300029931, 94.7921267532363, 93.00528192674611, 97.74931000057894, 65.1093552325599, 247.25867081875427, 490.45317585002743, 185.73171317067005, 97.09025588444378, 155.1126118508198, 192.30412669028277, 110.9991395494089, 157.8409203700089, 127.70797907948345, 127.58503823099866, 124.85123992891039, 127.20944621532101, 114.18330449631917, 131.17017692086677, 140.0782091098028, 131.76723813686982, 137.50596186723797, 130.4117085155128, 128.79998397745, 118.20385490518039, 6.148806510464842, 5.654486653817612, 5.625488199181074, 5.630233744523877, 5.411618063884472, 5.144134459237422, 4.992686924946044, 4.9194219166104265, 4.606591372082302, 4.599645396975346, 4.66783425809017, 4.475183796919739, 4.402115222435394, 4.205108747955532, 4.179285109111437, 4.181678266427782, 4.105269945841906, 4.154033352215479, 4.007646398688756, 4.000656689252648, 4.003193280343412, 3.9970278518228306, 3.9529243752832985, 3.920437551952097, 3.913178023942922, 3.845848653584889, 3.8288600904891332, 3.813893313541846, 3.765499795816517, 3.7001173443655238, 5.892101194174091, 5.766407990934001, 4.155425438150154, 5.170105979414832, 69.54498408826, 123.10966371761205, 4.9751057246273, 45.85252651629662, 38.14995344510472, 25.314170972475296, 42.217690812047096, 24.46039384634633, 28.262045624654856, 13.331584478278991, 24.225276610310363, 21.058478284037797, 22.448558369649508, 13.79831279142068, 24.72927694952622, 32.24331058648789, 37.68681727703195, 16.69675282646317, 18.68243665684727, 27.52467297501018, 24.943339441745103, 29.260154932100257, 18.345225706337033, 13.331016673259843, 17.482603868082123, 16.264613178861296, 17.076043614214928, 19.292106547890352, 14.544902265618996, 16.944821354006397, 15.434583052201566, 18.079787978782477, 16.792639231237246, 15.95287339815259, 15.81570475169914, 16.167001121235295, 9.601751591095532, 8.963388146652296, 8.96328121985427, 8.963312600544995, 8.963330615385967, 8.963221945216235, 8.96326843512842, 8.963252163659154, 8.963204511499164, 6.734864568742651, 6.734868055486065, 6.7348883948226455, 6.734886651450939, 6.734868636609967, 6.7348529462646045, 6.734866312114358, 5.830754326019397, 4.873781856960272, 4.506597557035877, 4.506621964239774, 4.506602787150998, 4.5065679197168595, 4.506596104226121, 4.506589130739294, 4.506577508261247, 4.506564723535397, 4.506569081964664, 4.50655310105735, 4.5065594934202755, 4.506545837008572, 7.4792761518712165, 8.936952820336069, 7.6556954895071625, 23.0167812790278, 25.831705945407542, 9.64746337837539, 6.531526409703754, 32.43043991553772, 4.713706919638836, 9.458003620371537, 9.453559184766645, 13.187311056695723, 8.3673409825277, 9.050958288615773, 13.379538707846294, 27.44961532633331, 19.293562277828148, 19.662169169065407, 15.428774520538175, 18.600540643628943, 19.86270805426686, 12.94217323648734, 11.36774935717167, 11.531943591274654, 13.502839252943499, 11.723482029477081, 11.526703015923593, 12.372654378503343, 11.815297281546956, 11.926508124980437, 11.508492917320707, 10.636171314301789, 10.796162860343243, 10.377529336851453, 10.660649415315026, 10.252464499586825, 9.942723135158285, 9.877647718329449, 9.865075683826806, 8.53201094215411, 8.36565187545832, 6.915804705404048, 6.497266005617279, 5.9983627225182445, 5.260008024699164, 4.6346478204975385, 4.033412215048128, 4.019233162853426, 3.7430525036072098, 3.6267097466408527, 3.620391886848408, 3.472540767357615, 3.4724962041403815, 3.4722329198353203, 3.4721972692615335, 3.471982884054302, 3.455701652417451, 3.470816773056314, 3.4354078041715357, 3.415515265762978, 3.3867324859574492, 3.362104443291622, 3.27709781803715, 3.1820608556712937, 3.1372772311741026, 3.0544814232589266, 3.0540781863635265, 3.053740228559317, 3.0355837285648266, 6.091374587763654, 4.011461096885634, 12.237877488479072, 4.910477273415502, 12.969772205975072, 3.8975529368737627, 16.26639136286534, 18.288942839638043, 4.865875033256565, 3.8907932990250678, 12.325385194190497, 22.17612145953983, 22.402450572519246, 8.078658493535452, 20.726825428085718, 4.797270321648857, 11.084009090235488, 11.523436135674293, 10.019676626293096, 16.345030747465024, 11.496497791297724, 12.739627518071439, 5.845201112826741, 8.894990631516611, 19.427381284135063, 12.157405471680935, 6.974463388689731, 7.410053179801343, 9.587029934576943, 8.27980529377956, 6.429000937989567, 7.340787005520536, 6.94834500751026, 6.548835524128994, 6.700486320315152, 6.59591644269514, 6.626451913276741, 3.5617594297077533, 3.1484526351851065, 3.1267904659984587, 3.1141065164884454, 3.109783199708168, 2.8219818541977975, 2.800625043976805, 2.749682551013169, 2.6310240534775633, 2.6024678904650713, 2.56479841713606, 2.5510739158405578, 2.419849490971848, 2.403560557190404, 2.39111431725011, 2.3237584156165076, 2.269931144258174, 2.2699074149315996, 2.2699140757951994, 2.2699074149315996, 2.269901794827937, 2.2699140757951994, 2.2699124105792996, 2.2699065823236495, 2.269902002979925, 2.2698876404927875, 2.2698940932044, 2.2698890975567, 2.269875567677513, 4.496678660886599, 4.76699315792749, 3.583908882697128, 2.805742044285402, 4.458218834461068, 5.645546079804534, 2.5147632586859157, 13.216885206637295, 2.579896305245056, 10.772797873785532, 2.8053858962347977, 8.944256765746907, 4.436601001647757, 6.993880136387537, 8.877247645324472, 5.049135267201838, 14.90649984996591, 13.584952872653677, 22.805629649538687, 8.427643515374383, 11.26712054412116, 3.9142373444686873, 9.238650284701254, 6.327216779093253, 6.568629372670422, 6.192403813960126, 7.0687041150284955, 5.077226626826254, 6.532708167884384, 4.966361131550484, 6.242734131928538, 5.052635134719584, 5.103278096973215, 4.722463203242621, 4.2152617531366845, 4.402439513764004, 4.550228673797589, 4.700405852179364, 3.3689016177062894, 3.368552102174907, 3.3684100899471656, 2.7973123970539824, 2.482818390853848, 2.482862166467739, 2.0364145000599034, 2.0366642278730067, 2.173262067086708, 2.100310523571965, 1.844935139241916, 1.789204646480041, 1.778106321944086, 1.7565094332514712, 1.7037880830822694, 1.703788255427206, 1.7037363796012956, 1.7037312092531982, 1.7037575780284948, 1.7037646441708947, 1.7037098384810625, 1.703735862566486, 1.7037287964240861, 1.7037420669842027, 1.7037236260759887, 1.7037136300696671, 1.703740343534837, 1.7037331050475006, 1.7037353455316762, 2.180679103777331, 4.821616735455274, 2.03195386841136, 6.213841537983939, 2.0240187628413797, 6.2369660921943915, 2.1723429515399313, 2.195833738740615, 3.7938639025954775, 3.460962423099063, 2.0073736888665588, 2.050398051179131, 3.3378743587739335, 3.3291633562994734, 3.099029094346007, 4.503100887815127, 5.1929276968974785, 12.056294903994084, 4.049724437921997, 2.619043447969729, 5.094717968857432, 4.15405172183086, 3.163101426728189, 3.565283502590209, 2.942108340210884, 3.235042339534832, 6.035545875434515, 7.204215511618688, 3.45516163722368, 4.054281927424897, 4.247853555772957, 3.95607978256206, 3.0463780609109294, 3.4171409654548124, 3.2415614591058772, 5.057607729522626, 2.4287288352527727, 2.4007743777813113, 2.401055800472889, 2.27100004062975, 2.0071858002811656, 1.958162380181353, 1.9015003020476147, 1.87221995893548, 1.6217805936726606, 1.6103055060286742, 1.5968004600489005, 1.5939480516364715, 1.583609416338933, 1.5624959332009658, 1.561442919955321, 1.5593200877087459, 1.5226814773219206, 1.518307853218352, 1.5065772886102466, 1.4942678099582316, 1.469604626982398, 1.4746319065152245, 1.4454413415168512, 1.339096291097802, 1.2324965008091635, 1.2324987120927537, 1.2135650386085355, 1.2093969901694006, 1.2092099155776712, 5.689443391663856, 5.5027308607675955, 1.8710712708198334, 4.977560442909273, 3.168848696102736, 5.470809360535347, 3.1997547749103727, 4.521104630683525, 4.621703881821845, 5.635319424834929, 3.4274597861636216, 4.302396595264198, 4.377985639321931, 2.033954714910477, 3.557176335104026, 3.08519760691301, 3.220652289351032, 2.208254426501608, 1.8957699817520162, 1.738324673685255, 2.694847085683421, 1.753470492088944, 0.8093534432587337, 0.8019513417156696, 0.6480112151516508, 0.6476873105660204, 0.6411043590257465, 0.6300162410603071, 0.6284387762481498, 0.623851396673165, 0.6155131690098208, 0.5960919617029009, 0.5843789984244061, 0.5789762115749021, 0.5771090976562057, 0.5668203376389704, 0.5616361514949272, 0.5497200024765627, 0.5451024907671919, 0.5615305304343955, 0.490163870580828, 0.6166137214297394, 1.1033739295464062, 0.4129236647845398, 0.4088638195875619, 0.40882027072386523, 0.4087854443201223, 0.4087795764834261, 0.40840720673848857, 0.4044889508550883, 0.4030525678679296, 0.40284056451399747, 1.1007223017204453, 1.10509799512186, 0.7907110406125631, 3.490581301830394, 0.60226733647806, 0.4901831234287988, 1.7228517896446178, 0.4905529874488769, 0.4898519871309156, 2.298627651367373, 1.1369448065445198, 0.7197367328667366, 0.6621598698656863, 0.5898683755127244, 0.6180575264373679, 0.5852641853785558], \"Total\": [1510.0, 6816.0, 657.0, 742.0, 805.0, 1029.0, 640.0, 466.0, 1430.0, 3035.0, 1344.0, 1498.0, 721.0, 450.0, 900.0, 1378.0, 314.0, 274.0, 606.0, 608.0, 266.0, 691.0, 1108.0, 478.0, 379.0, 575.0, 361.0, 946.0, 1532.0, 1749.0, 83.63750966254321, 80.35077527716707, 46.74048087873261, 49.5247673477647, 46.61720494756245, 34.49029184225853, 41.463282247555, 118.81337591625702, 48.21111132690177, 30.72775214750115, 39.97463859646264, 30.269936900947936, 37.178528095197024, 39.003630939717866, 27.416641232890708, 74.17235761315916, 73.97115873071924, 22.772662626243292, 23.6543730555263, 55.51863044725011, 65.18556543802579, 23.155055780332162, 21.4692015879533, 24.955422429282393, 21.28849805273927, 87.51475533049901, 19.887820876391572, 20.346827556547215, 86.29870537895926, 18.967863603441074, 185.53592044318341, 117.61183068516654, 62.987664063529444, 92.77220435177291, 77.40497736898917, 404.2509356861995, 207.5759385724048, 59.98837383480332, 44.52750938795383, 310.2352395435766, 102.43912787310938, 170.46281110293074, 105.69668555526073, 554.4824173116996, 304.6102299112439, 84.6286390094481, 407.8291132945421, 160.70909868695531, 3035.5415977813004, 595.2408512889293, 231.09305230544706, 140.970690504683, 469.4938820923945, 515.9503867366436, 225.34901875685236, 385.8999486431871, 303.0550659643812, 405.66710137066025, 489.3493444772357, 290.9717616677441, 1532.5295093080633, 1024.809821898752, 1511.2690579577377, 267.51149247550006, 1749.0696091432776, 254.15207409693897, 1899.6181109026293, 1498.2053379650251, 611.078584790726, 638.2295060672648, 1723.8871125960038, 390.76183342980016, 344.88484783094344, 606.1405641077201, 443.0762532518568, 1972.1496799649112, 854.185327313285, 1439.2048120615336, 1344.9629867559092, 1346.452802389415, 686.0873438072209, 850.462187562966, 6816.2437888132845, 1007.8563212218619, 699.9809335003246, 691.3929229672062, 702.9248913036786, 1436.5657356149736, 1108.2086260036117, 122.52308160822793, 114.82416792212189, 640.2996713322999, 78.16035462965411, 55.92780009499921, 64.03109445159795, 45.0452547450824, 805.7014918827665, 44.09006146502002, 42.3079246096931, 44.990466626235474, 46.21539122344749, 38.11937652495682, 38.61965067921515, 39.53779521785449, 111.35392501895609, 61.370882550660774, 28.894719635562296, 27.52817038801106, 26.90609521977569, 28.25192040884577, 28.652616173911735, 26.44852492963223, 26.444491583481007, 25.110609094183356, 25.088544845587382, 30.87739059534225, 24.785481697656014, 26.846071693598976, 23.694882824372165, 129.70659391135834, 162.0730598422127, 53.48649435760891, 43.43856989094872, 130.03875559297379, 39.798297803611995, 112.1716227438869, 230.51473557172528, 379.4856031943438, 118.31191404244605, 67.22537664586376, 721.9559562413499, 1029.532111937423, 478.8592046481289, 608.4887227563295, 575.968463019059, 371.43254425702787, 900.1973167849617, 246.64385301486593, 267.321147022866, 165.14643521108133, 324.3393700713034, 302.0168115565137, 147.49472404750057, 6816.2437888132845, 215.90411958253503, 223.05290256568225, 395.0650236283069, 322.5708553311987, 947.6556777504981, 635.9502746629377, 298.4851272117293, 496.910133190939, 1430.5016128804355, 638.3488791952082, 1184.3956147479687, 571.5468572638384, 705.9351250599836, 1378.4526108092466, 364.74940663287043, 488.86616217941304, 1088.084272007195, 773.6911318263558, 946.6404548419732, 1436.5657356149736, 583.0816272582031, 1972.1496799649112, 807.4038718406879, 446.6750902059578, 1723.8871125960038, 1899.6181109026293, 1439.2048120615336, 3035.5415977813004, 1346.452802389415, 1007.8563212218619, 1108.2086260036117, 872.5281903505058, 1749.0696091432776, 17.162456152028813, 14.950674112185688, 13.110748395306002, 12.36167508670539, 13.009104155170013, 12.373556885391706, 12.41902715493527, 12.213490107809589, 12.369916252818802, 11.61554397849938, 15.17037191773003, 10.852639138090831, 12.682122115010047, 9.367488222638482, 9.26225165138714, 9.092331289483942, 9.050164436903202, 9.035911791235016, 8.962641700332476, 15.455285495465985, 9.350088221378455, 8.705115184059345, 9.028608411400146, 8.66408632543636, 8.383365030673573, 8.350052972098114, 8.568905460078179, 7.962608677795341, 13.405962908244216, 7.93650098779723, 15.764602219474682, 27.39845553454451, 10.788755023487653, 29.05924970649183, 14.632754619154325, 97.57895303251274, 274.8736123480255, 35.38422735694432, 94.65492096499743, 146.55266408649464, 12.818974549979549, 108.53762916620789, 45.368575509724444, 35.29103028277364, 657.7897772959475, 266.5090632910579, 314.6556470790517, 466.9955329634552, 742.6423161309494, 40.6451591126706, 1510.9491591501974, 34.02385344125064, 450.4708460139712, 57.64629848429411, 208.04088821162753, 251.5665057211026, 148.88772179793068, 87.76188898673662, 361.43957620721903, 165.21699314134548, 70.37460186122324, 131.46080121110103, 64.85415447298018, 350.4055032073137, 145.21911661026297, 124.19663614786535, 269.35877198360396, 1344.9629867559092, 149.08610283332817, 221.5470691553096, 215.3025910248787, 244.98353247755128, 127.17831697977583, 1498.2053379650251, 6816.2437888132845, 1108.2086260036117, 282.329870443949, 826.1335672731168, 1436.5657356149736, 428.55234969842394, 1378.4526108092466, 691.8193497770894, 691.3929229672062, 779.2860650111866, 850.462187562966, 552.9301479315044, 1184.3956147479687, 1749.0696091432776, 1346.452802389415, 1899.6181109026293, 1439.2048120615336, 1532.5295093080633, 3035.5415977813004, 6.722128961350585, 6.226679631134977, 6.20006974377789, 6.214551708848121, 5.984539656684067, 5.716989196156074, 5.565143229834053, 5.491592422994991, 5.181172335910754, 5.17380606053062, 5.253826711403094, 5.047863962115402, 4.974737958791424, 4.777345818562673, 4.75146635658331, 4.762597740346621, 4.67767260048881, 4.74009794395102, 4.580257562166339, 4.572772141435833, 4.575694959450116, 4.5691829220166555, 4.525105743987354, 4.493165047268072, 4.485495058790313, 4.419208547354782, 4.402746137461359, 4.386784037999665, 4.337560073790561, 4.2733181090650625, 6.936576391099307, 8.058045349161121, 5.032963981487046, 7.653844748317669, 1430.5016128804355, 6816.2437888132845, 7.633160858518451, 1378.4526108092466, 946.6404548419732, 462.6605966928048, 1749.0696091432776, 477.232891959086, 742.6423161309494, 103.12562950851607, 496.910133190939, 376.33667148299435, 480.5397990352251, 124.37593425546002, 641.7267857087413, 1510.9491591501974, 3035.5415977813004, 288.5362036409339, 412.81712979447553, 1436.5657356149736, 1088.084272007195, 1972.1496799649112, 429.28213802274973, 172.8540616181599, 487.77537800077783, 428.55234969842394, 586.9404039041212, 1029.532111937423, 348.1750711293483, 691.5621969546171, 488.86616217941304, 1511.2690579577377, 1108.2086260036117, 1007.8563212218619, 947.6556777504981, 1899.6181109026293, 10.182744957755835, 9.542235095306323, 9.54215574503029, 9.542194708742338, 9.542228694300688, 9.542195588720343, 9.542261208481444, 9.54225073808085, 9.542200713900984, 7.31350389508842, 7.313510410523871, 7.313556586356658, 7.313555923267519, 7.313544226711522, 7.313568720611891, 7.313588612867216, 6.411648129426781, 5.452672664406054, 5.084958061346467, 5.084993990823181, 5.084998987241822, 5.084965449716116, 5.084998307831665, 5.084996801575451, 5.084984623903632, 5.084979907691676, 5.084985631581057, 5.084983415400028, 5.0850006468921, 5.084998517482268, 8.474865912633557, 10.947252287392235, 11.793294069072546, 72.21940716234253, 127.84931256567721, 24.05080132158064, 11.499647746981337, 691.3929229672062, 5.689599862903991, 40.90010282636018, 40.94613488574795, 126.99689335343916, 32.30428224144181, 52.49754585166584, 267.51149247550006, 6816.2437888132845, 1510.9491591501974, 1749.0696091432776, 691.5621969546171, 1972.1496799649112, 3035.5415977813004, 462.6605966928048, 296.9735376874509, 348.1750711293483, 1378.4526108092466, 618.944326853431, 611.078584790726, 1511.2690579577377, 1024.809821898752, 1899.6181109026293, 1439.2048120615336, 685.7147126650121, 1108.2086260036117, 518.3201162513028, 1436.5657356149736, 552.9301479315044, 1344.9629867559092, 705.9351250599836, 872.5281903505058, 9.115552903357896, 8.950473356592337, 7.499298709151117, 7.08051508323517, 6.582127682444915, 5.843813751217226, 5.218392818909181, 4.6169150862768396, 4.602820146044585, 4.326815437346825, 4.211303509148242, 4.213322872124595, 4.055764662144206, 4.055842912498076, 4.055873555826024, 4.056106035744264, 4.056024527815295, 4.039067506226306, 4.057353853619816, 4.019999880303937, 3.999154235979526, 3.9727684472181584, 3.949761794252379, 3.8655258873033227, 3.770522143891942, 3.721583435898521, 3.6384177873306807, 3.6381789197887273, 3.637890615152104, 3.6192054632865185, 7.5838177081864675, 5.1064300016324, 22.891462361010653, 6.845967156849813, 29.582387443239902, 5.183321956233439, 68.84878992460234, 99.08979011869059, 9.832137505099569, 5.641003796768955, 186.42114451244777, 1108.2086260036117, 1378.4526108092466, 59.54117233505873, 1510.9491591501974, 12.637773150405375, 266.5090632910579, 314.6556470790517, 188.80538908315006, 1184.3956147479687, 329.99178385886387, 532.4422640577784, 27.505228726832502, 181.63630737727394, 6816.2437888132845, 826.1335672731168, 66.57164404421336, 98.72678942707253, 518.3201162513028, 635.9502746629377, 102.91555118156326, 1498.2053379650251, 552.9301479315044, 280.8982632786687, 1346.452802389415, 480.5397990352251, 7.215235453239891, 4.1514712423425655, 3.736349963182958, 3.71589535954326, 3.701786176135679, 3.703326837301718, 3.4098005255007613, 3.393170854225263, 3.337465389905306, 3.220856804083748, 3.190450508653272, 3.1525603460182605, 3.1427979400301074, 3.009523750528338, 2.9922495946409478, 2.980017363799335, 2.9119104046405133, 2.8576852004743727, 2.857723214972357, 2.8577337861913588, 2.8577307801077247, 2.857727722909904, 2.857744283619771, 2.8577479633604552, 2.857741838952191, 2.857737593927722, 2.8577340468757417, 2.8577520537044956, 2.8577608485611, 2.8577650620621076, 5.976204180840774, 6.841122424868653, 5.295229844360658, 3.831427480514103, 8.440063391803957, 13.22538396658304, 3.39735008723537, 56.9095499843027, 3.6538731594953116, 77.72136620600955, 4.510421285866671, 72.21940716234253, 15.706503226729087, 50.56133182466929, 99.08979011869059, 22.840697216065635, 606.1405641077201, 1108.2086260036117, 6816.2437888132845, 418.40506748265585, 1532.5295093080633, 19.418884797882313, 1029.532111937423, 186.42114451244777, 518.3201162513028, 608.4887227563295, 1511.2690579577377, 167.62538970088727, 1378.4526108092466, 172.60634334723056, 1430.5016128804355, 379.4856031943438, 1439.2048120615336, 427.4166033302796, 114.17758085047599, 394.089542637075, 1436.5657356149736, 5.294276925909229, 3.9621162948300643, 3.9625888577502537, 3.9629781620392404, 3.3896193084187036, 3.07544104580105, 3.0755334689498577, 2.6292602730895003, 2.629871439963367, 2.8263753652776895, 2.7701623935287296, 2.437155053324686, 2.3816982336177097, 2.3712999580952907, 2.3571284799599397, 2.2962016860691112, 2.2962340259152807, 2.296202679561129, 2.296196391382723, 2.2962478770015364, 2.296268710455218, 2.296202458186644, 2.296240407928446, 2.2962349991895916, 2.296258214005423, 2.296233610098657, 2.296226321174142, 2.2962623321689133, 2.296267907826752, 2.2962830428426413, 3.067417348625141, 10.744559615864821, 3.0449947661104173, 19.519376398134717, 3.0595183637639565, 20.192262177895557, 3.528425087924335, 3.6873298353762114, 11.364494917438977, 10.774686292860025, 3.3096631678122246, 3.500749214778422, 11.513354634630385, 11.534665487227816, 9.829763349588202, 31.399130170218108, 54.19644072006618, 854.185327313285, 32.67150562762727, 8.348291470043934, 93.97271757777585, 46.18321984188556, 21.80554061365119, 42.27681366643562, 16.60972445468883, 28.071531385028123, 850.462187562966, 6816.2437888132845, 65.31932997492261, 267.321147022866, 705.9351250599836, 1723.8871125960038, 79.17037208214282, 1344.9629867559092, 493.1006078030156, 5.654238541187939, 3.0283112570495914, 2.997895558999107, 2.9982679609432448, 2.868024361186495, 2.6180853862969338, 2.55555291740751, 2.4981863921726295, 2.469771657061286, 2.218277786437336, 2.2074355696195442, 2.194313035070506, 2.190539797774591, 2.188103191451857, 2.159408717177553, 2.1582335575720766, 2.1562961821162347, 2.118988159295666, 2.1147756746597035, 2.1029746252522905, 2.0907463367183836, 2.0669295189026577, 2.075503647671547, 2.043195809811315, 1.9358370188992895, 1.8289316539132137, 1.8290515341702014, 1.809888437230592, 1.8058535099450939, 1.8061475795030264, 11.16725254931869, 12.487058297242083, 3.457942750184812, 15.695456397449561, 11.030189406518156, 44.733565214934224, 55.30501693252264, 348.1750711293483, 496.2152492697516, 1498.2053379650251, 183.11409611457154, 1723.8871125960038, 3035.5415977813004, 15.795669910901333, 1439.2048120615336, 1108.2086260036117, 1972.1496799649112, 69.46233671592756, 15.059345383428754, 6.273611825175932, 6816.2437888132845, 72.09409757228994, 1.423927630443883, 1.4224371577262398, 1.262363271392179, 1.2622679007947055, 1.2550062304187448, 1.2441203752672578, 1.242538094000567, 1.2379838640527632, 1.2296924491121568, 1.2116495327517152, 1.1989190086631467, 1.1943469504868378, 1.1989744447002915, 1.1821954533088557, 1.17582593927533, 1.1645683947226901, 1.1592257957170382, 1.203291506480514, 1.1045062084807324, 1.4589460939417052, 2.6296772911868525, 1.0292126802610695, 1.022860336304652, 1.0229081077460098, 1.022949758186569, 1.0229563759354046, 1.022409168113008, 1.0184108082556167, 1.0170090588109124, 1.016847782880701, 3.071976892289371, 3.6164318976295196, 2.3813426635507713, 103.12562950851607, 2.5250734451604866, 1.5911462803210792, 69.01712455328652, 1.8220433765626365, 1.9198007193508255, 1108.2086260036117, 59.54117233505873, 14.956361167566351, 13.68278446973313, 6.859368958288372, 89.71373835917919, 14.339633680152254], \"Category\": [\"Default\", \"Default\", \"Default\", \"Default\", \"Default\", \"Default\", \"Default\", \"Default\", \"Default\", \"Default\", \"Default\", \"Default\", \"Default\", \"Default\", \"Default\", \"Default\", \"Default\", \"Default\", \"Default\", \"Default\", \"Default\", \"Default\", \"Default\", \"Default\", \"Default\", \"Default\", \"Default\", \"Default\", \"Default\", \"Default\", \"Topic1\", \"Topic1\", \"Topic1\", \"Topic1\", \"Topic1\", \"Topic1\", \"Topic1\", \"Topic1\", \"Topic1\", \"Topic1\", \"Topic1\", \"Topic1\", \"Topic1\", \"Topic1\", \"Topic1\", \"Topic1\", \"Topic1\", \"Topic1\", \"Topic1\", \"Topic1\", \"Topic1\", \"Topic1\", \"Topic1\", \"Topic1\", \"Topic1\", \"Topic1\", \"Topic1\", \"Topic1\", \"Topic1\", \"Topic1\", \"Topic1\", \"Topic1\", \"Topic1\", \"Topic1\", \"Topic1\", \"Topic1\", \"Topic1\", \"Topic1\", \"Topic1\", \"Topic1\", \"Topic1\", \"Topic1\", \"Topic1\", \"Topic1\", \"Topic1\", \"Topic1\", \"Topic1\", \"Topic1\", \"Topic1\", \"Topic1\", \"Topic1\", \"Topic1\", \"Topic1\", \"Topic1\", \"Topic1\", \"Topic1\", \"Topic1\", \"Topic1\", \"Topic1\", \"Topic1\", \"Topic1\", \"Topic1\", \"Topic1\", \"Topic1\", \"Topic1\", \"Topic1\", \"Topic1\", \"Topic1\", \"Topic1\", \"Topic1\", \"Topic1\", \"Topic1\", \"Topic1\", \"Topic1\", \"Topic1\", \"Topic1\", \"Topic1\", \"Topic1\", \"Topic1\", \"Topic1\", \"Topic1\", \"Topic1\", \"Topic1\", \"Topic1\", \"Topic1\", \"Topic1\", \"Topic1\", \"Topic1\", \"Topic1\", \"Topic2\", \"Topic2\", \"Topic2\", \"Topic2\", \"Topic2\", \"Topic2\", \"Topic2\", \"Topic2\", \"Topic2\", \"Topic2\", \"Topic2\", \"Topic2\", \"Topic2\", \"Topic2\", \"Topic2\", \"Topic2\", \"Topic2\", \"Topic2\", \"Topic2\", \"Topic2\", \"Topic2\", \"Topic2\", \"Topic2\", \"Topic2\", \"Topic2\", \"Topic2\", \"Topic2\", \"Topic2\", \"Topic2\", \"Topic2\", \"Topic2\", \"Topic2\", \"Topic2\", \"Topic2\", \"Topic2\", \"Topic2\", \"Topic2\", \"Topic2\", \"Topic2\", \"Topic2\", \"Topic2\", \"Topic2\", \"Topic2\", \"Topic2\", \"Topic2\", \"Topic2\", \"Topic2\", \"Topic2\", \"Topic2\", \"Topic2\", \"Topic2\", \"Topic2\", \"Topic2\", \"Topic2\", \"Topic2\", \"Topic2\", \"Topic2\", \"Topic2\", \"Topic2\", \"Topic2\", \"Topic2\", \"Topic2\", \"Topic2\", \"Topic2\", \"Topic2\", \"Topic2\", \"Topic2\", \"Topic2\", \"Topic2\", \"Topic2\", \"Topic2\", \"Topic2\", \"Topic2\", \"Topic2\", \"Topic2\", \"Topic2\", \"Topic2\", \"Topic2\", \"Topic2\", \"Topic2\", \"Topic2\", \"Topic2\", \"Topic2\", \"Topic2\", \"Topic2\", \"Topic2\", \"Topic2\", \"Topic2\", \"Topic3\", \"Topic3\", \"Topic3\", \"Topic3\", \"Topic3\", \"Topic3\", \"Topic3\", \"Topic3\", \"Topic3\", \"Topic3\", \"Topic3\", \"Topic3\", \"Topic3\", \"Topic3\", \"Topic3\", \"Topic3\", \"Topic3\", \"Topic3\", \"Topic3\", \"Topic3\", \"Topic3\", \"Topic3\", \"Topic3\", \"Topic3\", \"Topic3\", \"Topic3\", \"Topic3\", \"Topic3\", \"Topic3\", \"Topic3\", \"Topic3\", \"Topic3\", \"Topic3\", \"Topic3\", \"Topic3\", \"Topic3\", \"Topic3\", \"Topic3\", \"Topic3\", \"Topic3\", \"Topic3\", \"Topic3\", \"Topic3\", \"Topic3\", \"Topic3\", \"Topic3\", \"Topic3\", \"Topic3\", \"Topic3\", \"Topic3\", \"Topic3\", \"Topic3\", \"Topic3\", \"Topic3\", \"Topic3\", \"Topic3\", \"Topic3\", \"Topic3\", \"Topic3\", \"Topic3\", \"Topic3\", \"Topic3\", \"Topic3\", \"Topic3\", \"Topic3\", \"Topic3\", \"Topic3\", \"Topic3\", \"Topic3\", \"Topic3\", \"Topic3\", \"Topic3\", \"Topic3\", \"Topic3\", \"Topic3\", \"Topic3\", \"Topic3\", \"Topic3\", \"Topic3\", \"Topic3\", \"Topic3\", \"Topic3\", \"Topic3\", \"Topic3\", \"Topic3\", \"Topic3\", \"Topic3\", \"Topic3\", \"Topic3\", \"Topic3\", \"Topic3\", \"Topic3\", \"Topic3\", \"Topic4\", \"Topic4\", \"Topic4\", \"Topic4\", \"Topic4\", \"Topic4\", \"Topic4\", \"Topic4\", \"Topic4\", \"Topic4\", \"Topic4\", \"Topic4\", \"Topic4\", \"Topic4\", \"Topic4\", \"Topic4\", \"Topic4\", \"Topic4\", \"Topic4\", \"Topic4\", \"Topic4\", \"Topic4\", \"Topic4\", \"Topic4\", \"Topic4\", \"Topic4\", \"Topic4\", \"Topic4\", \"Topic4\", \"Topic4\", \"Topic4\", \"Topic4\", \"Topic4\", \"Topic4\", \"Topic4\", \"Topic4\", \"Topic4\", \"Topic4\", \"Topic4\", \"Topic4\", \"Topic4\", \"Topic4\", \"Topic4\", \"Topic4\", \"Topic4\", \"Topic4\", \"Topic4\", \"Topic4\", \"Topic4\", \"Topic4\", \"Topic4\", \"Topic4\", \"Topic4\", \"Topic4\", \"Topic4\", \"Topic4\", \"Topic4\", \"Topic4\", \"Topic4\", \"Topic4\", \"Topic4\", \"Topic4\", \"Topic4\", \"Topic4\", \"Topic4\", \"Topic4\", \"Topic4\", \"Topic4\", \"Topic4\", \"Topic4\", \"Topic5\", \"Topic5\", \"Topic5\", \"Topic5\", \"Topic5\", \"Topic5\", \"Topic5\", \"Topic5\", \"Topic5\", \"Topic5\", \"Topic5\", \"Topic5\", \"Topic5\", \"Topic5\", \"Topic5\", \"Topic5\", \"Topic5\", \"Topic5\", \"Topic5\", \"Topic5\", \"Topic5\", \"Topic5\", \"Topic5\", \"Topic5\", \"Topic5\", \"Topic5\", \"Topic5\", \"Topic5\", \"Topic5\", \"Topic5\", \"Topic5\", \"Topic5\", \"Topic5\", \"Topic5\", \"Topic5\", \"Topic5\", \"Topic5\", \"Topic5\", \"Topic5\", \"Topic5\", \"Topic5\", \"Topic5\", \"Topic5\", \"Topic5\", \"Topic5\", \"Topic5\", \"Topic5\", \"Topic5\", \"Topic5\", \"Topic5\", \"Topic5\", \"Topic5\", \"Topic5\", \"Topic5\", \"Topic5\", \"Topic5\", \"Topic5\", \"Topic5\", \"Topic5\", \"Topic5\", \"Topic5\", \"Topic5\", \"Topic5\", \"Topic5\", \"Topic5\", \"Topic5\", \"Topic5\", \"Topic5\", \"Topic5\", \"Topic6\", \"Topic6\", \"Topic6\", \"Topic6\", \"Topic6\", \"Topic6\", \"Topic6\", \"Topic6\", \"Topic6\", \"Topic6\", \"Topic6\", \"Topic6\", \"Topic6\", \"Topic6\", \"Topic6\", \"Topic6\", \"Topic6\", \"Topic6\", \"Topic6\", \"Topic6\", \"Topic6\", \"Topic6\", \"Topic6\", \"Topic6\", \"Topic6\", \"Topic6\", \"Topic6\", \"Topic6\", \"Topic6\", \"Topic6\", \"Topic6\", \"Topic6\", \"Topic6\", \"Topic6\", \"Topic6\", \"Topic6\", \"Topic6\", \"Topic6\", \"Topic6\", \"Topic6\", \"Topic6\", \"Topic6\", \"Topic6\", \"Topic6\", \"Topic6\", \"Topic6\", \"Topic6\", \"Topic6\", \"Topic6\", \"Topic6\", \"Topic6\", \"Topic6\", \"Topic6\", \"Topic6\", \"Topic6\", \"Topic6\", \"Topic6\", \"Topic6\", \"Topic6\", \"Topic6\", \"Topic6\", \"Topic6\", \"Topic6\", \"Topic6\", \"Topic6\", \"Topic6\", \"Topic7\", \"Topic7\", \"Topic7\", \"Topic7\", \"Topic7\", \"Topic7\", \"Topic7\", \"Topic7\", \"Topic7\", \"Topic7\", \"Topic7\", \"Topic7\", \"Topic7\", \"Topic7\", \"Topic7\", \"Topic7\", \"Topic7\", \"Topic7\", \"Topic7\", \"Topic7\", \"Topic7\", \"Topic7\", \"Topic7\", \"Topic7\", \"Topic7\", \"Topic7\", \"Topic7\", \"Topic7\", \"Topic7\", \"Topic7\", \"Topic7\", \"Topic7\", \"Topic7\", \"Topic7\", \"Topic7\", \"Topic7\", \"Topic7\", \"Topic7\", \"Topic7\", \"Topic7\", \"Topic7\", \"Topic7\", \"Topic7\", \"Topic7\", \"Topic7\", \"Topic7\", \"Topic7\", \"Topic7\", \"Topic7\", \"Topic7\", \"Topic7\", \"Topic7\", \"Topic7\", \"Topic7\", \"Topic7\", \"Topic7\", \"Topic7\", \"Topic7\", \"Topic7\", \"Topic7\", \"Topic7\", \"Topic7\", \"Topic7\", \"Topic7\", \"Topic7\", \"Topic7\", \"Topic7\", \"Topic8\", \"Topic8\", \"Topic8\", \"Topic8\", \"Topic8\", \"Topic8\", \"Topic8\", \"Topic8\", \"Topic8\", \"Topic8\", \"Topic8\", \"Topic8\", \"Topic8\", \"Topic8\", \"Topic8\", \"Topic8\", \"Topic8\", \"Topic8\", \"Topic8\", \"Topic8\", \"Topic8\", \"Topic8\", \"Topic8\", \"Topic8\", \"Topic8\", \"Topic8\", \"Topic8\", \"Topic8\", \"Topic8\", \"Topic8\", \"Topic8\", \"Topic8\", \"Topic8\", \"Topic8\", \"Topic8\", \"Topic8\", \"Topic8\", \"Topic8\", \"Topic8\", \"Topic8\", \"Topic8\", \"Topic8\", \"Topic8\", \"Topic8\", \"Topic8\", \"Topic8\", \"Topic8\", \"Topic8\", \"Topic8\", \"Topic8\", \"Topic8\", \"Topic8\", \"Topic8\", \"Topic8\", \"Topic8\", \"Topic8\", \"Topic8\", \"Topic8\", \"Topic8\", \"Topic8\", \"Topic8\", \"Topic8\", \"Topic8\", \"Topic8\", \"Topic8\", \"Topic9\", \"Topic9\", \"Topic9\", \"Topic9\", \"Topic9\", \"Topic9\", \"Topic9\", \"Topic9\", \"Topic9\", \"Topic9\", \"Topic9\", \"Topic9\", \"Topic9\", \"Topic9\", \"Topic9\", \"Topic9\", \"Topic9\", \"Topic9\", \"Topic9\", \"Topic9\", \"Topic9\", \"Topic9\", \"Topic9\", \"Topic9\", \"Topic9\", \"Topic9\", \"Topic9\", \"Topic9\", \"Topic9\", \"Topic9\", \"Topic9\", \"Topic9\", \"Topic9\", \"Topic9\", \"Topic9\", \"Topic9\", \"Topic9\", \"Topic9\", \"Topic9\", \"Topic9\", \"Topic9\", \"Topic9\", \"Topic9\", \"Topic9\", \"Topic9\", \"Topic9\", \"Topic9\", \"Topic9\", \"Topic9\", \"Topic9\", \"Topic9\", \"Topic9\", \"Topic10\", \"Topic10\", \"Topic10\", \"Topic10\", \"Topic10\", \"Topic10\", \"Topic10\", \"Topic10\", \"Topic10\", \"Topic10\", \"Topic10\", \"Topic10\", \"Topic10\", \"Topic10\", \"Topic10\", \"Topic10\", \"Topic10\", \"Topic10\", \"Topic10\", \"Topic10\", \"Topic10\", \"Topic10\", \"Topic10\", \"Topic10\", \"Topic10\", \"Topic10\", \"Topic10\", \"Topic10\", \"Topic10\", \"Topic10\", \"Topic10\", \"Topic10\", \"Topic10\", \"Topic10\", \"Topic10\", \"Topic10\", \"Topic10\", \"Topic10\", \"Topic10\", \"Topic10\", \"Topic10\", \"Topic10\", \"Topic10\", \"Topic10\", \"Topic10\", \"Topic10\"], \"logprob\": [30.0, 29.0, 28.0, 27.0, 26.0, 25.0, 24.0, 23.0, 22.0, 21.0, 20.0, 19.0, 18.0, 17.0, 16.0, 15.0, 14.0, 13.0, 12.0, 11.0, 10.0, 9.0, 8.0, 7.0, 6.0, 5.0, 4.0, 3.0, 2.0, 1.0, -7.7264, -7.768, -8.3107, -8.253, -8.3151, -8.6187, -8.4347, -7.3823, -8.285, -8.7359, -8.4733, -8.7515, -8.547, -8.4993, -8.8521, -7.8591, -7.8625, -9.0413, -9.0034, -8.1505, -7.9901, -9.0258, -9.1017, -8.9521, -9.1112, -7.6979, -9.1804, -9.158, -7.7137, -9.2289, -6.9526, -7.4049, -8.0306, -7.6476, -7.8285, -6.1967, -6.8696, -8.0887, -8.383, -6.4875, -7.5669, -7.0945, -7.5539, -5.983, -6.5502, -7.7681, -6.2944, -7.1681, -4.4532, -5.9659, -6.8366, -7.2943, -6.1985, -6.1195, -6.8734, -6.3857, -6.6086, -6.3496, -6.1911, -6.651, -5.1962, -5.5602, -5.2267, -6.7327, -5.1436, -6.7881, -5.0926, -5.3127, -6.0574, -6.0306, -5.2211, -6.4389, -6.5447, -6.107, -6.3552, -5.2358, -5.8864, -5.5219, -5.5712, -5.597, -6.0718, -5.9386, -4.8553, -5.9473, -6.1377, -6.1857, -6.2124, -6.0426, -6.1574, -7.303, -7.3686, -5.6512, -7.7544, -8.0917, -7.9577, -8.3103, -5.4263, -8.3324, -8.3743, -8.313, -8.2888, -8.4823, -8.4694, -8.446, -7.4113, -8.0075, -8.7613, -8.8106, -8.8335, -8.785, -8.771, -8.8519, -8.8522, -8.904, -8.9051, -8.698, -8.918, -8.8382, -8.9634, -7.2666, -7.0522, -8.1509, -8.3575, -7.2731, -8.4459, -7.4203, -6.7189, -6.2322, -7.375, -7.9305, -5.6075, -5.2606, -6.0129, -5.8032, -5.8581, -6.3006, -5.4726, -6.7084, -6.6338, -7.0901, -6.4589, -6.5315, -7.1991, -3.6595, -6.8484, -6.8227, -6.3047, -6.494, -5.5314, -5.9204, -6.58, -6.1536, -5.261, -5.9457, -5.4671, -6.0581, -5.8895, -5.3638, -6.4316, -6.2161, -5.6349, -5.8966, -5.7553, -5.4846, -6.0997, -5.368, -5.9588, -6.3045, -5.7055, -5.7527, -5.8526, -5.6173, -5.9008, -5.9962, -5.9876, -6.035, -6.0097, -8.2727, -8.417, -8.5525, -8.6132, -8.5622, -8.6124, -8.6089, -8.6258, -8.614, -8.6794, -8.4154, -8.7505, -8.5952, -8.9057, -8.9172, -8.9369, -8.9418, -8.9435, -8.9522, -8.4084, -8.9115, -8.9836, -8.9478, -8.9895, -9.0237, -9.0278, -9.0046, -9.0785, -8.5583, -9.083, -8.4004, -7.865, -8.7789, -7.8251, -8.4938, -6.6993, -5.7662, -7.6753, -6.7707, -6.3775, -8.6201, -6.6822, -7.4778, -7.7115, -5.0802, -5.9158, -5.7803, -5.4452, -5.0557, -7.6009, -4.5449, -7.776, -5.6394, -7.3456, -6.2951, -6.2155, -6.6335, -7.0626, -5.9952, -6.617, -7.2685, -6.8121, -7.3405, -6.1113, -6.754, -6.8888, -6.3624, -5.3315, -6.774, -6.5311, -6.5502, -6.5004, -6.9068, -5.5724, -4.8875, -5.8585, -6.5072, -6.0387, -5.8237, -6.3733, -6.0212, -6.2331, -6.234, -6.2557, -6.237, -6.345, -6.2063, -6.1406, -6.2018, -6.1592, -6.2121, -6.2246, -6.3104, -8.329, -8.4128, -8.4179, -8.4171, -8.4567, -8.5074, -8.5373, -8.552, -8.6177, -8.6193, -8.6045, -8.6467, -8.6632, -8.7089, -8.7151, -8.7145, -8.733, -8.7212, -8.757, -8.7588, -8.7581, -8.7597, -8.7708, -8.779, -8.7809, -8.7982, -8.8027, -8.8066, -8.8194, -8.8369, -8.3716, -8.3932, -8.7208, -8.5023, -5.9033, -5.3322, -8.5408, -6.3198, -6.5037, -6.9139, -6.4024, -6.9482, -6.8037, -7.5551, -6.9578, -7.0979, -7.034, -7.5207, -6.9372, -6.6719, -6.5159, -7.33, -7.2177, -6.8302, -6.9286, -6.769, -7.2359, -7.5551, -7.284, -7.3562, -7.3076, -7.1855, -7.468, -7.3153, -7.4086, -7.2504, -7.3243, -7.3756, -7.3842, -7.3623, -7.6399, -7.7087, -7.7087, -7.7087, -7.7087, -7.7087, -7.7087, -7.7087, -7.7087, -7.9946, -7.9946, -7.9945, -7.9945, -7.9946, -7.9946, -7.9946, -8.1387, -8.318, -8.3963, -8.3963, -8.3963, -8.3963, -8.3963, -8.3963, -8.3963, -8.3963, -8.3963, -8.3963, -8.3963, -8.3963, -7.8897, -7.7117, -7.8664, -6.7656, -6.6502, -7.6352, -8.0252, -6.4228, -8.3514, -7.655, -7.6555, -7.3226, -7.7775, -7.699, -7.3081, -6.5895, -6.9421, -6.9232, -7.1656, -6.9787, -6.913, -7.3414, -7.4711, -7.4567, -7.2989, -7.4403, -7.4572, -7.3864, -7.4325, -7.4231, -7.4588, -7.5376, -7.5227, -7.5622, -7.5353, -7.5743, -7.605, -7.6116, -7.6128, -7.5705, -7.5902, -7.7805, -7.843, -7.9229, -8.0542, -8.1808, -8.3197, -8.3232, -8.3944, -8.426, -8.4278, -8.4695, -8.4695, -8.4695, -8.4696, -8.4696, -8.4743, -8.47, -8.4802, -8.486, -8.4945, -8.5018, -8.5274, -8.5568, -8.571, -8.5977, -8.5979, -8.598, -8.6039, -7.9075, -8.3252, -7.2098, -8.123, -7.1517, -8.354, -6.9252, -6.808, -8.1321, -8.3557, -7.2027, -6.6153, -6.6052, -7.6251, -6.6829, -8.1463, -7.3088, -7.27, -7.4098, -6.9204, -7.2723, -7.1696, -7.9487, -7.5289, -6.7477, -7.2164, -7.7721, -7.7115, -7.4539, -7.6005, -7.8535, -7.7209, -7.7758, -7.8351, -7.8122, -7.8279, -7.6772, -8.298, -8.4214, -8.4283, -8.4324, -8.4337, -8.5309, -8.5385, -8.5568, -8.6009, -8.6118, -8.6264, -8.6318, -8.6846, -8.6913, -8.6965, -8.7251, -8.7486, -8.7486, -8.7486, -8.7486, -8.7486, -8.7486, -8.7486, -8.7486, -8.7486, -8.7486, -8.7486, -8.7486, -8.7486, -8.065, -8.0066, -8.2918, -8.5366, -8.0736, -7.8374, -8.6461, -6.9868, -8.6206, -7.1913, -8.5368, -7.3773, -8.0784, -7.6233, -7.3848, -7.9491, -6.8665, -6.9593, -6.4413, -7.4368, -7.1464, -8.2037, -7.3449, -7.7234, -7.686, -7.745, -7.6126, -7.9435, -7.6915, -7.9656, -7.7369, -7.9484, -7.9384, -8.016, -8.1296, -8.0861, -8.0531, -7.8319, -8.1649, -8.165, -8.1651, -8.3509, -8.4701, -8.4701, -8.6683, -8.6682, -8.6033, -8.6374, -8.7671, -8.7978, -8.804, -8.8162, -8.8467, -8.8467, -8.8467, -8.8467, -8.8467, -8.8467, -8.8467, -8.8467, -8.8467, -8.8467, -8.8467, -8.8467, -8.8467, -8.8467, -8.8467, -8.5999, -7.8064, -8.6705, -7.5528, -8.6744, -7.549, -8.6037, -8.593, -8.0461, -8.138, -8.6827, -8.6615, -8.1742, -8.1768, -8.2484, -7.8748, -7.7322, -6.8899, -7.9809, -8.4167, -7.7513, -7.9554, -8.228, -8.1083, -8.3004, -8.2055, -7.5819, -7.4049, -8.1397, -7.9798, -7.9331, -8.0043, -8.2656, -8.1507, -8.2035, -7.6024, -8.3359, -8.3475, -8.3474, -8.4031, -8.5266, -8.5513, -8.5807, -8.5962, -8.7398, -8.7469, -8.7553, -8.7571, -8.7636, -8.777, -8.7777, -8.7791, -8.8028, -8.8057, -8.8135, -8.8217, -8.8383, -8.8349, -8.8549, -8.9313, -9.0143, -9.0143, -9.0297, -9.0332, -9.0333, -7.4847, -7.5181, -8.5968, -7.6184, -8.0699, -7.5239, -8.0602, -7.7146, -7.6925, -7.4943, -7.9915, -7.7641, -7.7467, -8.5133, -7.9543, -8.0967, -8.0537, -8.4311, -8.5837, -8.6704, -8.232, -8.6617, -8.5916, -8.6008, -8.8139, -8.8144, -8.8246, -8.8421, -8.8446, -8.8519, -8.8654, -8.8974, -8.9173, -8.9266, -8.9298, -8.9478, -8.957, -8.9784, -8.9868, -8.9572, -9.0931, -8.8636, -8.2817, -9.2646, -9.2744, -9.2745, -9.2746, -9.2746, -9.2756, -9.2852, -9.2888, -9.2893, -8.2841, -8.2801, -8.6149, -7.13, -8.8871, -9.093, -7.8361, -9.0923, -9.0937, -7.5478, -8.2517, -8.7089, -8.7923, -8.9079, -8.8612, -8.9158], \"loglift\": [30.0, 29.0, 28.0, 27.0, 26.0, 25.0, 24.0, 23.0, 22.0, 21.0, 20.0, 19.0, 18.0, 17.0, 16.0, 15.0, 14.0, 13.0, 12.0, 11.0, 10.0, 9.0, 8.0, 7.0, 6.0, 5.0, 4.0, 3.0, 2.0, 1.0, 1.0401, 1.0386, 1.0377, 1.0376, 1.036, 1.0336, 1.0335, 1.0332, 1.0324, 1.0319, 1.0314, 1.0314, 1.0302, 1.0301, 1.0297, 1.0275, 1.0268, 1.0261, 1.0261, 1.0258, 1.0257, 1.025, 1.0247, 1.0238, 1.0236, 1.0234, 1.0225, 1.0221, 1.0215, 1.0214, 1.0172, 1.0207, 1.0195, 1.0153, 1.0155, 0.9943, 0.9879, 1.0101, 1.0139, 0.9682, 0.9969, 0.96, 0.9786, 0.892, 0.9238, 0.9867, 0.8878, 0.9453, 0.7216, 0.8381, 0.9136, 0.9502, 0.8429, 0.8275, 0.902, 0.8517, 0.8705, 0.8379, 0.8088, 0.8688, 0.6621, 0.7005, 0.6456, 0.8711, 0.5826, 0.867, 0.551, 0.5683, 0.7204, 0.7037, 0.5196, 0.7861, 0.8051, 0.6789, 0.7441, 0.3703, 0.5565, 0.3993, 0.4177, 0.3908, 0.5902, 0.5086, -0.4893, 0.3301, 0.5042, 0.4686, 0.4254, -0.1196, 0.0252, 1.0817, 1.0811, 1.0799, 1.0799, 1.0772, 1.0759, 1.0751, 1.075, 1.0744, 1.0738, 1.0736, 1.0709, 1.07, 1.0699, 1.0698, 1.069, 1.0686, 1.0681, 1.0672, 1.0671, 1.0669, 1.0667, 1.0659, 1.0658, 1.0658, 1.0656, 1.065, 1.0648, 1.0647, 1.0644, 1.0612, 1.0528, 1.0627, 1.0642, 1.0521, 1.0633, 1.0527, 1.0338, 1.022, 1.0447, 1.0544, 1.0036, 0.9955, 1.0087, 0.9789, 0.9788, 0.9751, 0.9179, 0.9767, 0.9708, 0.9961, 0.9523, 0.9511, 1.0001, 0.7064, 0.9698, 0.9629, 0.9093, 0.9227, 0.8077, 0.8175, 0.9143, 0.831, 0.6662, 0.7884, 0.649, 0.7865, 0.744, 0.6005, 0.8622, 0.7849, 0.566, 0.6452, 0.5848, 0.4384, 0.725, 0.2381, 0.5404, 0.7867, 0.0352, -0.1091, 0.0686, -0.4424, 0.087, 0.2812, 0.1949, 0.3866, -0.2836, 2.0776, 2.0713, 2.0671, 2.0653, 2.0651, 2.0651, 2.0649, 2.0647, 2.0638, 2.0613, 2.0582, 2.0581, 2.0576, 2.0501, 2.0499, 2.0487, 2.0484, 2.0484, 2.0478, 2.0466, 2.0461, 2.0455, 2.0448, 2.0443, 2.0431, 2.043, 2.0403, 2.0397, 2.039, 2.0386, 2.0348, 2.0176, 2.0356, 1.9986, 2.016, 1.9131, 1.8105, 1.9514, 1.8721, 1.8281, 2.022, 1.8237, 1.9004, 1.9179, 1.624, 1.6918, 1.6612, 1.6015, 1.5271, 1.8872, 1.3276, 1.89, 1.4433, 1.7931, 1.5602, 1.4498, 1.5564, 1.6558, 1.3078, 1.4687, 1.6707, 1.5022, 1.6803, 1.2227, 1.4608, 1.4824, 1.2346, 0.6574, 1.4145, 1.2613, 1.2708, 1.1914, 1.4407, 0.3086, -0.5215, 0.324, 1.0428, 0.4376, 0.0993, 0.7593, -0.0569, 0.4206, 0.4203, 0.279, 0.2103, 0.5328, -0.0903, -0.4144, -0.214, -0.5155, -0.2909, -0.3662, -1.1355, 2.9586, 2.9514, 2.9505, 2.949, 2.9472, 2.9422, 2.9392, 2.9378, 2.9302, 2.9302, 2.9295, 2.9274, 2.9255, 2.9202, 2.9195, 2.9177, 2.9173, 2.9158, 2.9142, 2.9141, 2.9141, 2.914, 2.9126, 2.9114, 2.9113, 2.9088, 2.9081, 2.9078, 2.9064, 2.9038, 2.8846, 2.7132, 2.8562, 2.6555, 0.024, -0.9662, 2.6197, -0.3555, -0.1636, 0.1422, -0.6762, 0.0768, -0.2209, 1.002, 0.0268, 0.1646, -0.0159, 0.849, -0.2084, -0.7994, -1.341, 0.1982, -0.0476, -0.9071, -0.7278, -1.1629, -0.105, 0.4854, -0.2809, -0.2236, -0.4895, -0.9294, -0.1277, -0.6612, -0.4077, -1.3781, -1.1418, -1.0982, -1.0452, -1.7186, 3.2324, 3.2286, 3.2286, 3.2286, 3.2286, 3.2286, 3.2286, 3.2286, 3.2286, 3.2088, 3.2088, 3.2087, 3.2087, 3.2087, 3.2087, 3.2087, 3.1962, 3.1789, 3.1704, 3.1704, 3.1704, 3.1704, 3.1704, 3.1704, 3.1704, 3.1704, 3.1704, 3.1704, 3.1704, 3.1704, 3.1662, 3.0883, 2.8591, 2.1477, 1.6919, 2.3777, 2.7255, 0.2316, 3.103, 1.8269, 1.8253, 1.0263, 1.9403, 1.5333, 0.2957, -2.2235, -1.0695, -1.197, -0.5115, -1.3725, -1.7381, -0.2853, 0.0283, -0.1164, -1.3346, -0.6752, -0.6794, -1.514, -1.1717, -1.7795, -1.5376, -0.875, -1.3401, -0.6198, -1.6123, -0.6965, -1.6161, -0.9781, -1.1912, 3.4125, 3.4111, 3.3977, 3.3927, 3.3858, 3.3734, 3.3601, 3.3436, 3.3431, 3.3338, 3.3292, 3.327, 3.3234, 3.3234, 3.3233, 3.3232, 3.3232, 3.3227, 3.3225, 3.3215, 3.3209, 3.3191, 3.3176, 3.3135, 3.309, 3.3079, 3.3037, 3.3037, 3.3036, 3.3028, 3.2595, 3.2373, 2.8525, 3.1464, 2.6541, 3.1936, 2.0359, 1.789, 2.7753, 3.1072, 0.7623, -0.4328, -0.6409, 1.4812, -0.8104, 2.51, 0.2988, 0.1716, 0.5425, -0.8044, 0.1217, -0.2541, 1.9299, 0.4622, -2.3817, -0.7401, 1.2227, 0.8892, -0.5115, -0.8626, 0.7056, -1.8399, -0.898, -0.28, -1.8244, -0.8098, 3.5396, 3.4715, 3.4535, 3.4521, 3.4519, 3.45, 3.4355, 3.4328, 3.431, 3.4224, 3.421, 3.4184, 3.4161, 3.4066, 3.4056, 3.4046, 3.3991, 3.3945, 3.3944, 3.3944, 3.3944, 3.3944, 3.3944, 3.3944, 3.3944, 3.3944, 3.3944, 3.3944, 3.3944, 3.3944, 3.3403, 3.2635, 3.2344, 3.3132, 2.9865, 2.7735, 3.3239, 2.1648, 3.2767, 1.6486, 3.1499, 1.536, 2.3605, 1.6466, 1.2122, 2.1154, -0.0806, -0.7768, -2.0753, -0.2802, -1.2881, 2.0231, -1.0887, 0.2416, -0.7436, -0.9629, -1.7403, 0.1278, -1.7272, 0.0764, -1.8096, -0.6942, -2.0172, -0.8807, 0.3257, -0.8697, -2.1301, 3.6945, 3.6513, 3.6511, 3.6509, 3.6214, 3.5994, 3.5994, 3.558, 3.5579, 3.5507, 3.5367, 3.5351, 3.5275, 3.5256, 3.5194, 3.5151, 3.5151, 3.5151, 3.5151, 3.5151, 3.515, 3.515, 3.515, 3.515, 3.515, 3.515, 3.515, 3.515, 3.515, 3.515, 3.4723, 3.0122, 3.409, 2.6689, 3.4003, 2.6387, 3.3284, 3.2952, 2.7164, 2.6778, 3.3135, 3.2786, 2.5753, 2.5709, 2.6592, 1.8715, 1.4682, -0.4471, 1.7256, 2.6542, 0.8987, 1.405, 1.8829, 1.3405, 2.0826, 1.6528, -1.1346, -3.0389, 0.8741, -0.3752, -1.2996, -2.2636, 0.5558, -2.1618, -1.2112, 3.8582, 3.7491, 3.7476, 3.7476, 3.7363, 3.704, 3.7035, 3.6968, 3.6927, 3.6565, 3.6543, 3.6518, 3.6518, 3.6464, 3.6462, 3.646, 3.6456, 3.6392, 3.6384, 3.6362, 3.6338, 3.6286, 3.6279, 3.6236, 3.6012, 3.575, 3.575, 3.57, 3.5688, 3.5685, 3.2953, 3.1503, 3.3556, 2.8213, 2.7224, 1.8684, 1.1199, -0.3742, -0.7065, -1.6133, -0.0086, -2.0235, -2.5718, 1.92, -2.0332, -1.9142, -2.4476, 0.5211, 1.8973, 2.6863, -3.866, 0.2533, 4.248, 4.2399, 4.1461, 4.1457, 4.1413, 4.1325, 4.1313, 4.1276, 4.1209, 4.1036, 4.0943, 4.0889, 4.0818, 4.0779, 4.0741, 4.0623, 4.0584, 4.0508, 4.0005, 3.9517, 3.9445, 3.8997, 3.896, 3.8958, 3.8957, 3.8957, 3.8953, 3.8896, 3.8874, 3.887, 3.7866, 3.6274, 3.7105, 1.4271, 3.3796, 3.6355, 1.1226, 3.5008, 3.4471, -1.3652, 0.8546, 1.779, 1.7846, 2.3595, -0.1648, 1.6142]}, \"token.table\": {\"Topic\": [4, 7, 2, 3, 8, 2, 4, 2, 3, 5, 6, 7, 1, 2, 3, 2, 3, 1, 2, 3, 1, 2, 8, 1, 2, 3, 4, 7, 8, 9, 1, 2, 3, 4, 5, 6, 7, 8, 4, 3, 4, 1, 2, 3, 4, 6, 1, 1, 2, 3, 5, 6, 1, 1, 2, 3, 4, 5, 6, 1, 2, 3, 4, 5, 6, 8, 1, 2, 3, 4, 5, 6, 3, 1, 3, 4, 8, 1, 1, 2, 3, 4, 5, 5, 1, 2, 3, 4, 5, 9, 1, 2, 3, 4, 5, 7, 2, 1, 7, 1, 2, 3, 4, 5, 6, 1, 2, 3, 4, 5, 6, 9, 4, 1, 2, 3, 4, 6, 7, 7, 6, 1, 2, 3, 4, 5, 6, 7, 8, 1, 1, 2, 3, 4, 5, 6, 8, 1, 2, 3, 4, 5, 6, 1, 1, 1, 2, 3, 4, 5, 1, 2, 3, 4, 5, 5, 5, 1, 2, 1, 2, 4, 8, 8, 2, 4, 5, 8, 2, 8, 7, 7, 1, 2, 3, 4, 5, 6, 7, 8, 9, 4, 1, 2, 3, 4, 5, 6, 7, 8, 9, 9, 10, 1, 2, 3, 4, 5, 6, 1, 2, 4, 1, 2, 3, 4, 5, 8, 1, 2, 3, 4, 5, 6, 7, 8, 1, 2, 3, 4, 5, 6, 7, 8, 1, 2, 3, 4, 5, 10, 1, 2, 3, 4, 5, 8, 9, 10, 1, 3, 4, 5, 9, 10, 4, 1, 2, 3, 4, 5, 6, 7, 8, 9, 6, 1, 2, 3, 4, 5, 6, 7, 1, 2, 3, 4, 4, 8, 7, 1, 2, 1, 3, 9, 2, 8, 1, 2, 3, 4, 9, 1, 1, 2, 3, 4, 6, 1, 2, 3, 4, 8, 8, 4, 5, 1, 2, 9, 9, 1, 9, 2, 4, 8, 8, 1, 2, 3, 4, 8, 8, 1, 2, 3, 4, 5, 6, 4, 1, 2, 3, 6, 6, 5, 6, 3, 7, 1, 2, 3, 4, 5, 6, 7, 3, 1, 2, 3, 4, 6, 7, 9, 1, 2, 3, 4, 5, 6, 7, 1, 2, 3, 6, 7, 8, 9, 1, 2, 3, 4, 5, 1, 2, 4, 1, 4, 9, 1, 2, 3, 4, 6, 7, 1, 2, 3, 4, 7, 8, 8, 1, 2, 3, 4, 5, 6, 1, 1, 2, 1, 2, 3, 4, 5, 6, 10, 2, 4, 4, 1, 2, 3, 4, 6, 7, 9, 1, 2, 3, 4, 5, 6, 7, 9, 1, 2, 3, 4, 5, 6, 7, 1, 2, 3, 4, 5, 6, 7, 8, 4, 1, 2, 3, 4, 5, 6, 8, 10, 8, 1, 2, 7, 9, 5, 5, 9, 1, 2, 3, 4, 5, 6, 7, 8, 1, 2, 3, 4, 5, 6, 7, 8, 2, 3, 3, 1, 2, 3, 2, 10, 2, 7, 6, 2, 4, 6, 7, 2, 2, 1, 2, 3, 4, 2, 6, 1, 2, 3, 4, 8, 8, 1, 2, 3, 6, 7, 8, 7, 2, 3, 4, 5, 8, 8, 1, 2, 3, 4, 5, 6, 7, 9, 9, 7, 1, 2, 3, 4, 5, 1, 2, 3, 4, 5, 6, 7, 8, 2, 6, 7, 1, 2, 3, 4, 5, 6, 7, 7, 3, 5, 7, 1, 2, 3, 4, 5, 6, 7, 7, 1, 2, 3, 4, 6, 7, 1, 2, 3, 4, 5, 6, 7, 6, 7, 8, 1, 4, 1, 2, 3, 4, 5, 7, 9, 3, 3, 1, 4, 6, 1, 2, 3, 4, 5, 6, 7, 8, 9, 1, 2, 3, 4, 5, 6, 7, 6, 6, 1, 2, 3, 4, 5, 6, 7, 8, 9, 3, 1, 2, 3, 4, 6, 1, 2, 3, 5, 6, 7, 8, 3, 9, 1, 2, 3, 4, 5, 6, 7, 8, 9, 3, 7, 3, 5, 7, 1, 2, 3, 7, 1, 2, 3, 5, 7, 1, 2, 3, 5, 8, 5, 3, 1, 2, 3, 4, 5, 6, 7, 8, 10, 1, 8, 1, 2, 3, 4, 3, 4, 6, 2, 5, 5, 1, 2, 3, 4, 5, 6, 6, 1, 2, 3, 4, 6, 3, 3, 5, 1, 2, 3, 5, 5, 5, 5, 1, 2, 3, 6, 1, 2, 3, 4, 5, 7, 9, 1, 2, 7, 9, 2, 8, 9, 5, 9, 1, 2, 3, 5, 1, 2, 3, 4, 5, 7, 8, 1, 3, 4, 5, 3, 1, 1, 2, 3, 4, 5, 6, 7, 1, 7, 1, 2, 3, 4, 5, 10, 1, 2, 3, 7, 1, 3, 8, 1, 2, 3, 5, 1, 2, 3, 9, 1, 2, 3, 5, 6, 10, 10, 2, 2, 2, 1, 2, 3, 4, 6, 6, 3, 4, 6, 2, 3, 8, 1, 2, 3, 4, 5, 6, 7, 8, 1, 2, 1, 1, 2, 3, 4, 5, 6, 7, 3, 10, 4, 10, 1, 2, 3, 4, 9, 2, 3, 5, 8, 8, 1, 2, 3, 4, 1, 2, 3, 4, 5, 4, 1, 2, 3, 4, 5, 6, 1, 1, 2, 3, 4, 5, 10, 2, 4, 10, 1, 2, 3, 4, 5, 6, 8, 2, 9, 4, 6, 7, 10, 2, 6, 1, 2, 8, 5, 5, 1, 2, 3, 4, 5, 7, 1, 2, 3, 4, 5, 6, 7, 8, 9, 9, 1, 3, 4, 10, 1, 2, 3, 4, 5, 6, 2, 2, 4, 8, 1, 2, 3, 4, 5, 1, 2, 1, 2, 3, 4, 5, 6, 1, 2, 3, 4, 5, 6, 1, 2, 3, 9, 9, 5, 5, 7, 7, 1, 2, 3, 4, 5, 6, 9, 1, 2, 3, 4, 5, 3, 1, 3, 4, 1, 2, 3, 4, 5, 6, 7, 3, 10, 6, 1, 1, 8, 1, 2, 3, 4, 6, 10, 1, 2, 3, 4, 5, 8, 9, 1, 2, 3, 4, 5, 4, 1, 2, 3, 4, 7, 4, 7, 1, 2, 3, 4, 5, 6, 7, 9, 2, 1, 6, 8, 8, 1, 2, 3, 4, 5, 6, 7, 8, 9, 8, 9, 1, 2, 3, 4, 5, 6, 7, 9, 6, 8, 1, 2, 3, 4, 5, 7, 4, 1, 2, 4, 5, 6, 1, 10, 1, 2, 3, 4, 6, 7, 6, 5, 5, 9, 1, 2, 3, 4, 5, 6, 7, 8, 2, 8, 8, 1, 2, 3, 4, 5, 7, 8, 3, 1, 2, 3, 4, 5, 6, 7, 8, 9, 1, 2, 3, 4, 5, 6, 1, 2, 3, 4, 5, 6, 7, 7, 1, 2, 3, 4, 6, 7, 4, 1, 10, 7, 1, 2, 3, 4, 5, 6, 7, 8, 9, 9, 10, 10, 9, 1, 2, 3, 1, 2, 3, 4, 5, 6, 7, 9, 6, 4, 2, 8, 1, 2, 7, 2, 2, 2, 8, 1, 2, 7, 2, 1, 2, 7, 4, 1, 2, 3, 4, 6, 7, 2, 3, 3, 1, 2, 3, 4, 5, 6, 7, 8, 9, 1, 2, 3, 4, 5, 6, 7, 8, 9, 4, 9, 1, 2, 3, 4, 5, 6, 7, 1, 2, 3, 4, 5, 6, 7, 1, 2, 3, 4, 5, 6, 7, 8, 9, 1, 2, 3, 4, 5, 10, 1, 2, 3, 4, 5, 6, 7, 8, 1, 2, 3, 4, 5, 6, 7, 8, 9, 1, 2, 3, 4, 4, 2, 2, 5, 8, 2, 3, 6, 2, 3, 1, 2, 3, 4, 5, 3, 2, 4, 1, 2, 3, 4, 5, 6, 7, 1, 2, 4, 1, 2, 3, 4, 5, 1, 2, 5, 6, 1, 2, 3, 4, 5, 6, 7, 9, 8, 1, 2, 9, 1, 2, 4, 7, 1, 2, 3, 4, 5, 6, 7, 2, 7, 4, 1, 7, 4, 1, 2, 3, 4, 5, 7, 8, 9, 7, 8, 1, 2, 3, 4, 5, 1, 2, 3, 4, 5, 9, 1, 2, 8, 7, 1, 2, 4, 2, 4, 8, 5, 1, 2, 3, 4, 5, 6, 8, 7, 1, 2, 3, 4, 5, 6, 7, 8, 9, 6, 1, 2, 3, 4, 5, 6, 1, 2, 9, 4, 1, 2, 3, 5, 6, 1, 1, 1, 2, 3, 4, 5, 6, 6, 7, 1, 2, 3, 4, 5, 7, 8, 9, 5, 5, 1, 2, 3, 4, 5, 7, 9, 9, 8, 1, 2, 6, 5, 5, 1, 2, 3, 4, 5, 6, 7, 9, 1, 2, 3, 7, 3, 8, 1, 2, 3, 4, 5, 6, 8, 3, 7, 3, 1, 2, 3, 4, 5, 3, 6, 3, 5, 1, 1, 2, 3, 8, 9, 2, 3, 8, 1, 2, 3, 4, 5, 6, 7, 9, 10, 2, 3, 5, 6, 7, 9, 3, 3, 1, 2, 3, 4, 4, 1, 2, 3, 4, 5, 9, 1, 6, 6, 9, 8, 10, 4, 1, 2, 3, 4, 5, 6, 7, 8, 9, 3, 4, 6, 9, 1, 2, 6, 6, 1, 2, 3, 4, 6, 7, 7, 1, 1, 2, 3, 4, 5, 8, 6, 10, 1, 2, 3, 4, 5, 6, 7, 1, 2, 3, 4, 5, 6, 7, 8, 9, 1, 1, 2, 3, 4, 5, 6, 7, 5, 1, 3, 2, 2, 1, 3, 3, 4, 1, 2, 3, 4, 5, 6, 7, 8, 7, 6, 1, 2, 3, 4, 5, 6, 6, 1, 4, 5, 5, 5, 1, 2, 3, 4, 5, 6, 1, 2, 3, 4, 5, 6, 7, 8, 9, 3, 8, 9, 5, 1, 2, 3, 4, 5, 7, 8, 5, 6, 5, 2, 4, 1, 2, 3, 4, 5, 6, 9, 6, 1, 2, 3, 4, 5, 6, 7, 8, 3, 10, 1, 2, 3, 4, 5, 6, 7, 2, 1, 2, 5, 6, 2, 2, 3, 4, 4, 10, 1, 2, 3, 4, 5, 1, 2, 3, 4, 5, 6, 7, 1, 2, 3, 8, 1, 2, 3, 4, 7, 1, 2, 3, 8, 8, 1, 2, 3, 4, 5, 8, 4, 1, 2, 3, 4, 5, 1, 2, 3, 4, 5, 1, 2, 3, 4, 6, 4, 10, 1, 2, 3, 4, 6, 7, 8, 6, 4, 2, 1, 2, 3, 4, 5, 6, 7, 8, 9, 10, 9, 7, 7, 3, 10, 10, 9, 1, 2, 3, 4, 5, 6, 9, 1, 2, 3, 4, 5, 6, 7, 8, 9, 5, 6, 4, 6, 6, 6, 9, 1, 2, 3, 4, 5, 6, 7, 1, 2, 3, 4, 5, 7, 1, 9, 1, 2, 3, 4, 5, 6, 3, 4, 6, 4], \"Freq\": [0.2736821877358557, 0.8210465632075671, 0.26056697593388334, 0.34742263457851114, 0.26056697593388334, 0.9663237934611292, 0.9677310494807464, 0.2724801411695309, 0.40367428321411986, 0.03027557124105899, 0.18165342744635393, 0.09082671372317697, 0.9022513422369756, 0.024889692199640705, 0.06844665354901194, 0.2487616525938101, 0.7554983523219418, 0.05667162403519417, 0.11334324807038834, 0.8217385485103155, 0.1530385546655665, 0.7345850623947193, 0.12243084373245322, 0.11390852307318557, 0.8409129203343993, 0.036852757464854155, 0.003350250678623105, 0.28565313841348516, 0.5713062768269703, 0.8097914616040843, 0.2060281200623012, 0.6151825556789838, 0.11462127806282954, 0.033370751841076955, 0.010156315777719072, 0.015959924793558542, 0.005078157888859536, 0.0007254511269799337, 0.841845379891593, 0.9361123195317635, 0.0780093599609803, 0.12170928408010419, 0.2814527194352409, 0.5476917783604689, 0.007606830255006512, 0.030427321020026047, 0.955358564323883, 0.9079901612296343, 0.06384305821145866, 0.014187346269213036, 0.007093673134606518, 0.007093673134606518, 0.9726464713733707, 0.22055885491320165, 0.14132897499292532, 0.6017188177729094, 0.012848088635720485, 0.012848088635720485, 0.01070674052976707, 0.33817341034902, 0.08051747865452857, 0.5314153591198886, 0.008051747865452857, 0.008051747865452857, 0.024155243596358573, 0.8709861073934319, 0.290366324610829, 0.07297164178701461, 0.6156982275779358, 0.009121455223376826, 0.0030404850744589424, 0.0076012126861473555, 0.9700954925434918, 0.22551317850081712, 0.7285810382334091, 0.01734716757698593, 0.8709806244615433, 0.9756185764103722, 0.06101913175620815, 0.9152869763431223, 0.006779903528467572, 0.006779903528467572, 0.006779903528467572, 0.8787964216253308, 0.5132181585725446, 0.3190275039775277, 0.09709532729750843, 0.013870761042501204, 0.02774152208500241, 0.02774152208500241, 0.6912588016886748, 0.11218519931940307, 0.16497823429323982, 0.0032995646858647964, 0.0016497823429323982, 0.02474673514398597, 0.9838969728624993, 0.9857846421102819, 0.6998486248445219, 0.42876127763429034, 0.4844760199257518, 0.019379040797030074, 0.04602522189294642, 0.014534280597772554, 0.0024223800996287593, 0.4112497439409087, 0.48854136248299435, 0.06854162399015144, 0.014583324253223711, 0.016041656678546082, 0.0014583324253223712, 0.48181076488199565, 0.8551261154066246, 0.667331670687381, 0.17688309343520942, 0.008040140610691337, 0.11256196854967873, 0.04020070305345669, 0.6998517803677059, 0.8073424329065999, 0.7760910384415682, 0.705496751251307, 0.2156497676715613, 0.060499029844510416, 0.002927372411831149, 0.011709489647324597, 0.0019515816078874326, 0.0019515816078874326, 0.0009757908039437163, 0.9933035885638476, 0.7172356219299625, 0.1649978660777848, 0.06734606778685094, 0.003367303389342547, 0.03704033728276802, 0.003367303389342547, 0.003367303389342547, 0.6325725199821595, 0.3148287196224573, 0.030608347741072236, 0.008745242211734925, 0.010202782580357412, 0.0014575403686224874, 0.968300840415754, 0.9956344506203321, 0.9151556224530543, 0.023465528780847546, 0.04106467536648321, 0.005866382195211886, 0.011732764390423773, 0.2078932811071675, 0.166314624885734, 0.166314624885734, 0.0415786562214335, 0.415786562214335, 0.983287376091994, 0.9832840440356578, 0.9692902434718919, 0.017005091990734945, 0.07855719696655242, 0.8903148989542606, 0.011222456709507488, 0.014963275612676649, 0.7571711117905665, 0.9032548255263989, 0.030618807644962675, 0.015309403822481337, 0.04592821146744401, 0.3268488307975884, 0.6536976615951768, 0.9701693098396058, 0.8988857259985306, 0.2931758212179089, 0.593704014127803, 0.07903799568884065, 0.022976161537453677, 0.0018380929229962941, 0.005514278768988882, 0.0018380929229962941, 0.0009190464614981471, 0.0009190464614981471, 0.8398777763895048, 0.48717261544258844, 0.44649221374575315, 0.04365701645514031, 0.015875278710960113, 0.001984409838870014, 0.001984409838870014, 0.000992204919435007, 0.000992204919435007, 0.000992204919435007, 0.8005807758245911, 0.7968087932649868, 0.8373472030197542, 0.08597761459577834, 0.014952628625352753, 0.011214471469014565, 0.04859604303239645, 0.0037381571563381883, 0.9394152392666736, 0.024087570237607017, 0.033722598332649824, 0.3425399984910564, 0.04029882335188899, 0.5776164680437421, 0.01343294111729633, 0.01343294111729633, 0.01343294111729633, 0.2110781202556194, 0.6450547355011729, 0.11060493501394457, 0.010976062253292208, 0.004221562405112388, 0.01350899969635964, 0.002532937443067433, 0.001688624962044955, 0.04054429039185206, 0.8960288176599305, 0.04054429039185206, 0.004054429039185206, 0.004054429039185206, 0.008108858078370413, 0.008108858078370413, 0.8709889404848077, 0.8258819875347259, 0.028978315352095645, 0.014489157676047823, 0.08693494605628693, 0.014489157676047823, 0.028978315352095645, 0.40727024116281063, 0.25211967310078753, 0.07757528403101155, 0.12605983655039377, 0.07757528403101155, 0.009696910503876444, 0.009696910503876444, 0.02909073151162933, 0.3486839421093853, 0.20921036526563117, 0.20921036526563117, 0.1394735768437541, 0.06973678842187706, 0.06973678842187706, 0.6284777285204782, 0.6111086005678353, 0.2376533446652693, 0.12409484992373668, 0.005853530656780032, 0.0011707061313560065, 0.0011707061313560065, 0.002341412262712013, 0.014048473576272077, 0.002341412262712013, 0.9581494098876917, 0.057294803654741114, 0.8976185905909441, 0.01562585554220212, 0.019098267884913703, 0.005208618514067374, 0.0017362061713557912, 0.0017362061713557912, 0.017352469854385467, 0.9500477245276042, 0.008676234927192734, 0.021690587317981833, 0.8741841480798143, 0.6520143080290094, 0.9545634359080879, 0.023129124815737617, 0.97142324226098, 0.4804974764412826, 0.08008291274021377, 0.4804974764412826, 0.3284077894417432, 0.6568155788834864, 0.3185635303228568, 0.19113811819371407, 0.06371270606457136, 0.06371270606457136, 0.3185635303228568, 0.9617148364452724, 0.8351325867747872, 0.10310278849071447, 0.054988153861714385, 0.003436759616357149, 0.003436759616357149, 0.7828699976183044, 0.13917688846547635, 0.06958844423273818, 0.0028995185096974243, 0.7219793340174293, 0.8850551424901856, 0.9085238792138072, 0.943179244891577, 0.2011912074693158, 0.6706373582310526, 0.11177289303850878, 0.9438467087351651, 0.4477377025296207, 0.5372852430355448, 0.6103910935202075, 0.10173184892003458, 0.30519554676010374, 0.8710056367589885, 0.39185607116065, 0.35623279196422725, 0.035623279196422726, 0.10686983758926819, 0.10686983758926819, 0.7076200934137074, 0.8004645613548255, 0.1473009846560938, 0.029072562761071143, 0.0038763417014761525, 0.013567195955166533, 0.0019381708507380763, 0.8925743666177006, 0.9218810874637198, 0.054797127576514816, 0.019340162674064052, 0.003223360445677342, 0.8245883630633023, 0.943175885668665, 0.7396878886986398, 0.9607698228271726, 0.6998526815235874, 0.31968089801959576, 0.37801682831514244, 0.2590115305122272, 0.03733499538914987, 0.0023334372118218667, 0.0023334372118218667, 0.0023334372118218667, 0.9224309265931291, 0.2975243103675653, 0.3364858272014132, 0.3435697393530219, 0.010625868227413049, 0.0035419560758043495, 0.0035419560758043495, 0.0035419560758043495, 0.25987644465598075, 0.2747265272077511, 0.41580231144956925, 0.02970016510354066, 0.011137561913827749, 0.0037125206379425824, 0.0037125206379425824, 0.3031404057129597, 0.4330577224470853, 0.10826443061177132, 0.021652886122354265, 0.04330577224470853, 0.08661154448941706, 0.9261794601876446, 0.8741067634218905, 0.08654522410117729, 0.012981783615176592, 0.012981783615176592, 0.00865452241011773, 0.9864481725284443, 0.9910830695683649, 0.5208873972805609, 0.24819914921528818, 0.7445974476458646, 0.5467314514206277, 0.05258930659396043, 0.8973050437594499, 0.021364405803796425, 0.016434158310612637, 0.0016434158310612635, 0.00986049498636758, 0.021081168646872237, 0.9381120047858146, 0.010540584323436119, 0.018446022566013208, 0.01317573040429515, 0.6503132299448994, 0.6502936873201711, 0.8085447375243392, 0.1676251285111435, 0.004930150838563044, 0.002465075419281522, 0.004930150838563044, 0.01232537709640761, 0.9723360642875538, 0.9818124544895918, 0.015340819601399871, 0.17796281831441454, 0.7384434185230305, 0.03681989344436163, 0.030683244536968027, 0.004091099271595737, 0.008182198543191474, 0.8340846986111672, 0.9722080428814374, 0.018696308516950717, 0.874586225099366, 0.2467531251366632, 0.5900618209789772, 0.005364198372536157, 0.04827778535282541, 0.06437038047043388, 0.03218519023521694, 0.005364198372536157, 0.20670478309878593, 0.24645570292547553, 0.5167619577469648, 0.00397509198266896, 0.01192527594800688, 0.00795018396533792, 0.00397509198266896, 0.00397509198266896, 0.3715700754885752, 0.1764957858570732, 0.43195021275546863, 0.004644625943607189, 0.009289251887214378, 0.004644625943607189, 0.004644625943607189, 0.4019215123327956, 0.4939502698295572, 0.037562758161943516, 0.024415792805263285, 0.011268827448583055, 0.024415792805263285, 0.005634413724291527, 0.0018781379080971758, 0.8917633276980477, 0.2687216151869244, 0.3862873218312038, 0.10077060569509665, 0.03359020189836555, 0.03359020189836555, 0.1343608075934622, 0.016795100949182774, 0.016795100949182774, 0.8484900237741775, 0.9712647847668424, 0.02285328905333747, 0.6998475929847218, 0.6604340935378454, 0.9431726719030217, 0.9832880543808771, 0.5536646126531679, 0.5299345769392148, 0.33444041898298005, 0.09370794348315382, 0.006462616791941643, 0.01938785037582493, 0.008078270989927054, 0.006462616791941643, 0.0016156541979854108, 0.5176564665045101, 0.36763264120478123, 0.09803537098794167, 0.006684229840086931, 0.002970768817816414, 0.005198845431178724, 0.0007426922044541035, 0.0007426922044541035, 0.9737015918015023, 0.947006874612264, 0.9580777543246943, 0.9701181580070978, 0.01077909064452331, 0.01077909064452331, 0.8770144722037011, 0.07308453935030843, 0.18884921512235872, 0.7553968604894349, 0.7396680292684855, 0.26130658064884377, 0.6532664516221094, 0.7396404975923299, 0.8029226463155852, 0.9863979461957547, 0.9834107529095861, 0.012340113785394768, 0.9686989321534892, 0.006170056892697384, 0.012340113785394768, 0.9957307504727926, 0.7396736177221023, 0.07448970488915041, 0.7874625945424472, 0.05320693206367886, 0.010641386412735772, 0.05320693206367886, 0.8710032514996708, 0.24761960576529624, 0.24761960576529624, 0.04952392115305925, 0.04952392115305925, 0.04952392115305925, 0.2971435269183555, 0.8830411711974264, 0.6386479409974035, 0.18922901955478622, 0.047307254888696554, 0.023653627444348277, 0.09461450977739311, 0.8710033354721862, 0.594500069141633, 0.2257085008266539, 0.1410678130166587, 0.010076272358332763, 0.006045763414999658, 0.012091526829999316, 0.0020152544716665528, 0.010076272358332763, 0.9275163665304818, 0.6998507786591933, 0.5524067750126986, 0.1333395663823755, 0.057145528449589506, 0.07619403793278601, 0.17143658534876852, 0.3731490026341735, 0.45021238361297017, 0.1297909574379734, 0.022307820809651675, 0.006083951129905002, 0.008111934839873337, 0.0020279837099683343, 0.006083951129905002, 0.5730110559990169, 0.12733579022200375, 0.2546715804440075, 0.1308083608249212, 0.7747879833476101, 0.03823629008728466, 0.04829847168920167, 0.0020124363203834032, 0.0040248726407668065, 0.0020124363203834032, 0.8798168624715728, 0.9898451468007186, 0.22170877987239976, 0.6651263396171992, 0.30424985195264875, 0.5786712870471946, 0.04175978360134394, 0.011931366743241127, 0.023862733486482254, 0.005965683371620564, 0.029828416858102818, 0.6868343190823235, 0.21270822359226288, 0.28361096478968384, 0.4051585211281198, 0.010128963028202995, 0.07090274119742096, 0.6683934400331962, 0.9742682689909299, 0.5622957835517329, 0.052715229707974966, 0.017571743235991654, 0.03514348647198331, 0.08785871617995827, 0.22843266206789153, 0.14617484352638224, 0.7308742176319113, 0.8709915189831537, 0.9733633851299963, 0.01158765934678567, 0.46419146206426876, 0.4041196257971281, 0.0709939883157117, 0.01092215204857103, 0.016383228072856543, 0.005461076024285515, 0.016383228072856543, 0.9705417609011785, 0.9364126256079094, 0.30512185152455507, 0.20341456768303673, 0.5085364192075918, 0.6271905899373142, 0.2538492451523861, 0.0800425547777794, 0.024012766433333818, 0.011434650682539915, 0.0011434650682539914, 0.0005717325341269957, 0.0011434650682539914, 0.0005717325341269957, 0.33440513405572914, 0.5783970281630575, 0.06316541421052661, 0.013623912868937113, 0.0049541501341589505, 0.003715612600619213, 0.0012385375335397376, 0.8246537121002927, 0.8245342276102232, 0.5218159317604413, 0.36131063184477963, 0.09032765796119491, 0.009727593934282528, 0.008337937657956452, 0.0013896562763260755, 0.0034741406908151886, 0.0006948281381630377, 0.002779312552652151, 0.8853561416746158, 0.31544962275609284, 0.2854068015412269, 0.2703853909337939, 0.030042821214865987, 0.10514987425203096, 0.7867589981371886, 0.18187415801093454, 0.02043529865291399, 0.0020435298652913994, 0.0020435298652913994, 0.0020435298652913994, 0.0020435298652913994, 0.8632513345703028, 0.13280789762620043, 0.5820364588088773, 0.24810038951247093, 0.14933056619944934, 0.004703324919667695, 0.0011758312299169238, 0.0035274936897507717, 0.0035274936897507717, 0.0070549873795015434, 0.0011758312299169238, 0.9698100644097957, 0.6645569750525775, 0.5538677423657564, 0.31847395186030997, 0.1246202420322952, 0.43511512070704633, 0.01977796003213847, 0.3955592006427694, 0.1384457202249693, 0.3502520051959263, 0.04378150064949079, 0.3502520051959263, 0.04378150064949079, 0.21890750324745392, 0.24764518648667375, 0.4024234280408448, 0.06191129662166844, 0.24764518648667375, 0.03095564831083422, 0.9431752529789337, 0.8925939770305928, 0.3425617414170368, 0.5354113143629242, 0.083737314568609, 0.020299955046935516, 0.0025374943808669395, 0.0025374943808669395, 0.010149977523467758, 0.0025374943808669395, 0.8626447096800937, 0.2711989555168101, 0.5423979110336202, 0.17934203980974414, 0.6595158883326074, 0.0809931792689167, 0.0752079521782798, 0.5488343542548055, 0.9221774296959604, 0.7427456944889972, 0.3478367414384499, 0.6087142975172873, 0.9571267483892527, 0.07309578014413215, 0.20975310823968357, 0.6387935569117636, 0.03495885137328059, 0.006356154795141926, 0.03813692877085156, 0.8556056392041129, 0.19788108377807684, 0.020470456942559674, 0.7574069068747079, 0.020470456942559674, 0.006823485647519891, 0.9905342131341959, 0.9336081530215659, 0.9832922788503844, 0.5162327327031601, 0.2737597824941, 0.00782170807126, 0.20336440985276, 0.9431791579119104, 0.9832908501431686, 0.9571266616106323, 0.3956393219354169, 0.07912786438708339, 0.07912786438708339, 0.3956393219354169, 0.4468708012552514, 0.5240788454511849, 0.007018913108721226, 0.0023396377029070753, 0.004679275405814151, 0.011698188514535378, 0.0023396377029070753, 0.5664588937259457, 0.20598505226398026, 0.20598505226398026, 0.9266837655188335, 0.9683087983829542, 0.2891892874590114, 0.5783785749180228, 0.9431737068156407, 0.6973441463979074, 0.3695598519948494, 0.10221868246666048, 0.5110934123333024, 0.015725951148716995, 0.13763376819745865, 0.3019063302395867, 0.5127967815098863, 0.0288586933317252, 0.008879597948223138, 0.004439798974111569, 0.004439798974111569, 0.1230158796067135, 0.8119048054043091, 0.049206351842685396, 0.024603175921342698, 0.9214348577114096, 0.9848033451890934, 0.2672609211933948, 0.6052984499755542, 0.08450938219553986, 0.04014195654288143, 0.0010563672774442482, 0.0010563672774442482, 0.0010563672774442482, 0.16733029356759913, 0.6693211742703965, 0.40048195855836355, 0.4752801453708206, 0.07947307348823557, 0.03895738896482136, 0.004674886675778563, 0.858687222263251, 0.3988607189151936, 0.1801306472520229, 0.2701959708780344, 0.14153122284087513, 0.9841941438713123, 0.01348211155988099, 0.8206289531196082, 0.4561122647093476, 0.0067075333045492295, 0.49635746453664303, 0.026830133218196918, 0.8349848672266265, 0.10077403569976527, 0.02879258162850436, 0.02879258162850436, 0.06686118293054812, 0.40116709758328867, 0.26744473172219246, 0.06686118293054812, 0.13372236586109623, 0.06686118293054812, 0.8132114665923209, 0.9839550418422444, 0.992822347968758, 0.9779849665827227, 0.10850329290928609, 0.8494257787755539, 0.031000940831224597, 0.0062001881662449194, 0.0031000940831224597, 0.8690324351337917, 0.8478353843188371, 0.02826117947729457, 0.11304471790917828, 0.3467807544509329, 0.3467807544509329, 0.2600855658381997, 0.48039810185424986, 0.4321653607042248, 0.02701033504401405, 0.007717238584004014, 0.019293096460010036, 0.019293096460010036, 0.013505167522007025, 0.0019293096460010035, 0.9847376113819446, 0.008416560781042262, 0.966070606721549, 0.6074905231618692, 0.30216599678935263, 0.0726461804127712, 0.008422745555103906, 0.00631705916632793, 0.0015792647915819824, 0.0010528431943879883, 0.991552854805325, 0.8310538174784281, 0.8754300425850666, 0.8458838148980293, 0.1127292275449488, 0.04099244637998138, 0.8198489275996276, 0.010248111594995345, 0.010248111594995345, 0.036498407683571085, 0.9124601920892771, 0.036498407683571085, 0.036498407683571085, 0.8397369455836038, 0.9867601468544347, 0.9830415900007445, 0.9514987940177687, 0.06343325293451792, 0.7082091876090142, 0.2522603522235648, 0.01723517934446716, 0.01723517934446716, 0.004700503457581953, 0.9664065373736109, 0.8136421252126645, 0.15335663093013574, 0.01703962565890397, 0.004259906414725992, 0.004259906414725992, 0.004259906414725992, 0.9829542194927773, 0.6799404541117163, 0.1671984723225532, 0.04458625928601418, 0.06687938892902127, 0.04458625928601418, 0.011146564821503545, 0.7289300270046498, 0.14578600540092998, 0.14578600540092998, 0.5304411578087354, 0.37380081590548464, 0.035600077705284255, 0.032040069934755826, 0.0035600077705284254, 0.024920054393698977, 0.8434192364286416, 0.634621921892242, 0.2719808236681037, 0.19292646847788503, 0.7717058739115401, 0.6998552523205801, 0.8504660142268227, 0.977223155821075, 0.8061084889463709, 0.3010284736294062, 0.48164555780704993, 0.18061708417764372, 0.9832869475474539, 0.8259717701922621, 0.8830957518346647, 0.03939460602979917, 0.06894056055214855, 0.0032828838358165977, 0.0032828838358165977, 0.0032828838358165977, 0.42978554062460456, 0.49625903757454337, 0.043551601449959926, 0.006876568649993672, 0.011460947749989453, 0.006876568649993672, 0.0011460947749989455, 0.002292189549997891, 0.0011460947749989455, 0.5525202434743183, 0.9656951531996741, 0.022458026818597075, 0.9051394513604232, 0.702282881952553, 0.04155378141927954, 0.9197236954133872, 0.02216201675694909, 0.008310756283855908, 0.006925630236546591, 0.0013851260473093181, 0.9979573295652701, 0.9964707062074605, 0.302145550557952, 0.604291101115904, 0.9474313259160998, 0.034631954472128974, 0.012368555168617491, 0.0024737110337234984, 0.004947422067446997, 0.9733523340104088, 0.013518782416811233, 0.7677310687352341, 0.11515966031028511, 0.1023641424980312, 0.005118207124901561, 0.005118207124901561, 0.0025591035624507805, 0.8214564451603653, 0.09328842910338533, 0.069966321827539, 0.0051826905057436295, 0.007774035758615444, 0.0025913452528718147, 0.7775063165149027, 0.03616308448906524, 0.12657079571172833, 0.05424462673359786, 0.5467672878100079, 0.9571250736007775, 0.9571335573774751, 0.7829979858048778, 0.6998543198121864, 0.2033280311667216, 0.19120914189188387, 0.5588154498952944, 0.037703211077272876, 0.005386173011038982, 0.0013465432527597456, 0.0013465432527597456, 0.24156442168615785, 0.08525803118334983, 0.6394352338751237, 0.014209671863891639, 0.014209671863891639, 0.9268910062587857, 0.1322501297999524, 0.8155424670997066, 0.04408337659998414, 0.19310811331220754, 0.7566039193707803, 0.02427041861300969, 0.016883769469919784, 0.006331413551219919, 0.0010552355918699865, 0.0010552355918699865, 0.9228514683702524, 0.8253211617462941, 0.7501586142914041, 0.9748790000153766, 0.9763161280393128, 0.7604934483139065, 0.45026208934025863, 0.20334416937947164, 0.0871475011626307, 0.014524583527105117, 0.23239333643368187, 0.7922248512937821, 0.8341462518190534, 0.12197421606788046, 0.0236079127873317, 0.01180395639366585, 0.01180395639366585, 0.8709785095994537, 0.5537547727392376, 0.5494332270284717, 0.3997741763826567, 0.004100247962899043, 0.034852107684641864, 0.008200495925798086, 0.8984494726381184, 0.08966482735686711, 0.8831985494651411, 0.013449724103530066, 0.00896648273568671, 0.004483241367843355, 0.8649800220897043, 0.6998578412078114, 0.14848854546317158, 0.7606249981888994, 0.0333341632672426, 0.006060756957680473, 0.009091135436520709, 0.0333341632672426, 0.006060756957680473, 0.0030303784788402364, 0.9668826599365447, 0.5635425935559686, 0.05123114486872442, 0.30738686921234654, 0.9444160307389492, 0.7207939438547721, 0.21676527196363807, 0.03887279953147309, 0.01251835917115235, 0.006588610090080185, 0.0009882915135120277, 0.001317722018016037, 0.0006588610090080185, 0.001317722018016037, 0.8709942837765787, 0.763917025192534, 0.8097562506946245, 0.11759945549506996, 0.03023985998444656, 0.025199883320372134, 0.010079953328148854, 0.0033599844427162845, 0.0033599844427162845, 0.0016799922213581423, 0.7393981664486855, 0.7606702236632926, 0.6678761973870196, 0.22910963405509413, 0.01512988149420433, 0.054035291050729746, 0.028098351346379467, 0.00432282328405838, 0.8839572434997617, 0.4566851118261298, 0.4372517028122519, 0.009716704506938931, 0.029150113520816794, 0.05830022704163359, 0.3255232819328782, 0.3255232819328782, 0.2722959022742898, 0.4055470884936231, 0.24912178293179701, 0.01738058950686956, 0.01738058950686956, 0.028967649178115933, 0.9244674421455734, 0.9357968308433071, 0.9832847876031865, 0.9114469850176767, 0.17848665624804222, 0.7096969427005488, 0.07082803819366755, 0.012749046874860158, 0.01416560763873351, 0.004249682291620053, 0.004249682291620053, 0.005666243055493404, 0.8856670172849201, 0.09225698096717917, 0.7570808145115615, 0.5363304168967434, 0.40118084234716617, 0.04836932141774344, 0.008535762603131195, 0.0028452542010437318, 0.0014226271005218659, 0.0014226271005218659, 0.962557762762281, 0.2551552523349077, 0.6564131012122695, 0.027263163948113428, 0.04893388400943436, 0.004893388400943436, 0.0013981109716981245, 0.004194332915094374, 0.002097166457547187, 0.0006990554858490622, 0.23259084164198018, 0.6055743534642547, 0.09429358444945142, 0.05028991170637409, 0.010477064938827935, 0.0020954129877655873, 0.12265109884784792, 0.7642106928212062, 0.08333984921712743, 0.0031448999704576388, 0.007862249926144097, 0.012579599881830555, 0.004717349955686459, 0.6998551884793227, 0.05628825730722259, 0.8741235252415743, 0.05628825730722259, 0.006622147918496775, 0.0033110739592483876, 0.0033110739592483876, 0.8747429078642032, 0.3802747977295229, 0.3802747977295229, 0.6998559885072898, 0.6683124984804952, 0.2521060019020482, 0.05161225235789963, 0.011910519774899915, 0.007940346516599943, 0.002646782172199981, 0.004631868801349967, 0.0013233910860999906, 0.0006616955430499953, 0.913016965969683, 0.6854262841872736, 0.8340461336938426, 0.4894293514102047, 0.9271813915939993, 0.018922069216204065, 0.03784413843240813, 0.61807282121806, 0.20157450540804978, 0.16486391667479566, 0.001334930499391058, 0.004004791498173174, 0.004672256747868703, 0.000667465249695529, 0.004004791498173174, 0.866379373510564, 0.8438644195326215, 0.9473240813139558, 0.03789296325255823, 0.003123537445893907, 0.9932849077942624, 0.003123537445893907, 0.9955951250020065, 0.9831915247045753, 0.9668967768289821, 0.029750670056276372, 0.008980374960557225, 0.9788608707007376, 0.008980374960557225, 0.9927218219155436, 0.01629437215889008, 0.9776623295334048, 0.6998671511011787, 0.8733133335209445, 0.08632932842486692, 0.8756260454522216, 0.009249570902664312, 0.02158233210621673, 0.006166380601776208, 0.6998532802155818, 0.9715846909850406, 0.8860723198381986, 0.9825201391309861, 0.36417379029030633, 0.4848713893579507, 0.08323972349492716, 0.045781847922209934, 0.0020809930873731787, 0.014566951611612252, 0.0020809930873731787, 0.0020809930873731787, 0.0020809930873731787, 0.5075242846979126, 0.3852933051371587, 0.023914756870582265, 0.05580109936469195, 0.010628780831369896, 0.002657195207842474, 0.005314390415684948, 0.005314390415684948, 0.002657195207842474, 0.8372850013197186, 0.4838094336815629, 0.47534638635232823, 0.4293451231569416, 0.05622376612769474, 0.02896375830820638, 0.003407500977436045, 0.0017037504887180224, 0.0017037504887180224, 0.12369321198046325, 0.09458892680858955, 0.7421592718827795, 0.025466249525389492, 0.014552142585936852, 0.003638035646484213, 0.6711370290306382, 0.738021949043891, 0.19409751565068692, 0.047395904984470064, 0.009027791425613345, 0.0022569478564033363, 0.004513895712806673, 0.004513895712806673, 0.0022569478564033363, 0.0022569478564033363, 0.15952254630840737, 0.06836680556074602, 0.6380901852336295, 0.09115574074766136, 0.05697233796728835, 0.792164999301005, 0.21520545242578515, 0.7400967998057489, 0.02449492954439831, 0.012247464772199155, 0.0034992756491997587, 0.0017496378245998793, 0.0034992756491997587, 0.8709913612584843, 0.21478105029087935, 0.6835142850445401, 0.07188710016566317, 0.018045129225258305, 0.003961125927495725, 0.0027874589860155106, 0.0033742924567556182, 0.0010269585737951881, 0.0004401251030550806, 0.03027616063046876, 0.9143400510401565, 0.0060552321260937516, 0.042386624882656265, 0.9104827188309639, 0.9706737176325084, 0.465351785346072, 0.0930703570692144, 0.465351785346072, 0.9689419083214297, 0.023070045436224516, 0.007690015145408171, 0.9628103557580543, 0.026744732104390396, 0.12395062316973149, 0.3098765579243287, 0.523347075605533, 0.03443072865825875, 0.006886145731651749, 0.9462138821228732, 0.9799414083599439, 0.8040624517581164, 0.28026517781898336, 0.5079806347969072, 0.13137430210264844, 0.026274860420529688, 0.00875828680684323, 0.00875828680684323, 0.03503314722737292, 0.9453064699654292, 0.047265323498271464, 0.011816330874567866, 0.970162540871008, 0.0053897918937278215, 0.010779583787455643, 0.0053897918937278215, 0.010779583787455643, 0.32721051293131487, 0.39992396024938487, 0.03635672365903499, 0.21814034195420992, 0.5070609042300441, 0.42795940317015724, 0.03498720239187304, 0.01470476622267128, 0.009634157180370839, 0.0015211827126901324, 0.0020282436169201763, 0.0015211827126901324, 0.8709909920830657, 0.4431594253035746, 0.3798509359744925, 0.12661697865816418, 0.09263371184705196, 0.8892836337316989, 0.013895056777057796, 0.9516074779628099, 0.04468049074587386, 0.9130361152417702, 0.012627095210790439, 0.018454985308078334, 0.0009713150162146491, 0.0009713150162146491, 0.008741835145931843, 0.9979483891748712, 0.9314291762975236, 0.8354861504536201, 0.3554475672437797, 0.4739300896583729, 0.8902410567873695, 0.588785653412949, 0.3492108013345766, 0.044086413457521303, 0.008701265813984466, 0.002320337550395858, 0.001160168775197929, 0.002320337550395858, 0.002320337550395858, 0.28341256370225776, 0.5668251274045155, 0.8348317794817386, 0.08579298919575179, 0.06269487671997245, 0.013198921414731044, 0.003299730353682761, 0.8548512724679297, 0.10640553813419379, 0.019838320669086976, 0.01082090218313835, 0.005410451091569175, 0.001803483697189725, 0.6420386565071177, 0.18343961614489077, 0.13757971210866807, 0.8104195805095694, 0.9684435977570992, 0.015876124553395068, 0.9516872699946157, 0.9551024587385145, 0.016904468296256893, 0.016904468296256893, 0.9832843649615106, 0.41380628635336325, 0.1284226405924231, 0.41095244989575386, 0.028538364576094016, 0.005707672915218804, 0.005707672915218804, 0.005707672915218804, 0.9403060764814485, 0.24752652843087633, 0.24487918588081348, 0.45732842552335706, 0.021178740400502785, 0.012574877112798529, 0.013898548387829954, 0.000661835637515712, 0.000661835637515712, 0.000661835637515712, 0.7956457714642654, 0.037522176081039596, 0.21762862127002966, 0.6566380814181929, 0.037522176081039596, 0.007504435216207919, 0.041274393689143554, 0.9668540134080159, 0.016669896782896827, 0.016669896782896827, 0.9650325593968285, 0.07395283761938314, 0.09508221979634976, 0.7923518316362479, 0.04225876435393323, 0.010564691088483307, 0.9894039411819996, 0.9841576110298528, 0.2545377043803718, 0.2656045610925619, 0.44820769684369827, 0.01936699924633264, 0.0055334283560950406, 0.0055334283560950406, 0.7911582570771986, 0.13185970951286644, 0.6792691388174387, 0.22055040242103197, 0.08417456187074888, 0.003915095900965064, 0.003262579917470887, 0.0071776758184359515, 0.0006525159834941774, 0.0006525159834941774, 0.982053468046782, 0.983284496338818, 0.7122284674822993, 0.10038119340354554, 0.1577418753484287, 0.0047800568287402635, 0.0047800568287402635, 0.019120227314961054, 0.914033674377557, 0.667051786582413, 0.8709782051611524, 0.9469038053521229, 0.0390475796021494, 0.00976189490053735, 0.9571282791226786, 0.9571327046895646, 0.5887842553892716, 0.29295606853514977, 0.01723270991383234, 0.04308177478458085, 0.03446541982766468, 0.011488473275888226, 0.0028721183189720566, 0.014360591594860283, 0.8653243802689977, 0.07543853571575877, 0.05325073109347678, 0.004437560924456399, 0.9716859721309921, 0.75700644246202, 0.051153299014240865, 0.8938365933014719, 0.03230734674583634, 0.013461394477431806, 0.0026922788954863615, 0.008076836686459084, 0.8709821864986812, 0.8884178227784232, 0.06833983252141716, 0.9944570690120668, 0.44900977174896317, 0.10204767539749163, 0.4000268875581672, 0.03673716314309698, 0.012245721047698995, 0.9707422267477035, 0.7462686789366724, 0.3391758041962037, 0.6783516083924074, 0.9781453639050752, 0.19108809599098275, 0.47772023997745683, 0.15924007999248563, 0.15924007999248563, 0.667134648502475, 0.43996675930818796, 0.17598670372327518, 0.35197340744655037, 0.21067838740147674, 0.642375205757877, 0.11632548997627551, 0.018095076218531746, 0.0038775163325425166, 0.0038775163325425166, 0.001292505444180839, 0.001292505444180839, 0.803780743310456, 0.3780608572600723, 0.07561217145201447, 0.07561217145201447, 0.07561217145201447, 0.4536730287120868, 0.07561217145201447, 0.8951240639805443, 0.8820007722247943, 0.13162390211724664, 0.8378367615540123, 0.017718602208090895, 0.012656144434350638, 0.9360407762564485, 0.226383397845508, 0.6963004509490626, 0.0668860039089001, 0.005145077223761546, 0.0034300514825076974, 0.9016003370849685, 0.4368440880837856, 0.5242129057005427, 0.8473959774771823, 0.47829809979224497, 0.8710036283545364, 0.8048042992229932, 0.9118297060787074, 0.31046264639541443, 0.5227745458362247, 0.13365208095946093, 0.019490928473254718, 0.007657150471635782, 0.002088313764991577, 0.0034805229416526285, 0.0006961045883305257, 0.0006961045883305257, 0.954270745783955, 0.19583152998872494, 0.7833261199548998, 0.9457267850982953, 0.4056467728652581, 0.13521559095508603, 0.4394506706040296, 0.8938074760155249, 0.05429570894247525, 0.9251153485198668, 0.004176592995575019, 0.010441482488937549, 0.004176592995575019, 0.004176592995575019, 0.8841287777372965, 0.9888266865901018, 0.2772615671465451, 0.6238385260797265, 0.024260387125322698, 0.058918083018640835, 0.003465769589331814, 0.006931539178663628, 0.7595394751059532, 0.8372776433115868, 0.35032064893407416, 0.47736000514093624, 0.16040322753391675, 0.001283225820271334, 0.007699354921628004, 0.001283225820271334, 0.001283225820271334, 0.3282423489884549, 0.5220065549992609, 0.0954361014680089, 0.024582026135699264, 0.021690023060911116, 0.0014460015373940745, 0.0014460015373940745, 0.002892003074788149, 0.5165724129857774, 0.9910823434541258, 0.42520725172162366, 0.27559729278253386, 0.17323258403473557, 0.007874208365215253, 0.1023647087477983, 0.007874208365215253, 0.007874208365215253, 0.9431830961978741, 0.9923777063052761, 0.9662592609141087, 0.969035185430174, 0.980813458338623, 0.9489735046773803, 0.9189999018794675, 0.879108880425119, 0.9654759154159668, 0.3365073288543597, 0.4381858023211446, 0.18762099270656746, 0.016946412244464158, 0.0012104580174617256, 0.014525496209540707, 0.0048418320698469025, 0.0012104580174617256, 0.8100824290695959, 0.949369445779733, 0.13315821563934824, 0.32079024676752077, 0.5265802163919681, 0.0060526461654249195, 0.0060526461654249195, 0.012105292330849839, 0.8289112155781749, 0.09134712288961158, 0.09134712288961158, 0.8221241060065042, 0.9832853311180764, 0.9832871424027254, 0.35785796869889847, 0.26976985332686193, 0.2862863749591188, 0.011011014421504569, 0.022022028843009137, 0.04954956489677056, 0.5316131425479605, 0.21264525701918424, 0.23420718867497564, 0.005948119077459699, 0.007435148846824623, 0.0029740595387298496, 0.002230544654047387, 0.002230544654047387, 0.0007435148846824624, 0.4791399550857979, 0.3593549663143484, 0.11978498877144947, 0.9571224703129321, 0.5597396026837202, 0.1880262231237303, 0.18513351199874983, 0.011570844499921865, 0.04628337799968746, 0.005785422249960932, 0.002892711124980466, 0.9431786513239958, 0.9115593451647105, 0.9832844557987495, 0.2620146538334825, 0.6550366345837062, 0.8508465646232319, 0.09808029563380195, 0.036780110862675734, 0.002452007390845049, 0.007356022172535147, 0.004904014781690098, 0.9060287092975964, 0.7396256344293334, 0.48856684929224187, 0.31077477099950296, 0.1850193985485413, 0.010118248358123352, 0.0014454640511604789, 0.0014454640511604789, 0.0014454640511604789, 0.0014454640511604789, 0.9233518341701294, 0.8077649709636117, 0.0037234633797060346, 0.9879589500820012, 0.0012411544599020116, 0.0012411544599020116, 0.0012411544599020116, 0.0024823089198040232, 0.0012411544599020116, 0.998995349336162, 0.9689299389944313, 0.025838131706518167, 0.9169815075529822, 0.7551409149205971, 0.9684843390401617, 0.1763468682452523, 0.7935609071036354, 0.02939114470754205, 0.5530312906793433, 0.27651564533967166, 0.7200383239590785, 0.17673667951722835, 0.07527673386844912, 0.008182253681353165, 0.019637408835247595, 0.5800157983871881, 0.2942937302161595, 0.09428828249643945, 0.015714713749406577, 0.007143051704275716, 0.0028572206817102865, 0.00428583102256543, 0.2929650406269017, 0.03083842532914755, 0.6476069319120985, 0.015419212664573774, 0.14530523980631407, 0.7978080147856111, 0.04112412447348511, 0.010966433192929363, 0.0027416082982323407, 0.27843038010192334, 0.27843038010192334, 0.18562025340128221, 0.27843038010192334, 0.8709727688987926, 0.33078478562850133, 0.6010033429024884, 0.018635762570619795, 0.04193046578389454, 0.0023294703213274743, 0.0023294703213274743, 0.7924143816117669, 0.4645465093489806, 0.09779926512610118, 0.09779926512610118, 0.07334944884457589, 0.22004834653372768, 0.4884465910105074, 0.09768931820210149, 0.09768931820210149, 0.07326698865157612, 0.21980096595472834, 0.17603482704011805, 0.34755594056638695, 0.4288027838156722, 0.03159599459694427, 0.013541140541547543, 0.4199311654329161, 0.4199311654329161, 0.354862752198737, 0.12711501571298042, 0.40253088309110463, 0.0529645898804085, 0.0529645898804085, 0.00529645898804085, 0.00529645898804085, 0.9498246781099425, 0.9635954241163266, 0.9706349728930125, 0.35913815382872044, 0.40967015537246, 0.16783843369884924, 0.015340071897206651, 0.009925928874663127, 0.019851857749326254, 0.01263300038593489, 0.0009023571704239206, 0.002707071511271762, 0.0018047143408478413, 0.9510338241765819, 0.6998567372133984, 0.9635138403952681, 0.39602808461535377, 0.39602808461535377, 0.7030187552176267, 0.7826095035546778, 0.1208932425022875, 0.7410308012640215, 0.10969942375207568, 0.020148873750381248, 0.004477527500084722, 0.002238763750042361, 0.002238763750042361, 0.35266660848479564, 0.39426318281889977, 0.20617432496034208, 0.005425640130535318, 0.01808546710178439, 0.012659826971249075, 0.0036170934203568783, 0.005425640130535318, 0.0018085467101784391, 0.17727341374469174, 0.709093654978767, 0.14607139898406293, 0.7303569949203147, 0.9873235442125151, 0.9334206132445636, 0.8842923699765795, 0.20991655874596213, 0.7425406630267616, 0.02349812224768233, 0.006266165932715288, 0.010965790382251754, 0.003133082966357644, 0.003133082966357644, 0.13663671031512542, 0.8442593482885798, 0.00888694050830084, 0.00444347025415042, 0.0033326026906128152, 0.001110867563537605, 0.637591249102797, 0.3187956245513985, 0.23553062295213448, 0.15381591702996536, 0.5768096888623702, 0.01922698962874567, 0.009613494814372835, 0.0048067474071864175, 0.8947237200756634, 0.0344124507721409, 0.0344124507721409, 0.7947603071894337], \"Term\": [\"absolutely horrible\", \"absolutely horrible\", \"action law\", \"action law\", \"action law\", \"action lawsuit\", \"acts like\", \"adapter\", \"adapter\", \"adapter\", \"adapter\", \"adapter\", \"adjust\", \"adjust\", \"adjust\", \"ads\", \"ads\", \"advertisements\", \"advertisements\", \"advertisements\", \"advised\", \"advised\", \"advised\", \"ago\", \"ago\", \"ago\", \"ago\", \"agreement\", \"agreement\", \"amazing samsung\", \"amazon\", \"amazon\", \"amazon\", \"amazon\", \"amazon\", \"amazon\", \"amazon\", \"amazon\", \"amazon etc\", \"amazon netflix\", \"amazon netflix\", \"amazon prime\", \"amazon prime\", \"amazon prime\", \"amazon prime\", \"amazon prime\", \"analog audio\", \"angle\", \"angle\", \"angle\", \"angle\", \"angle\", \"angles\", \"app\", \"app\", \"app\", \"app\", \"app\", \"app\", \"apple\", \"apple\", \"apple\", \"apple\", \"apple\", \"apple\", \"approx year\", \"apps\", \"apps\", \"apps\", \"apps\", \"apps\", \"apps\", \"apps don\", \"arc\", \"arc\", \"arc\", \"argument samsung\", \"artifacts\", \"asked\", \"asked\", \"asked\", \"asked\", \"asked\", \"atsc tuner\", \"attached\", \"attached\", \"attached\", \"attached\", \"attached\", \"attached\", \"audio\", \"audio\", \"audio\", \"audio\", \"audio\", \"audio\", \"authorized\", \"auto motion\", \"available fix\", \"away\", \"away\", \"away\", \"away\", \"away\", \"away\", \"bad\", \"bad\", \"bad\", \"bad\", \"bad\", \"bad\", \"bad don\", \"bad picture\", \"base\", \"base\", \"base\", \"base\", \"base\", \"basically poor\", \"battery life\", \"best viewing\", \"better\", \"better\", \"better\", \"better\", \"better\", \"better\", \"better\", \"better\", \"better sound\", \"bit\", \"bit\", \"bit\", \"bit\", \"bit\", \"bit\", \"bit\", \"black\", \"black\", \"black\", \"black\", \"black\", \"black\", \"black level\", \"black levels\", \"blacks\", \"blacks\", \"blacks\", \"blacks\", \"blacks\", \"block\", \"block\", \"block\", \"block\", \"block\", \"block class\", \"block div\", \"blur\", \"blur\", \"board\", \"board\", \"board\", \"board\", \"board supplier\", \"boards\", \"boards\", \"boards\", \"boards\", \"boards fail\", \"boards fail\", \"bose\", \"bose system\", \"bought\", \"bought\", \"bought\", \"bought\", \"bought\", \"bought\", \"bought\", \"bought\", \"bought\", \"bought similar\", \"box\", \"box\", \"box\", \"box\", \"box\", \"box\", \"box\", \"box\", \"box\", \"box arrived\", \"box returned\", \"bright\", \"bright\", \"bright\", \"bright\", \"bright\", \"bright\", \"brightness\", \"brightness\", \"brightness\", \"browser\", \"browser\", \"browser\", \"browser\", \"browser\", \"browser\", \"buy\", \"buy\", \"buy\", \"buy\", \"buy\", \"buy\", \"buy\", \"buy\", \"buy samsung\", \"buy samsung\", \"buy samsung\", \"buy samsung\", \"buy samsung\", \"buy samsung\", \"buy samsung\", \"buyer weigh\", \"buzz\", \"buzz\", \"buzz\", \"buzz\", \"buzz\", \"buzz\", \"buzzing\", \"buzzing\", \"buzzing\", \"buzzing\", \"buzzing\", \"buzzing\", \"buzzing\", \"buzzing\", \"buzzing noise\", \"buzzing noise\", \"buzzing noise\", \"buzzing noise\", \"buzzing noise\", \"buzzing noise\", \"buzzing problem\", \"cable\", \"cable\", \"cable\", \"cable\", \"cable\", \"cable\", \"cable\", \"cable\", \"cable\", \"cable long\", \"called\", \"called\", \"called\", \"called\", \"called\", \"called\", \"called\", \"called samsung\", \"called samsung\", \"called samsung\", \"called samsung\", \"calls emails\", \"came broken\", \"capable samsung\", \"capacitors\", \"capacitors\", \"captioning\", \"captioning\", \"captioning\", \"causing boards\", \"causing boards\", \"cc\", \"cc\", \"cc\", \"cc\", \"cc\", \"change channel\", \"channel\", \"channel\", \"channel\", \"channel\", \"channel\", \"channels\", \"channels\", \"channels\", \"channels\", \"chassis\", \"chipset\", \"clarity brightness\", \"class video\", \"closed\", \"closed\", \"closed\", \"closed caption\", \"closed captioning\", \"closed captioning\", \"club\", \"club\", \"club\", \"club star\", \"cnet\", \"cnet\", \"cnet\", \"cnet\", \"cnet\", \"cnet site\", \"color\", \"color\", \"color\", \"color\", \"color\", \"color\", \"color clarity\", \"colors\", \"colors\", \"colors\", \"colors\", \"com gp\", \"com images\", \"coming later\", \"compliant\", \"conflicting\", \"connect\", \"connect\", \"connect\", \"connect\", \"connect\", \"connect\", \"connect\", \"connect hdmi\", \"connected\", \"connected\", \"connected\", \"connected\", \"connected\", \"connected\", \"connected\", \"connection\", \"connection\", \"connection\", \"connection\", \"connection\", \"connection\", \"connection\", \"connector\", \"connector\", \"connector\", \"connector\", \"connector\", \"connector\", \"considering purchase\", \"contrast\", \"contrast\", \"contrast\", \"contrast\", \"contrast\", \"contrast brightness\", \"cost repair\", \"cox cable\", \"cracked screen\", \"cracked screen\", \"crooked result\", \"customer\", \"customer\", \"customer\", \"customer\", \"customer\", \"customer\", \"customer service\", \"customer service\", \"customer service\", \"customer service\", \"customer service\", \"cyber\", \"cyber monday\", \"dark\", \"dark\", \"dark\", \"dark\", \"dark\", \"dark\", \"dark scene\", \"dark scenes\", \"dark scenes\", \"days\", \"days\", \"days\", \"days\", \"days\", \"days\", \"days late\", \"days later\", \"days later\", \"deal samsung\", \"delivery\", \"delivery\", \"delivery\", \"delivery\", \"delivery\", \"delivery\", \"delivery\", \"device\", \"device\", \"device\", \"device\", \"device\", \"device\", \"device\", \"device\", \"devices\", \"devices\", \"devices\", \"devices\", \"devices\", \"devices\", \"devices\", \"didn\", \"didn\", \"didn\", \"didn\", \"didn\", \"didn\", \"didn\", \"didn\", \"didn look\", \"didn work\", \"didn work\", \"didn work\", \"didn work\", \"didn work\", \"didn work\", \"didn work\", \"didn work\", \"different things\", \"dimming\", \"dimming\", \"disconnect tell\", \"dithering\", \"div\", \"div input\", \"dmp\", \"doesn\", \"doesn\", \"doesn\", \"doesn\", \"doesn\", \"doesn\", \"doesn\", \"doesn\", \"don\", \"don\", \"don\", \"don\", \"don\", \"don\", \"don\", \"don\", \"dots\", \"dumbest\", \"dvi output\", \"dynamic\", \"dynamic\", \"dynamic\", \"eagle\", \"eagle\", \"earned\", \"earned\", \"enable smart\", \"entire panel\", \"entire panel\", \"eventually month\", \"excellent sound\", \"executive\", \"expired\", \"extended\", \"extended\", \"extended\", \"extended\", \"extended warranty\", \"extremely frustrating\", \"fail\", \"fail\", \"fail\", \"fail\", \"fail\", \"failures faulty\", \"fake\", \"fake\", \"fake\", \"fake\", \"fake\", \"fake\", \"far worst\", \"faulty\", \"faulty\", \"faulty\", \"faulty\", \"faulty\", \"faulty components\", \"features\", \"features\", \"features\", \"features\", \"features\", \"features\", \"features\", \"features\", \"features great\", \"fewer times\", \"fi\", \"fi\", \"fi\", \"fi\", \"fi\", \"fine\", \"fine\", \"fine\", \"fine\", \"fine\", \"fine\", \"fine\", \"fine\", \"fire stick\", \"fire stick\", \"fire stick\", \"fix\", \"fix\", \"fix\", \"fix\", \"fix\", \"fix\", \"fix\", \"fix time\", \"flash player\", \"forewarned\", \"forewarned\", \"free\", \"free\", \"free\", \"free\", \"free\", \"free\", \"free\", \"friday price\", \"frustrating\", \"frustrating\", \"frustrating\", \"frustrating\", \"frustrating\", \"functions slow\", \"fuzzy\", \"galaxy\", \"galaxy\", \"galaxy\", \"galaxy\", \"galaxy\", \"galaxy\", \"galaxy tab\", \"galaxy tab\", \"gamble star\", \"game mode\", \"game mode\", \"glasses\", \"glasses\", \"glasses\", \"glasses\", \"glasses\", \"glasses\", \"glasses\", \"glitches\", \"glitchy\", \"glove delivery\", \"glove delivery\", \"glove delivery\", \"good\", \"good\", \"good\", \"good\", \"good\", \"good\", \"good\", \"good\", \"good\", \"got\", \"got\", \"got\", \"got\", \"got\", \"got\", \"got\", \"gp\", \"gp product\", \"great\", \"great\", \"great\", \"great\", \"great\", \"great\", \"great\", \"great\", \"great\", \"harmony remote\", \"hbo\", \"hbo\", \"hbo\", \"hbo\", \"hbo\", \"hd\", \"hd\", \"hd\", \"hd\", \"hd\", \"hd\", \"hd\", \"hdcp\", \"hdcp\", \"hdmi\", \"hdmi\", \"hdmi\", \"hdmi\", \"hdmi\", \"hdmi\", \"hdmi\", \"hdmi\", \"hdmi\", \"hdmi arc\", \"hdmi source\", \"hdr\", \"hdr\", \"hdr\", \"headphone\", \"headphone\", \"headphone\", \"headphone\", \"headphone jack\", \"headphone jack\", \"headphone jack\", \"headphone jack\", \"headphone jack\", \"hidden\", \"hidden\", \"hidden\", \"hidden\", \"hidden\", \"hidden value\", \"hollywood\", \"home\", \"home\", \"home\", \"home\", \"home\", \"home\", \"home\", \"home\", \"horrible picture\", \"hour screen\", \"hour screen\", \"house\", \"house\", \"house\", \"house\", \"house calls\", \"house took\", \"hts\", \"https\", \"https\", \"https images\", \"hub\", \"hub\", \"hub\", \"hub\", \"hub\", \"hub\", \"hub updates\", \"hulu\", \"hulu\", \"hulu\", \"hulu\", \"hulu\", \"hulu amazon\", \"human\", \"id video\", \"images\", \"images\", \"images\", \"images\", \"images amazon\", \"images class\", \"images na\", \"importantly\", \"importantly\", \"importantly\", \"importantly\", \"inch\", \"inch\", \"inch\", \"inch\", \"inch\", \"inch\", \"inch\", \"inch lcd\", \"inch lcd\", \"inch lcd\", \"inch size\", \"inch ultra\", \"incredibly slow\", \"incredibly slow\", \"input type\", \"inst\", \"interface\", \"interface\", \"interface\", \"interface\", \"internet\", \"internet\", \"internet\", \"internet\", \"internet\", \"internet\", \"internet\", \"internet connection\", \"internet connection\", \"internet connection\", \"internet connection\", \"internet provider\", \"ips\", \"issue\", \"issue\", \"issue\", \"issue\", \"issue\", \"issue\", \"issue\", \"issue refund\", \"issue refund\", \"issues\", \"issues\", \"issues\", \"issues\", \"issues\", \"issues biggest\", \"jack\", \"jack\", \"jack\", \"jack\", \"judder\", \"judder\", \"juttering\", \"keyboard\", \"keyboard\", \"keyboard\", \"keyboard\", \"kitchen\", \"kitchen\", \"kitchen\", \"kitchen\", \"knock\", \"knock\", \"knock\", \"knock\", \"knock\", \"knock\", \"la\", \"labor\", \"lasted\", \"lasted years\", \"later\", \"later\", \"later\", \"later\", \"later\", \"later year\", \"launch\", \"launch\", \"launch\", \"law suit\", \"law suit\", \"law suit\", \"lcd\", \"lcd\", \"lcd\", \"lcd\", \"lcd\", \"lcd\", \"lcd\", \"lcd\", \"levels\", \"levels\", \"lg oled\", \"like\", \"like\", \"like\", \"like\", \"like\", \"like\", \"like\", \"like roku\", \"line left\", \"line stay\", \"linkcode\", \"load\", \"load\", \"load\", \"load\", \"load\", \"loading\", \"loading\", \"loading\", \"loading\", \"loading apps\", \"local dimming\", \"local repair\", \"login\", \"login\", \"look\", \"look\", \"look\", \"look\", \"look\", \"look lg\", \"looks\", \"looks\", \"looks\", \"looks\", \"looks\", \"looks\", \"lottery\", \"loud\", \"loud\", \"loud\", \"loud\", \"loud\", \"loud\", \"loudly\", \"loudly\", \"loudly\", \"love\", \"love\", \"love\", \"love\", \"love\", \"love\", \"love problem\", \"magnavox\", \"magnavox\", \"makes smart\", \"makes smart\", \"man available\", \"manual find\", \"mark\", \"media hub\", \"million\", \"million\", \"million\", \"mini video\", \"minus\", \"mode\", \"mode\", \"mode\", \"mode\", \"mode\", \"mode\", \"model\", \"model\", \"model\", \"model\", \"model\", \"model\", \"model\", \"model\", \"model\", \"models type\", \"modes\", \"modes\", \"monitor samsung\", \"monitor work\", \"months\", \"months\", \"months\", \"months\", \"months\", \"months\", \"months later\", \"months old\", \"months purchased\", \"months purchased\", \"motion\", \"motion\", \"motion\", \"motion\", \"motion\", \"motion blur\", \"motion blur\", \"movie\", \"movie\", \"movie\", \"movie\", \"movie\", \"movie\", \"movies\", \"movies\", \"movies\", \"movies\", \"movies\", \"movies\", \"mute\", \"mute\", \"mute\", \"mute\", \"mute mute\", \"na\", \"na ssl\", \"nag\", \"needed ship\", \"netflix\", \"netflix\", \"netflix\", \"netflix\", \"netflix\", \"netflix\", \"netflix\", \"netflix app\", \"netflix app\", \"netflix app\", \"netflix app\", \"netflix app\", \"netflix apps\", \"netflix hulu\", \"netflix hulu\", \"netflix hulu\", \"new\", \"new\", \"new\", \"new\", \"new\", \"new\", \"new\", \"non smart\", \"note work\", \"occurrence\", \"opera\", \"opera effect\", \"origional\", \"os\", \"os\", \"os\", \"os\", \"os\", \"osd menus\", \"overall\", \"overall\", \"overall\", \"overall\", \"overall\", \"pair battery\", \"panasonic dmp\", \"panel\", \"panel\", \"panel\", \"panel\", \"panel\", \"panel bad\", \"parts\", \"parts\", \"parts\", \"parts\", \"parts\", \"people having\", \"person contact\", \"phone\", \"phone\", \"phone\", \"phone\", \"phone\", \"phone\", \"phone\", \"phone\", \"phone samsung\", \"pic\", \"pic\", \"pic\", \"pic quality\", \"picture\", \"picture\", \"picture\", \"picture\", \"picture\", \"picture\", \"picture\", \"picture\", \"picture\", \"picture check\", \"picture okay\", \"picture quality\", \"picture quality\", \"picture quality\", \"picture quality\", \"picture quality\", \"picture quality\", \"picture quality\", \"picture quality\", \"pixels pixels\", \"place order\", \"plasma\", \"plasma\", \"plasma\", \"plasma\", \"plasma\", \"plasma\", \"plasma went\", \"plastic\", \"plastic\", \"plastic\", \"plastic\", \"plastic\", \"player want\", \"player want\", \"plug\", \"plug\", \"plug\", \"plug\", \"plug\", \"plug\", \"plug hdmi\", \"png\", \"png class\", \"port port\", \"power\", \"power\", \"power\", \"power\", \"power\", \"power\", \"power\", \"power\", \"power board\", \"power board\", \"power defect\", \"price\", \"price\", \"price\", \"price\", \"price\", \"price\", \"price\", \"prime movies\", \"problem\", \"problem\", \"problem\", \"problem\", \"problem\", \"problem\", \"problem\", \"problem\", \"problem\", \"problems\", \"problems\", \"problems\", \"problems\", \"problems\", \"problems\", \"product\", \"product\", \"product\", \"product\", \"product\", \"product\", \"product\", \"product customer\", \"products\", \"products\", \"products\", \"products\", \"products\", \"products\", \"pull hair\", \"purchased expensive\", \"purchased expensive\", \"putting damned\", \"quality\", \"quality\", \"quality\", \"quality\", \"quality\", \"quality\", \"quality\", \"quality\", \"quality\", \"quality lacking\", \"quits\", \"random intervals\", \"receiver set\", \"refresh\", \"refresh\", \"refresh\", \"remote\", \"remote\", \"remote\", \"remote\", \"remote\", \"remote\", \"remote\", \"remote\", \"remote wait\", \"rename\", \"rep\", \"rep\", \"repair\", \"repair\", \"repair\", \"repair company\", \"repair person\", \"repair shop\", \"repair shop\", \"repaired\", \"repaired\", \"repaired\", \"repairman\", \"repairs\", \"repairs\", \"replace time\", \"replaced entire\", \"replacement\", \"replacement\", \"replacement\", \"replacement\", \"replacement\", \"reps service\", \"requested\", \"reset samsung\", \"reset smart\", \"return\", \"return\", \"return\", \"return\", \"return\", \"return\", \"return\", \"return\", \"return\", \"reviews\", \"reviews\", \"reviews\", \"reviews\", \"reviews\", \"reviews\", \"reviews\", \"reviews\", \"reviews\", \"reviews bought\", \"reviews stated\", \"right\", \"right\", \"right\", \"right\", \"right\", \"right\", \"right\", \"roku\", \"roku\", \"roku\", \"roku\", \"roku\", \"roku\", \"roku fire\", \"room\", \"room\", \"room\", \"room\", \"room\", \"room\", \"room\", \"room\", \"room\", \"router\", \"router\", \"router\", \"router\", \"router\", \"rtn\", \"said\", \"said\", \"said\", \"said\", \"said\", \"said\", \"said\", \"sale pair\", \"samsung\", \"samsung\", \"samsung\", \"samsung\", \"samsung\", \"samsung\", \"samsung\", \"samsung\", \"samsung\", \"samsung customer\", \"samsung customer\", \"samsung customer\", \"samsung customer\", \"samsung directed\", \"samsung link\", \"samsung power\", \"samsung power\", \"samsung power\", \"samsung product\", \"samsung product\", \"samsung product\", \"samsung products\", \"samsung products\", \"samsung smart\", \"samsung smart\", \"samsung smart\", \"samsung smart\", \"samsung smart\", \"samsung software\", \"samsung televisions\", \"samsung went\", \"save\", \"save\", \"save\", \"save\", \"save\", \"save\", \"save\", \"scene\", \"scene\", \"scene\", \"scenes\", \"scenes\", \"scenes\", \"scenes\", \"scenes\", \"scratches\", \"scratches\", \"scratches\", \"scratches\", \"screen\", \"screen\", \"screen\", \"screen\", \"screen\", \"screen\", \"screen\", \"screen\", \"scroll comments\", \"second set\", \"second set\", \"second set\", \"sent\", \"sent\", \"sent\", \"separate remote\", \"service\", \"service\", \"service\", \"service\", \"service\", \"service\", \"service\", \"service center\", \"service doesn\", \"service gave\", \"service said\", \"service said\", \"servicing\", \"set\", \"set\", \"set\", \"set\", \"set\", \"set\", \"set\", \"set\", \"set hour\", \"set hour\", \"setting\", \"setting\", \"setting\", \"setting\", \"setting\", \"settings\", \"settings\", \"settings\", \"settings\", \"settings\", \"settings\", \"settled\", \"settled\", \"settled\", \"shaky\", \"sharpness\", \"sharpness\", \"shipping box\", \"shop\", \"shop\", \"shop\", \"slate\", \"slow\", \"slow\", \"slow\", \"slow\", \"slow\", \"slow\", \"slow\", \"small room\", \"smart\", \"smart\", \"smart\", \"smart\", \"smart\", \"smart\", \"smart\", \"smart\", \"smart\", \"smart called\", \"smart hub\", \"smart hub\", \"smart hub\", \"smart hub\", \"smart hub\", \"smart hub\", \"smart remote\", \"smart remote\", \"smart remote\", \"smart wifi\", \"smarthub\", \"smarthub\", \"smarthub\", \"smarthub\", \"smarthub\", \"soap\", \"soap opera\", \"software\", \"software\", \"software\", \"software\", \"software\", \"software\", \"solely\", \"solely\", \"sound\", \"sound\", \"sound\", \"sound\", \"sound\", \"sound\", \"sound\", \"sound\", \"spacing\", \"spacing small\", \"speakers\", \"speakers\", \"speakers\", \"speakers\", \"speakers\", \"speakers\", \"speakers work\", \"spend little\", \"spent series\", \"sports\", \"sports\", \"sports\", \"ssl\", \"ssl images\", \"stand\", \"stand\", \"stand\", \"stand\", \"stand\", \"stand\", \"stand\", \"stand\", \"standard\", \"standard\", \"standard\", \"standard\", \"standby mode\", \"star club\", \"started\", \"started\", \"started\", \"started\", \"started\", \"started\", \"stated new\", \"stops working\", \"stops working\", \"stream content\", \"streaming\", \"streaming\", \"streaming\", \"streaming\", \"streaming\", \"streaming device\", \"subsequently returned\", \"subtitles\", \"subtitles\", \"suhd\", \"suit\", \"suit\", \"suit\", \"suit\", \"superior picture\", \"supplier\", \"supplier\", \"supplier\", \"support\", \"support\", \"support\", \"support\", \"support\", \"support\", \"support\", \"support\", \"sure wrong\", \"tab\", \"tab\", \"tab\", \"tab\", \"tab\", \"tab\", \"takes forever\", \"tcl\", \"tech\", \"tech\", \"tech\", \"tech\", \"tech told\", \"television\", \"television\", \"television\", \"television\", \"television\", \"terrible quality\", \"theirs\", \"theirs\", \"theirs update\", \"thinking returning\", \"thoroughly addressing\", \"thought quality\", \"tighten\", \"time\", \"time\", \"time\", \"time\", \"time\", \"time\", \"time\", \"time\", \"time\", \"time load\", \"time waiting\", \"time waiting\", \"tipping\", \"tizen\", \"tizen\", \"tizen\", \"tizen os\", \"told\", \"told\", \"told\", \"told\", \"told\", \"told\", \"told customer\", \"tones\", \"took\", \"took\", \"took\", \"took\", \"took\", \"took\", \"trail\", \"transmit\", \"turn\", \"turn\", \"turn\", \"turn\", \"turn\", \"turn\", \"turn\", \"tvs\", \"tvs\", \"tvs\", \"tvs\", \"tvs\", \"tvs\", \"tvs\", \"tvs\", \"tvs size\", \"tweak\", \"type\", \"type\", \"type\", \"type\", \"type\", \"type\", \"type\", \"type hidden\", \"uhd\", \"uhd color\", \"uhdtv\", \"ultra hd\", \"uneven\", \"uninstall\", \"uninstalled\", \"universe\", \"update\", \"update\", \"update\", \"update\", \"update\", \"update\", \"update\", \"update\", \"update correct\", \"update enable\", \"updates\", \"updates\", \"updates\", \"updates\", \"updates\", \"updates\", \"updating smart\", \"url\", \"url\", \"url\", \"url input\", \"url nbsp\", \"usb\", \"usb\", \"usb\", \"usb\", \"usb\", \"usb\", \"use\", \"use\", \"use\", \"use\", \"use\", \"use\", \"use\", \"use\", \"use\", \"uverse\", \"uverse\", \"uverse\", \"value https\", \"video\", \"video\", \"video\", \"video\", \"video\", \"video\", \"video\", \"video block\", \"video pack\", \"video url\", \"videos youtube\", \"videos youtube\", \"viewing\", \"viewing\", \"viewing\", \"viewing\", \"viewing\", \"viewing\", \"virtual remote\", \"wand\", \"want\", \"want\", \"want\", \"want\", \"want\", \"want\", \"want\", \"want\", \"want good\", \"want quality\", \"warranty\", \"warranty\", \"warranty\", \"warranty\", \"warranty\", \"warranty\", \"warranty\", \"warranty expired\", \"washed\", \"washed\", \"washers\", \"washing\", \"waste time\", \"watch netflix\", \"watch netflix\", \"watch netflix\", \"watch youtube\", \"watch youtube\", \"watching\", \"watching\", \"watching\", \"watching\", \"watching\", \"way\", \"way\", \"way\", \"way\", \"way\", \"way\", \"way\", \"web browser\", \"web browser\", \"web browser\", \"web browser\", \"weeks\", \"weeks\", \"weeks\", \"weeks\", \"weeks\", \"weigh\", \"weigh\", \"weigh\", \"weigh\", \"weigh research\", \"went\", \"went\", \"went\", \"went\", \"went\", \"went\", \"went years\", \"wi\", \"wi\", \"wi\", \"wi\", \"wi\", \"wi fi\", \"wi fi\", \"wi fi\", \"wi fi\", \"wi fi\", \"wifi\", \"wifi\", \"wifi\", \"wifi\", \"wifi\", \"wifi password\", \"wifi password\", \"wireless\", \"wireless\", \"wireless\", \"wireless\", \"wireless\", \"wireless\", \"wireless\", \"wireless lan\", \"won connect\", \"won turn\", \"work\", \"work\", \"work\", \"work\", \"work\", \"work\", \"work\", \"work\", \"work\", \"work\", \"work device\", \"work free\", \"work galaxy\", \"work note\", \"work note\", \"work pro\", \"worked years\", \"working\", \"working\", \"working\", \"working\", \"working\", \"working\", \"working\", \"works\", \"works\", \"works\", \"works\", \"works\", \"works\", \"works\", \"works\", \"works\", \"wouldn work\", \"wouldn work\", \"www amazon\", \"www amazon\", \"xaa\", \"xaa xaa\", \"xfinity\", \"year\", \"year\", \"year\", \"year\", \"year\", \"year\", \"year\", \"years\", \"years\", \"years\", \"years\", \"years\", \"years\", \"years great\", \"years great\", \"youtube\", \"youtube\", \"youtube\", \"youtube\", \"youtube\", \"youtube\", \"youtube app\", \"youtube app\", \"youtube app\", \"zero stars\"]}, \"R\": 30, \"lambda.step\": 0.01, \"plot.opts\": {\"xlab\": \"PC1\", \"ylab\": \"PC2\"}, \"topic.order\": [8, 1, 9, 3, 6, 10, 4, 5, 2, 7]};\n",
       "\n",
       "function LDAvis_load_lib(url, callback){\n",
       "  var s = document.createElement('script');\n",
       "  s.src = url;\n",
       "  s.async = true;\n",
       "  s.onreadystatechange = s.onload = callback;\n",
       "  s.onerror = function(){console.warn(\"failed to load library \" + url);};\n",
       "  document.getElementsByTagName(\"head\")[0].appendChild(s);\n",
       "}\n",
       "\n",
       "if(typeof(LDAvis) !== \"undefined\"){\n",
       "   // already loaded: just create the visualization\n",
       "   !function(LDAvis){\n",
       "       new LDAvis(\"#\" + \"ldavis_el1611223845299711202322217915\", ldavis_el1611223845299711202322217915_data);\n",
       "   }(LDAvis);\n",
       "}else if(typeof define === \"function\" && define.amd){\n",
       "   // require.js is available: use it to load d3/LDAvis\n",
       "   require.config({paths: {d3: \"https://d3js.org/d3.v5\"}});\n",
       "   require([\"d3\"], function(d3){\n",
       "      window.d3 = d3;\n",
       "      LDAvis_load_lib(\"https://cdn.jsdelivr.net/gh/bmabey/pyLDAvis@3.3.1/pyLDAvis/js/ldavis.v3.0.0.js\", function(){\n",
       "        new LDAvis(\"#\" + \"ldavis_el1611223845299711202322217915\", ldavis_el1611223845299711202322217915_data);\n",
       "      });\n",
       "    });\n",
       "}else{\n",
       "    // require.js not available: dynamically load d3 & LDAvis\n",
       "    LDAvis_load_lib(\"https://d3js.org/d3.v5.js\", function(){\n",
       "         LDAvis_load_lib(\"https://cdn.jsdelivr.net/gh/bmabey/pyLDAvis@3.3.1/pyLDAvis/js/ldavis.v3.0.0.js\", function(){\n",
       "                 new LDAvis(\"#\" + \"ldavis_el1611223845299711202322217915\", ldavis_el1611223845299711202322217915_data);\n",
       "            })\n",
       "         });\n",
       "}\n",
       "</script>"
      ],
      "text/plain": [
       "<IPython.core.display.HTML object>"
      ]
     },
     "execution_count": 453,
     "metadata": {},
     "output_type": "execute_result"
    }
   ],
   "source": [
    "pyLDAvis.display(vis)"
   ]
  },
  {
   "cell_type": "markdown",
   "metadata": {},
   "source": [
    "**Samsung cons**  \n",
    "topic1 - dark scenes blur  \n",
    "topic2 - customer support/warranty  \n",
    "topic3 - roku app(other various apps)  "
   ]
  },
  {
   "cell_type": "markdown",
   "metadata": {},
   "source": [
    "**Samsung All**"
   ]
  },
  {
   "cell_type": "code",
   "execution_count": 508,
   "metadata": {},
   "outputs": [],
   "source": [
    "samsung = company('Samsung')\n",
    "all_samsung_df = samsung.dataframe()"
   ]
  },
  {
   "cell_type": "code",
   "execution_count": 514,
   "metadata": {},
   "outputs": [],
   "source": [
    "corpus = all_samsung_df['reviewText']\n",
    "count_vectorizer.fit(corpus)\n",
    "review_word =  count_vectorizer.transform(corpus).transpose()\n",
    "corpus = matutils.Sparse2Corpus(review_word)\n",
    "id2word = dict((v, k) for k, v in count_vectorizer.vocabulary_.items())\n",
    "lda = models.LdaModel(corpus=corpus, num_topics=10, id2word=id2word, passes=10)"
   ]
  },
  {
   "cell_type": "code",
   "execution_count": 515,
   "metadata": {},
   "outputs": [
    {
     "ename": "MemoryError",
     "evalue": "Unable to allocate 47.8 MiB for an array with shape (626416, 10) and data type float64",
     "output_type": "error",
     "traceback": [
      "\u001b[1;31m---------------------------------------------------------------------------\u001b[0m",
      "\u001b[1;31m_RemoteTraceback\u001b[0m                          Traceback (most recent call last)",
      "\u001b[1;31m_RemoteTraceback\u001b[0m: \n\"\"\"\nTraceback (most recent call last):\n  File \"C:\\Users\\brian\\.conda\\envs\\metis\\lib\\site-packages\\joblib\\externals\\loky\\process_executor.py\", line 431, in _process_worker\n    r = call_item()\n  File \"C:\\Users\\brian\\.conda\\envs\\metis\\lib\\site-packages\\joblib\\externals\\loky\\process_executor.py\", line 285, in __call__\n    return self.fn(*self.args, **self.kwargs)\n  File \"C:\\Users\\brian\\.conda\\envs\\metis\\lib\\site-packages\\joblib\\_parallel_backends.py\", line 595, in __call__\n    return self.func(*args, **kwargs)\n  File \"C:\\Users\\brian\\.conda\\envs\\metis\\lib\\site-packages\\joblib\\parallel.py\", line 262, in __call__\n    return [func(*args, **kwargs)\n  File \"C:\\Users\\brian\\.conda\\envs\\metis\\lib\\site-packages\\joblib\\parallel.py\", line 262, in <listcomp>\n    return [func(*args, **kwargs)\n  File \"C:\\Users\\brian\\.conda\\envs\\metis\\lib\\site-packages\\pyLDAvis\\_prepare.py\", line 223, in _find_relevance_chunks\n    return pd.concat([_find_relevance(log_ttd, log_lift, R, seq) for seq in lambda_seq])\n  File \"C:\\Users\\brian\\.conda\\envs\\metis\\lib\\site-packages\\pyLDAvis\\_prepare.py\", line 223, in <listcomp>\n    return pd.concat([_find_relevance(log_ttd, log_lift, R, seq) for seq in lambda_seq])\n  File \"C:\\Users\\brian\\.conda\\envs\\metis\\lib\\site-packages\\pyLDAvis\\_prepare.py\", line 218, in _find_relevance\n    relevance = lambda_ * log_ttd + (1 - lambda_) * log_lift\n  File \"C:\\Users\\brian\\.conda\\envs\\metis\\lib\\site-packages\\pandas\\core\\generic.py\", line 1936, in __array_ufunc__\n    return arraylike.array_ufunc(self, ufunc, method, *inputs, **kwargs)\n  File \"C:\\Users\\brian\\.conda\\envs\\metis\\lib\\site-packages\\pandas\\core\\arraylike.py\", line 250, in array_ufunc\n    result = maybe_dispatch_ufunc_to_dunder_op(self, ufunc, method, *inputs, **kwargs)\n  File \"pandas\\_libs\\ops_dispatch.pyx\", line 91, in pandas._libs.ops_dispatch.maybe_dispatch_ufunc_to_dunder_op\n  File \"C:\\Users\\brian\\.conda\\envs\\metis\\lib\\site-packages\\pandas\\core\\ops\\common.py\", line 65, in new_method\n    return method(self, other)\n  File \"C:\\Users\\brian\\.conda\\envs\\metis\\lib\\site-packages\\pandas\\core\\arraylike.py\", line 109, in __rmul__\n    return self._arith_method(other, roperator.rmul)\n  File \"C:\\Users\\brian\\.conda\\envs\\metis\\lib\\site-packages\\pandas\\core\\frame.py\", line 5982, in _arith_method\n    new_data = self._dispatch_frame_op(other, op, axis=axis)\n  File \"C:\\Users\\brian\\.conda\\envs\\metis\\lib\\site-packages\\pandas\\core\\frame.py\", line 6008, in _dispatch_frame_op\n    bm = self._mgr.apply(array_op, right=right)\n  File \"C:\\Users\\brian\\.conda\\envs\\metis\\lib\\site-packages\\pandas\\core\\internals\\managers.py\", line 425, in apply\n    applied = b.apply(f, **kwargs)\n  File \"C:\\Users\\brian\\.conda\\envs\\metis\\lib\\site-packages\\pandas\\core\\internals\\blocks.py\", line 378, in apply\n    result = func(self.values, **kwargs)\n  File \"C:\\Users\\brian\\.conda\\envs\\metis\\lib\\site-packages\\pandas\\core\\ops\\array_ops.py\", line 189, in arithmetic_op\n    res_values = _na_arithmetic_op(lvalues, rvalues, op)\n  File \"C:\\Users\\brian\\.conda\\envs\\metis\\lib\\site-packages\\pandas\\core\\ops\\array_ops.py\", line 142, in _na_arithmetic_op\n    result = expressions.evaluate(op, left, right)\n  File \"C:\\Users\\brian\\.conda\\envs\\metis\\lib\\site-packages\\pandas\\core\\computation\\expressions.py\", line 235, in evaluate\n    return _evaluate(op, op_str, a, b)  # type: ignore[misc]\n  File \"C:\\Users\\brian\\.conda\\envs\\metis\\lib\\site-packages\\pandas\\core\\computation\\expressions.py\", line 110, in _evaluate_numexpr\n    result = ne.evaluate(\n  File \"C:\\Users\\brian\\.conda\\envs\\metis\\lib\\site-packages\\numexpr\\necompiler.py\", line 836, in evaluate\n    return compiled_ex(*arguments, **kwargs)\nnumpy.core._exceptions._ArrayMemoryError: Unable to allocate 47.8 MiB for an array with shape (626416, 10) and data type float64\n\"\"\"",
      "\nThe above exception was the direct cause of the following exception:\n",
      "\u001b[1;31mMemoryError\u001b[0m                               Traceback (most recent call last)",
      "\u001b[1;32m<ipython-input-515-ab8debe41df1>\u001b[0m in \u001b[0;36m<module>\u001b[1;34m\u001b[0m\n\u001b[0;32m      1\u001b[0m \u001b[0mdictionary\u001b[0m \u001b[1;33m=\u001b[0m \u001b[0mDictionary\u001b[0m\u001b[1;33m(\u001b[0m\u001b[1;33m[\u001b[0m\u001b[0mlist\u001b[0m\u001b[1;33m(\u001b[0m\u001b[0mcount_vectorizer\u001b[0m\u001b[1;33m.\u001b[0m\u001b[0mvocabulary_\u001b[0m\u001b[1;33m.\u001b[0m\u001b[0mkeys\u001b[0m\u001b[1;33m(\u001b[0m\u001b[1;33m)\u001b[0m\u001b[1;33m)\u001b[0m\u001b[1;33m]\u001b[0m\u001b[1;33m)\u001b[0m\u001b[1;33m\u001b[0m\u001b[1;33m\u001b[0m\u001b[0m\n\u001b[1;32m----> 2\u001b[1;33m \u001b[0mvis\u001b[0m \u001b[1;33m=\u001b[0m \u001b[0mgensimvis\u001b[0m\u001b[1;33m.\u001b[0m\u001b[0mprepare\u001b[0m\u001b[1;33m(\u001b[0m\u001b[0mlda\u001b[0m\u001b[1;33m,\u001b[0m \u001b[0mcorpus\u001b[0m\u001b[1;33m,\u001b[0m \u001b[0mdictionary\u001b[0m\u001b[1;33m)\u001b[0m\u001b[1;33m\u001b[0m\u001b[1;33m\u001b[0m\u001b[0m\n\u001b[0m\u001b[0;32m      3\u001b[0m \u001b[0mpyLDAvis\u001b[0m\u001b[1;33m.\u001b[0m\u001b[0mdisplay\u001b[0m\u001b[1;33m(\u001b[0m\u001b[0mvis\u001b[0m\u001b[1;33m)\u001b[0m\u001b[1;33m\u001b[0m\u001b[1;33m\u001b[0m\u001b[0m\n",
      "\u001b[1;32m~\\.conda\\envs\\metis\\lib\\site-packages\\pyLDAvis\\gensim_models.py\u001b[0m in \u001b[0;36mprepare\u001b[1;34m(topic_model, corpus, dictionary, doc_topic_dist, **kwargs)\u001b[0m\n\u001b[0;32m    121\u001b[0m     \"\"\"\n\u001b[0;32m    122\u001b[0m     \u001b[0mopts\u001b[0m \u001b[1;33m=\u001b[0m \u001b[0mfp\u001b[0m\u001b[1;33m.\u001b[0m\u001b[0mmerge\u001b[0m\u001b[1;33m(\u001b[0m\u001b[0m_extract_data\u001b[0m\u001b[1;33m(\u001b[0m\u001b[0mtopic_model\u001b[0m\u001b[1;33m,\u001b[0m \u001b[0mcorpus\u001b[0m\u001b[1;33m,\u001b[0m \u001b[0mdictionary\u001b[0m\u001b[1;33m,\u001b[0m \u001b[0mdoc_topic_dist\u001b[0m\u001b[1;33m)\u001b[0m\u001b[1;33m,\u001b[0m \u001b[0mkwargs\u001b[0m\u001b[1;33m)\u001b[0m\u001b[1;33m\u001b[0m\u001b[1;33m\u001b[0m\u001b[0m\n\u001b[1;32m--> 123\u001b[1;33m     \u001b[1;32mreturn\u001b[0m \u001b[0mpyLDAvis\u001b[0m\u001b[1;33m.\u001b[0m\u001b[0mprepare\u001b[0m\u001b[1;33m(\u001b[0m\u001b[1;33m**\u001b[0m\u001b[0mopts\u001b[0m\u001b[1;33m)\u001b[0m\u001b[1;33m\u001b[0m\u001b[1;33m\u001b[0m\u001b[0m\n\u001b[0m",
      "\u001b[1;32m~\\.conda\\envs\\metis\\lib\\site-packages\\pyLDAvis\\_prepare.py\u001b[0m in \u001b[0;36mprepare\u001b[1;34m(topic_term_dists, doc_topic_dists, doc_lengths, vocab, term_frequency, R, lambda_step, mds, n_jobs, plot_opts, sort_topics, start_index)\u001b[0m\n\u001b[0;32m    437\u001b[0m     \u001b[0mterm_frequency\u001b[0m \u001b[1;33m=\u001b[0m \u001b[0mnp\u001b[0m\u001b[1;33m.\u001b[0m\u001b[0msum\u001b[0m\u001b[1;33m(\u001b[0m\u001b[0mterm_topic_freq\u001b[0m\u001b[1;33m,\u001b[0m \u001b[0maxis\u001b[0m\u001b[1;33m=\u001b[0m\u001b[1;36m0\u001b[0m\u001b[1;33m)\u001b[0m\u001b[1;33m\u001b[0m\u001b[1;33m\u001b[0m\u001b[0m\n\u001b[0;32m    438\u001b[0m \u001b[1;33m\u001b[0m\u001b[0m\n\u001b[1;32m--> 439\u001b[1;33m     topic_info = _topic_info(topic_term_dists, topic_proportion,\n\u001b[0m\u001b[0;32m    440\u001b[0m                              \u001b[0mterm_frequency\u001b[0m\u001b[1;33m,\u001b[0m \u001b[0mterm_topic_freq\u001b[0m\u001b[1;33m,\u001b[0m \u001b[0mvocab\u001b[0m\u001b[1;33m,\u001b[0m \u001b[0mlambda_step\u001b[0m\u001b[1;33m,\u001b[0m \u001b[0mR\u001b[0m\u001b[1;33m,\u001b[0m\u001b[1;33m\u001b[0m\u001b[1;33m\u001b[0m\u001b[0m\n\u001b[0;32m    441\u001b[0m                              n_jobs, start_index)\n",
      "\u001b[1;32m~\\.conda\\envs\\metis\\lib\\site-packages\\pyLDAvis\\_prepare.py\u001b[0m in \u001b[0;36m_topic_info\u001b[1;34m(topic_term_dists, topic_proportion, term_frequency, term_topic_freq, vocab, lambda_step, R, n_jobs, start_index)\u001b[0m\n\u001b[0;32m    274\u001b[0m         ])\n\u001b[0;32m    275\u001b[0m \u001b[1;33m\u001b[0m\u001b[0m\n\u001b[1;32m--> 276\u001b[1;33m     top_terms = pd.concat(Parallel(n_jobs=n_jobs)\n\u001b[0m\u001b[0;32m    277\u001b[0m                           (delayed(_find_relevance_chunks)(log_ttd, log_lift, R, ls)\n\u001b[0;32m    278\u001b[0m                           for ls in _job_chunks(lambda_seq, n_jobs)))\n",
      "\u001b[1;32m~\\.conda\\envs\\metis\\lib\\site-packages\\joblib\\parallel.py\u001b[0m in \u001b[0;36m__call__\u001b[1;34m(self, iterable)\u001b[0m\n\u001b[0;32m   1052\u001b[0m \u001b[1;33m\u001b[0m\u001b[0m\n\u001b[0;32m   1053\u001b[0m             \u001b[1;32mwith\u001b[0m \u001b[0mself\u001b[0m\u001b[1;33m.\u001b[0m\u001b[0m_backend\u001b[0m\u001b[1;33m.\u001b[0m\u001b[0mretrieval_context\u001b[0m\u001b[1;33m(\u001b[0m\u001b[1;33m)\u001b[0m\u001b[1;33m:\u001b[0m\u001b[1;33m\u001b[0m\u001b[1;33m\u001b[0m\u001b[0m\n\u001b[1;32m-> 1054\u001b[1;33m                 \u001b[0mself\u001b[0m\u001b[1;33m.\u001b[0m\u001b[0mretrieve\u001b[0m\u001b[1;33m(\u001b[0m\u001b[1;33m)\u001b[0m\u001b[1;33m\u001b[0m\u001b[1;33m\u001b[0m\u001b[0m\n\u001b[0m\u001b[0;32m   1055\u001b[0m             \u001b[1;31m# Make sure that we get a last message telling us we are done\u001b[0m\u001b[1;33m\u001b[0m\u001b[1;33m\u001b[0m\u001b[1;33m\u001b[0m\u001b[0m\n\u001b[0;32m   1056\u001b[0m             \u001b[0melapsed_time\u001b[0m \u001b[1;33m=\u001b[0m \u001b[0mtime\u001b[0m\u001b[1;33m.\u001b[0m\u001b[0mtime\u001b[0m\u001b[1;33m(\u001b[0m\u001b[1;33m)\u001b[0m \u001b[1;33m-\u001b[0m \u001b[0mself\u001b[0m\u001b[1;33m.\u001b[0m\u001b[0m_start_time\u001b[0m\u001b[1;33m\u001b[0m\u001b[1;33m\u001b[0m\u001b[0m\n",
      "\u001b[1;32m~\\.conda\\envs\\metis\\lib\\site-packages\\joblib\\parallel.py\u001b[0m in \u001b[0;36mretrieve\u001b[1;34m(self)\u001b[0m\n\u001b[0;32m    931\u001b[0m             \u001b[1;32mtry\u001b[0m\u001b[1;33m:\u001b[0m\u001b[1;33m\u001b[0m\u001b[1;33m\u001b[0m\u001b[0m\n\u001b[0;32m    932\u001b[0m                 \u001b[1;32mif\u001b[0m \u001b[0mgetattr\u001b[0m\u001b[1;33m(\u001b[0m\u001b[0mself\u001b[0m\u001b[1;33m.\u001b[0m\u001b[0m_backend\u001b[0m\u001b[1;33m,\u001b[0m \u001b[1;34m'supports_timeout'\u001b[0m\u001b[1;33m,\u001b[0m \u001b[1;32mFalse\u001b[0m\u001b[1;33m)\u001b[0m\u001b[1;33m:\u001b[0m\u001b[1;33m\u001b[0m\u001b[1;33m\u001b[0m\u001b[0m\n\u001b[1;32m--> 933\u001b[1;33m                     \u001b[0mself\u001b[0m\u001b[1;33m.\u001b[0m\u001b[0m_output\u001b[0m\u001b[1;33m.\u001b[0m\u001b[0mextend\u001b[0m\u001b[1;33m(\u001b[0m\u001b[0mjob\u001b[0m\u001b[1;33m.\u001b[0m\u001b[0mget\u001b[0m\u001b[1;33m(\u001b[0m\u001b[0mtimeout\u001b[0m\u001b[1;33m=\u001b[0m\u001b[0mself\u001b[0m\u001b[1;33m.\u001b[0m\u001b[0mtimeout\u001b[0m\u001b[1;33m)\u001b[0m\u001b[1;33m)\u001b[0m\u001b[1;33m\u001b[0m\u001b[1;33m\u001b[0m\u001b[0m\n\u001b[0m\u001b[0;32m    934\u001b[0m                 \u001b[1;32melse\u001b[0m\u001b[1;33m:\u001b[0m\u001b[1;33m\u001b[0m\u001b[1;33m\u001b[0m\u001b[0m\n\u001b[0;32m    935\u001b[0m                     \u001b[0mself\u001b[0m\u001b[1;33m.\u001b[0m\u001b[0m_output\u001b[0m\u001b[1;33m.\u001b[0m\u001b[0mextend\u001b[0m\u001b[1;33m(\u001b[0m\u001b[0mjob\u001b[0m\u001b[1;33m.\u001b[0m\u001b[0mget\u001b[0m\u001b[1;33m(\u001b[0m\u001b[1;33m)\u001b[0m\u001b[1;33m)\u001b[0m\u001b[1;33m\u001b[0m\u001b[1;33m\u001b[0m\u001b[0m\n",
      "\u001b[1;32m~\\.conda\\envs\\metis\\lib\\site-packages\\joblib\\_parallel_backends.py\u001b[0m in \u001b[0;36mwrap_future_result\u001b[1;34m(future, timeout)\u001b[0m\n\u001b[0;32m    540\u001b[0m         AsyncResults.get from multiprocessing.\"\"\"\n\u001b[0;32m    541\u001b[0m         \u001b[1;32mtry\u001b[0m\u001b[1;33m:\u001b[0m\u001b[1;33m\u001b[0m\u001b[1;33m\u001b[0m\u001b[0m\n\u001b[1;32m--> 542\u001b[1;33m             \u001b[1;32mreturn\u001b[0m \u001b[0mfuture\u001b[0m\u001b[1;33m.\u001b[0m\u001b[0mresult\u001b[0m\u001b[1;33m(\u001b[0m\u001b[0mtimeout\u001b[0m\u001b[1;33m=\u001b[0m\u001b[0mtimeout\u001b[0m\u001b[1;33m)\u001b[0m\u001b[1;33m\u001b[0m\u001b[1;33m\u001b[0m\u001b[0m\n\u001b[0m\u001b[0;32m    543\u001b[0m         \u001b[1;32mexcept\u001b[0m \u001b[0mCfTimeoutError\u001b[0m \u001b[1;32mas\u001b[0m \u001b[0me\u001b[0m\u001b[1;33m:\u001b[0m\u001b[1;33m\u001b[0m\u001b[1;33m\u001b[0m\u001b[0m\n\u001b[0;32m    544\u001b[0m             \u001b[1;32mraise\u001b[0m \u001b[0mTimeoutError\u001b[0m \u001b[1;32mfrom\u001b[0m \u001b[0me\u001b[0m\u001b[1;33m\u001b[0m\u001b[1;33m\u001b[0m\u001b[0m\n",
      "\u001b[1;32m~\\.conda\\envs\\metis\\lib\\concurrent\\futures\\_base.py\u001b[0m in \u001b[0;36mresult\u001b[1;34m(self, timeout)\u001b[0m\n\u001b[0;32m    437\u001b[0m                 \u001b[1;32mraise\u001b[0m \u001b[0mCancelledError\u001b[0m\u001b[1;33m(\u001b[0m\u001b[1;33m)\u001b[0m\u001b[1;33m\u001b[0m\u001b[1;33m\u001b[0m\u001b[0m\n\u001b[0;32m    438\u001b[0m             \u001b[1;32melif\u001b[0m \u001b[0mself\u001b[0m\u001b[1;33m.\u001b[0m\u001b[0m_state\u001b[0m \u001b[1;33m==\u001b[0m \u001b[0mFINISHED\u001b[0m\u001b[1;33m:\u001b[0m\u001b[1;33m\u001b[0m\u001b[1;33m\u001b[0m\u001b[0m\n\u001b[1;32m--> 439\u001b[1;33m                 \u001b[1;32mreturn\u001b[0m \u001b[0mself\u001b[0m\u001b[1;33m.\u001b[0m\u001b[0m__get_result\u001b[0m\u001b[1;33m(\u001b[0m\u001b[1;33m)\u001b[0m\u001b[1;33m\u001b[0m\u001b[1;33m\u001b[0m\u001b[0m\n\u001b[0m\u001b[0;32m    440\u001b[0m             \u001b[1;32melse\u001b[0m\u001b[1;33m:\u001b[0m\u001b[1;33m\u001b[0m\u001b[1;33m\u001b[0m\u001b[0m\n\u001b[0;32m    441\u001b[0m                 \u001b[1;32mraise\u001b[0m \u001b[0mTimeoutError\u001b[0m\u001b[1;33m(\u001b[0m\u001b[1;33m)\u001b[0m\u001b[1;33m\u001b[0m\u001b[1;33m\u001b[0m\u001b[0m\n",
      "\u001b[1;32m~\\.conda\\envs\\metis\\lib\\concurrent\\futures\\_base.py\u001b[0m in \u001b[0;36m__get_result\u001b[1;34m(self)\u001b[0m\n\u001b[0;32m    386\u001b[0m     \u001b[1;32mdef\u001b[0m \u001b[0m__get_result\u001b[0m\u001b[1;33m(\u001b[0m\u001b[0mself\u001b[0m\u001b[1;33m)\u001b[0m\u001b[1;33m:\u001b[0m\u001b[1;33m\u001b[0m\u001b[1;33m\u001b[0m\u001b[0m\n\u001b[0;32m    387\u001b[0m         \u001b[1;32mif\u001b[0m \u001b[0mself\u001b[0m\u001b[1;33m.\u001b[0m\u001b[0m_exception\u001b[0m\u001b[1;33m:\u001b[0m\u001b[1;33m\u001b[0m\u001b[1;33m\u001b[0m\u001b[0m\n\u001b[1;32m--> 388\u001b[1;33m             \u001b[1;32mraise\u001b[0m \u001b[0mself\u001b[0m\u001b[1;33m.\u001b[0m\u001b[0m_exception\u001b[0m\u001b[1;33m\u001b[0m\u001b[1;33m\u001b[0m\u001b[0m\n\u001b[0m\u001b[0;32m    389\u001b[0m         \u001b[1;32melse\u001b[0m\u001b[1;33m:\u001b[0m\u001b[1;33m\u001b[0m\u001b[1;33m\u001b[0m\u001b[0m\n\u001b[0;32m    390\u001b[0m             \u001b[1;32mreturn\u001b[0m \u001b[0mself\u001b[0m\u001b[1;33m.\u001b[0m\u001b[0m_result\u001b[0m\u001b[1;33m\u001b[0m\u001b[1;33m\u001b[0m\u001b[0m\n",
      "\u001b[1;31mMemoryError\u001b[0m: Unable to allocate 47.8 MiB for an array with shape (626416, 10) and data type float64"
     ]
    }
   ],
   "source": [
    "dictionary = Dictionary([list(count_vectorizer.vocabulary_.keys())])\n",
    "vis = gensimvis.prepare(lda, corpus, dictionary)\n",
    "pyLDAvis.display(vis)"
   ]
  },
  {
   "cell_type": "markdown",
   "metadata": {},
   "source": [
    "**LG Negative**"
   ]
  },
  {
   "cell_type": "code",
   "execution_count": 518,
   "metadata": {},
   "outputs": [],
   "source": [
    "lg = company('LG')\n",
    "df1 = lg.dataframe('neg')"
   ]
  },
  {
   "cell_type": "code",
   "execution_count": 519,
   "metadata": {},
   "outputs": [],
   "source": [
    "corpus = df1['reviewText']\n",
    "count_vectorizer.fit(corpus)\n",
    "review_word =  count_vectorizer.transform(corpus).transpose()\n",
    "corpus = matutils.Sparse2Corpus(review_word)\n",
    "id2word = dict((v, k) for k, v in count_vectorizer.vocabulary_.items())\n",
    "lda = models.LdaModel(corpus=corpus, num_topics=3, id2word=id2word, passes=10)"
   ]
  },
  {
   "cell_type": "code",
   "execution_count": 477,
   "metadata": {},
   "outputs": [
    {
     "data": {
      "text/html": [
       "\n",
       "<link rel=\"stylesheet\" type=\"text/css\" href=\"https://cdn.jsdelivr.net/gh/bmabey/pyLDAvis@3.3.1/pyLDAvis/js/ldavis.v1.0.0.css\">\n",
       "\n",
       "\n",
       "<div id=\"ldavis_el1611223850696696164698975435\"></div>\n",
       "<script type=\"text/javascript\">\n",
       "\n",
       "var ldavis_el1611223850696696164698975435_data = {\"mdsDat\": {\"x\": [0.05507157096684947, -0.06008308851324939, 0.005011517546399939], \"y\": [-0.03404634316630727, -0.026182841572380273, 0.06022918473868758], \"topics\": [1, 2, 3], \"cluster\": [1, 1, 1], \"Freq\": [55.118517523063204, 26.825286110264635, 18.056196366672157]}, \"tinfo\": {\"Term\": [\"picture\", \"great\", \"good\", \"hdr\", \"remote\", \"vision\", \"quality\", \"blu\", \"use\", \"unit\", \"sound\", \"blu ray\", \"lg\", \"dolby vision\", \"like\", \"bad\", \"picture quality\", \"got\", \"turn\", \"better\", \"ray\", \"dolby\", \"issue\", \"price\", \"new\", \"work\", \"player\", \"content\", \"play\", \"amazon\", \"flat screen\", \"fake\", \"plasma hdtv\", \"lg electronics\", \"commercials\", \"contractor\", \"secondly\", \"electronics inch\", \"service contractor\", \"active plasma\", \"inch active\", \"pq\", \"blah\", \"sky\", \"engine\", \"years lg\", \"staying\", \"warranties\", \"apps like\", \"hz led\", \"digital optical\", \"player worked\", \"data collection\", \"scroll wheel\", \"thanks amazon\", \"isf\", \"interpolation\", \"panasonic viera\", \"external sound\", \"thrilled\", \"fast forward\", \"smart tvs\", \"toshiba\", \"buying lg\", \"lg product\", \"streaming video\", \"buttons remote\", \"jump\", \"hz\", \"lg smart\", \"lg\", \"screen went\", \"data\", \"customer\", \"television\", \"hd\", \"product\", \"problem\", \"player\", \"repair\", \"fast\", \"warranty\", \"digital\", \"link\", \"motion\", \"bought\", \"amazon\", \"smart\", \"service\", \"screen\", \"tvs\", \"audio\", \"sound\", \"purchase\", \"buy\", \"like\", \"set\", \"don\", \"plasma\", \"going\", \"update\", \"picture\", \"time\", \"box\", \"want\", \"use\", \"remote\", \"good\", \"video\", \"quality\", \"great\", \"work\", \"issue\", \"hdmi\", \"new\", \"better\", \"signature\", \"tel\", \"tel lie\", \"intel\", \"lie vision\", \"uhd hdr\", \"hdr capable\", \"hdr content\", \"dolby vision\", \"adorama\", \"vision capable\", \"blasters\", \"ir blasters\", \"capable dolby\", \"vision\", \"post processing\", \"dci\", \"ef eg\", \"lineup\", \"oled lineup\", \"brightness levels\", \"ef\", \"uhd players\", \"signature line\", \"signature lineup\", \"cnet article\", \"google features\", \"black uniformity\", \"micro flies\", \"flies\", \"hdr\", \"dolby\", \"aspect ratio\", \"visuals\", \"light bleed\", \"uhd\", \"screen burn\", \"capable\", \"aspect\", \"picture\", \"music\", \"content\", \"bleed\", \"youtube\", \"good\", \"remote\", \"files\", \"picture quality\", \"like\", \"google\", \"play\", \"hdmi\", \"quality\", \"screen\", \"netflix\", \"use\", \"great\", \"better\", \"don\", \"internet\", \"lg\", \"unit\", \"price\", \"time\", \"ve\", \"years\", \"right\", \"set\", \"sound\", \"way\", \"work\", \"got\", \"smart\", \"amazon\", \"update\", \"issues\", \"problem\", \"issue\", \"video\", \"george\", \"dashboard\", \"reference number\", \"receipt number\", \"caption\", \"trying play\", \"learned lesson\", \"led display\", \"originally bought\", \"junk email\", \"imax\", \"email sent\", \"faults\", \"glue\", \"bravia\", \"passphrase\", \"longer use\", \"lost money\", \"bluetooth compatible\", \"modern day\", \"great kids\", \"connect wi\", \"honor warranty\", \"service visit\", \"lg wifi\", \"white balance\", \"day use\", \"set poor\", \"visit new\", \"ips display\", \"walking\", \"sony bravia\", \"thursday\", \"video block\", \"na\", \"value https\", \"images amazon\", \"class video\", \"ssl images\", \"na ssl\", \"hidden value\", \"com images\", \"images na\", \"input type\", \"div\", \"https images\", \"type hidden\", \"https\", \"spacing\", \"great\", \"images\", \"good\", \"terms service\", \"stands\", \"notification\", \"picture\", \"blu\", \"blu ray\", \"lg\", \"remote\", \"sound\", \"bad\", \"ray\", \"turn\", \"issue\", \"probably\", \"returned\", \"use\", \"new\", \"amazon\", \"quality\", \"stand\", \"unit\", \"got\", \"like\", \"poor\", \"set\", \"player\", \"inputs\", \"work\", \"screen\", \"looks\", \"time\", \"buy\", \"service\", \"better\", \"video\", \"price\", \"samsung\", \"bought\", \"smart\"], \"Freq\": [896.0, 530.0, 695.0, 103.0, 626.0, 48.0, 460.0, 230.0, 548.0, 321.0, 588.0, 205.0, 2097.0, 35.0, 706.0, 248.0, 187.0, 243.0, 236.0, 327.0, 245.0, 49.0, 332.0, 289.0, 295.0, 352.0, 394.0, 151.0, 207.0, 508.0, 20.477774139048556, 13.183988127436276, 13.142581460550408, 11.51026296195452, 9.956930024035671, 9.955044973002032, 9.134564354462908, 9.899469326241244, 8.344688958614501, 9.090946399456895, 9.089713257194036, 8.317276562314591, 7.526214387186158, 7.512605720920818, 7.489271005501112, 6.72000339011883, 6.713761349503542, 6.7122652952039, 6.7100229099611255, 6.706926767351586, 6.706443913847468, 5.910100316491916, 5.9101517680948135, 5.905962137573139, 5.905746153921415, 5.905579360263669, 5.904928582297347, 5.904536193149973, 5.901515249036977, 5.901623240862839, 20.488084814108376, 20.377195867221353, 22.034986867067236, 16.251006868126765, 45.03394382671976, 16.427459857563495, 10.76800517648464, 11.548594971515577, 40.792047522937104, 41.9095265824801, 1489.7181037245823, 15.633903127797867, 55.3627434204112, 153.98079285674072, 126.99001926108676, 116.83587467774176, 220.26831505306825, 294.72865863065596, 280.03040799017384, 105.16916604964875, 72.39068193114309, 153.43847713093598, 57.673691599161565, 76.35588847660851, 107.87879969500253, 232.33360059053658, 335.83470341263126, 271.3404923457689, 200.97087460862795, 459.20887138112386, 165.85344359295988, 207.18968397710415, 366.43206475074885, 115.3441536207874, 236.93119822181606, 428.6853289581088, 327.6011442622536, 275.1452603545501, 119.40166094943801, 141.49048767842103, 213.86237111623285, 486.4044834197517, 286.54224950301295, 174.75685511927898, 185.94119875078104, 319.5802849074508, 347.2044808825857, 375.91037726417164, 198.36086935935558, 257.0973136054483, 273.30593905324525, 205.61600221294034, 196.52637885470082, 191.6130063397732, 177.26586596068313, 177.06832799129845, 11.508615053854788, 8.227430817523093, 8.22596745245334, 8.219159695434595, 7.565418548776874, 7.538603030528017, 6.867928345009361, 6.204501141477758, 32.81672831859686, 5.54449872953287, 5.53928421880105, 5.514396556076579, 5.511960732910454, 4.861745641161311, 43.69069861712727, 4.21315131290612, 4.210068560202766, 4.208592537217779, 14.848601910573054, 4.207914238064538, 4.203530471812895, 4.20402523119526, 4.203939927853473, 4.20281970235536, 4.202361816030413, 4.201609770762335, 4.19927190885323, 4.191279811243997, 3.552244685538289, 3.550952752668321, 77.72645021395057, 34.92641314427202, 14.804567775198452, 6.199350470666244, 16.22904662866757, 20.890070754883308, 5.5411487847492715, 19.633599859956508, 22.132598130664842, 268.52643143753295, 25.59596443887902, 64.30359625043477, 24.20411769088035, 39.42050358370781, 192.54009014648148, 176.29160646345755, 33.61262941054715, 69.80303115070605, 184.5530028703037, 37.65695880592706, 73.39861433662527, 104.82353773337815, 130.3841700784331, 179.43725029381935, 93.52332589798289, 145.64002665302164, 140.4594831615573, 100.05805938997212, 121.35251201245717, 62.6187682957668, 355.7244892261774, 97.05840204771222, 90.19863090355426, 121.55556698655873, 84.60248512815039, 73.77642338774415, 66.60306615229426, 120.11964427703077, 126.1516802227718, 76.64209614691951, 88.69678136874016, 70.73358824559234, 86.25095514751631, 94.28300333860142, 80.00914562640575, 71.91290969751869, 82.35834902755951, 75.96051474122322, 72.35915514320466, 5.282711754266179, 3.613880601242792, 3.0214142287432453, 3.0088015347320525, 2.4843347268520026, 2.483542729090139, 2.4818990929491713, 2.4813049094084656, 2.4800163386813177, 2.4793954835602308, 2.4734510550828572, 2.4728429800940366, 2.448469415670063, 2.4449106118823063, 5.3348035733816035, 1.9120509614897863, 1.9111189379309235, 1.9103745415312674, 1.910311196527863, 1.9091000474715425, 1.9088955653552897, 1.908186731062808, 1.9084554842790062, 1.9079615043840366, 1.9076825641058872, 1.9078564850362871, 1.907058375037253, 1.907238963862748, 1.9068401866921934, 1.9066338523828583, 3.623234917184129, 3.62712563397218, 3.619580169794725, 4.809260456101603, 4.803986521519914, 4.800133219032119, 4.799960594636876, 4.799786858925785, 4.799211197315899, 4.798958558179514, 4.798970041776623, 4.795190827012108, 4.795121184552225, 4.7949804178779925, 4.79129973978544, 4.7853275284118375, 4.781336422758741, 5.380884655507319, 5.365199173173086, 117.20969432180149, 23.7865955457608, 127.51625680694788, 4.194163432868245, 6.501659284338984, 4.187642231465136, 141.5445834724685, 54.72179104343694, 50.15078596268405, 251.60688695399858, 103.08267095483613, 96.23656821356424, 52.57185421911829, 51.900477197772496, 49.09500034383639, 60.13779920679685, 27.762492471021286, 28.326854221352477, 82.79621950104755, 55.40033382937838, 78.52547714520398, 72.86449940657309, 28.469434563050434, 56.76315675455208, 47.40095787945804, 93.4006087067618, 28.843162674364237, 75.41337787619219, 63.06349376403607, 28.484773685278334, 58.28568910304608, 88.78727286443564, 37.69217959836894, 65.88448755073594, 56.086522468362325, 48.8021582452908, 50.34681615146515, 46.94073086946033, 44.021493798182206, 41.68455956030476, 43.46845265196821, 44.219746618661716], \"Total\": [896.0, 530.0, 695.0, 103.0, 626.0, 48.0, 460.0, 230.0, 548.0, 321.0, 588.0, 205.0, 2097.0, 35.0, 706.0, 248.0, 187.0, 243.0, 236.0, 327.0, 245.0, 49.0, 332.0, 289.0, 295.0, 352.0, 394.0, 151.0, 207.0, 508.0, 20.933282000014692, 13.633982475859158, 13.626722633974168, 12.002771464885765, 10.393740747928254, 10.393233858520311, 9.580710476046175, 10.38326068390116, 8.773916995546474, 9.573040653604599, 9.572731643846469, 8.767650114833563, 7.960492565212181, 7.957755733466472, 7.95391473426714, 7.1510404467896125, 7.149760063034554, 7.149026146563478, 7.148875828942767, 7.147869928265054, 7.147611022231813, 6.340427862610272, 6.340523012542749, 6.338744143920288, 6.339249674803405, 6.339081366091298, 6.338559840436724, 6.33836568910182, 6.338148250617284, 6.338385372091407, 22.16594745510199, 22.23502684002591, 24.440655831924197, 17.991754681080916, 52.03267315406798, 18.20956289671995, 11.775206196292146, 12.668929917271504, 47.231773353572606, 48.65152052067561, 2097.0494799047583, 17.402293758867987, 66.4624398041263, 201.2718737442629, 163.68214582981224, 149.90360412232545, 297.6952919960186, 414.9574423187962, 394.23814001012346, 136.54992198056706, 91.24681951882367, 207.00432343888392, 71.61902766038494, 97.39854464773414, 143.99452503076103, 336.8549207510024, 508.64318389643665, 401.8111941119469, 289.6635919722098, 727.4333945393788, 234.64289233608648, 300.8428918185521, 588.8203131870849, 158.39851995386232, 359.7132226443214, 706.6389405351742, 523.1341664154766, 436.6436425281251, 165.9671653287466, 203.5654341585343, 333.0118683233999, 896.4754983297532, 473.98230404030767, 263.08580664898835, 283.8756838665297, 548.0165310615199, 626.5787583008794, 695.966724217601, 317.66075537202056, 460.34598309045447, 530.9751165366041, 352.5984726847266, 332.62469280272086, 338.675140518671, 295.85734360302473, 327.4732035327357, 12.07908966315462, 8.721849772330785, 8.72233249735605, 8.721167230511332, 8.05123978455901, 8.053382806170017, 7.383439819094025, 6.712229070250641, 35.716601568316634, 6.038556006310729, 6.040931984865691, 6.045713197722883, 6.046082560009778, 5.3722346557904315, 48.613089148048275, 4.6993528120128705, 4.69903650344441, 4.699622254133293, 16.582865340636932, 4.699884970410885, 4.7001144820431255, 4.700679759695518, 4.701005887932086, 4.700225098776374, 4.70096507462712, 4.700713743017992, 4.701482352364819, 4.701908779875755, 4.028620000544818, 4.029000551815653, 103.52305830716455, 49.87364901877934, 20.294815215681012, 7.507516750884231, 24.497811922623658, 34.05305711774405, 6.618077745194667, 32.36893142908463, 37.738456621822706, 896.4754983297532, 46.366251034466835, 151.2741223137536, 44.44854717786205, 86.3336431041323, 695.966724217601, 626.5787583008794, 70.48944221610913, 187.11744854336615, 706.6389405351742, 82.1800425396494, 207.45065771522047, 338.675140518671, 460.34598309045447, 727.4333945393788, 290.9810823869245, 548.0165310615199, 530.9751165366041, 327.4732035327357, 436.6436425281251, 168.99815197160757, 2097.0494799047583, 321.437573736268, 289.13349651927257, 473.98230404030767, 277.98744773018177, 229.79417991201782, 198.6658281809731, 523.1341664154766, 588.8203131870849, 261.03810181377264, 352.5984726847266, 243.19138731471114, 401.8111941119469, 508.64318389643665, 333.0118683233999, 256.91664429458694, 414.9574423187962, 332.62469280272086, 317.66075537202056, 5.901403845780974, 4.146942434477007, 3.577664950815884, 3.5827115510034444, 2.9876235344919735, 2.987992454898172, 2.9882773013383446, 2.9889491096290124, 2.9895458311512515, 2.9896320442941327, 2.991345955710179, 2.9918541257597173, 3.000235053581302, 3.001765141980186, 6.675422088822711, 2.4100971278564454, 2.410365010049858, 2.4105053676276365, 2.410892011611874, 2.4106519738703325, 2.410759860569375, 2.410410904191628, 2.4113702951300033, 2.4109286875766713, 2.4109617712143265, 2.411528046931873, 2.4106797804373814, 2.411367651281947, 2.41142790531868, 2.411503028275794, 4.806245427984105, 4.936089106350937, 4.938744247353552, 6.884037828999214, 6.888187196875256, 6.888645591855628, 6.888376716377817, 6.889187549714252, 6.889816946783561, 6.889453558890457, 6.8904147680952, 6.891525691261624, 6.892097881405313, 6.892074168958462, 6.892718826989534, 6.89576519416768, 6.8987210789044635, 8.125912740835442, 8.281336709460689, 530.9751165366041, 66.9963303987788, 695.966724217601, 6.1744233409885005, 11.446471637747523, 6.1802783932983765, 896.4754983297532, 230.95053307089017, 205.78099715807414, 2097.0494799047583, 626.5787583008794, 588.8203131870849, 248.27883472920615, 245.04920657319062, 236.54319448188545, 332.62469280272086, 101.28002407789486, 104.53941854231932, 548.0165310615199, 295.85734360302473, 508.64318389643665, 460.34598309045447, 108.44821262382129, 321.437573736268, 243.19138731471114, 706.6389405351742, 113.66566167369308, 523.1341664154766, 394.23814001012346, 112.66779217403567, 352.5984726847266, 727.4333945393788, 178.70031937127786, 473.98230404030767, 359.7132226443214, 289.6635919722098, 327.4732035327357, 317.66075537202056, 289.13349651927257, 262.47284842212355, 336.8549207510024, 401.8111941119469], \"Category\": [\"Default\", \"Default\", \"Default\", \"Default\", \"Default\", \"Default\", \"Default\", \"Default\", \"Default\", \"Default\", \"Default\", \"Default\", \"Default\", \"Default\", \"Default\", \"Default\", \"Default\", \"Default\", \"Default\", \"Default\", \"Default\", \"Default\", \"Default\", \"Default\", \"Default\", \"Default\", \"Default\", \"Default\", \"Default\", \"Default\", \"Topic1\", \"Topic1\", \"Topic1\", \"Topic1\", \"Topic1\", \"Topic1\", \"Topic1\", \"Topic1\", \"Topic1\", \"Topic1\", \"Topic1\", \"Topic1\", \"Topic1\", \"Topic1\", \"Topic1\", \"Topic1\", \"Topic1\", \"Topic1\", \"Topic1\", \"Topic1\", \"Topic1\", \"Topic1\", \"Topic1\", \"Topic1\", \"Topic1\", \"Topic1\", \"Topic1\", \"Topic1\", \"Topic1\", \"Topic1\", \"Topic1\", \"Topic1\", \"Topic1\", \"Topic1\", \"Topic1\", \"Topic1\", \"Topic1\", \"Topic1\", \"Topic1\", \"Topic1\", \"Topic1\", \"Topic1\", \"Topic1\", \"Topic1\", \"Topic1\", \"Topic1\", \"Topic1\", \"Topic1\", \"Topic1\", \"Topic1\", \"Topic1\", \"Topic1\", \"Topic1\", \"Topic1\", \"Topic1\", \"Topic1\", \"Topic1\", \"Topic1\", \"Topic1\", \"Topic1\", \"Topic1\", \"Topic1\", \"Topic1\", \"Topic1\", \"Topic1\", \"Topic1\", \"Topic1\", \"Topic1\", \"Topic1\", \"Topic1\", \"Topic1\", \"Topic1\", \"Topic1\", \"Topic1\", \"Topic1\", \"Topic1\", \"Topic1\", \"Topic1\", \"Topic1\", \"Topic1\", \"Topic1\", \"Topic1\", \"Topic1\", \"Topic1\", \"Topic1\", \"Topic1\", \"Topic2\", \"Topic2\", \"Topic2\", \"Topic2\", \"Topic2\", \"Topic2\", \"Topic2\", \"Topic2\", \"Topic2\", \"Topic2\", \"Topic2\", \"Topic2\", \"Topic2\", \"Topic2\", \"Topic2\", \"Topic2\", \"Topic2\", \"Topic2\", \"Topic2\", \"Topic2\", \"Topic2\", \"Topic2\", \"Topic2\", \"Topic2\", \"Topic2\", \"Topic2\", \"Topic2\", \"Topic2\", \"Topic2\", \"Topic2\", \"Topic2\", \"Topic2\", \"Topic2\", \"Topic2\", \"Topic2\", \"Topic2\", \"Topic2\", \"Topic2\", \"Topic2\", \"Topic2\", \"Topic2\", \"Topic2\", \"Topic2\", \"Topic2\", \"Topic2\", \"Topic2\", \"Topic2\", \"Topic2\", \"Topic2\", \"Topic2\", \"Topic2\", \"Topic2\", \"Topic2\", \"Topic2\", \"Topic2\", \"Topic2\", \"Topic2\", \"Topic2\", \"Topic2\", \"Topic2\", \"Topic2\", \"Topic2\", \"Topic2\", \"Topic2\", \"Topic2\", \"Topic2\", \"Topic2\", \"Topic2\", \"Topic2\", \"Topic2\", \"Topic2\", \"Topic2\", \"Topic2\", \"Topic2\", \"Topic2\", \"Topic2\", \"Topic2\", \"Topic2\", \"Topic2\", \"Topic3\", \"Topic3\", \"Topic3\", \"Topic3\", \"Topic3\", \"Topic3\", \"Topic3\", \"Topic3\", \"Topic3\", \"Topic3\", \"Topic3\", \"Topic3\", \"Topic3\", \"Topic3\", \"Topic3\", \"Topic3\", \"Topic3\", \"Topic3\", \"Topic3\", \"Topic3\", \"Topic3\", \"Topic3\", \"Topic3\", \"Topic3\", \"Topic3\", \"Topic3\", \"Topic3\", \"Topic3\", \"Topic3\", \"Topic3\", \"Topic3\", \"Topic3\", \"Topic3\", \"Topic3\", \"Topic3\", \"Topic3\", \"Topic3\", \"Topic3\", \"Topic3\", \"Topic3\", \"Topic3\", \"Topic3\", \"Topic3\", \"Topic3\", \"Topic3\", \"Topic3\", \"Topic3\", \"Topic3\", \"Topic3\", \"Topic3\", \"Topic3\", \"Topic3\", \"Topic3\", \"Topic3\", \"Topic3\", \"Topic3\", \"Topic3\", \"Topic3\", \"Topic3\", \"Topic3\", \"Topic3\", \"Topic3\", \"Topic3\", \"Topic3\", \"Topic3\", \"Topic3\", \"Topic3\", \"Topic3\", \"Topic3\", \"Topic3\", \"Topic3\", \"Topic3\", \"Topic3\", \"Topic3\", \"Topic3\", \"Topic3\", \"Topic3\", \"Topic3\", \"Topic3\", \"Topic3\", \"Topic3\", \"Topic3\", \"Topic3\", \"Topic3\", \"Topic3\", \"Topic3\", \"Topic3\", \"Topic3\", \"Topic3\", \"Topic3\", \"Topic3\"], \"logprob\": [30.0, 29.0, 28.0, 27.0, 26.0, 25.0, 24.0, 23.0, 22.0, 21.0, 20.0, 19.0, 18.0, 17.0, 16.0, 15.0, 14.0, 13.0, 12.0, 11.0, 10.0, 9.0, 8.0, 7.0, 6.0, 5.0, 4.0, 3.0, 2.0, 1.0, -8.9345, -9.3749, -9.378, -9.5106, -9.6556, -9.6558, -9.7418, -9.6614, -9.8322, -9.7466, -9.7467, -9.8355, -9.9355, -9.9373, -9.9404, -10.0488, -10.0497, -10.0499, -10.0503, -10.0507, -10.0508, -10.1772, -10.1772, -10.1779, -10.1779, -10.178, -10.1781, -10.1781, -10.1787, -10.1786, -8.934, -8.9394, -8.8612, -9.1657, -8.1464, -9.1549, -9.5773, -9.5073, -8.2454, -8.2184, -4.6475, -9.2044, -7.94, -6.917, -7.1098, -7.1931, -6.559, -6.2678, -6.319, -7.2983, -7.6718, -6.9206, -7.8991, -7.6185, -7.2729, -6.5057, -6.1372, -6.3505, -6.6507, -5.8244, -6.8428, -6.6202, -6.0501, -7.2059, -6.4861, -5.8931, -6.1621, -6.3366, -7.1714, -7.0016, -6.5885, -5.7668, -6.296, -6.7905, -6.7284, -6.1869, -6.104, -6.0245, -6.6638, -6.4044, -6.3433, -6.6279, -6.6731, -6.6984, -6.7762, -6.7773, -8.7906, -9.1262, -9.1264, -9.1273, -9.2101, -9.2137, -9.3069, -9.4084, -7.7428, -9.5209, -9.5219, -9.5264, -9.5268, -9.6523, -7.4566, -9.7955, -9.7962, -9.7966, -8.5358, -9.7968, -9.7978, -9.7977, -9.7977, -9.798, -9.7981, -9.7983, -9.7988, -9.8007, -9.9661, -9.9665, -6.8805, -7.6805, -8.5388, -9.4093, -8.4469, -8.1944, -9.5215, -8.2565, -8.1367, -5.6408, -7.9913, -7.0701, -8.0472, -7.5594, -5.9734, -6.0616, -7.7188, -6.988, -6.0158, -7.6052, -6.9378, -6.5814, -6.3632, -6.0439, -6.6955, -6.2526, -6.2888, -6.628, -6.435, -7.0967, -5.3596, -6.6584, -6.7317, -6.4334, -6.7958, -6.9327, -7.035, -6.4452, -6.3962, -6.8946, -6.7485, -6.9748, -6.7765, -6.6874, -6.8516, -6.9583, -6.8226, -6.9035, -6.9521, -9.1734, -9.5531, -9.7321, -9.7363, -9.9279, -9.9282, -9.9288, -9.9291, -9.9296, -9.9299, -9.9323, -9.9325, -9.9424, -9.9439, -9.1636, -10.1897, -10.1902, -10.1906, -10.1906, -10.1912, -10.1913, -10.1917, -10.1916, -10.1918, -10.192, -10.1919, -10.1923, -10.1922, -10.1924, -10.1925, -9.5505, -9.5494, -9.5515, -9.2673, -9.2684, -9.2692, -9.2693, -9.2693, -9.2694, -9.2695, -9.2695, -9.2703, -9.2703, -9.2703, -9.2711, -9.2723, -9.2731, -9.155, -9.1579, -6.0739, -7.6687, -5.9896, -9.4042, -8.9658, -9.4057, -5.8853, -6.8356, -6.9228, -5.31, -6.2023, -6.2711, -6.8757, -6.8885, -6.9441, -6.7412, -7.5142, -7.4941, -6.4215, -6.8233, -6.4744, -6.5493, -7.489, -6.799, -6.9792, -6.301, -7.476, -6.5149, -6.6937, -7.4885, -6.7725, -6.3516, -7.2084, -6.65, -6.811, -6.9501, -6.9189, -6.989, -7.0532, -7.1077, -7.0658, -7.0487], \"loglift\": [30.0, 29.0, 28.0, 27.0, 26.0, 25.0, 24.0, 23.0, 22.0, 21.0, 20.0, 19.0, 18.0, 17.0, 16.0, 15.0, 14.0, 13.0, 12.0, 11.0, 10.0, 9.0, 8.0, 7.0, 6.0, 5.0, 4.0, 3.0, 2.0, 1.0, 0.5737, 0.5621, 0.5595, 0.5538, 0.5527, 0.5526, 0.548, 0.548, 0.5455, 0.544, 0.5439, 0.543, 0.5396, 0.5381, 0.5355, 0.5335, 0.5328, 0.5326, 0.5323, 0.532, 0.532, 0.5254, 0.5254, 0.525, 0.5248, 0.5248, 0.5248, 0.5248, 0.5243, 0.5243, 0.517, 0.5084, 0.4921, 0.4939, 0.4512, 0.4927, 0.5063, 0.5031, 0.4491, 0.4465, 0.2537, 0.4885, 0.413, 0.3279, 0.3419, 0.3465, 0.2945, 0.2536, 0.2536, 0.3346, 0.3642, 0.2962, 0.3791, 0.3523, 0.3069, 0.2242, 0.1806, 0.2031, 0.2301, 0.1357, 0.2487, 0.2227, 0.1214, 0.2785, 0.1781, 0.0959, 0.1276, 0.1339, 0.2664, 0.2319, 0.1528, -0.0157, 0.0924, 0.1866, 0.1726, 0.0564, 0.0053, -0.0203, 0.1248, 0.0132, -0.0684, 0.0564, 0.0695, 0.0261, 0.0835, -0.0192, 1.2674, 1.2575, 1.2572, 1.2565, 1.2536, 1.2498, 1.2434, 1.2372, 1.2311, 1.2305, 1.2291, 1.2238, 1.2233, 1.216, 1.2091, 1.2066, 1.2059, 1.2055, 1.2054, 1.2053, 1.2042, 1.2042, 1.2041, 1.204, 1.2037, 1.2036, 1.2029, 1.2009, 1.19, 1.1895, 1.0292, 0.9596, 1.0004, 1.1244, 0.904, 0.8272, 1.1382, 0.8159, 0.7822, 0.1103, 0.7217, 0.4603, 0.708, 0.5319, 0.0308, 0.0477, 0.5753, 0.3298, -0.0268, 0.5354, 0.2768, 0.1431, 0.0543, -0.0839, 0.1808, -0.0093, -0.014, 0.1302, 0.0354, 0.323, -0.4583, 0.1183, 0.151, -0.045, 0.1262, 0.1797, 0.223, -0.1555, -0.2248, 0.0903, -0.0643, 0.0809, -0.2229, -0.3696, -0.1102, 0.0425, -0.3013, -0.161, -0.1635, 1.6009, 1.5741, 1.5427, 1.5371, 1.5272, 1.5268, 1.526, 1.5255, 1.5248, 1.5245, 1.5216, 1.5212, 1.5085, 1.5065, 1.4875, 1.4802, 1.4796, 1.4791, 1.479, 1.4784, 1.4783, 1.478, 1.4778, 1.4777, 1.4775, 1.4774, 1.4773, 1.4771, 1.4769, 1.4768, 1.4291, 1.4035, 1.4009, 1.353, 1.3513, 1.3505, 1.3505, 1.3503, 1.3501, 1.3501, 1.35, 1.349, 1.3489, 1.3489, 1.348, 1.3463, 1.3451, 1.2995, 1.2776, 0.2009, 0.6762, 0.0146, 1.325, 1.1461, 1.3225, -0.1342, 0.2717, 0.2999, -0.4087, -0.0931, -0.0996, 0.1593, 0.1596, 0.1393, 0.0013, 0.4175, 0.4059, -0.1782, 0.0364, -0.1566, -0.1317, 0.3742, -0.0222, 0.0765, -0.3119, 0.3403, -0.2252, -0.1211, 0.3366, -0.0883, -0.3916, 0.1554, -0.2616, -0.1467, -0.0693, -0.1608, -0.2004, -0.1705, -0.1283, -0.3359, -0.4951]}, \"token.table\": {\"Topic\": [1, 2, 1, 2, 3, 1, 1, 2, 3, 1, 2, 1, 2, 3, 1, 2, 3, 1, 2, 3, 2, 1, 2, 1, 2, 3, 1, 2, 3, 1, 2, 3, 3, 1, 2, 3, 1, 2, 3, 1, 3, 2, 1, 3, 1, 2, 3, 1, 3, 1, 2, 3, 2, 3, 1, 3, 2, 1, 3, 1, 3, 1, 2, 3, 1, 1, 2, 3, 3, 1, 2, 3, 1, 3, 2, 1, 2, 3, 1, 1, 3, 1, 2, 3, 1, 2, 3, 1, 2, 3, 2, 2, 1, 3, 1, 1, 1, 1, 2, 3, 1, 2, 3, 3, 1, 2, 3, 1, 2, 3, 3, 1, 2, 3, 1, 2, 3, 1, 2, 3, 2, 1, 2, 3, 1, 2, 3, 3, 1, 2, 3, 1, 2, 3, 1, 2, 3, 2, 2, 1, 3, 3, 1, 2, 3, 1, 3, 1, 2, 1, 1, 2, 3, 1, 3, 1, 3, 3, 1, 1, 3, 1, 2, 3, 2, 1, 2, 3, 1, 3, 2, 1, 1, 2, 3, 1, 2, 3, 1, 2, 3, 3, 3, 1, 2, 3, 1, 1, 2, 3, 1, 2, 3, 3, 2, 1, 2, 3, 1, 2, 3, 2, 3, 1, 2, 3, 3, 1, 2, 3, 3, 2, 3, 1, 2, 3, 1, 2, 3, 1, 3, 1, 3, 1, 2, 3, 1, 2, 3, 1, 2, 3, 2, 3, 1, 3, 1, 2, 3, 1, 2, 3, 1, 2, 3, 1, 1, 2, 3, 1, 2, 3, 1, 1, 2, 3, 2, 1, 1, 2, 3, 1, 2, 3, 1, 2, 3, 1, 2, 3, 1, 2, 3, 1, 2, 3, 1, 2, 3, 3, 3, 1, 2, 3, 1, 2, 3, 1, 2, 3, 1, 2, 3, 1, 2, 3, 1, 2, 3, 2, 3, 1, 2, 1, 1, 1, 2, 3, 1, 3, 1, 2, 3, 3, 2, 2, 2, 1, 1, 2, 3, 1, 2, 1, 3, 1, 2, 3, 1, 3, 1, 3, 1, 2, 3, 1, 2, 3, 1, 1, 2, 2, 2, 1, 2, 3, 1, 2, 3, 1, 1, 1, 3, 1, 2, 3, 1, 2, 3, 3, 1, 2, 3, 1, 2, 3, 1, 3, 1, 2, 3, 2, 2, 1, 2, 3, 1, 2, 3, 1, 2, 3, 1, 3, 1, 2, 3, 1, 2, 3, 1, 3, 1, 2, 3, 2, 3, 1, 2, 2, 3, 1, 2, 3, 1, 1, 2, 3, 1, 2, 3, 3, 1, 2, 3, 1, 2, 3, 1, 1, 2, 3], \"Freq\": [0.9401401629492895, 0.9936150287799873, 0.6605809546607666, 0.1848053861253335, 0.15531516493512074, 0.9791749314850271, 0.3709743654939067, 0.5829597172047105, 0.026498168963850478, 0.2463683431882984, 0.7391050295648952, 0.6880667804670894, 0.21938361116341978, 0.09307183503902658, 0.5477712191952773, 0.24166377317438703, 0.21346966630404188, 0.5405022398490883, 0.3053684970898804, 0.1526842485449402, 0.8507183331841878, 1.0049629384694696, 0.9924387419270732, 0.29247300137797877, 0.5399501563901147, 0.17998338546337153, 0.6018604856709034, 0.16453739896039085, 0.23814623533740784, 0.5880037596817155, 0.1700837321393392, 0.24297676019905598, 0.8295684710750856, 0.6887237968285183, 0.18108686037301558, 0.1276513933776995, 0.6651822165134386, 0.19765414433542175, 0.13683748453990735, 0.14980326138093863, 0.7490163069046932, 0.8510431001802348, 0.9341662317101294, 0.08492420288273904, 0.6588581822424187, 0.18625948611916476, 0.1556795704876601, 0.8892962517338384, 0.0555810157333649, 0.33983203999487327, 0.6178764363543151, 0.06178764363543151, 0.9307113929974707, 0.6694283857755483, 0.2903099945483347, 0.7257749863708368, 0.8509346066735571, 0.2902114988174502, 0.7255287470436254, 0.962117513080482, 0.8297340492951072, 0.45612560129014634, 0.42307302148651255, 0.1123787713323549, 0.9621644366062311, 0.7651342293144904, 0.11924169807498551, 0.11427329398852777, 0.9645660780686629, 0.8275350733751627, 0.030092184486369557, 0.135414830188663, 0.9462941760688937, 0.8296415045374174, 0.8512383330216707, 0.8098406512167978, 0.1396276984856548, 0.05585107939426192, 0.9793482015497645, 0.2901612629502139, 0.7254031573755347, 0.2807093580565654, 0.7017733951414135, 0.02005066843261181, 0.0559963689763293, 0.9239400881094335, 0.02799818448816465, 0.6298042000744044, 0.2771138480327379, 0.09160788364718608, 0.8509407584615158, 0.8511322365285894, 0.9630886004340246, 0.6684817895298096, 0.8800697812163519, 0.9466487312624234, 0.9534998319836694, 0.7890685985515017, 0.08767428872794462, 0.12055214700092386, 0.9022849143042858, 0.04511424571521429, 0.04511424571521429, 0.6666144366297742, 0.36884956360256393, 0.4823417370187375, 0.1560517384472386, 0.9554163556381633, 0.9928020481896972, 0.8472560310500687, 0.6662746435521109, 0.6926519749428133, 0.18667216345976528, 0.11789820850090439, 0.5402557147005779, 0.27731210887556257, 0.18391683904700523, 0.4015573487209926, 0.4623993712544763, 0.14602085408036095, 0.8507954938909902, 0.5139984659005994, 0.29195112863154044, 0.19326342317862535, 0.5141483875566513, 0.2636658397726417, 0.22034930895285054, 0.8296139456742234, 0.7805015808994479, 0.12007716629222275, 0.10006430524351896, 0.5669149489565655, 0.31003161271062174, 0.12401264508424868, 0.20285335792235426, 0.7534553294258872, 0.038638734842353195, 0.9480675906503055, 0.8938908278015539, 0.2902582888421511, 0.7256457221053777, 0.8294039302214158, 0.24612619699314858, 0.12306309849657429, 0.6153154924828714, 0.29003307735761735, 0.7250826933940434, 0.8680597210076755, 0.12703312990356228, 0.9793127281625079, 0.38808095675153464, 0.2537452409529265, 0.35822857546295506, 0.2903441670437095, 0.7258604176092738, 0.29018740511447816, 0.7254685127861953, 0.6685953512605926, 0.9401705108682712, 0.2901884035154314, 0.7254710087885786, 0.4437825489893865, 0.3017721333127828, 0.24851822743405644, 0.917308404775418, 0.5207157532396235, 0.37278514152382136, 0.11242726490400962, 0.9465872613086512, 0.8293582784467762, 0.9923781126783515, 0.9465093841664354, 0.592259096401001, 0.22848574277399022, 0.18038348113736072, 0.5760623271659253, 0.28024653754017986, 0.14401558179148133, 0.9471991777016973, 0.07893326480847478, 0.6689786469933996, 0.6692819301288639, 0.6691314996153412, 0.710522099873233, 0.1697623272180342, 0.12016883836782195, 0.9997690979209366, 0.8648412098059168, 0.057656080653727786, 0.07687477420497038, 0.8632823712498586, 0.12332605303569409, 0.020554342172615682, 0.8295444680537851, 0.9936357895268154, 0.20409986066480143, 0.6531195541273646, 0.12245991639888086, 0.6070992912944991, 0.26180272468410803, 0.13160893727363268, 0.9045481400154616, 0.0603032093343641, 0.7802991335740461, 0.07186965703971478, 0.14373931407942955, 0.8297498477040331, 0.5372122463896944, 0.25181824049516927, 0.2126465141959207, 0.8297015334872926, 0.9928958301996845, 0.8296510743477311, 0.7500285165490032, 0.10417062729847267, 0.14583887821786173, 0.3450785785571974, 0.5607526901554458, 0.08626964463929936, 0.2903521554854485, 0.7258803887136213, 0.2902987853687048, 0.7257469634217619, 0.563610522906521, 0.3230450558122742, 0.11684608401720557, 0.5982613033851035, 0.21294046391673177, 0.1859004050066706, 0.1618050088300806, 0.1618050088300806, 0.6472200353203224, 0.8510846595571683, 0.6689979391384059, 0.9466162563508121, 0.8298420743643689, 0.5421230149685956, 0.300063973305663, 0.1583980825628407, 0.44357167461464186, 0.37409659304849313, 0.18170405948069665, 0.7170092937617247, 0.198834510034764, 0.07832874637733127, 0.954007823391692, 0.5013240311957305, 0.35189090651238775, 0.14461270130646073, 0.710230623533304, 0.12936343500070896, 0.15980189029499342, 0.9463083769759787, 0.4926729777086294, 0.2463364888543147, 0.25513422059911167, 0.8511810370515005, 0.9124451700536256, 0.536084548715262, 0.3112748992540231, 0.15217883963530016, 0.45418630592565046, 0.27646122969387416, 0.27646122969387416, 0.7109162769838036, 0.19761062614465047, 0.09157565601825265, 0.7390106794263387, 0.13772471752945403, 0.12428815972170242, 0.7260168847126648, 0.1262638060369852, 0.14520337694253296, 0.5582757522389448, 0.2823962949068592, 0.1585763809861594, 0.6202835835528447, 0.17139414808697026, 0.21220227858386795, 0.8373546006403337, 0.8385357604031233, 0.5538010910886524, 0.280890466949864, 0.16438476190815907, 0.7689495422409904, 0.12449659255330321, 0.10252660563213206, 0.4782884838771047, 0.24871001161609446, 0.2678415509711787, 0.5083914074442376, 0.337249745532316, 0.15604092703734027, 0.6438761228674013, 0.19811573011304653, 0.16001655124515296, 0.630985604243046, 0.24607063869173254, 0.12234797119309607, 0.9066076632835798, 0.15110127721392996, 0.9194190272674028, 0.11492737840842535, 0.9465597386123891, 0.9393875352461516, 0.6939084012300857, 0.13809122412539018, 0.16916174955360297, 0.9117934445995667, 0.8295558513637691, 0.6269902083579459, 0.22938666159437046, 0.14336666349648153, 0.8294048395883337, 0.9934523490295902, 0.8510230714357347, 0.8508891124483157, 1.005308565373007, 0.6744461179060577, 0.214030871365022, 0.10950416674489498, 0.8994817116207581, 0.0899481711620758, 0.20258953565351295, 0.8103581426140518, 0.6215818167327923, 0.21398718280964982, 0.163037853569257, 0.36226035786864785, 0.6037672631144131, 0.2902834742124287, 0.7257086855310718, 0.5255964909050019, 0.21208279457570253, 0.25818774991824656, 0.26208949752749755, 0.17472633168499835, 0.6115421608974942, 0.9790538337350874, 0.8786592018022599, 0.10983240022528248, 0.917236619389985, 0.9171858562402883, 0.7758940314238528, 0.13440684008917136, 0.09164102733352593, 0.16195844450145913, 0.16195844450145913, 0.6478337780058365, 0.9464842540984275, 0.9466133167633899, 0.2024806205617662, 0.8099224822470648, 0.6055078376419585, 0.2573935755829928, 0.13924570482358625, 0.9001395114473062, 0.08183086467702783, 0.04091543233851391, 0.6693457330260086, 0.5368998261741397, 0.2536534611846329, 0.20715032663411687, 0.7074580369655217, 0.15342463452264327, 0.13637745290901623, 0.28990880731731306, 0.7247720182932826, 0.2936593905628899, 0.6166847201820689, 0.08809781716886698, 0.9933713810140605, 0.8508817251789382, 0.5226520286574837, 0.3017693260700948, 0.177328366865932, 0.6426197392826157, 0.24023167823649186, 0.11711294314028979, 0.5839239910886503, 0.2664153209341967, 0.15145528518861867, 0.29033283442024926, 0.7258320860506231, 0.6079411188523649, 0.30576920178965095, 0.08633483344648968, 0.623306457129453, 0.22665689350161927, 0.14795658325800148, 0.2905271658408006, 0.7263179146020016, 0.08228236613020493, 0.9051060274322542, 0.02057059153255123, 0.9932242268298604, 0.8293841153570345, 0.13319983600199367, 0.7991990160119621, 0.2080626166482373, 0.8322504665929492, 0.6552163872107197, 0.2360188061457969, 0.10920273120178663, 0.9791543430520093, 0.7391149974950731, 0.16424777722112738, 0.09661633954183962, 0.5593053235736366, 0.2949760953093837, 0.14557261846437117, 0.8293496741804641, 0.5842339543659721, 0.2524117569833569, 0.16449305511274942, 0.6135925638063819, 0.3220273029905834, 0.0652758046602534, 0.9788785355203213, 0.48648474094092403, 0.4517358308737152, 0.05791485011201477], \"Term\": [\"active plasma\", \"adorama\", \"amazon\", \"amazon\", \"amazon\", \"apps like\", \"aspect\", \"aspect\", \"aspect\", \"aspect ratio\", \"aspect ratio\", \"audio\", \"audio\", \"audio\", \"bad\", \"bad\", \"bad\", \"better\", \"better\", \"better\", \"black uniformity\", \"blah\", \"blasters\", \"bleed\", \"bleed\", \"bleed\", \"blu\", \"blu\", \"blu\", \"blu ray\", \"blu ray\", \"blu ray\", \"bluetooth compatible\", \"bought\", \"bought\", \"bought\", \"box\", \"box\", \"box\", \"bravia\", \"bravia\", \"brightness levels\", \"buttons remote\", \"buttons remote\", \"buy\", \"buy\", \"buy\", \"buying lg\", \"buying lg\", \"capable\", \"capable\", \"capable\", \"capable dolby\", \"caption\", \"class video\", \"class video\", \"cnet article\", \"com images\", \"com images\", \"commercials\", \"connect wi\", \"content\", \"content\", \"content\", \"contractor\", \"customer\", \"customer\", \"customer\", \"dashboard\", \"data\", \"data\", \"data\", \"data collection\", \"day use\", \"dci\", \"digital\", \"digital\", \"digital\", \"digital optical\", \"div\", \"div\", \"dolby\", \"dolby\", \"dolby\", \"dolby vision\", \"dolby vision\", \"dolby vision\", \"don\", \"don\", \"don\", \"ef\", \"ef eg\", \"electronics inch\", \"email sent\", \"engine\", \"external sound\", \"fake\", \"fast\", \"fast\", \"fast\", \"fast forward\", \"fast forward\", \"fast forward\", \"faults\", \"files\", \"files\", \"files\", \"flat screen\", \"flies\", \"george\", \"glue\", \"going\", \"going\", \"going\", \"good\", \"good\", \"good\", \"google\", \"google\", \"google\", \"google features\", \"got\", \"got\", \"got\", \"great\", \"great\", \"great\", \"great kids\", \"hd\", \"hd\", \"hd\", \"hdmi\", \"hdmi\", \"hdmi\", \"hdr\", \"hdr\", \"hdr\", \"hdr capable\", \"hdr content\", \"hidden value\", \"hidden value\", \"honor warranty\", \"https\", \"https\", \"https\", \"https images\", \"https images\", \"hz\", \"hz\", \"hz led\", \"images\", \"images\", \"images\", \"images amazon\", \"images amazon\", \"images na\", \"images na\", \"imax\", \"inch active\", \"input type\", \"input type\", \"inputs\", \"inputs\", \"inputs\", \"intel\", \"internet\", \"internet\", \"internet\", \"interpolation\", \"ips display\", \"ir blasters\", \"isf\", \"issue\", \"issue\", \"issue\", \"issues\", \"issues\", \"issues\", \"jump\", \"jump\", \"junk email\", \"learned lesson\", \"led display\", \"lg\", \"lg\", \"lg\", \"lg electronics\", \"lg product\", \"lg product\", \"lg product\", \"lg smart\", \"lg smart\", \"lg smart\", \"lg wifi\", \"lie vision\", \"light bleed\", \"light bleed\", \"light bleed\", \"like\", \"like\", \"like\", \"lineup\", \"lineup\", \"link\", \"link\", \"link\", \"longer use\", \"looks\", \"looks\", \"looks\", \"lost money\", \"micro flies\", \"modern day\", \"motion\", \"motion\", \"motion\", \"music\", \"music\", \"music\", \"na\", \"na\", \"na ssl\", \"na ssl\", \"netflix\", \"netflix\", \"netflix\", \"new\", \"new\", \"new\", \"notification\", \"notification\", \"notification\", \"oled lineup\", \"originally bought\", \"panasonic viera\", \"passphrase\", \"picture\", \"picture\", \"picture\", \"picture quality\", \"picture quality\", \"picture quality\", \"plasma\", \"plasma\", \"plasma\", \"plasma hdtv\", \"play\", \"play\", \"play\", \"player\", \"player\", \"player\", \"player worked\", \"poor\", \"poor\", \"poor\", \"post processing\", \"pq\", \"price\", \"price\", \"price\", \"probably\", \"probably\", \"probably\", \"problem\", \"problem\", \"problem\", \"product\", \"product\", \"product\", \"purchase\", \"purchase\", \"purchase\", \"quality\", \"quality\", \"quality\", \"ray\", \"ray\", \"ray\", \"receipt number\", \"reference number\", \"remote\", \"remote\", \"remote\", \"repair\", \"repair\", \"repair\", \"returned\", \"returned\", \"returned\", \"right\", \"right\", \"right\", \"samsung\", \"samsung\", \"samsung\", \"screen\", \"screen\", \"screen\", \"screen burn\", \"screen burn\", \"screen went\", \"screen went\", \"scroll wheel\", \"secondly\", \"service\", \"service\", \"service\", \"service contractor\", \"service visit\", \"set\", \"set\", \"set\", \"set poor\", \"signature\", \"signature line\", \"signature lineup\", \"sky\", \"smart\", \"smart\", \"smart\", \"smart tvs\", \"smart tvs\", \"sony bravia\", \"sony bravia\", \"sound\", \"sound\", \"sound\", \"spacing\", \"spacing\", \"ssl images\", \"ssl images\", \"stand\", \"stand\", \"stand\", \"stands\", \"stands\", \"stands\", \"staying\", \"streaming video\", \"streaming video\", \"tel\", \"tel lie\", \"television\", \"television\", \"television\", \"terms service\", \"terms service\", \"terms service\", \"thanks amazon\", \"thrilled\", \"thursday\", \"thursday\", \"time\", \"time\", \"time\", \"toshiba\", \"toshiba\", \"toshiba\", \"trying play\", \"turn\", \"turn\", \"turn\", \"tvs\", \"tvs\", \"tvs\", \"type hidden\", \"type hidden\", \"uhd\", \"uhd\", \"uhd\", \"uhd hdr\", \"uhd players\", \"unit\", \"unit\", \"unit\", \"update\", \"update\", \"update\", \"use\", \"use\", \"use\", \"value https\", \"value https\", \"ve\", \"ve\", \"ve\", \"video\", \"video\", \"video\", \"video block\", \"video block\", \"vision\", \"vision\", \"vision\", \"vision capable\", \"visit new\", \"visuals\", \"visuals\", \"walking\", \"walking\", \"want\", \"want\", \"want\", \"warranties\", \"warranty\", \"warranty\", \"warranty\", \"way\", \"way\", \"way\", \"white balance\", \"work\", \"work\", \"work\", \"years\", \"years\", \"years\", \"years lg\", \"youtube\", \"youtube\", \"youtube\"]}, \"R\": 30, \"lambda.step\": 0.01, \"plot.opts\": {\"xlab\": \"PC1\", \"ylab\": \"PC2\"}, \"topic.order\": [3, 2, 1]};\n",
       "\n",
       "function LDAvis_load_lib(url, callback){\n",
       "  var s = document.createElement('script');\n",
       "  s.src = url;\n",
       "  s.async = true;\n",
       "  s.onreadystatechange = s.onload = callback;\n",
       "  s.onerror = function(){console.warn(\"failed to load library \" + url);};\n",
       "  document.getElementsByTagName(\"head\")[0].appendChild(s);\n",
       "}\n",
       "\n",
       "if(typeof(LDAvis) !== \"undefined\"){\n",
       "   // already loaded: just create the visualization\n",
       "   !function(LDAvis){\n",
       "       new LDAvis(\"#\" + \"ldavis_el1611223850696696164698975435\", ldavis_el1611223850696696164698975435_data);\n",
       "   }(LDAvis);\n",
       "}else if(typeof define === \"function\" && define.amd){\n",
       "   // require.js is available: use it to load d3/LDAvis\n",
       "   require.config({paths: {d3: \"https://d3js.org/d3.v5\"}});\n",
       "   require([\"d3\"], function(d3){\n",
       "      window.d3 = d3;\n",
       "      LDAvis_load_lib(\"https://cdn.jsdelivr.net/gh/bmabey/pyLDAvis@3.3.1/pyLDAvis/js/ldavis.v3.0.0.js\", function(){\n",
       "        new LDAvis(\"#\" + \"ldavis_el1611223850696696164698975435\", ldavis_el1611223850696696164698975435_data);\n",
       "      });\n",
       "    });\n",
       "}else{\n",
       "    // require.js not available: dynamically load d3 & LDAvis\n",
       "    LDAvis_load_lib(\"https://d3js.org/d3.v5.js\", function(){\n",
       "         LDAvis_load_lib(\"https://cdn.jsdelivr.net/gh/bmabey/pyLDAvis@3.3.1/pyLDAvis/js/ldavis.v3.0.0.js\", function(){\n",
       "                 new LDAvis(\"#\" + \"ldavis_el1611223850696696164698975435\", ldavis_el1611223850696696164698975435_data);\n",
       "            })\n",
       "         });\n",
       "}\n",
       "</script>"
      ],
      "text/plain": [
       "<IPython.core.display.HTML object>"
      ]
     },
     "execution_count": 477,
     "metadata": {},
     "output_type": "execute_result"
    }
   ],
   "source": [
    "dictionary = Dictionary([list(count_vectorizer.vocabulary_.keys())])\n",
    "vis = gensimvis.prepare(lda, corpus, dictionary)\n",
    "pyLDAvis.display(vis)"
   ]
  },
  {
   "cell_type": "markdown",
   "metadata": {},
   "source": [
    "**LG cons**  \n",
    "topic1 - native resolution, aspect ratio  \n",
    "topic2 - active HDR problems(auto adjusting)  \n",
    "topic3 - refresh rate -> edge bleeding, black instablility"
   ]
  },
  {
   "cell_type": "markdown",
   "metadata": {},
   "source": [
    "## Clustering"
   ]
  },
  {
   "cell_type": "code",
   "execution_count": 480,
   "metadata": {},
   "outputs": [],
   "source": [
    "from sklearn.cluster import KMeans\n",
    "from sklearn.metrics import adjusted_rand_score\n",
    "from sklearn.metrics import silhouette_score"
   ]
  },
  {
   "cell_type": "code",
   "execution_count": 478,
   "metadata": {},
   "outputs": [
    {
     "data": {
      "text/plain": [
       "KMeans(max_iter=100, n_clusters=10, n_init=1)"
      ]
     },
     "execution_count": 478,
     "metadata": {},
     "output_type": "execute_result"
    }
   ],
   "source": [
    "no_of_clusters = 10\n",
    "model = KMeans(n_clusters=no_of_clusters, init='k-means++', max_iter=100, n_init=1)\n",
    "model.fit(review_word)"
   ]
  },
  {
   "cell_type": "code",
   "execution_count": 520,
   "metadata": {},
   "outputs": [],
   "source": [
    "only_tv_df.to_csv(r'C:\\Users\\brian\\NLP\\data\\cell_phone_prep_data.csv')"
   ]
  },
  {
   "cell_type": "code",
   "execution_count": null,
   "metadata": {},
   "outputs": [],
   "source": []
  }
 ],
 "metadata": {
  "kernelspec": {
   "display_name": "Python 3",
   "language": "python",
   "name": "python3"
  },
  "language_info": {
   "codemirror_mode": {
    "name": "ipython",
    "version": 3
   },
   "file_extension": ".py",
   "mimetype": "text/x-python",
   "name": "python",
   "nbconvert_exporter": "python",
   "pygments_lexer": "ipython3",
   "version": "3.8.8"
  }
 },
 "nbformat": 4,
 "nbformat_minor": 4
}
